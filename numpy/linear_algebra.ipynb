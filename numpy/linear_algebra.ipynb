{
  "cells": [
    {
      "cell_type": "markdown",
      "metadata": {
        "id": "ROmf42piKTBB",
        "tags": []
      },
      "source": [
        "# __Linear Algebra__"
      ]
    },
    {
      "cell_type": "markdown",
      "metadata": {
        "id": "wWHKI7rGKTBE"
      },
      "source": [
        "## __Agenda__"
      ]
    },
    {
      "cell_type": "markdown",
      "metadata": {
        "id": "5jdL_w6NKTBF"
      },
      "source": [
        "* Introduction to Linear Algebra\n",
        "* Scalars and Vectors\n",
        "* Vector Operation: Multiplication\n",
        "* Norm of a Vector\n",
        "* Matrix and Matrix Operations\n",
        "* Rank of Matrix\n",
        "* Determinant of Matrix and Identity Matrix\n",
        "* Inverse of Matrix, Eigenvalues, and Eigenvectors\n",
        "* Eigenvalues and Eigenvectors\n",
        "* Calculus in Linear Algebra"
      ]
    },
    {
      "cell_type": "markdown",
      "metadata": {
        "id": "d9sKuMiRKTBF"
      },
      "source": [
        "## __1. Introduction to Linear Algebra__"
      ]
    },
    {
      "cell_type": "markdown",
      "metadata": {
        "id": "MQq75xoaKTBF"
      },
      "source": [
        "It is a branch of mathematics essential for understanding data science. Despite its vastness, the basic concepts of linear algebra are invaluable to data scientists and machine learning practitioners.\n",
        "\n",
        "![matrix.PNG](https://s3.us-east-1.amazonaws.com/static2.simplilearn.com/lms/testpaper_images/ADSP/Advanced_Statistics/LinearRegression/matrix.PNG)\n",
        "\n",
        "### __1.1 Data in Linear Algebra__\n",
        "In linear algebra, data is often represented using linear equations. Matrices and vectors represent these. They simplify the process of representing large amounts of information.\n",
        "\n",
        " ![link text](https://labcontent.simplicdn.net/data-content/content-assets/Data_and_AI/ADSP_Images/Lesson_06_Maths_and_Stats/Linear_Algebra/Image_1.png)\n",
        "- A matrix consists of rows and columns of numbers, variables, or expressions.\n",
        "- Reducing data dimensions or choosing the right hyperparameters is crucial when building machine learning models.\n",
        "- In cases where complex operations are involved in data science tasks, such as reducing data dimensions or selecting optimal hyperparameters for machine learning models, the use of mathematical notation and formalized concepts from linear algebra can be especially helpful."
      ]
    },
    {
      "cell_type": "markdown",
      "metadata": {
        "id": "N7mTKQjvKTBG"
      },
      "source": [
        "### __1.2 Essential Parts of Linear Algebra__"
      ]
    },
    {
      "cell_type": "markdown",
      "metadata": {
        "id": "fv3fMAeHKTBG"
      },
      "source": [
        "An understanding of the following linear algebra principles is useful for data science practitioners:\n",
        "\n",
        "-  __Notation:__ A clear idea of notations simplifies the understanding of algorithms in papers and books. This is true even while reading Python code.\n",
        "\n",
        "-  __Operations:__ It is easier to understand while working with vectors and matrices at an abstract level. The operations which are useful to perform on matrices and vectors are addition, multiplication, inversion, and transpose.\n",
        "\n",
        "![addmulsub.PNG](https://s3.us-east-1.amazonaws.com/static2.simplilearn.com/lms/testpaper_images/ADSP/Advanced_Statistics/LinearRegression/addmulsub.PNG)\n"
      ]
    },
    {
      "cell_type": "markdown",
      "metadata": {
        "id": "sKdSmjyjKTBG"
      },
      "source": [
        "## __2. Scalars and Vectors__"
      ]
    },
    {
      "cell_type": "markdown",
      "metadata": {
        "id": "Fj8ye0CvKTBG"
      },
      "source": [
        "A number of measurable quantities, such as length, area, and volume, can be completely determined by specifying only their magnitude. These quantities are known as scalars.\n",
        "\n",
        "A vector quantity is a physical quantity that has both direction and magnitude. For example, velocity, force, and acceleration require both a magnitude and a direction for their description.\n"
      ]
    },
    {
      "cell_type": "markdown",
      "metadata": {
        "id": "BaGXI0cYKTBG"
      },
      "source": [
        "**Example:**\n",
        "Wind velocity is a vector with a speed and direction, such as 15 miles per hour northeast.\n",
        "Geometrically, arrows or directed line segments typically represent vectors.\n",
        "\n",
        "Linear algebra is the study of vectors.\n",
        "- An arrow with the same direction often represents it as the quantity and a length proportional to the magnitude of the quantity.\n",
        "- Vectors are ordered lists of finite numbers.\n",
        "- Vectors are the most fundamental mathematical objects in data science.\n",
        "\n",
        "Vector representation:\n",
        "![link text](https://labcontent.simplicdn.net/data-content/content-assets/Data_and_AI/ADSP_Images/Lesson_06_Maths_and_Stats/Linear_Algebra/Image_2.png)\n",
        "Vectors are mathematical objects that can be added together or multiplied by a number to obtain another object of the same kind.\n"
      ]
    },
    {
      "cell_type": "markdown",
      "metadata": {
        "id": "WLh2DFmJKTBG"
      },
      "source": [
        "#### __Example__\n",
        "![link text](https://labcontent.simplicdn.net/data-content/content-assets/Data_and_AI/ADSP_Images/Lesson_06_Maths_and_Stats/Linear_Algebra/Image_3.png)\n",
        "\n",
        "![link text](https://labcontent.simplicdn.net/data-content/content-assets/Data_and_AI/ADSP_Images/Lesson_06_Maths_and_Stats/Linear_Algebra/Image_4.png)\n",
        "\n",
        "**Explanation:** If a vector x is multiplied by a constant, the result will always be a vector."
      ]
    },
    {
      "cell_type": "markdown",
      "metadata": {
        "id": "nlsyfW8XKTBG"
      },
      "source": [
        "## __3. Vector Operation: Multiplication__"
      ]
    },
    {
      "cell_type": "markdown",
      "metadata": {
        "id": "wQNi3anzKTBG"
      },
      "source": [
        "![link text](https://labcontent.simplicdn.net/data-content/content-assets/Data_and_AI/ADSP_Images/Lesson_06_Maths_and_Stats/Linear_Algebra/Image_5.png)"
      ]
    },
    {
      "cell_type": "markdown",
      "metadata": {
        "id": "ZmWAqIgzKTBG"
      },
      "source": [
        "### __Example of the Dot and Cross Product of Two Vectors__"
      ]
    },
    {
      "cell_type": "markdown",
      "metadata": {
        "id": "FWMKfnELKTBG"
      },
      "source": [
        "![link text](https://labcontent.simplicdn.net/data-content/content-assets/Data_and_AI/ADSP_Images/Lesson_06_Maths_and_Stats/Linear_Algebra/Image_6.png)"
      ]
    },
    {
      "cell_type": "markdown",
      "metadata": {
        "id": "8kbZmYMpKTBG"
      },
      "source": [
        "### __Python Code Snippet for Dot and Cross Product__\n"
      ]
    },
    {
      "cell_type": "markdown",
      "metadata": {
        "id": "89TUKhdKKTBG"
      },
      "source": [
        "Let's see the code for dot product."
      ]
    },
    {
      "cell_type": "code",
      "execution_count": 1,
      "metadata": {
        "id": "Wkn_Cm8iKTBG"
      },
      "outputs": [],
      "source": [
        "# Define a function to calculate dot product of two vectors\n",
        "def dot_product(x,y):\n",
        "    # Check if both the vectors have same length\n",
        "    if len(x) != len(y):\n",
        "        return float('inf')\n",
        "    total = 0\n",
        "    for i in range(len(x)):\n",
        "        total += x[i] * y[i]\n",
        "    # Ensure that both the vectors have same length\n",
        "    return total"
      ]
    },
    {
      "cell_type": "code",
      "execution_count": 2,
      "metadata": {
        "id": "bj0dSLfpKTBH"
      },
      "outputs": [
        {
          "name": "stdout",
          "output_type": "stream",
          "text": [
            "a:  [ 1.03446631 -0.38898467  0.02924549]\n",
            "b:  [ 0.85554611 -0.24172028 -1.50160064]\n",
            "dot product 0.9351440550969181\n"
          ]
        }
      ],
      "source": [
        "import numpy as np\n",
        "a = np.random.randn(3)\n",
        "b = np.random.randn(3)\n",
        "print('a: ', a)\n",
        "print('b: ', b)\n",
        "print('dot product', dot_product(a,b))"
      ]
    },
    {
      "cell_type": "code",
      "execution_count": 3,
      "metadata": {
        "id": "ABaXHMPTKTBH"
      },
      "outputs": [],
      "source": [
        "# Dot product in numpy\n",
        "def np_dot_product(x,y):\n",
        "    return np.sum(x*y)"
      ]
    },
    {
      "cell_type": "code",
      "execution_count": 4,
      "metadata": {},
      "outputs": [
        {
          "name": "stdout",
          "output_type": "stream",
          "text": [
            "dot product 0.9351440550969181\n"
          ]
        }
      ],
      "source": [
        "print('dot product', np_dot_product(a, b))"
      ]
    },
    {
      "cell_type": "code",
      "execution_count": 5,
      "metadata": {},
      "outputs": [
        {
          "name": "stdout",
          "output_type": "stream",
          "text": [
            "dot product np.dot 0.9351440550969181\n"
          ]
        }
      ],
      "source": [
        "print('dot product np.dot', np.dot(a, b))"
      ]
    },
    {
      "cell_type": "code",
      "execution_count": null,
      "metadata": {},
      "outputs": [
        {
          "name": "stdout",
          "output_type": "stream",
          "text": [
            "c:  [ 0.92625123 -2.31217726 -0.16909881  0.94880338]\n",
            "dot product shapes (3,) and (4,) not aligned: 3 (dim 0) != 4 (dim 0)\n"
          ]
        }
      ],
      "source": [
        "# Vector multiplication with different lengths is not possible.\n",
        "c = np.random.randn(4)\n",
        "print('c: ', c)\n",
        "try:\n",
        "    r = np.dot(a,c)\n",
        "except ValueError as e:\n",
        "        print('dot product', e)"
      ]
    },
    {
      "cell_type": "markdown",
      "metadata": {
        "id": "hGA2N0NDKTBH"
      },
      "source": [
        "<b>Note: </b>In the above code, zip function ensures that both the vectors have the same length.\n",
        "\n",
        "\n",
        "When dot_product([3,2,6],[1,7,-2]) is called, the output will be 5."
      ]
    },
    {
      "cell_type": "code",
      "execution_count": null,
      "metadata": {
        "id": "ZsTDvFv9KTBH",
        "outputId": "34b3c1f7-d894-41c8-c81f-2633d3088338"
      },
      "outputs": [],
      "source": [
        "# Define a function to calculate cross product of two vectors\n",
        "def cross_product(u, v):\n",
        "    q0 = u[1]*v[2] - u[2]*v[1]\n",
        "    q1 = u[2]*v[0] - u[0]*v[2]\n",
        "    q2 = u[0]*v[1] - u[1]*v[0]\n",
        "    return [q0, q1, q2]\n",
        "\n",
        "# Define vectors of same length\n",
        "u = [1, 4, 5]\n",
        "v = [2, -3, 6]\n",
        "\n",
        "# Calculate the cross product\n",
        "cross_product_result = cross_product(u, v)\n",
        "cross_product_result"
      ]
    },
    {
      "cell_type": "code",
      "execution_count": 7,
      "metadata": {},
      "outputs": [
        {
          "name": "stdout",
          "output_type": "stream",
          "text": [
            "A:  [[  1   2]\n",
            " [ 10  20]\n",
            " [100 200]]\n",
            "B:  [[ 1  2  3]\n",
            " [10 20 30]]\n"
          ]
        }
      ],
      "source": [
        "A = np.array([[1, 2],[10, 20],[100, 200]])\n",
        "B = np.array([[1, 2, 3],[10, 20, 30]])\n",
        "print('A: ', A)\n",
        "print('B: ', B)"
      ]
    },
    {
      "cell_type": "code",
      "execution_count": null,
      "metadata": {},
      "outputs": [],
      "source": [
        "def matrix_multiplication(A, B):\n",
        "    # Check if the number of columns in A is equal to the number of rows in B\n",
        "    if len(A[0]) != len(B):\n",
        "        return float('inf')\n",
        "    # Initialize the result matrix with zeros\n",
        "    result = np.zeros((len(A), len(B[0])))\n",
        "    for i in range(len(A)):\n",
        "        for j in range(len(B[0])):\n",
        "            # Calculate the dot product of the ith row of A with the jth column of B\n",
        "            result[i,j] = np.dot(A[i], B[:,j])\n",
        "    return result"
      ]
    },
    {
      "cell_type": "code",
      "execution_count": 17,
      "metadata": {},
      "outputs": [
        {
          "name": "stdout",
          "output_type": "stream",
          "text": [
            "Matrix multiplication:  [[21.0, 42.0, 63.0], [210.0, 420.0, 630.0], [2100.0, 4200.0, 6300.0]]\n",
            "Matrix multiplication np.dot:  [[21, 42, 63], [210, 420, 630], [2100, 4200, 6300]]\n"
          ]
        }
      ],
      "source": [
        "c = matrix_multiplication(A, B)\n",
        "print('Matrix multiplication: ', c.tolist())\n",
        "c = np.dot(A, B)\n",
        "print('Matrix multiplication np.dot: ', c.tolist())"
      ]
    },
    {
      "cell_type": "code",
      "execution_count": 18,
      "metadata": {},
      "outputs": [
        {
          "name": "stdout",
          "output_type": "stream",
          "text": [
            "A transpose:  [[  1  10 100]\n",
            " [  2  20 200]]\n"
          ]
        }
      ],
      "source": [
        "at = A.T\n",
        "print('A transpose: ', at)"
      ]
    },
    {
      "cell_type": "markdown",
      "metadata": {
        "id": "ikRzPIlMKTBH"
      },
      "source": [
        "## __4. Norm of a Vector__"
      ]
    },
    {
      "cell_type": "markdown",
      "metadata": {
        "id": "P1IC5gDgKTBI"
      },
      "source": [
        "The norm of a vector, often referred to as the vector's magnitude or length, is a measure of its length from the origin in Euclidean space.\n",
        "\n",
        "The most commonly used norm is the Euclidean norm, which is defined as:\n",
        "\n",
        "![link text](https://labcontent.simplicdn.net/data-content/content-assets/Data_and_AI/ADSP_Images/Lesson_06_Maths_and_Stats/Linear_Algebra/Image_7.png)\n",
        "\n",
        "\n",
        "This is essentially the distance of the point defined by the vector from the origin (0, 0, ..., 0) in\n",
        "n-dimensional space."
      ]
    },
    {
      "cell_type": "markdown",
      "metadata": {
        "id": "z4zugfcQKTBI"
      },
      "source": [
        "**Example:** <br>\n",
        "A numerical example of the norm of a vector:\n",
        "\n",
        "\n",
        "![link text](https://labcontent.simplicdn.net/data-content/content-assets/Data_and_AI/ADSP_Images/Lesson_06_Maths_and_Stats/Linear_Algebra/Image_8.png)"
      ]
    },
    {
      "cell_type": "markdown",
      "metadata": {
        "id": "gng_eIamKTBI"
      },
      "source": [
        "### __Python Code to Find the Norm of a Vector__"
      ]
    },
    {
      "cell_type": "markdown",
      "metadata": {
        "id": "JYBlIRe4KTBI"
      },
      "source": [
        " The Python code for finding the norm of a vector is as follows:"
      ]
    },
    {
      "cell_type": "code",
      "execution_count": null,
      "metadata": {
        "id": "4RRFUnHuKTBI"
      },
      "outputs": [],
      "source": [
        "# Define vector\n",
        "v = [-1, -2, 3, 4, 5]"
      ]
    },
    {
      "cell_type": "code",
      "execution_count": null,
      "metadata": {
        "id": "NR5OfX2SKTBI"
      },
      "outputs": [],
      "source": [
        "# Define function to calculate norm of a vector\n",
        "def norm_vector(v):\n",
        "    dot_product = np.dot(v, v)\n",
        "    return np.sqrt(dot_product)"
      ]
    },
    {
      "cell_type": "code",
      "execution_count": null,
      "metadata": {
        "id": "-ZrfKj3qKTBI"
      },
      "outputs": [],
      "source": [
        "# Call the function\n",
        "norm_vector(v)"
      ]
    },
    {
      "cell_type": "code",
      "execution_count": null,
      "metadata": {
        "id": "tDQojeClKTBI"
      },
      "outputs": [],
      "source": [
        "# Norm in Numpy\n",
        "np.sqrt(np.dot(v,v))"
      ]
    },
    {
      "cell_type": "code",
      "execution_count": null,
      "metadata": {},
      "outputs": [],
      "source": [
        "# Angle between two vectors\n",
        "v1 = np.random.randn(3)\n",
        "v2 = np.random.randn(3)\n",
        "cos_angle = np.dot(v1,v2)/(np.linalg.norm(v1)*np.linalg.norm(v2))\n",
        "angle = np.arccos(cos_angle)\n",
        "print('v1: ', v1, ' v2: ', v2)\n",
        "print('angle between v1 and v2: ', angle, ' radians')\n",
        "print('angle between v1 and v2: ', np.degrees(angle), ' degrees')\n",
        "cos2_angle = np.dot(v1, v2) / (np.sqrt(np.dot(v1, v1)) * np.sqrt(np.dot(v2, v2)))\n",
        "angle2 = np.arccos(cos2_angle)\n",
        "print('angle between v1 and v2: ', angle2, ' radians')\n",
        "print('angle between v1 and v2: ', np.degrees(angle2), ' degrees')"
      ]
    },
    {
      "cell_type": "markdown",
      "metadata": {
        "id": "AepCipBfKTBI"
      },
      "source": [
        "## __5. Matrix__\n"
      ]
    },
    {
      "cell_type": "markdown",
      "metadata": {
        "id": "Xqmik2wCKTBI"
      },
      "source": [
        "A matrix is a rectangular array of numbers or expressions, arranged in columns and rows. It is used to represent\n",
        "a mathematical object or a property of the object.\n",
        "\n",
        "![matrixex.PNG](https://s3.us-east-1.amazonaws.com/static2.simplilearn.com/lms/testpaper_images/ADSP/Advanced_Statistics/LinearRegression/matrixex.PNG)\n"
      ]
    },
    {
      "cell_type": "markdown",
      "metadata": {
        "id": "YGqD-YitKTBI"
      },
      "source": [
        "If X[aij] and Y[bij] are $ m\\times n $ matrices, their sum X+Y is an $ m\\times n $ matrix obtained by adding the corresponding elements.\n",
        "\n",
        "![additionordwr.PNG](https://s3.us-east-1.amazonaws.com/static2.simplilearn.com/lms/testpaper_images/ADSP/Advanced_Statistics/LinearRegression/additionordwr.PNG)\n"
      ]
    },
    {
      "cell_type": "markdown",
      "metadata": {
        "id": "npO4QMOCKTBI"
      },
      "source": [
        "#### __Example: Matrix Addition of 3 x 3 Matrices__\n",
        "\n"
      ]
    },
    {
      "cell_type": "markdown",
      "metadata": {
        "id": "yL0UTDGyKTBI"
      },
      "source": [
        "![matrixexampleadd.PNG](https://s3.us-east-1.amazonaws.com/static2.simplilearn.com/lms/testpaper_images/ADSP/Advanced_Statistics/LinearRegression/matrixexampleadd.PNG)"
      ]
    },
    {
      "cell_type": "markdown",
      "metadata": {
        "id": "UCI1CPeOKTBJ"
      },
      "source": [
        "### __Python Implementation for the Addition of Two Matrices with Same Order__"
      ]
    },
    {
      "cell_type": "code",
      "execution_count": null,
      "metadata": {},
      "outputs": [],
      "source": [
        "import numpy as np\n",
        "a = np.array([[1, 2], [3, 4]])\n",
        "b = np.array([[5, 6], [7, 8]])\n",
        "c = np.add(a,b)\n",
        "d = a + b\n",
        "print('a: ', a)\n",
        "print('b: ', b)\n",
        "print('c: ', c)\n",
        "print('d: ', d)"
      ]
    },
    {
      "cell_type": "code",
      "execution_count": null,
      "metadata": {
        "id": "PcZaiUuKKTBJ"
      },
      "outputs": [],
      "source": [
        "# Define a function to add matrices\n",
        "def matrix_addition(x,y):\n",
        "    xrows = len(x)\n",
        "    xcols = len(x[0])\n",
        "    yrows = len(y)\n",
        "    ycols= len(y[0])\n",
        "    if xrows!=yrows or xcols!=ycols:\n",
        "        print(\"Sum is not defined as the matrices have different orders\")\n",
        "    else:\n",
        "        result=[[0 for i in range(xcols)] for i in range(xrows)]\n",
        "        for i in range(xrows):\n",
        "            for j in range(xcols):\n",
        "                result[i][j]=x[i][j]+y[i][j]\n",
        "        return result"
      ]
    },
    {
      "cell_type": "code",
      "execution_count": null,
      "metadata": {
        "id": "YpDJJ5pnKTBJ"
      },
      "outputs": [],
      "source": [
        "matrix_X = [[1,2,3],[4,5,6],[7,8,9]]\n",
        "matrix_Y = [[9,8,7],[6,5,4],[3,2,1]]"
      ]
    },
    {
      "cell_type": "code",
      "execution_count": null,
      "metadata": {
        "id": "7eZ4kiD3KTBJ"
      },
      "outputs": [],
      "source": [
        "# Return the value of function\n",
        "matrix_addition(matrix_X, matrix_Y)"
      ]
    },
    {
      "cell_type": "code",
      "execution_count": null,
      "metadata": {
        "id": "h3zuEQNSKTBJ"
      },
      "outputs": [],
      "source": [
        "# Matrix addition in Numpy\n",
        "r = np.array(matrix_X) + np.array(matrix_Y)\n",
        "# or r = np.add(matrix_X, matrix_Y)\n",
        "print('r: ', r)"
      ]
    },
    {
      "cell_type": "markdown",
      "metadata": {
        "id": "_Q9elI1HKTBJ"
      },
      "source": [
        "The code takes two matrices of the same order and adds them. If the matrices are of a different order, it prints an error code, indicating the same."
      ]
    },
    {
      "cell_type": "markdown",
      "metadata": {
        "id": "i6tpSnJsKTBJ"
      },
      "source": [
        "## __6. Scalar Multiplication__"
      ]
    },
    {
      "cell_type": "markdown",
      "metadata": {
        "id": "_4Dz4RS9KTBJ"
      },
      "source": [
        "Scalar multiplication of a matrix refers to each element of the matrix being multiplied by the given scalar.\n",
        "\n",
        "If X is an $ m\\times n $ matrix and C is a scalar, then CX is the $ m\\times n $ matrix obtained by multiplying every element of X with C.\n",
        "\n",
        "![link text](https://labcontent.simplicdn.net/data-content/content-assets/Data_and_AI/ADSP_Images/Lesson_06_Maths_and_Stats/Linear_Algebra/Image_9.png)\n"
      ]
    },
    {
      "cell_type": "markdown",
      "metadata": {
        "id": "2BrRkwE5KTBJ"
      },
      "source": [
        "![link text](https://labcontent.simplicdn.net/data-content/content-assets/Data_and_AI/ADSP_Images/Lesson_06_Maths_and_Stats/Linear_Algebra/Image_10.png)"
      ]
    },
    {
      "cell_type": "markdown",
      "metadata": {
        "id": "2xV-jeQ1KTBJ"
      },
      "source": [
        "### __Python Code Snippet for Scalar Multiplication__\n",
        "\n",
        "This snippet takes a scalar value and a matrix as input and gives a resultant matrix, the elements of which are the products of the original matrix and the scalar value.\n"
      ]
    },
    {
      "cell_type": "code",
      "execution_count": null,
      "metadata": {
        "id": "v_xL0_lXKTBJ"
      },
      "outputs": [],
      "source": [
        "# Define function for scalar multiplication\n",
        "def scalar_multiplication(c,X):\n",
        "    cX = [[ c * X[i][j] for j in range(len(X[0]))] for i in range(len(X))]\n",
        "    return cX"
      ]
    },
    {
      "cell_type": "code",
      "execution_count": null,
      "metadata": {
        "id": "i6I1sKgeKTBJ"
      },
      "outputs": [],
      "source": [
        "scalar_multiplication(-3,[[2,6,-1],[2,8,0],[9,8,7]])"
      ]
    },
    {
      "cell_type": "code",
      "execution_count": null,
      "metadata": {
        "id": "EoTN9Sr6KTBK"
      },
      "outputs": [],
      "source": [
        "# Scalar multiplication in Numpy\n",
        "r = -3 * np.array([[2,6,-1],[2,8,0],[9,8,7]])\n",
        "print('r: ', r)"
      ]
    },
    {
      "cell_type": "markdown",
      "metadata": {
        "id": "y1o8VKrcKTBK"
      },
      "source": [
        "## __7. Matrix Operations__\n"
      ]
    },
    {
      "cell_type": "markdown",
      "metadata": {
        "id": "uE3pF8Y_KTBK"
      },
      "source": [
        "### __7.1 Matrix Subtraction__\n",
        "Subtraction of matrices involves element-wise subtraction. If X[$a_{ij} $ ]and Y[$b_{ij} $ ]are $ m\\times n $ matrices, their difference X-Y is the  $ m\\times n $  matrix obtained by subtracting the corresponding elements of Y from those of X.\n",
        "\n",
        "So, X-Y = [$a_{ij} $ - $b_{ij} $]\n",
        "\n"
      ]
    },
    {
      "cell_type": "markdown",
      "metadata": {
        "id": "fYnBsMdSKTBK"
      },
      "source": [
        "![suboperation.PNG](https://s3.us-east-1.amazonaws.com/static2.simplilearn.com/lms/testpaper_images/ADSP/Advanced_Statistics/LinearRegression/suboperation.PNG)"
      ]
    },
    {
      "cell_type": "markdown",
      "metadata": {
        "id": "gsfpYF-tKTBK"
      },
      "source": [
        "\n",
        "If X and Y are of different orders, then subtraction is not possible."
      ]
    },
    {
      "cell_type": "markdown",
      "metadata": {
        "id": "5JdmAr51KTBK"
      },
      "source": [
        "#### __Example__"
      ]
    },
    {
      "cell_type": "markdown",
      "metadata": {
        "id": "epB9QITgKTBK"
      },
      "source": [
        "\n",
        "\n",
        "\n",
        "\n",
        "![examsub.PNG](https://s3.us-east-1.amazonaws.com/static2.simplilearn.com/lms/testpaper_images/ADSP/Advanced_Statistics/LinearRegression/examsub.PNG)"
      ]
    },
    {
      "cell_type": "markdown",
      "metadata": {
        "id": "X_ZyZTNBKTBK"
      },
      "source": [
        "### __Python Code Snippet to Perform Matrix Subtraction__\n",
        "\n",
        "In the code, matrix_subtraction will take two matrices and it will first check the order of matrices. If it is the same, then perform a subtraction operation. Else, it prints an error message.\n"
      ]
    },
    {
      "cell_type": "code",
      "execution_count": null,
      "metadata": {
        "id": "w9Nr9D2gKTBK"
      },
      "outputs": [],
      "source": [
        "# Define function for subtraction of matrices\n",
        "def matrix_subtraction(x,y):\n",
        "    result = [[x[i][j]-y[i][j]  for j in range(len(x[0]))] for i in range(len(x))]\n",
        "    return result"
      ]
    },
    {
      "cell_type": "code",
      "execution_count": null,
      "metadata": {
        "id": "ru4_zRsTKTBL"
      },
      "outputs": [],
      "source": [
        "matrix_subtraction(matrix_X,matrix_Y)"
      ]
    },
    {
      "cell_type": "code",
      "execution_count": null,
      "metadata": {
        "id": "VrzEUCddKTBL"
      },
      "outputs": [],
      "source": [
        "result = np.array(matrix_X) - np.array(matrix_Y)\n",
        "print(result)"
      ]
    },
    {
      "cell_type": "markdown",
      "metadata": {
        "id": "e66a2X8MKTBL"
      },
      "source": [
        "### __7.2 Matrix Multiplication__\n",
        "The product of two matrices is obtained by multiplying the elements of the rows of the first matrix with the corresponding elements of the columns of the second matrix.\n",
        "\n",
        "![matrizmulti1.PNG](https://s3.us-east-1.amazonaws.com/static2.simplilearn.com/lms/testpaper_images/ADSP/Advanced_Statistics/LinearRegression/matrizmulti1.PNG)\n",
        "\n",
        "\n"
      ]
    },
    {
      "cell_type": "markdown",
      "metadata": {
        "id": "oDgGvqC5KTBL"
      },
      "source": [
        "![multi2.PNG](https://s3.us-east-1.amazonaws.com/static2.simplilearn.com/lms/testpaper_images/ADSP/Advanced_Statistics/LinearRegression/multi2.PNG)\n",
        "\n",
        "If X is an $ m\\times n $ matrix and Y is an $ n\\times r $, then their product Z =\n",
        "$ X\\times Y $ is an $ m\\times r $ matrix, whose elements are given by the following expression.\n",
        "\n",
        "\n",
        "$Z_{ij} $ = X $_{i1} $Y $_{1j} $ + X $_{i2} $Y $_{2j} $ +.... X $_{in} $ Y $_{nj} $"
      ]
    },
    {
      "cell_type": "markdown",
      "metadata": {
        "id": "JzW-E_w5KTBL"
      },
      "source": [
        "![multi3.PNG](https://s3.us-east-1.amazonaws.com/static2.simplilearn.com/lms/testpaper_images/ADSP/Advanced_Statistics/LinearRegression/multi3.PNG)"
      ]
    },
    {
      "cell_type": "markdown",
      "metadata": {
        "id": "N7lIOcfdKTBL"
      },
      "source": [
        "#### __Example__"
      ]
    },
    {
      "cell_type": "markdown",
      "metadata": {
        "id": "KwAtxcOUKTBL"
      },
      "source": [
        "\n",
        "\n",
        "Consider two matrices X and Y where the order of X is 2X3 and the order of Y is 3X2\n",
        "\n",
        "![multi4.PNG](https://s3.us-east-1.amazonaws.com/static2.simplilearn.com/lms/testpaper_images/ADSP/Advanced_Statistics/LinearRegression/multi4.PNG)\n"
      ]
    },
    {
      "cell_type": "markdown",
      "metadata": {
        "id": "_nHU1dNEKTBL"
      },
      "source": [
        "### __Python Code Snippet for the Matrix Multiplication__"
      ]
    },
    {
      "cell_type": "code",
      "execution_count": null,
      "metadata": {
        "id": "Z-kX-abaKTBL"
      },
      "outputs": [],
      "source": [
        "# Define function to perform matrix multiplication\n",
        "def matrix_multiplication(x,y):\n",
        "    xrows = len(x)\n",
        "    xcols = len(x[0])\n",
        "    yrows = len(y)\n",
        "    ycols= len(y[0])\n",
        "    if xcols!=yrows:\n",
        "        print (\"Product is not defined as the no. of rows in the first matrix is not equal to the number of columns in the second matrix\")\n",
        "    else:\n",
        "        z = [[0 for i in range(ycols)] for i in range(xrows)]\n",
        "        for i in range(xrows):\n",
        "            for j in range(ycols):\n",
        "                for k in range(yrows):\n",
        "                    z[i][j] += x[i][k]*y[k][j]\n",
        "        return z"
      ]
    },
    {
      "cell_type": "code",
      "execution_count": null,
      "metadata": {
        "id": "lE6vVjMyKTBL"
      },
      "outputs": [],
      "source": [
        "# Take input from user\n",
        "print(\"Enter the rows and columns of first matrix\")\n",
        "rows1 = int(input(\"Enter the number of rows : \" ))\n",
        "column1 = int(input(\"Enter the number of columns: \"))\n",
        "\n",
        "print(\"Enter the elements of first matrix:\")\n",
        "matrix_X= [[int(input()) for i in range(column1)] for i in range(rows1)]\n",
        "print(\"First matrix is: \")\n",
        "for n in matrix_X:\n",
        "    print(n)\n",
        "print(\"Enter the rows and columns of second matrix\")\n",
        "rows2 = int(input(\"Enter the number of rows : \" ))\n",
        "column2 = int(input(\"Enter the number of columns: \"))\n",
        "\n",
        "print(\"Enter the elements of second matrix:\")\n",
        "matrix_Y= [[int(input()) for i in range(column2)] for i in range(rows2)]\n",
        "for n in matrix_Y:\n",
        "    print(n)"
      ]
    },
    {
      "cell_type": "code",
      "execution_count": null,
      "metadata": {
        "id": "--QmCaAJKTBL"
      },
      "outputs": [],
      "source": [
        "matrix_multiplication(matrix_X,matrix_Y)"
      ]
    },
    {
      "cell_type": "code",
      "execution_count": null,
      "metadata": {
        "id": "zS-y-VWPKTBL"
      },
      "outputs": [],
      "source": [
        "# Matrix product in numpy\n",
        "r = np.matmul(matrix_X, matrix_Y)\n",
        "print('r: ', r)"
      ]
    },
    {
      "cell_type": "markdown",
      "metadata": {
        "id": "kRARSH_fKTBL"
      },
      "source": [
        "When two matrices of order 2X3 and 3X2 are multiplied, the output will be in 2X2 matrix."
      ]
    },
    {
      "cell_type": "markdown",
      "metadata": {
        "id": "IAVZjinAKTBL"
      },
      "source": [
        "### __7.3 Transpose of a Matrix__\n",
        "The transpose of a matrix is obtained by swapping its rows and columns. It is basically the same matrix with flipped axes.\n",
        "- The transpose of matrix X of size $ m\\times n $ results in an $ n\\times m $ matrix, denoted as $ X^T $.\n",
        "- This is achieved by interchanging the rows and columns of X.\n",
        "\n",
        "![trans1.PNG](https://s3.us-east-1.amazonaws.com/static2.simplilearn.com/lms/testpaper_images/ADSP/Advanced_Statistics/LinearRegression/trans1.PNG)\n"
      ]
    },
    {
      "cell_type": "markdown",
      "metadata": {
        "id": "J0yjHtv-KTBL"
      },
      "source": [
        "#### __Example__"
      ]
    },
    {
      "cell_type": "markdown",
      "metadata": {
        "id": "K8fuCXxRKTBL"
      },
      "source": [
        "X is a 2X3 matrix.The transpose $ X^T $  of X will be 3X2 matrix.\n",
        "\n",
        "![transnew.PNG](https://s3.us-east-1.amazonaws.com/static2.simplilearn.com/lms/testpaper_images/ADSP/Advanced_Statistics/LinearRegression/transnew.PNG)"
      ]
    },
    {
      "cell_type": "markdown",
      "metadata": {
        "id": "8RFhm5anKTBL"
      },
      "source": [
        "### __Python Implementation for Finding the Transpose of a Matrix__"
      ]
    },
    {
      "cell_type": "code",
      "execution_count": 24,
      "metadata": {
        "id": "v5VX3s2sKTBL"
      },
      "outputs": [],
      "source": [
        "## Define function to perform transpose of matrix\n",
        "def matrix_transpose(x):\n",
        "    xrows = len(x)\n",
        "    xcols = len(x[0])\n",
        "    z = [ [ 0 for i in range(xrows) ] for j in range(xcols) ]\n",
        "    for i in range(xcols):\n",
        "        for j in range(xrows):\n",
        "            z[i][j] = x[j][i]\n",
        "    return z"
      ]
    },
    {
      "cell_type": "code",
      "execution_count": 25,
      "metadata": {
        "id": "-AwFfp4sKTBL"
      },
      "outputs": [
        {
          "data": {
            "text/plain": [
              "[[1, 5], [9, 3], [-6, -7]]"
            ]
          },
          "execution_count": 25,
          "metadata": {},
          "output_type": "execute_result"
        }
      ],
      "source": [
        "matrix_transpose([[1,9,-6],[5,3,-7]])"
      ]
    },
    {
      "cell_type": "code",
      "execution_count": 27,
      "metadata": {
        "id": "h3eIH7oCKTBL"
      },
      "outputs": [
        {
          "data": {
            "text/plain": [
              "[[1, 10, 100], [2, 20, 300]]"
            ]
          },
          "execution_count": 27,
          "metadata": {},
          "output_type": "execute_result"
        }
      ],
      "source": [
        "# Matrix transpose in Numpy\n",
        "A = [[1, 2], [10, 20], [100, 300]]\n",
        "matrix_transpose(A)"
      ]
    },
    {
      "cell_type": "markdown",
      "metadata": {
        "id": "zUPp8FgTKTBL"
      },
      "source": [
        "## __8. Rank of a Matrix__"
      ]
    },
    {
      "cell_type": "markdown",
      "metadata": {
        "id": "sqXc5qrIKTBN"
      },
      "source": [
        "The rank of a matrix is defined as the maximum number of linearly independent columns or rows in the matrix.\n",
        "![trans3.PNG](https://s3.us-east-1.amazonaws.com/static2.simplilearn.com/lms/testpaper_images/ADSP/Advanced_Statistics/LinearRegression/trans3.PNG)             "
      ]
    },
    {
      "cell_type": "markdown",
      "metadata": {
        "id": "fiQe5Lz0KTBN"
      },
      "source": [
        "**Note:** To find the rank of a matrix, first convert it into the row echelon form.\n",
        "\n",
        "For a matrix to be in its echelon form, it must follow these three rules:\n",
        "\n",
        "![image.png](attachment:ba641049-35f9-4cc8-a81b-78da21ecdc8c.png)"
      ]
    },
    {
      "cell_type": "markdown",
      "metadata": {
        "id": "aRbebigJKTBN"
      },
      "source": [
        "#### __Example__\n",
        "\n",
        "![image.png](attachment:fb3a4f68-9772-4ec4-9bcc-7317c7e541c2.png)\n",
        "\n",
        "The output, after using elementary transformations, is shown below:\n",
        "\n",
        "**R2 → R2 – 2R1**\n",
        "\n",
        "**R3 → R3 – 3R1**\n",
        "\n",
        "![image.png](attachment:1278a273-7eee-4574-aa5f-a55ed362a31c.png)\n",
        "\n",
        "**R3 → R3 – 2R2**\n",
        "\n",
        "![image.png](attachment:102dfbeb-91be-4feb-8bc8-f35445edb024.png)\n",
        "\n",
        "The above matrix is in row echelon form.\n",
        "\n",
        "Since the number of non-zero rows = 2\n",
        "\n",
        "**Hence, the rank of matrix is 2**."
      ]
    },
    {
      "cell_type": "markdown",
      "metadata": {
        "id": "dPBkRA2LKTBN"
      },
      "source": [
        "## __9. Determinant of a Matrix and Identity Matrix__"
      ]
    },
    {
      "cell_type": "markdown",
      "metadata": {
        "id": "6QfqdRxjKTBN"
      },
      "source": [
        "The determinant of a matrix is a scalar quantity that is a function of the elements of a matrix.\n",
        "- Determinants are defined only for square matrices.\n",
        "- These are useful in determining the solution of a system of linear equations.\n",
        "\n",
        "                               Let X = [aij] be an nxn matrix, where n ≥2\n",
        "\n",
        "![image.png](attachment:106e9ab4-43bf-4bc0-86e7-25ba9ccf4c83.png)\n",
        "\n",
        "\n",
        "**Note:** The determinant of a non-square matrix is not defined. Determinant of a matrix X is denoted by det X or |X|.\n",
        "\n"
      ]
    },
    {
      "cell_type": "markdown",
      "metadata": {
        "id": "1FApZQTlKTBN"
      },
      "source": [
        "**Consider the matrices 2X2 and 3X3:**\n",
        "\n",
        "![image.png](attachment:5d2812c0-4a3d-4298-88cc-cf0248c72151.png)\n",
        "\n",
        "   \n",
        "Substitute the expressions for a determinant of a $ 2\\times 2 $ matrix in the above equation. So, the output will be shown as below:\n",
        "\n",
        "![det2.PNG](https://s3.us-east-1.amazonaws.com/static2.simplilearn.com/lms/testpaper_images/ADSP/Advanced_Statistics/LinearRegression/det2.PNG)"
      ]
    },
    {
      "cell_type": "markdown",
      "metadata": {
        "id": "p9-910ygKTBN"
      },
      "source": [
        "### __Python Implementation for Finding the Determinant of a Matrix__"
      ]
    },
    {
      "cell_type": "code",
      "execution_count": null,
      "metadata": {
        "id": "fxMmsKXKKTBN"
      },
      "outputs": [],
      "source": [
        "def determinant_3x3(matrix):\n",
        "    if len(matrix) == 3 and all(len(row) == 3 for row in matrix):\n",
        "        a, b, c = matrix[0]\n",
        "        d, e, f = matrix[1]\n",
        "        g, h, i = matrix[2]\n",
        "        return a * (e * i - f * h) - b * (d * i - f * g) + c * (d * h - e * g)\n",
        "    else:\n",
        "        return \"Matrix must be 3x3\"\n",
        "\n",
        "# Insert values in the matrix\n",
        "matrix = [[5, 5, 3],\n",
        "          [4, 5, 6],\n",
        "          [7, 8, 9]]\n",
        "\n",
        "det = determinant_3x3(matrix)\n",
        "print(\"Determinant:\", det)"
      ]
    },
    {
      "cell_type": "markdown",
      "metadata": {
        "id": "KgMte6E6KTBN"
      },
      "source": [
        "## __10. Identity Matrix or Operator__\n",
        "An identity matrix (I) is a square matrix that, when multiplied with a matrix X, gives the same result as X.\n",
        "\n",
        "![det3.PNG](https://s3.us-east-1.amazonaws.com/static2.simplilearn.com/lms/testpaper_images/ADSP/Advanced_Statistics/LinearRegression/det3.PNG)\n",
        "\n",
        "**Hint**: This is equivalent to the number 1 in the number system.\n",
        "\n",
        "\n",
        "\n",
        "\n"
      ]
    },
    {
      "cell_type": "markdown",
      "metadata": {
        "id": "AWzUmW8xKTBN"
      },
      "source": [
        "The diagonal elements of I are all 1 and all its non-diagonal elements are 0.\n",
        "\n",
        "#### Example:\n",
        "![det4.PNG](https://s3.us-east-1.amazonaws.com/static2.simplilearn.com/lms/testpaper_images/ADSP/Advanced_Statistics/LinearRegression/det4.PNG)"
      ]
    },
    {
      "cell_type": "markdown",
      "metadata": {
        "id": "PX1SJtfvKTBN"
      },
      "source": [
        "## __11. Inverse of a Matrix, Eigenvalues, and Eigenvectors__"
      ]
    },
    {
      "cell_type": "markdown",
      "metadata": {
        "id": "D8Ptm_r0KTBN"
      },
      "source": [
        "### __11.1 Inverse of a matrix__\n",
        "\n",
        "The inverse of a matrix (often denoted as X−1 for a matrix X) is a matrix that yields the identity matrix when multiplied with the original matrix.\n",
        "- If X is a square matrix, then its inverse $ X^{-1} $ satisfies the following condition:\n",
        "\n",
        "\n",
        "![link text](https://labcontent.simplicdn.net/data-content/content-assets/Data_and_AI/ADSP_Images/Lesson_06_Maths_and_Stats/Linear_Algebra/Image_17.png)\n",
        "\n",
        "\n",
        "I is the $ n\\times n $ identity matrix. If an $ X^{-1} $ exists for X, then X is described as invertible."
      ]
    },
    {
      "cell_type": "markdown",
      "metadata": {
        "id": "yagfZ_ZOKTBN"
      },
      "source": [
        "#### __Example__"
      ]
    },
    {
      "cell_type": "markdown",
      "metadata": {
        "id": "vEtiMXqsKTBN"
      },
      "source": [
        "X is a 2x2 matrix."
      ]
    },
    {
      "cell_type": "markdown",
      "metadata": {
        "id": "14E5T86KKTBN"
      },
      "source": [
        "![link text](https://labcontent.simplicdn.net/data-content/content-assets/Data_and_AI/ADSP_Images/Lesson_06_Maths_and_Stats/Linear_Algebra/Image_18.png)"
      ]
    },
    {
      "cell_type": "markdown",
      "metadata": {
        "id": "g-RjnggzLlz8"
      },
      "source": [
        "### __11.2 Minor__"
      ]
    },
    {
      "cell_type": "markdown",
      "metadata": {
        "id": "Fjgqxq2xLmHK"
      },
      "source": [
        "The minor of an element in a matrix is the determinant of the square matrix formed by deleting the row and column containing that element.\n",
        "\n",
        "For example,\n",
        "consider the matrix D:\n",
        "\n",
        "![link text](https://labcontent.simplicdn.net/data-content/content-assets/Data_and_AI/ADSP_Images/Lesson_05_Data_Visualization/cofactor_p1.png)\n"
      ]
    },
    {
      "cell_type": "markdown",
      "metadata": {
        "id": "xLBxy5fzLmKA"
      },
      "source": [
        "### __11.3 Cofactor__\n",
        "\n",
        "The cofactor of an element of a matrix is the determinant of the matrix obtained by eliminating the row and column in the matrix that contains the element and then multiplying by +1 or -1 according to the position of the element."
      ]
    },
    {
      "cell_type": "markdown",
      "metadata": {
        "id": "9DJeXocdLqMV"
      },
      "source": [
        "For example,\n",
        "consider the matrix:\n",
        "\n",
        "![link text](https://labcontent.simplicdn.net/data-content/content-assets/Data_and_AI/ADSP_Images/Lesson_05_Data_Visualization/cofactor_p1.png)"
      ]
    },
    {
      "cell_type": "markdown",
      "metadata": {
        "id": "rEh2LrQ9LxO5"
      },
      "source": []
    },
    {
      "cell_type": "markdown",
      "metadata": {
        "id": "yeK6dCdcLxSK"
      },
      "source": [
        "The cofactor of 2 would be:\n",
        "\n",
        "![link text](https://labcontent.simplicdn.net/data-content/content-assets/Data_and_AI/ADSP_Images/Lesson_05_Data_Visualization/cofactor_p2.png)"
      ]
    },
    {
      "cell_type": "markdown",
      "metadata": {
        "id": "It5M5fMdLqPg"
      },
      "source": [
        "To find the determinant:\n",
        "\n",
        "![link text](https://labcontent.simplicdn.net/data-content/content-assets/Data_and_AI/ADSP_Images/Lesson_05_Data_Visualization/cofactor_p3.png)\n",
        "\n",
        "By subtracting them, you get:\n",
        "\n",
        "![link text](https://labcontent.simplicdn.net/data-content/content-assets/Data_and_AI/ADSP_Images/Lesson_05_Data_Visualization/cofactor_p4.png)"
      ]
    },
    {
      "cell_type": "markdown",
      "metadata": {
        "id": "xc2kghyXL7ou"
      },
      "source": [
        "### __11.4 Adjoint Matrix__"
      ]
    },
    {
      "cell_type": "markdown",
      "metadata": {
        "id": "jU2ovdDhMARX"
      },
      "source": [
        "The transpose of the comatrix is the adjoint matrix."
      ]
    },
    {
      "cell_type": "markdown",
      "metadata": {
        "id": "7w41vFJ9KTBN"
      },
      "source": [
        "### __Python Code for Finding the Inverse of a 2X2 Matrix__"
      ]
    },
    {
      "cell_type": "code",
      "execution_count": 29,
      "metadata": {
        "id": "O34HMe8lKTBN"
      },
      "outputs": [
        {
          "name": "stdout",
          "output_type": "stream",
          "text": [
            "Inverse of the matrix: [[0.6, -0.7], [-0.2, 0.4]]\n"
          ]
        }
      ],
      "source": [
        "def inverse_matrix_2x2(matrix):\n",
        "    a, b, c, d = matrix[0][0], matrix[0][1], matrix[1][0], matrix[1][1]\n",
        "\n",
        "    # Calculate the determinant\n",
        "    determinant = a * d - b * c\n",
        "\n",
        "    # Check if the matrix has an inverse\n",
        "    if determinant == 0:\n",
        "        return \"This matrix does not have an inverse.\"\n",
        "\n",
        "    # Calculate the inverse\n",
        "    inverse = [[d / determinant, -b / determinant],\n",
        "               [-c / determinant, a / determinant]]\n",
        "\n",
        "    return inverse\n",
        "\n",
        "# Example matrix\n",
        "matrix = [[4, 7], [2, 6]]\n",
        "\n",
        "# Calculate its inverse\n",
        "inverse = inverse_matrix_2x2(matrix)\n",
        "print(\"Inverse of the matrix:\", inverse)"
      ]
    },
    {
      "cell_type": "markdown",
      "metadata": {
        "id": "7QMZikotMbHV"
      },
      "source": [
        "## __12. Eigenvalues and Eigenvectors__\n",
        "\n",
        "Eigenvalues are a special set of scalar values associated with the linear equations in matrix operations. Imagine you have a big box. You're asked to stretch or shrink everything inside the box, but only in certain directions. Eigenvalues tell you how much everything stretches or shrinks along those special directions."
      ]
    },
    {
      "cell_type": "markdown",
      "metadata": {
        "id": "g-ncvIkIMfci"
      },
      "source": [
        "Eigenvectors represent directions in which the linear transformation has a stretching or compressing effect. Imagine you have arrows inside the box. These arrows represent different directions. Eigenvectors are the special arrows that don't change their direction when you apply force. They might get longer or shorter, but they still point in the same direction."
      ]
    },
    {
      "cell_type": "markdown",
      "metadata": {
        "id": "1yLTKXqQMfhx"
      },
      "source": [
        "Eigenvalues and eigenvectors are used in the following areas:\n",
        "\n",
        "- Linear transformations: Eigenvalues and eigenvectors understand and analyze the behavior of linear transformations. They provide insights into how the transformation affects different directions in the vector space.\n",
        "\n",
        "- Differential equations: Eigenvalues and eigenvectors solve systems of ordinary and partial differential equations. They help find solutions that have exponential growth or decay behavior.\n",
        "\n",
        "- Structural analysis: In structural engineering, eigenvalues and eigenvectors analyze the stability and modes of vibration of structures."
      ]
    },
    {
      "cell_type": "markdown",
      "metadata": {
        "id": "YfLF11V6KTBN"
      },
      "source": [
        "Let X be an $ n\\times n $ matrix. A scalar $ \\lambda $  is called an eigenvalue of X if there is a nonzero vector A such that AX =  $ \\lambda $A.  In this context, the vector A is called an eigenvector of X corresponding to $ \\lambda $.\n",
        "\n",
        "![link text](https://labcontent.simplicdn.net/data-content/content-assets/Data_and_AI/ADSP_Images/Lesson_06_Maths_and_Stats/Linear_Algebra/Image_19.png)\n",
        "\n",
        "Suppose X is an $ n\\times n $ matrix. When you multiply X with a new vector A, it does two things to the vector A:\n",
        "\n",
        "1.\tIt scales the vector.\n",
        "\n",
        "2.\tIt rotates the vector.\n",
        "\n",
        "When X acts on a certain set of vectors, it results in scaling the vector and not changing the direction of the vector.\n",
        "- These specific vectors, which you do not rotate but may stretch or compress, are called eigenvectors.\n",
        "- The amount by which these vectors stretch or compress is called the corresponding eigenvalue."
      ]
    },
    {
      "cell_type": "markdown",
      "metadata": {
        "id": "TMMuq9LzKTBN"
      },
      "source": [
        "### __Python Code for Finding the Eigenvalues and Eigenvectors of a 2X2 Matrix__"
      ]
    },
    {
      "cell_type": "code",
      "execution_count": 30,
      "metadata": {
        "id": "U1riCfeYKTBN"
      },
      "outputs": [
        {
          "name": "stdout",
          "output_type": "stream",
          "text": [
            "Eigenvalues: (5.0, 2.0)\n",
            "Eigenvectors: [[2.0, 1], [-1.0, 1]]\n"
          ]
        }
      ],
      "source": [
        "def find_eigenvalues(matrix):\n",
        "    # Extract matrix elements\n",
        "    a, b, c, d = matrix[0][0], matrix[0][1], matrix[1][0], matrix[1][1]\n",
        "\n",
        "    # Calculate the trace and determinant of the matrix\n",
        "    trace = a + d\n",
        "    determinant = a * d - b * c\n",
        "\n",
        "    # Use the quadratic formula to find eigenvalues\n",
        "    eigenvalue1 = (trace + (trace**2 - 4 * determinant)**0.5) / 2\n",
        "    eigenvalue2 = (trace - (trace**2 - 4 * determinant)**0.5) / 2\n",
        "\n",
        "    return eigenvalue1, eigenvalue2\n",
        "\n",
        "def find_eigenvectors(matrix, eigenvalues):\n",
        "    eigenvectors = []\n",
        "    for lambd in eigenvalues:\n",
        "        # Solve for the eigenvector corresponding to each eigenvalue\n",
        "        a, b, c, d = matrix[0][0], matrix[0][1], matrix[1][0], matrix[1][1]\n",
        "        # Form the system (A -  lambda*I)*v = 0\n",
        "        # where A is the matrix, lambda is the eigenvalue, and v is the eigenvector\n",
        "        vec_matrix = [[a - lambd, b], [c, d - lambd]]\n",
        "        # Assume the second component of the eigenvector is 1 (for simplicity)\n",
        "        # The solution for the first component of the eigenvector\n",
        "        if vec_matrix[0][0] != 0:  # Avoid division by zero\n",
        "            eigenvector_first_component = -vec_matrix[0][1] / vec_matrix[0][0]\n",
        "        else:\n",
        "            eigenvector_first_component = 1\n",
        "        eigenvectors.append([eigenvector_first_component, 1])\n",
        "    return eigenvectors\n",
        "\n",
        "# Define a 2x2 matrix\n",
        "matrix = [[4, 2], [1, 3]]\n",
        "\n",
        "# Find eigenvalues\n",
        "eigenvalues = find_eigenvalues(matrix)\n",
        "print(\"Eigenvalues:\", eigenvalues)\n",
        "\n",
        "# Find eigenvectors\n",
        "eigenvectors = find_eigenvectors(matrix, eigenvalues)\n",
        "print(\"Eigenvectors:\", eigenvectors)\n"
      ]
    },
    {
      "cell_type": "markdown",
      "metadata": {
        "id": "JYqB7XUoKTBN"
      },
      "source": [
        "## __13. Calculus in Linear Algebra:__\n",
        "\n",
        "Calculus is the branch of mathematics that studies continuous changes in quantities. It commonly measures quantities such as slopes of curves or objects.\n",
        "\n",
        "Calculus can be broadly divided into two types:\n",
        "\n",
        "![differeninte.PNG](https://s3.us-east-1.amazonaws.com/static2.simplilearn.com/lms/testpaper_images/ADSP/Advanced_Statistics/LinearRegression/differeninte.PNG)\n",
        "\n",
        "While the former concerns instantaneous rates of change and the slopes of curves, the latter explores the accumulation of quantities and areas under or between curves.\n",
        "\n",
        "It is necessary for developing an intuition for machine learning algorithms.\n"
      ]
    },
    {
      "cell_type": "markdown",
      "metadata": {
        "id": "g-u23gU1KTBN"
      },
      "source": [
        "### __13.1 Differential Calculus__"
      ]
    },
    {
      "cell_type": "markdown",
      "metadata": {
        "id": "JSfMip1HKTBN"
      },
      "source": [
        "Differential calculus are applied in important machine learning algorithms like Gradient Descent.Gradient Descent\n",
        "is vital in the backpropagation of Neural Networks. It measures how the output of a function changes when the input\n",
        "changes in small amounts.\n",
        "\n",
        "\n",
        "\n",
        "\n",
        "\n"
      ]
    },
    {
      "cell_type": "markdown",
      "metadata": {
        "id": "GQNDQ2VfKTBN"
      },
      "source": [
        "#### __Applications of Differential Calculus in Machine Learning Algorithms__"
      ]
    },
    {
      "cell_type": "markdown",
      "metadata": {
        "id": "lb9IWcWsKTBN"
      },
      "source": [
        "![link text](https://labcontent.simplicdn.net/data-content/content-assets/Data_and_AI/ADSP_Images/Lesson_06_Maths_and_Stats/Linear_Algebra/Image_20.png)"
      ]
    },
    {
      "cell_type": "markdown",
      "metadata": {
        "id": "HynBmZFRKTBN"
      },
      "source": [
        "### __13.2 Integral Calculus__"
      ]
    },
    {
      "cell_type": "markdown",
      "metadata": {
        "id": "IGFP2jg1KTBN"
      },
      "source": [
        "Integral calculus is commonly used to determine the probability of events. For example, it helps us find the posterior\n",
        "in a Bayesian model or bound the error in a sequential decision per the Neyman-Pearson Lemma."
      ]
    },
    {
      "cell_type": "markdown",
      "metadata": {
        "id": "lFlvg2OIKTBN"
      },
      "source": [
        "## **Important**\n",
        "\n",
        "You have been performing matrix operations by defining individual functions for each one. Now, it's time to streamline your approach using the powerful NumPy library, which includes the `numpy.linalg` module. This change simplifies your code and enhances computational efficiency. NumPy allows you to perform complex matrix operations with concise and optimized functions. This eliminates the need for manually written, function-specific code. Embrace this shift to fully utilize Python's capabilities in handling linear algebra operations."
      ]
    },
    {
      "cell_type": "markdown",
      "metadata": {
        "id": "a1d2ykYyKTBN"
      },
      "source": [
        "Below are the NumPy Functions that you can explore:\n",
        "    \n",
        "- numpy.add(matrix1, matrix2)\n",
        "\n",
        "- numpy.subtract(matrix1, matrix2)\n",
        "\n",
        "- numpy.multiply(matrix1, matrix2)\n",
        "\n",
        "- numpy.divide(matrix1, matrix2)\n",
        "\n",
        "- numpy.dot(matrix1, matrix2)\n",
        "\n",
        "- numpy.transpose(matrix)\n",
        "\n",
        "- numpy.linalg.inv(matrix)\n",
        "\n",
        "- numpy.linalg.det(matrix)\n",
        "\n",
        "- numpy.linalg.eig(matrix)\n",
        "\n",
        "- numpy.linalg.matrix_rank(matrix)"
      ]
    },
    {
      "cell_type": "markdown",
      "metadata": {},
      "source": [
        "# Try with IRIS Dataset"
      ]
    },
    {
      "cell_type": "code",
      "execution_count": 70,
      "metadata": {},
      "outputs": [],
      "source": [
        "from sklearn.datasets import load_iris\n",
        "import pandas as pd\n",
        "\n",
        "# Read iris dataset\n",
        "iris = load_iris()\n",
        "iris_df = pd.DataFrame(data=iris.data, columns=iris.feature_names)"
      ]
    },
    {
      "cell_type": "code",
      "execution_count": 74,
      "metadata": {},
      "outputs": [
        {
          "data": {
            "text/html": [
              "<div>\n",
              "<style scoped>\n",
              "    .dataframe tbody tr th:only-of-type {\n",
              "        vertical-align: middle;\n",
              "    }\n",
              "\n",
              "    .dataframe tbody tr th {\n",
              "        vertical-align: top;\n",
              "    }\n",
              "\n",
              "    .dataframe thead th {\n",
              "        text-align: right;\n",
              "    }\n",
              "</style>\n",
              "<table border=\"1\" class=\"dataframe\">\n",
              "  <thead>\n",
              "    <tr style=\"text-align: right;\">\n",
              "      <th></th>\n",
              "      <th>sepal_length</th>\n",
              "      <th>sepal_width</th>\n",
              "      <th>petal_length</th>\n",
              "      <th>petal_width</th>\n",
              "      <th>species</th>\n",
              "      <th>species_code</th>\n",
              "    </tr>\n",
              "  </thead>\n",
              "  <tbody>\n",
              "    <tr>\n",
              "      <th>13</th>\n",
              "      <td>4.3</td>\n",
              "      <td>3.0</td>\n",
              "      <td>1.1</td>\n",
              "      <td>0.1</td>\n",
              "      <td>setosa</td>\n",
              "      <td>0</td>\n",
              "    </tr>\n",
              "    <tr>\n",
              "      <th>1</th>\n",
              "      <td>4.9</td>\n",
              "      <td>3.0</td>\n",
              "      <td>1.4</td>\n",
              "      <td>0.2</td>\n",
              "      <td>setosa</td>\n",
              "      <td>0</td>\n",
              "    </tr>\n",
              "    <tr>\n",
              "      <th>112</th>\n",
              "      <td>6.8</td>\n",
              "      <td>3.0</td>\n",
              "      <td>5.5</td>\n",
              "      <td>2.1</td>\n",
              "      <td>virginica</td>\n",
              "      <td>2</td>\n",
              "    </tr>\n",
              "    <tr>\n",
              "      <th>56</th>\n",
              "      <td>6.3</td>\n",
              "      <td>3.3</td>\n",
              "      <td>4.7</td>\n",
              "      <td>1.6</td>\n",
              "      <td>versicolor</td>\n",
              "      <td>1</td>\n",
              "    </tr>\n",
              "    <tr>\n",
              "      <th>91</th>\n",
              "      <td>6.1</td>\n",
              "      <td>3.0</td>\n",
              "      <td>4.6</td>\n",
              "      <td>1.4</td>\n",
              "      <td>versicolor</td>\n",
              "      <td>1</td>\n",
              "    </tr>\n",
              "  </tbody>\n",
              "</table>\n",
              "</div>"
            ],
            "text/plain": [
              "     sepal_length  sepal_width  petal_length  petal_width     species  \\\n",
              "13            4.3          3.0           1.1          0.1      setosa   \n",
              "1             4.9          3.0           1.4          0.2      setosa   \n",
              "112           6.8          3.0           5.5          2.1   virginica   \n",
              "56            6.3          3.3           4.7          1.6  versicolor   \n",
              "91            6.1          3.0           4.6          1.4  versicolor   \n",
              "\n",
              "     species_code  \n",
              "13              0  \n",
              "1               0  \n",
              "112             2  \n",
              "56              1  \n",
              "91              1  "
            ]
          },
          "execution_count": 74,
          "metadata": {},
          "output_type": "execute_result"
        }
      ],
      "source": [
        "# Add the species column to the dataframe\n",
        "#   species:  iris.target_names => ['setosa' 'versicolor' 'virginica']\n",
        "#   outcomes: iris.target => [0 ... 1... 2...]\n",
        "iris_df['species'] = pd.Categorical.from_codes(iris.target, iris.target_names)\n",
        "iris_df['species_code'] = iris.target\n",
        "\n",
        "# Rename columns\n",
        "iris_df.columns = ['sepal_length', 'sepal_width', 'petal_length', 'petal_width', 'species', 'species_code']\n",
        "iris_df.sample(5)"
      ]
    },
    {
      "cell_type": "markdown",
      "metadata": {},
      "source": [
        "## Linear regression\n",
        "Predict the width given sepal length, width and petal lenth."
      ]
    },
    {
      "cell_type": "code",
      "execution_count": null,
      "metadata": {},
      "outputs": [
        {
          "name": "stdout",
          "output_type": "stream",
          "text": [
            "X_train shape:  (120, 3)\n",
            "X_test shape:  (30, 3)\n",
            "y_train shape:  (120,)\n",
            "y_test shape:  (30,)\n"
          ]
        }
      ],
      "source": [
        "# Split the iris dataset into features and target variable  and train and test sets\n",
        "from sklearn.model_selection import train_test_split\n",
        "\n",
        "# Define the features and target variable\n",
        "X_train, X_test, y_train, y_test = train_test_split(\n",
        "    iris_df[['sepal_length', 'sepal_width', 'petal_length']],\n",
        "    iris_df['petal_width'], test_size=0.2, random_state=42)\n",
        "print('X_train shape: ', X_train.shape)\n",
        "print('X_test shape: ', X_test.shape)\n",
        "print('y_train shape: ', y_train.shape)\n",
        "print('y_test shape: ', y_test.shape)"
      ]
    },
    {
      "cell_type": "code",
      "execution_count": 80,
      "metadata": {},
      "outputs": [
        {
          "name": "stdout",
          "output_type": "stream",
          "text": [
            "Model coefficients:  [-0.23425621  0.23591069  0.53431313]\n",
            "Model intercept:  -0.16932012542922803\n"
          ]
        }
      ],
      "source": [
        "# Model to estimate petal width\n",
        "from sklearn.linear_model import LinearRegression\n",
        "from sklearn.metrics import mean_squared_error\n",
        "\n",
        "model = LinearRegression()\n",
        "model.fit(X_train, y_train)\n",
        "print('Model coefficients: ', model.coef_)\n",
        "print('Model intercept: ', model.intercept_)"
      ]
    },
    {
      "cell_type": "code",
      "execution_count": 90,
      "metadata": {},
      "outputs": [
        {
          "name": "stdout",
          "output_type": "stream",
          "text": [
            "Mean squared error:  0.046332603325764506\n",
            "Actual  Predicted  Error\n",
            "1.2 1.57 -0.37\n",
            "0.3 0.3 -0.0\n",
            "2.3 2.33 -0.03\n",
            "1.5 1.51 -0.01\n",
            "1.4 1.46 -0.06\n",
            "0.4 0.17 0.23\n",
            "1.3 1.13 0.17\n",
            "2.3 1.67 0.63\n",
            "1.5 1.3 0.2\n",
            "1.2 1.19 0.01\n",
            "2.0 1.79 0.21\n",
            "0.1 0.16 -0.06\n",
            "0.2 0.06 0.14\n",
            "0.1 0.22 -0.12\n",
            "0.3 0.33 -0.03\n",
            "1.6 1.64 -0.04\n",
            "2.2 2.11 0.09\n",
            "1.1 1.19 -0.09\n",
            "1.3 1.56 -0.26\n",
            "2.2 1.98 0.22\n",
            "0.2 0.34 -0.14\n",
            "1.8 1.73 0.07\n",
            "0.4 0.32 0.08\n",
            "2.1 1.98 0.12\n",
            "2.0 2.3 -0.3\n",
            "2.3 1.75 0.55\n",
            "1.8 1.95 -0.15\n",
            "2.3 2.15 0.15\n",
            "0.3 0.16 0.14\n",
            "0.2 0.29 -0.09\n"
          ]
        }
      ],
      "source": [
        "# Test the model\n",
        "y_pred = model.predict(X_test)\n",
        "mse = mean_squared_error(y_test, y_pred)\n",
        "print('Mean squared error: ', mse)\n",
        "print('Actual  Predicted  Error')\n",
        "for i in range(len(y_test)):\n",
        "    print(y_test.iloc[i], y_pred[i].round(2), (y_test.iloc[i] - y_pred[i]).round(2))"
      ]
    },
    {
      "cell_type": "markdown",
      "metadata": {},
      "source": [
        "## Check classification model"
      ]
    },
    {
      "cell_type": "code",
      "execution_count": 95,
      "metadata": {},
      "outputs": [
        {
          "name": "stdout",
          "output_type": "stream",
          "text": [
            "Accuracy:  1.0\n"
          ]
        }
      ],
      "source": [
        "from sklearn.model_selection import train_test_split\n",
        "from sklearn.linear_model import LogisticRegression\n",
        "from sklearn.metrics import accuracy_score\n",
        "X_train, X_test, y_train, y_test = train_test_split(iris_df[['sepal_length', 'sepal_width', 'petal_length', 'petal_width']],\n",
        "                                                    iris_df['species_code'], test_size=0.2, random_state=42)\n",
        "model = LogisticRegression()\n",
        "model.fit(X_train, y_train)\n",
        "y_pred = model.predict(X_test)\n",
        "accuracy = accuracy_score(y_test, y_pred)\n",
        "print('Accuracy: ', accuracy)"
      ]
    },
    {
      "cell_type": "markdown",
      "metadata": {
        "id": "fTysKyCrKTBN"
      },
      "source": [
        "## __Assisted Practice__"
      ]
    },
    {
      "cell_type": "markdown",
      "metadata": {
        "id": "C6miodxiKTBN"
      },
      "source": [
        "### **Problem Statement:**\n",
        "\n",
        "You are given two matrices, A and B; use the NumPy library to perform various matrix operations. This exercise will help you grasp fundamental concepts of linear algebra and their application in Python. Here are the two matrices:"
      ]
    },
    {
      "cell_type": "markdown",
      "metadata": {
        "id": "vuj0O_W5KTBO"
      },
      "source": [
        "Matrix A:\n",
        "\n",
        "\\begin{equation}\n",
        "  \\begin{bmatrix}\n",
        "    4 & 7 \\\\\n",
        "    2 & 6\n",
        "  \\end{bmatrix}\n",
        "  \\label{eq:aeqn}\n",
        "\\end{equation}"
      ]
    },
    {
      "cell_type": "markdown",
      "metadata": {
        "id": "zVZLPhDrKTBO"
      },
      "source": [
        "Matrix B:\n",
        "\n",
        "\\begin{equation}\n",
        "  \\begin{bmatrix}\n",
        "    5 & 8 \\\\\n",
        "    3 & 4\n",
        "  \\end{bmatrix}\n",
        "  \\label{eq:aeqn}\n",
        "\\end{equation}"
      ]
    },
    {
      "cell_type": "markdown",
      "metadata": {
        "id": "T7vuNvn0KTBO"
      },
      "source": [
        "**Steps to Perform:**\n",
        "- Addition of Matrix A and Matrix B\n",
        "- Multiplication of Matrix A and Matrix B\n",
        "- Transpose of Matrix A\n",
        "- Determinant of Matrix B\n",
        "- Inverse of Matrix A (if it exists)\n",
        "\n",
        "**Note:** Compute the above operation using NumPy library"
      ]
    }
  ],
  "metadata": {
    "colab": {
      "provenance": []
    },
    "kernelspec": {
      "display_name": ".venv",
      "language": "python",
      "name": "python3"
    },
    "language_info": {
      "codemirror_mode": {
        "name": "ipython",
        "version": 3
      },
      "file_extension": ".py",
      "mimetype": "text/x-python",
      "name": "python",
      "nbconvert_exporter": "python",
      "pygments_lexer": "ipython3",
      "version": "3.13.2"
    }
  },
  "nbformat": 4,
  "nbformat_minor": 0
}
