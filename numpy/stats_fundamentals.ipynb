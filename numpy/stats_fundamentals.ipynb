{
 "cells": [
  {
   "cell_type": "markdown",
   "id": "4219a4ea",
   "metadata": {
    "id": "4219a4ea"
   },
   "source": [
    "# <b>Statistics Fundamentals</b>"
   ]
  },
  {
   "cell_type": "markdown",
   "id": "tDnzDntZRdZK",
   "metadata": {
    "id": "tDnzDntZRdZK"
   },
   "source": [
    "## __Agenda__"
   ]
  },
  {
   "cell_type": "markdown",
   "id": "3WbDfEseRNpE",
   "metadata": {
    "id": "3WbDfEseRNpE"
   },
   "source": [
    "* Importance of Statistics for Data Science:\n",
    "  * What Is Statistics?\n",
    "  * Common Terms Used in Statistics\n",
    "  * Statistics Types\n",
    "* Types of Data\n",
    "* Measures of Central Tendency\n",
    "* Measures of Dispersion\n",
    "  * Range\n",
    "  * Interquartile Range\n",
    "  * Standard Deviation\n",
    "  * Variance\n",
    "* Measures of Shape\n",
    "  * Skewness\n",
    "  * Kurtosis\n",
    "* Covariance and Correlation"
   ]
  },
  {
   "cell_type": "markdown",
   "id": "umRlLaPKQ6Dx",
   "metadata": {
    "id": "umRlLaPKQ6Dx"
   },
   "source": [
    "## __1. Importance of Statistics for Data Science__"
   ]
  },
  {
   "cell_type": "markdown",
   "id": "abe75af4",
   "metadata": {
    "id": "abe75af4"
   },
   "source": [
    "Many significant developments in statistics occurred in the past century. Thomas Bayes, Pierre Simon Laplace, and Carl Gauss notably developed probability theory, a foundational component of statistics, between the 17th and 19th centuries. Unlike the theoretical nature of probability theory, statistics is an applied branch of science focused on data analysis."
   ]
  },
  {
   "cell_type": "markdown",
   "id": "467a8c42",
   "metadata": {
    "id": "467a8c42"
   },
   "source": [
    "In this lesson, we will explore the different concepts of statistics and their importance in data science.\n"
   ]
  },
  {
   "cell_type": "markdown",
   "id": "12f78826",
   "metadata": {
    "id": "12f78826"
   },
   "source": [
    "- The first step of any data science project is to explore data.\n",
    "- Classical statistics focuses exclusively on Inference, which is a set of procedures to conclude about large populations by studying small samples."
   ]
  },
  {
   "cell_type": "markdown",
   "id": "57416abf",
   "metadata": {
    "id": "57416abf"
   },
   "source": [
    "New technologies, increased access to large datasets, and expanded use of quantitative analysis across various disciplines have driven this growth.\n"
   ]
  },
  {
   "cell_type": "markdown",
   "id": "628b825a",
   "metadata": {
    "id": "628b825a"
   },
   "source": [
    "### __1.1 What Is Statistics?__"
   ]
  },
  {
   "cell_type": "markdown",
   "id": "2a63c6ce",
   "metadata": {
    "id": "2a63c6ce"
   },
   "source": [
    "Statistics is a discipline that deals with methodologies to collect, prepare, analyze, and interpret conclusions from the data. We can mine the raw data to find patterns using statistical concepts.\n",
    "![statpreparecollect.PNG](https://s3.us-east-1.amazonaws.com/static2.simplilearn.com/lms/testpaper_images/ADSP/Advanced_Statistics/Probimages/Statistics_Fundamentals/statpreparecollect.PNG)\n"
   ]
  },
  {
   "cell_type": "markdown",
   "id": "033d1aca",
   "metadata": {
    "id": "033d1aca"
   },
   "source": [
    "By combining statistical analysis with domain expertise, you can interpret these patterns and use the findings for decision-making in real-world situations.The ultimate goal is to create value for an organization."
   ]
  },
  {
   "cell_type": "markdown",
   "id": "68595329",
   "metadata": {
    "id": "68595329"
   },
   "source": [
    "\n",
    "\n",
    "\n",
    "\n",
    "![statisceimagee.jpg](https://s3.us-east-1.amazonaws.com/static2.simplilearn.com/lms/testpaper_images/ADSP/Advanced_Statistics/Probimages/Statistics_Fundamentals/statisceimagee.jpg)\n",
    "\n",
    "\n",
    "\n",
    "Data science is a combination of computer science and statistics. A thorough understanding of statistics is vital for developing a strong intuition for machine learning algorithms.\n",
    "\n",
    "\n"
   ]
  },
  {
   "cell_type": "markdown",
   "id": "9ffe677a",
   "metadata": {
    "id": "9ffe677a"
   },
   "source": [
    "### __1.2 Common Terms Used in Statistics__\n"
   ]
  },
  {
   "cell_type": "markdown",
   "id": "d857cbfb",
   "metadata": {
    "id": "d857cbfb"
   },
   "source": [
    "\n",
    "- <b> Population and Sample: </b> Population is the complete data pool from where a sample is drawn for further analysis. The sample is a subset of the population.\n",
    "\n",
    "-  <b> Measurement and Sample Data: </b>A measurement is a number or attribute calculated for each member of the population or sample. The measurements of the sample members are collectively called sample data.  \n",
    "-  <b> Parameter:</b> A parameter is a characteristic of the population that we want to estimate or test, such as the population mean.\n",
    "-  <b> Variable: </b> A variable is something that can take on different values in the dataset.\n",
    "-  <b> Distribution:</b> Distribution refers to how sample data is spread across a range of values."
   ]
  },
  {
   "cell_type": "markdown",
   "id": "1f9e576f",
   "metadata": {
    "id": "1f9e576f"
   },
   "source": [
    "### __1.3 Statistics Types__"
   ]
  },
  {
   "cell_type": "markdown",
   "id": "7e1995a6",
   "metadata": {
    "id": "7e1995a6"
   },
   "source": [
    "![link text](https://labcontent.simplicdn.net/data-content/content-assets/Data_and_AI/ADSP_Images/Lesson_06_Maths_and_Stats/Statistics_Fundamentals/Image_1.png)"
   ]
  },
  {
   "cell_type": "markdown",
   "id": "6f604d08",
   "metadata": {
    "id": "6f604d08"
   },
   "source": [
    "- #### <b>  Descriptive Statistics </b>\n",
    "\n",
    "It is a branch of statistics that involves organizing, displaying, and describing data. It involves using numbers (numerical facts, figures, or information) to describe phenomena, a process referred to as descriptive statistics.\n",
    "\n",
    "\n"
   ]
  },
  {
   "cell_type": "markdown",
   "id": "6514c102",
   "metadata": {
    "id": "6514c102"
   },
   "source": [
    "\n",
    "- #### <b>  Inferential Statistics</b>\n",
    "\n",
    "It is a branch of statistics that involves drawing conclusions about a population based on the information obtained from a sample taken from that population.\n",
    "\n",
    "**Note:** Inferential statistics is used to make inferences from data whereas descriptive statistics simply describes what is happening with the data.  \n"
   ]
  },
  {
   "cell_type": "markdown",
   "id": "ffeeed6f",
   "metadata": {
    "id": "ffeeed6f"
   },
   "source": [
    "#### __Example__"
   ]
  },
  {
   "cell_type": "markdown",
   "id": "f4b8efd8",
   "metadata": {
    "id": "f4b8efd8"
   },
   "source": [
    "When estimating the number of automobiles produced in a month, you must consider the entire output as the population. Within this population, a subset of cars undergoes inspection for quality characteristics such as mileage per gallon of gasoline, forming a sample. The average mileage of all cars represents a parameter, while the average lifespan of the inspected sample is considered a statistic.\n",
    "\n",
    "\n",
    "\n",
    "![automobileexample-2.PNG](https://s3.us-east-1.amazonaws.com/static2.simplilearn.com/lms/testpaper_images/ADSP/Advanced_Statistics/Probimages/Statistics_Fundamentals/automobileexample.PNG)\n",
    "\n",
    "\n",
    "If you deal with descriptive statistics here, it will include the selection of a sample, the presentation of sample data as diagrams or tables, and the computation of the value of a statistic.\n",
    "\n",
    "\n",
    "Inferential statistics is utilized for making generalizations about a population based on a sample. For example, it can be used to determine whether the average fuel efficiency of all cars in a population is at least 23 miles per gallon based on data from a studied sample."
   ]
  },
  {
   "cell_type": "markdown",
   "id": "16a53284",
   "metadata": {
    "id": "16a53284"
   },
   "source": [
    "\n",
    "- #### <b> Predictive Statistics</b>\n",
    "\n",
    "It is defined as the science of extracting information from data\n",
    "and using them to predict trends, behavior patterns, or relationships between characteristics.\n"
   ]
  },
  {
   "cell_type": "markdown",
   "id": "dea94a60",
   "metadata": {
    "id": "dea94a60"
   },
   "source": [
    "#### __Example 1__"
   ]
  },
  {
   "cell_type": "markdown",
   "id": "cf2d9f19",
   "metadata": {
    "id": "cf2d9f19"
   },
   "source": [
    "The data recording the number of residents in a city over several years can be used to predict the city's future population. This prediction is valuable for estimating future infrastructure demands. Often, data on two or more characteristics show relationships. Understanding these relationships allows for predictions about one characteristic based on the known values of another."
   ]
  },
  {
   "cell_type": "markdown",
   "id": "7050052f",
   "metadata": {
    "id": "7050052f"
   },
   "source": [
    "![datacategorizationexampe.PNG](https://s3.us-east-1.amazonaws.com/static2.simplilearn.com/lms/testpaper_images/ADSP/Advanced_Statistics/Probimages/Statistics_Fundamentals/datacategorizationexampe.PNG)"
   ]
  },
  {
   "cell_type": "markdown",
   "id": "e1b460d3",
   "metadata": {
    "id": "e1b460d3"
   },
   "source": [
    "#### __Example 2__"
   ]
  },
  {
   "cell_type": "markdown",
   "id": "aae2eae7",
   "metadata": {
    "id": "aae2eae7"
   },
   "source": [
    "\n",
    "The demand for spares in the forthcoming years can be predicted by evaluating the sales of cars during the past few years."
   ]
  },
  {
   "cell_type": "markdown",
   "id": "b80b5f13",
   "metadata": {
    "id": "b80b5f13"
   },
   "source": [
    "![carsales.PNG](https://s3.us-east-1.amazonaws.com/static2.simplilearn.com/lms/testpaper_images/ADSP/Advanced_Statistics/Probimages/Statistics_Fundamentals/carsales.PNG)"
   ]
  },
  {
   "cell_type": "markdown",
   "id": "e7c932e6",
   "metadata": {
    "id": "e7c932e6"
   },
   "source": [
    "## __2. Types of Data__"
   ]
  },
  {
   "cell_type": "markdown",
   "id": "8d18f742",
   "metadata": {
    "id": "8d18f742"
   },
   "source": [
    "\n",
    "\n",
    "#### <b> 2.1 Categorical Data </b>\n",
    "It represents characteristics such as a person’s gender, marital status, or the types of movies they like.\n",
    "- It can also take numerical values, such as __1__ indicates male and __2__ indicates female, but these numbers don’t have mathematical meaning."
   ]
  },
  {
   "cell_type": "markdown",
   "id": "37515129",
   "metadata": {
    "id": "37515129"
   },
   "source": [
    "#### __2.2 Numerical Data__\n",
    "It represents the data as a measurement, such as a person’s height, weight, IQ, or blood\n",
    "pressure.\n",
    "- It includes data that cannot be counted, such as the number of stocks owned by a person.\n"
   ]
  },
  {
   "cell_type": "markdown",
   "id": "87a2d0b6",
   "metadata": {
    "id": "87a2d0b6"
   },
   "source": [
    "## __3. Measures of Central Tendency__"
   ]
  },
  {
   "cell_type": "markdown",
   "id": "0a94081a",
   "metadata": {
    "id": "0a94081a"
   },
   "source": [
    "A measure of central tendency is a summary that describes the central position in a dataset.\n",
    "- These measures indicate the central location of a distribution, revealing where most values fall.\n",
    "\n",
    "In statistics, the three most common measures of central tendency are the mean, median, and mode. Each of these measures\n",
    "calculates the location of the central point using a different method.\n"
   ]
  },
  {
   "cell_type": "markdown",
   "id": "a5266806",
   "metadata": {
    "id": "a5266806"
   },
   "source": [
    "\n",
    "### <b> 3.1 Mean</b>\n",
    "It is the most frequently utilized measure of central tendency and is applicable to both continuous and discrete datasets.\n",
    "\n",
    "To calculate the mean, add all the numbers in the data and divide the result by the number of data points.\n",
    "\n",
    "<b> Note: </b>The mean is sensitive to outliers and skewed data.\n",
    "\n",
    "\n",
    "\n",
    "\n",
    "\n",
    "\n"
   ]
  },
  {
   "cell_type": "markdown",
   "id": "41c4ae90",
   "metadata": {
    "id": "41c4ae90"
   },
   "source": [
    "Suppose there is a set consisting of n numbers. The mean (average) of this set is calculated by summing all these numbers and then dividing the total by n, the number of elements in the set. The formula for the mean is:\n"
   ]
  },
  {
   "cell_type": "markdown",
   "id": "780793fd",
   "metadata": {
    "id": "780793fd",
    "outputId": "9bb2cd44-f39b-4770-9df0-f34898f878db"
   },
   "source": [
    "\n",
    "\n",
    "![mean.png](https://s3.us-east-1.amazonaws.com/static2.simplilearn.com/lms/testpaper_images/ADSP/Advanced_Statistics/Probimages/Statistics_Fundamentals/mean.png)"
   ]
  },
  {
   "cell_type": "markdown",
   "id": "f1f40b6f",
   "metadata": {
    "id": "f1f40b6f"
   },
   "source": [
    "#### <b>Example:</b>\n",
    "\n",
    "The mean of the seven numbers 4, 89, 54, -7, -9, 27 and 5 is given by (4+89+54-7-9+27)/7 = 158/7 = 23.28"
   ]
  },
  {
   "cell_type": "markdown",
   "id": "R0mzs8AWgLJP",
   "metadata": {
    "id": "R0mzs8AWgLJP"
   },
   "source": [
    "### __Implementation of Finding the Mean in Python Code__"
   ]
  },
  {
   "cell_type": "code",
   "execution_count": 1,
   "id": "31b79d07-0aaf-447d-816a-ee709194eef5",
   "metadata": {},
   "outputs": [],
   "source": [
    "my_list=[4,89,54,-7,-9,27,5]"
   ]
  },
  {
   "cell_type": "code",
   "execution_count": 2,
   "id": "739417f3",
   "metadata": {
    "id": "739417f3"
   },
   "outputs": [
    {
     "data": {
      "text/plain": [
       "23.285714285714285"
      ]
     },
     "execution_count": 2,
     "metadata": {},
     "output_type": "execute_result"
    }
   ],
   "source": [
    "import statistics\n",
    "statistics.mean(my_list)"
   ]
  },
  {
   "cell_type": "code",
   "execution_count": 3,
   "id": "4ff7c853-9008-46df-8730-17004305f5ce",
   "metadata": {},
   "outputs": [
    {
     "data": {
      "text/plain": [
       "np.float64(23.285714285714285)"
      ]
     },
     "execution_count": 3,
     "metadata": {},
     "output_type": "execute_result"
    }
   ],
   "source": [
    "import numpy as np\n",
    "np.mean(my_list)"
   ]
  },
  {
   "cell_type": "markdown",
   "id": "3633df12",
   "metadata": {
    "id": "3633df12"
   },
   "source": [
    "### <b> 3.2 Median </b>\n",
    "The median is the middle number obtained by arranging the data in ascending or descending order.\n",
    "\n",
    "- In datasets with an odd number of points, the median is the exact middle value.\n",
    "- In datasets with an even number of points, the median is the average of the two central values.\n",
    "- In both cases, the median is notably less sensitive to outliers and skewed data.\n",
    "\n",
    "\n",
    "<b> Example 1</b>\n",
    "\n",
    "Consider the dataset with odd numbers x = 5, 76, 98, 32, 1, -6, 34, 3, -65\n",
    "\n",
    "Step 1: Arrange the numbers in ascending order that is, -65, -6, 1, 3, 5, 32, 34, 76, 98\n",
    "\n",
    "Step 2: The middle number is the fifth number as there are nine numbers in total. So, the median of the given dataset is 5.\n",
    "\n",
    "<b> Example 2</b>\n",
    "\n",
    "Consider the dataset with even numbers x = 5, 76, 98, 32, 1, -6, 34, 3, -65,99\n",
    "\n",
    "Step 1: Arrange the numbers in ascending order that is, -65, -6, 1, 3, 5, 32, 34, 76, 98,99\n",
    "\n",
    "Step 2: Identify the middle numbers 5 and 32\n",
    "\n",
    "Step 3: To calculate the median, take the average of two middle values that is, 5 and 32. So, the median of the given dataset is (5+32)/2 = 18.5\n",
    "\n"
   ]
  },
  {
   "cell_type": "markdown",
   "id": "otG01EpLgn8b",
   "metadata": {
    "id": "otG01EpLgn8b"
   },
   "source": [
    "### __Implementation of Finding the Median in Python Code__"
   ]
  },
  {
   "cell_type": "code",
   "execution_count": 4,
   "id": "3cd2ed12",
   "metadata": {
    "id": "3cd2ed12"
   },
   "outputs": [
    {
     "data": {
      "text/plain": [
       "5.5"
      ]
     },
     "execution_count": 4,
     "metadata": {},
     "output_type": "execute_result"
    }
   ],
   "source": [
    "my_list = [10, 2, 5, 4, 6, 3, 7, 9, 8, 1]\n",
    "statistics.median(my_list)"
   ]
  },
  {
   "cell_type": "code",
   "execution_count": 5,
   "id": "7a338c09-4c44-45a1-9ccf-e20aa53586f6",
   "metadata": {},
   "outputs": [
    {
     "data": {
      "text/plain": [
       "np.float64(5.5)"
      ]
     },
     "execution_count": 5,
     "metadata": {},
     "output_type": "execute_result"
    }
   ],
   "source": [
    "# In numpy,\n",
    "np.median(my_list)"
   ]
  },
  {
   "cell_type": "markdown",
   "id": "89932302",
   "metadata": {
    "id": "89932302"
   },
   "source": [
    "### <b> 3.3 Mode </b>\n",
    "Mode is the most frequently occurring data point in the set.\n",
    "\n",
    "- The mode is adaptable, applicable to both numerical and categorical data.\n",
    "- The mode is sometimes misleading, potentially not reflecting the true center of a distribution.\n",
    "- The mode is occasionally distant, representing the most frequent data points which might be far from the actual central point.\n",
    "\n",
    "**Example:** Gather data on cell phone brand preferences by surveying 100 individuals to analyze and draw inferences from the categorical data.\n",
    "\n",
    "\n",
    "<b> Preferred brand</b> $\\;\\;\\;\\;\\;\\;$ <b>No. of people</b>\n",
    "\n",
    "Nokia $\\;\\;\\;\\;\\;\\;\\;\\;\\;\\;\\;\\;\\;\\;\\;\\;\\;\\;\\;\\;\\;\\;\\;\\;$  12\n",
    "\n",
    "Realme $\\;\\;\\;\\;\\;\\;\\;\\;\\;\\;\\;\\;\\;\\;\\;\\;\\;\\;\\;\\;\\;\\;$ 32\n",
    "\n",
    "Apple $\\;\\;\\;\\;\\;\\;\\;\\;\\;\\;\\;\\;\\;\\;\\;\\;\\;\\;\\;\\;\\;\\;\\;\\;$  10\n",
    "\n",
    "Samsung $\\;\\;\\;\\;\\;\\;\\;\\;\\;\\;\\;\\;\\;\\;\\;\\;\\;\\;\\;\\;$    36\n",
    "\n",
    "Oppo  $\\;\\;\\;\\;\\;\\;\\;\\;\\;\\;\\;\\;\\;\\;\\;\\;\\;\\;\\;\\;\\;\\;\\;\\;\\;$   4\n",
    "\n",
    "Vivo  $\\;\\;\\;\\;\\;\\;\\;\\;\\;\\;\\;\\;\\;\\;\\;\\;\\;\\;\\;\\;\\;\\;\\;\\;\\;\\;\\;$   6\n",
    "\n",
    "In the above data, the most frequently occurring preference is Samsung which indicates the value of mode."
   ]
  },
  {
   "cell_type": "markdown",
   "id": "5d1deceb-e9c8-419c-af5e-37c3fff40d0b",
   "metadata": {
    "id": "5d1deceb-e9c8-419c-af5e-37c3fff40d0b"
   },
   "source": [
    "### __Implementation of Finding the Mode in Python Code__"
   ]
  },
  {
   "cell_type": "code",
   "execution_count": 6,
   "id": "7a69b337",
   "metadata": {
    "id": "7a69b337"
   },
   "outputs": [
    {
     "data": {
      "text/plain": [
       "'Samsung'"
      ]
     },
     "execution_count": 6,
     "metadata": {},
     "output_type": "execute_result"
    }
   ],
   "source": [
    "x = ['Nokia','Samsung','Samsung','Apple','Oppo','Vivo']\n",
    "statistics.mode(x)"
   ]
  },
  {
   "cell_type": "code",
   "execution_count": 12,
   "id": "afa28a11-5044-49d7-8c4a-640f96c521f2",
   "metadata": {},
   "outputs": [
    {
     "data": {
      "text/plain": [
       "'Apple'"
      ]
     },
     "execution_count": 12,
     "metadata": {},
     "output_type": "execute_result"
    }
   ],
   "source": [
    "x = ['Apple','Nokia','Samsung','Samsung','Samsung','Apple','Oppo','Apple','Vivo','Vivo']\n",
    "statistics.mode(x)"
   ]
  },
  {
   "cell_type": "code",
   "execution_count": 19,
   "id": "8b55cf38",
   "metadata": {},
   "outputs": [
    {
     "name": "stdout",
     "output_type": "stream",
     "text": [
      "Apple\n"
     ]
    }
   ],
   "source": [
    "# numpy does not have a mode function\n",
    "x_unique, counts = np.unique(x, return_counts=True)\n",
    "print(x_unique[np.argmax(counts)])"
   ]
  },
  {
   "cell_type": "markdown",
   "id": "fe5a5c55",
   "metadata": {
    "id": "fe5a5c55"
   },
   "source": [
    "## __4. Measures of Dispersion__"
   ]
  },
  {
   "cell_type": "markdown",
   "id": "85867d7a",
   "metadata": {
    "id": "85867d7a"
   },
   "source": [
    "It is also known as measures of variability and is used to characterize the extent of spread or diversity in a dataset. At times, relying exclusively on measures of central tendency falls short of providing a thorough understanding of a dataset's distribution."
   ]
  },
  {
   "cell_type": "markdown",
   "id": "c44a5b73",
   "metadata": {
    "id": "c44a5b73"
   },
   "source": [
    "### <b>4.1 Range</b>\n",
    "Range is the difference between the largest and smallest data points in the set. It is sensitive to outliers and does\n",
    "not use every data point in the set. It also provides maximum and minimum values in the set.\n",
    "\n",
    "Since it is based on two extreme observations, it gets affected by fluctuations.Thus, the range is not a reliable\n",
    "measure of dispersion.\n"
   ]
  },
  {
   "cell_type": "markdown",
   "id": "7f678d80",
   "metadata": {
    "id": "7f678d80"
   },
   "source": [
    "\n",
    "<center>$Range = X_{max}$ – $X_{min}$</center>"
   ]
  },
  {
   "cell_type": "markdown",
   "id": "JdOWh-v4OBqj",
   "metadata": {
    "id": "JdOWh-v4OBqj"
   },
   "source": [
    "Where:\n",
    "\n",
    "Xmax is the maximum element in the set.\n",
    "\n",
    "Xmin is the minimum element in the set."
   ]
  },
  {
   "cell_type": "markdown",
   "id": "IR2Wt5K6OFw_",
   "metadata": {
    "id": "IR2Wt5K6OFw_"
   },
   "source": [
    "### <b>4.2 Percentile</b>\n",
    "\n",
    "A percentile is a statistical measure used to indicate the value below which a given percentage of observations falls in a dataset. In simpler terms, it tells you how a particular value compares to the rest of the data.\n",
    "\n",
    "For example, if a student scores in the 80th percentile on a standardized test, it means that their score is higher than 80% of all other test takers."
   ]
  },
  {
   "cell_type": "markdown",
   "id": "MidepkS_OGUX",
   "metadata": {
    "id": "MidepkS_OGUX"
   },
   "source": [
    "### <b>4.3 Quartile</b>\n",
    "\n",
    "Quartiles are statistical measures used to divide a dataset into four equal parts or quarters. They are calculated by arranging the data in ascending order and then dividing it into four equal-sized groups.\n",
    "\n",
    "There are three quartiles, which are:\n",
    "\n",
    "First quartile (Q1): This is the value below which 25% of the data fall. In other words, 25% of the data points are less than or equal to Q1.\n",
    "\n",
    "Second quartile (Q2): This is the median of the dataset. It divides the data into two halves, with 50% of the data points falling below it and 50% above it.\n",
    "\n",
    "Third quartile (Q3): This is the value below which 75% of the data fall. 75% of the data points are less than or equal to Q3."
   ]
  },
  {
   "cell_type": "markdown",
   "id": "7a9a42ec",
   "metadata": {
    "id": "7a9a42ec"
   },
   "source": [
    "### <b>4.4 Interquartile Range</b>\n",
    "Interquartile range is the difference between the 25th and 75th percentile.\n",
    "\n",
    "- It describes the middle 50% of the observations, and if they are spaced widely apart, their interquartile range will be large.\n",
    "- It is useful even if the extreme values are not accurate, as it is insensitive to them.\n",
    "- It is not amenable to mathematical manipulation.\n",
    "\n",
    "<center><b>$IQR = Q_3 – Q_1$</b></center>\n",
    "\n",
    "**Example**:\n",
    "Consider the following dataset where the values are arranged in ascending order:\n",
    "[10, 15, 20, 25, 30, 35, 40, 50, 70, 100]\n",
    "\n",
    "The 25th percentile = average of 2nd and 3rd values = (15 + 20)/2 = 17.5.\n",
    "\n",
    "The 75th percentile = average of the 7th and 8th values = (40 + 50)/2 = 45.\n",
    "\n",
    "The interquartile range = 45 - 17.5 = 27.5.\n"
   ]
  },
  {
   "cell_type": "markdown",
   "id": "G5WS8CDROSTV",
   "metadata": {
    "id": "G5WS8CDROSTV"
   },
   "source": [
    "![link text](https://labcontent.simplicdn.net/data-content/content-assets/Data_and_AI/ADSP_Images/Lesson_05_Data_Visualization/boxplot.png)"
   ]
  },
  {
   "cell_type": "markdown",
   "id": "a33e51d7",
   "metadata": {
    "id": "a33e51d7"
   },
   "source": [
    "### <b> 4.3 Standard Deviation</b>\n",
    "Standard Deviation (SD) is the most popular measure of dispersion. It measures the spread of data around the mean.\n",
    "It is defined as the square root of the sum of squares of the deviation around the mean divided by the number of observations.\n",
    "\n",
    "\n",
    "\n",
    "\n",
    "\n"
   ]
  },
  {
   "cell_type": "markdown",
   "id": "ca46a934",
   "metadata": {
    "id": "ca46a934"
   },
   "source": [
    "![image.png](data:image/png;base64,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)"
   ]
  },
  {
   "cell_type": "markdown",
   "id": "MiKKt3zrOYNi",
   "metadata": {
    "id": "MiKKt3zrOYNi"
   },
   "source": [
    "Where:\n",
    "\n",
    "N is the total number of observations.\n",
    "\n",
    "X̄ is the mean of all the observations.\n",
    "\n",
    "Xi is the value of the observations."
   ]
  },
  {
   "cell_type": "code",
   "execution_count": null,
   "id": "95b7aebb",
   "metadata": {},
   "outputs": [],
   "source": []
  },
  {
   "cell_type": "markdown",
   "id": "pfgP4q66uULb",
   "metadata": {
    "id": "pfgP4q66uULb"
   },
   "source": [
    "### __Python Code Implementation for Standard Deviation__"
   ]
  },
  {
   "cell_type": "code",
   "execution_count": 13,
   "id": "59ac1b87",
   "metadata": {
    "id": "59ac1b87"
   },
   "outputs": [
    {
     "data": {
      "text/plain": [
       "1.5811388300841898"
      ]
     },
     "execution_count": 13,
     "metadata": {},
     "output_type": "execute_result"
    }
   ],
   "source": [
    "x = [1, 2, 3, 4, 5]\n",
    "statistics.stdev(x)"
   ]
  },
  {
   "cell_type": "code",
   "execution_count": 14,
   "id": "ab7da092-7b56-4794-a0e6-52d1904a2791",
   "metadata": {
    "id": "ab7da092-7b56-4794-a0e6-52d1904a2791"
   },
   "outputs": [
    {
     "data": {
      "text/plain": [
       "1.4142135623730951"
      ]
     },
     "execution_count": 14,
     "metadata": {},
     "output_type": "execute_result"
    }
   ],
   "source": [
    "# Use Numpy\n",
    "np.std(x)"
   ]
  },
  {
   "cell_type": "code",
   "execution_count": 15,
   "id": "9a00af0f-2dd5-40cb-97f6-42b5d9d63222",
   "metadata": {},
   "outputs": [
    {
     "data": {
      "text/plain": [
       "1.5811388300841898"
      ]
     },
     "execution_count": 15,
     "metadata": {},
     "output_type": "execute_result"
    }
   ],
   "source": [
    "# NUmpy, unbiased\n",
    "np.std(x,ddof=1)"
   ]
  },
  {
   "cell_type": "markdown",
   "id": "d7f3bd87",
   "metadata": {
    "id": "d7f3bd87"
   },
   "source": [
    "### <b>4.4 Variance </b>\n",
    "Variance is defined as the average of the squared differences from the Mean.\n",
    "\n",
    "![image.png](data:image/png;base64,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)"
   ]
  },
  {
   "cell_type": "markdown",
   "id": "rSeDCJqxOcYz",
   "metadata": {
    "id": "rSeDCJqxOcYz"
   },
   "source": [
    "Where:\n",
    "\n",
    "N is the total number of observations.\n",
    "\n",
    "X̄ is the mean of all the observations.\n",
    "\n",
    "Xi is the value of the observation.\n"
   ]
  },
  {
   "cell_type": "markdown",
   "id": "TRxHlNuBvlyn",
   "metadata": {
    "id": "TRxHlNuBvlyn"
   },
   "source": [
    "### __Python Code Implementation for Variance__"
   ]
  },
  {
   "cell_type": "code",
   "execution_count": 20,
   "id": "00ff987e",
   "metadata": {
    "id": "00ff987e"
   },
   "outputs": [
    {
     "data": {
      "text/plain": [
       "2.5"
      ]
     },
     "execution_count": 20,
     "metadata": {},
     "output_type": "execute_result"
    }
   ],
   "source": [
    "x = [1, 2, 3, 4, 5]\n",
    "statistics.variance(x)"
   ]
  },
  {
   "cell_type": "code",
   "execution_count": 11,
   "id": "50f96301-b654-4909-90eb-fca4a6064645",
   "metadata": {
    "id": "50f96301-b654-4909-90eb-fca4a6064645"
   },
   "outputs": [
    {
     "data": {
      "text/plain": [
       "2.0"
      ]
     },
     "execution_count": 11,
     "metadata": {},
     "output_type": "execute_result"
    }
   ],
   "source": [
    "# Use Numpy\n",
    "np.var(x)"
   ]
  },
  {
   "cell_type": "code",
   "execution_count": 12,
   "id": "3874d5db-b9e9-4594-8a3b-e62b62636838",
   "metadata": {},
   "outputs": [
    {
     "data": {
      "text/plain": [
       "2.5"
      ]
     },
     "execution_count": 12,
     "metadata": {},
     "output_type": "execute_result"
    }
   ],
   "source": [
    "# Numpy, unbiased\n",
    "np.var(x,ddof=1)"
   ]
  },
  {
   "cell_type": "markdown",
   "id": "3f1637c7",
   "metadata": {
    "id": "3f1637c7"
   },
   "source": [
    "### __4.5 Standard Deviation and Variance for Population and Sample Data__\n",
    "\n"
   ]
  },
  {
   "cell_type": "markdown",
   "id": "d7ecc761",
   "metadata": {
    "id": "d7ecc761"
   },
   "source": [
    "Suppose there are N values present in a dataset. To calculate the standard deviation and variance, use:\n",
    "\n",
    "1) Population divided by N when calculating the SD and Variance\n",
    "\n",
    "2) Sample divided by n-1 when calculating the SD and Variance\n",
    "\n",
    "The formula for calculating standard deviation and variance changes while dealing with\n",
    "population and sample data.\n",
    "\n",
    "![SD_and_v.png](https://s3.us-east-1.amazonaws.com/static2.simplilearn.com/lms/testpaper_images/ADSP/Advanced_Statistics/Probimages/Statistics_Fundamentals/SD_and_v.png)"
   ]
  },
  {
   "cell_type": "markdown",
   "id": "68a84739",
   "metadata": {
    "id": "68a84739"
   },
   "source": [
    "## __5. Measures of Shape (Skewness)__"
   ]
  },
  {
   "cell_type": "markdown",
   "id": "48c89bed",
   "metadata": {
    "id": "48c89bed"
   },
   "source": [
    "### __5.1 What Is Skewness?__"
   ]
  },
  {
   "cell_type": "markdown",
   "id": "689c7196",
   "metadata": {
    "id": "689c7196"
   },
   "source": [
    "Skewness is defined as the amount and direction of deviation from horizontal symmetry.\n",
    "\n",
    "![image.png](data:image/png;base64,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)\n",
    "\n",
    "For many statistical inferences, it's ideal for the distribution to be normal or nearly normal. Skewness is vital as it helps us test for normality. In a normal distribution, skewness is 0. So, if the skewness is close to 0, it is nearly normal  distribution.\n",
    "\n",
    "\n",
    "\n",
    "\n"
   ]
  },
  {
   "cell_type": "markdown",
   "id": "1a4685b5",
   "metadata": {
    "id": "1a4685b5"
   },
   "source": [
    "#### __Formula for Skewness__"
   ]
  },
  {
   "cell_type": "markdown",
   "id": "807a91dc",
   "metadata": {
    "id": "807a91dc"
   },
   "source": [
    "For a univariate data $X_1,X_2,.....X_n$, skewness is given by:"
   ]
  },
  {
   "cell_type": "markdown",
   "id": "6b059e0b",
   "metadata": {
    "id": "6b059e0b"
   },
   "source": [
    "![link text](https://labcontent.simplicdn.net/data-content/content-assets/Data_and_AI/ADSP_Images/Lesson_06_Maths_and_Stats/Statistics_Fundamentals/Image_2.png)"
   ]
  },
  {
   "cell_type": "markdown",
   "id": "41290ab8",
   "metadata": {
    "id": "41290ab8"
   },
   "source": [
    "In a normal distribution, the graph appears as a classical, symmetrical \"bell-shaped curve.\" The mean, average, and\n",
    "mode or maximum point on the curve are equal and the tails on either side of the curve are exact mirror images of\n",
    "each other.\n",
    "\n",
    "When a distribution is skewed to the left, the tail on the curve's left side is longer than the tail on the\n",
    "right side, and the mean is less than the mode. This situation is called negative skewness.\n",
    "\n",
    "When a distribution is skewed to the right, the tail on the curve's right side is longer than the tail on the left side, and the mean is greater than the mode. This situation  is called positive skewness.\n"
   ]
  },
  {
   "cell_type": "markdown",
   "id": "cea3b055",
   "metadata": {
    "id": "cea3b055"
   },
   "source": [
    "![meanmedianmode.png](https://s3.us-east-1.amazonaws.com/static2.simplilearn.com/lms/testpaper_images/ADSP/Advanced_Statistics/Probimages/Statistics_Fundamentals/Statistics_Notebookupdated/meanmedianmode.png)"
   ]
  },
  {
   "cell_type": "markdown",
   "id": "yHL4qB5stX8R",
   "metadata": {
    "id": "yHL4qB5stX8R"
   },
   "source": [
    "### __Python Code Implementation for Skewness__"
   ]
  },
  {
   "cell_type": "code",
   "execution_count": 16,
   "id": "16b2a403",
   "metadata": {
    "id": "16b2a403"
   },
   "outputs": [
    {
     "name": "stdout",
     "output_type": "stream",
     "text": [
      "0.2857142857142857\n"
     ]
    }
   ],
   "source": [
    "# Importing numpy and statsmodels\n",
    "import numpy as np\n",
    "from statsmodels.stats.stattools import medcouple\n",
    "\n",
    "x = np.array([1, 2, 3, 4, 7, 8])\n",
    "# Using medcouple\n",
    "skewness = medcouple(x)\n",
    "\n",
    "print(skewness)"
   ]
  },
  {
   "cell_type": "markdown",
   "id": "86e2a146",
   "metadata": {
    "id": "86e2a146"
   },
   "source": [
    "### __5.2 Measures of Shape (Kurtosis)__"
   ]
  },
  {
   "cell_type": "markdown",
   "id": "dc24f034",
   "metadata": {
    "id": "dc24f034"
   },
   "source": [
    "Kurtosis measures how heavy-tailed or light-tailed the distribution is relative to a normal distribution.\n",
    "- Data with high kurtosis tend to have heavy tails or outliers.\n",
    "- If kurtosis is low, there will be no outliers.\n",
    "- A uniform distribution is an extreme case of low kurtosis.\n",
    "\n",
    "![image.png](data:image/png;base64,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)"
   ]
  },
  {
   "cell_type": "markdown",
   "id": "77be9b2e",
   "metadata": {
    "id": "77be9b2e"
   },
   "source": [
    "#### __Formula for Kurtosis__"
   ]
  },
  {
   "cell_type": "markdown",
   "id": "a65bb1da",
   "metadata": {
    "id": "a65bb1da"
   },
   "source": [
    "For a univariate data $X_1,X_2,.....X_n$, kurtosis is given by:"
   ]
  },
  {
   "cell_type": "markdown",
   "id": "70d0ad31",
   "metadata": {
    "id": "70d0ad31"
   },
   "source": [
    "![link text](https://labcontent.simplicdn.net/data-content/content-assets/Data_and_AI/ADSP_Images/Lesson_06_Maths_and_Stats/Statistics_Fundamentals/Image_3.png)"
   ]
  },
  {
   "cell_type": "markdown",
   "id": "dacb1293",
   "metadata": {
    "id": "dacb1293"
   },
   "source": [
    "Positive excess kurtosis means heavy-tailed\n",
    "distribution and negative excess kurtosis means light-tailed distribution.  "
   ]
  },
  {
   "cell_type": "markdown",
   "id": "6aa6310d",
   "metadata": {
    "id": "6aa6310d"
   },
   "source": [
    "![positivenegativekurt.PNG](https://s3.us-east-1.amazonaws.com/static2.simplilearn.com/lms/testpaper_images/ADSP/Advanced_Statistics/Probimages/Statistics_Fundamentals/Statistics_Notebookupdated/positivenegativekurt.PNG)"
   ]
  },
  {
   "cell_type": "markdown",
   "id": "NKHiOcNht1iZ",
   "metadata": {
    "id": "NKHiOcNht1iZ"
   },
   "source": [
    "### __Python Code Implementation for Kurtosis__"
   ]
  },
  {
   "cell_type": "code",
   "execution_count": 17,
   "id": "c88efd2a",
   "metadata": {
    "id": "c88efd2a"
   },
   "outputs": [
    {
     "data": {
      "text/plain": [
       "(-0.5988228527065362,\n",
       " -0.04888458916942784,\n",
       " -0.5052271228708025,\n",
       " -0.39005747798595314)"
      ]
     },
     "execution_count": 17,
     "metadata": {},
     "output_type": "execute_result"
    }
   ],
   "source": [
    "import numpy as np\n",
    "\n",
    "from statsmodels.stats.stattools import robust_kurtosis\n",
    "\n",
    "x = np.array([2,4,5,7,8,9,11,15])\n",
    "\n",
    "kurtosis  = robust_kurtosis(x)\n",
    "kurtosis"
   ]
  },
  {
   "cell_type": "markdown",
   "id": "d303ee54",
   "metadata": {
    "id": "d303ee54"
   },
   "source": [
    "## __6. Covariance and Correlation__"
   ]
  },
  {
   "cell_type": "markdown",
   "id": "b7cfb1b0",
   "metadata": {
    "id": "b7cfb1b0"
   },
   "source": [
    "Covariance and correlation measure the relationship and dependency between two variables. While covariance gives\n",
    "the direction of the linear relationship, correlation gives both direction and strength. Therefore, correlation is\n",
    "a function of covariance. Furthermore, correlation values are standardized while covariance values are not.  "
   ]
  },
  {
   "cell_type": "markdown",
   "id": "02544c9c",
   "metadata": {
    "id": "02544c9c"
   },
   "source": [
    "### __6.1 Covariance__"
   ]
  },
  {
   "cell_type": "markdown",
   "id": "54e5c238",
   "metadata": {
    "id": "54e5c238"
   },
   "source": [
    "If E[x] is the expected value or mean of sample x, the covariance of x and y is given by:"
   ]
  },
  {
   "cell_type": "markdown",
   "id": "e5c378f1",
   "metadata": {
    "id": "e5c378f1"
   },
   "source": [
    "![image.png](data:image/png;base64,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)"
   ]
  },
  {
   "cell_type": "markdown",
   "id": "149acac6",
   "metadata": {
    "id": "149acac6"
   },
   "source": [
    "### __Covariance Formula for Population__"
   ]
  },
  {
   "cell_type": "markdown",
   "id": "526118c7",
   "metadata": {
    "id": "526118c7"
   },
   "source": [
    "![covpopu.PNG](https://s3.us-east-1.amazonaws.com/static2.simplilearn.com/lms/testpaper_images/ADSP/Advanced_Statistics/Probimages/Statistics_Fundamentals/Statistics_Notebookupdated/covpopu.PNG)"
   ]
  },
  {
   "cell_type": "markdown",
   "id": "e7959b7a",
   "metadata": {
    "id": "e7959b7a"
   },
   "source": [
    "### __Covariance Formula for Sample__"
   ]
  },
  {
   "cell_type": "markdown",
   "id": "945a5bb0",
   "metadata": {
    "id": "945a5bb0"
   },
   "source": [
    "![covsample.PNG](https://s3.us-east-1.amazonaws.com/static2.simplilearn.com/lms/testpaper_images/ADSP/Advanced_Statistics/Probimages/Statistics_Fundamentals/Statistics_Notebookupdated/covsample.PNG)"
   ]
  },
  {
   "cell_type": "markdown",
   "id": "22a1e4ca",
   "metadata": {
    "id": "22a1e4ca"
   },
   "source": [
    "Where:\n",
    "\n",
    "$x_i$ is the $i^{th}$ observation in variable x\n",
    "\n",
    "$\\bar{x}$ is the mean for variable x\n",
    "\n",
    "$y_i$ is the $i^{th}$ observation in variable y\n",
    "\n",
    "$\\bar{y}$ is the mean for variable y\n",
    "\n",
    "N is the number of observations"
   ]
  },
  {
   "cell_type": "markdown",
   "id": "ghAD1tz80JYu",
   "metadata": {
    "id": "ghAD1tz80JYu"
   },
   "source": [
    "### __Python Code Implementation of the Covariance for Two Variables__"
   ]
  },
  {
   "cell_type": "code",
   "execution_count": 18,
   "id": "fad51f43",
   "metadata": {
    "id": "fad51f43"
   },
   "outputs": [
    {
     "data": {
      "text/html": [
       "<div>\n",
       "<style scoped>\n",
       "    .dataframe tbody tr th:only-of-type {\n",
       "        vertical-align: middle;\n",
       "    }\n",
       "\n",
       "    .dataframe tbody tr th {\n",
       "        vertical-align: top;\n",
       "    }\n",
       "\n",
       "    .dataframe thead th {\n",
       "        text-align: right;\n",
       "    }\n",
       "</style>\n",
       "<table border=\"1\" class=\"dataframe\">\n",
       "  <thead>\n",
       "    <tr style=\"text-align: right;\">\n",
       "      <th></th>\n",
       "      <th>x</th>\n",
       "      <th>y</th>\n",
       "    </tr>\n",
       "  </thead>\n",
       "  <tbody>\n",
       "    <tr>\n",
       "      <th>0</th>\n",
       "      <td>1</td>\n",
       "      <td>5</td>\n",
       "    </tr>\n",
       "    <tr>\n",
       "      <th>1</th>\n",
       "      <td>2</td>\n",
       "      <td>4</td>\n",
       "    </tr>\n",
       "    <tr>\n",
       "      <th>2</th>\n",
       "      <td>3</td>\n",
       "      <td>3</td>\n",
       "    </tr>\n",
       "    <tr>\n",
       "      <th>3</th>\n",
       "      <td>4</td>\n",
       "      <td>2</td>\n",
       "    </tr>\n",
       "    <tr>\n",
       "      <th>4</th>\n",
       "      <td>5</td>\n",
       "      <td>1</td>\n",
       "    </tr>\n",
       "  </tbody>\n",
       "</table>\n",
       "</div>"
      ],
      "text/plain": [
       "   x  y\n",
       "0  1  5\n",
       "1  2  4\n",
       "2  3  3\n",
       "3  4  2\n",
       "4  5  1"
      ]
     },
     "execution_count": 18,
     "metadata": {},
     "output_type": "execute_result"
    }
   ],
   "source": [
    "import pandas as pd\n",
    "\n",
    "# Creating a DataFrame with two columns, x and y\n",
    "data = {'x': [1, 2, 3, 4, 5],\n",
    "        'y': [5, 4, 3, 2, 1]}\n",
    "df = pd.DataFrame(data)\n",
    "df"
   ]
  },
  {
   "cell_type": "code",
   "execution_count": 20,
   "id": "02881b25-bd39-490a-9ec7-f8e64dee4618",
   "metadata": {
    "id": "02881b25-bd39-490a-9ec7-f8e64dee4618"
   },
   "outputs": [
    {
     "data": {
      "text/html": [
       "<div>\n",
       "<style scoped>\n",
       "    .dataframe tbody tr th:only-of-type {\n",
       "        vertical-align: middle;\n",
       "    }\n",
       "\n",
       "    .dataframe tbody tr th {\n",
       "        vertical-align: top;\n",
       "    }\n",
       "\n",
       "    .dataframe thead th {\n",
       "        text-align: right;\n",
       "    }\n",
       "</style>\n",
       "<table border=\"1\" class=\"dataframe\">\n",
       "  <thead>\n",
       "    <tr style=\"text-align: right;\">\n",
       "      <th></th>\n",
       "      <th>x</th>\n",
       "      <th>y</th>\n",
       "    </tr>\n",
       "  </thead>\n",
       "  <tbody>\n",
       "    <tr>\n",
       "      <th>x</th>\n",
       "      <td>2.5</td>\n",
       "      <td>-2.5</td>\n",
       "    </tr>\n",
       "    <tr>\n",
       "      <th>y</th>\n",
       "      <td>-2.5</td>\n",
       "      <td>2.5</td>\n",
       "    </tr>\n",
       "  </tbody>\n",
       "</table>\n",
       "</div>"
      ],
      "text/plain": [
       "     x    y\n",
       "x  2.5 -2.5\n",
       "y -2.5  2.5"
      ]
     },
     "execution_count": 20,
     "metadata": {},
     "output_type": "execute_result"
    }
   ],
   "source": [
    "# Calculating the covariance between x and y\n",
    "cov_xy = df[['x','y']].cov()\n",
    "cov_xy"
   ]
  },
  {
   "cell_type": "markdown",
   "id": "87b1cbf6",
   "metadata": {
    "id": "87b1cbf6"
   },
   "source": [
    "This negative value indicates that as values in `x` increase, values in `y` tend to decrease, and vice versa."
   ]
  },
  {
   "cell_type": "markdown",
   "id": "37f05e68",
   "metadata": {
    "id": "37f05e68"
   },
   "source": [
    "### __6.2 Correlation__"
   ]
  },
  {
   "cell_type": "markdown",
   "id": "21119ba5",
   "metadata": {
    "id": "21119ba5"
   },
   "source": [
    "The correlation coefficient is often referred to as the Pearson correlation coefficient.  \n",
    "\n",
    "The correlation coefficient between two variables is calculated by dividing their covariance by the product of their individual standard deviations. Since  standard deviation measures the absolute variability (or spread) of a data distribution, this division by the product of the standard deviations normalizes the correlation coefficient, ensuring it falls within the range of -1 to +1."
   ]
  },
  {
   "cell_type": "markdown",
   "id": "64317866",
   "metadata": {
    "id": "64317866"
   },
   "source": [
    "#### __Formula for Correlation Coefficient__"
   ]
  },
  {
   "cell_type": "markdown",
   "id": "7e40273b",
   "metadata": {
    "id": "7e40273b"
   },
   "source": [
    "![corelation.PNG](https://s3.us-east-1.amazonaws.com/static2.simplilearn.com/lms/testpaper_images/ADSP/Advanced_Statistics/Probimages/Statistics_Fundamentals/Statistics_Notebookupdated/corelation.PNG)"
   ]
  },
  {
   "cell_type": "markdown",
   "id": "a76bdf78",
   "metadata": {
    "id": "a76bdf78"
   },
   "source": [
    "Where:\n",
    "    \n",
    "$S_x$, $S_y$ are standard deviations of x and y respectively.\n",
    "\n"
   ]
  },
  {
   "cell_type": "markdown",
   "id": "oGs5vYW38Be0",
   "metadata": {
    "id": "oGs5vYW38Be0"
   },
   "source": [
    "### __Python Code Implementation of the Correlation Coefficient for Two Variables__"
   ]
  },
  {
   "cell_type": "code",
   "execution_count": 23,
   "id": "544219fd",
   "metadata": {
    "id": "544219fd"
   },
   "outputs": [
    {
     "data": {
      "text/html": [
       "<div>\n",
       "<style scoped>\n",
       "    .dataframe tbody tr th:only-of-type {\n",
       "        vertical-align: middle;\n",
       "    }\n",
       "\n",
       "    .dataframe tbody tr th {\n",
       "        vertical-align: top;\n",
       "    }\n",
       "\n",
       "    .dataframe thead th {\n",
       "        text-align: right;\n",
       "    }\n",
       "</style>\n",
       "<table border=\"1\" class=\"dataframe\">\n",
       "  <thead>\n",
       "    <tr style=\"text-align: right;\">\n",
       "      <th></th>\n",
       "      <th>x</th>\n",
       "      <th>y</th>\n",
       "    </tr>\n",
       "  </thead>\n",
       "  <tbody>\n",
       "    <tr>\n",
       "      <th>0</th>\n",
       "      <td>1</td>\n",
       "      <td>1</td>\n",
       "    </tr>\n",
       "    <tr>\n",
       "      <th>1</th>\n",
       "      <td>10</td>\n",
       "      <td>4</td>\n",
       "    </tr>\n",
       "    <tr>\n",
       "      <th>2</th>\n",
       "      <td>3</td>\n",
       "      <td>3</td>\n",
       "    </tr>\n",
       "    <tr>\n",
       "      <th>3</th>\n",
       "      <td>4</td>\n",
       "      <td>2</td>\n",
       "    </tr>\n",
       "    <tr>\n",
       "      <th>4</th>\n",
       "      <td>5</td>\n",
       "      <td>1</td>\n",
       "    </tr>\n",
       "  </tbody>\n",
       "</table>\n",
       "</div>"
      ],
      "text/plain": [
       "    x  y\n",
       "0   1  1\n",
       "1  10  4\n",
       "2   3  3\n",
       "3   4  2\n",
       "4   5  1"
      ]
     },
     "execution_count": 23,
     "metadata": {},
     "output_type": "execute_result"
    }
   ],
   "source": [
    "# Creating a DataFrame with two columns, x and y\n",
    "data = {'x': [1, 10, 3, 4, 5],\n",
    "        'y': [1, 4, 3, 2, 1]}\n",
    "df = pd.DataFrame(data)\n",
    "df"
   ]
  },
  {
   "cell_type": "code",
   "execution_count": 24,
   "id": "43d5d6c0-b2f2-4034-8207-fb33dfae0145",
   "metadata": {
    "id": "43d5d6c0-b2f2-4034-8207-fb33dfae0145"
   },
   "outputs": [
    {
     "data": {
      "text/html": [
       "<div>\n",
       "<style scoped>\n",
       "    .dataframe tbody tr th:only-of-type {\n",
       "        vertical-align: middle;\n",
       "    }\n",
       "\n",
       "    .dataframe tbody tr th {\n",
       "        vertical-align: top;\n",
       "    }\n",
       "\n",
       "    .dataframe thead th {\n",
       "        text-align: right;\n",
       "    }\n",
       "</style>\n",
       "<table border=\"1\" class=\"dataframe\">\n",
       "  <thead>\n",
       "    <tr style=\"text-align: right;\">\n",
       "      <th></th>\n",
       "      <th>x</th>\n",
       "      <th>y</th>\n",
       "    </tr>\n",
       "  </thead>\n",
       "  <tbody>\n",
       "    <tr>\n",
       "      <th>x</th>\n",
       "      <td>1.000000</td>\n",
       "      <td>0.707291</td>\n",
       "    </tr>\n",
       "    <tr>\n",
       "      <th>y</th>\n",
       "      <td>0.707291</td>\n",
       "      <td>1.000000</td>\n",
       "    </tr>\n",
       "  </tbody>\n",
       "</table>\n",
       "</div>"
      ],
      "text/plain": [
       "          x         y\n",
       "x  1.000000  0.707291\n",
       "y  0.707291  1.000000"
      ]
     },
     "execution_count": 24,
     "metadata": {},
     "output_type": "execute_result"
    }
   ],
   "source": [
    "# Calculating the correlation between x and y\n",
    "correlation_xy = df.corr()\n",
    "correlation_xy"
   ]
  },
  {
   "cell_type": "markdown",
   "id": "1faf6b6a",
   "metadata": {
    "id": "1faf6b6a"
   },
   "source": [
    "This value indicates a perfect negative linear relationship between `x` and `y`; as `x` increases, `y` decreases by a proportional amount and vice versa."
   ]
  }
 ],
 "metadata": {
  "colab": {
   "provenance": []
  },
  "kernelspec": {
   "display_name": ".venv",
   "language": "python",
   "name": "python3"
  },
  "language_info": {
   "codemirror_mode": {
    "name": "ipython",
    "version": 3
   },
   "file_extension": ".py",
   "mimetype": "text/x-python",
   "name": "python",
   "nbconvert_exporter": "python",
   "pygments_lexer": "ipython3",
   "version": "3.13.2"
  }
 },
 "nbformat": 4,
 "nbformat_minor": 5
}
