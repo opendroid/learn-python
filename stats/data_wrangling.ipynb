{
 "cells": [
  {
   "cell_type": "markdown",
   "id": "6b8fa3be-89f4-4947-83ce-163b74237c7f",
   "metadata": {
    "id": "6b8fa3be-89f4-4947-83ce-163b74237c7f"
   },
   "source": [
    "# __Data Wrangling__"
   ]
  },
  {
   "cell_type": "markdown",
   "id": "72278e90-5b62-4e4c-9783-13c8de00eac4",
   "metadata": {
    "id": "72278e90-5b62-4e4c-9783-13c8de00eac4"
   },
   "source": [
    "## __Agenda__"
   ]
  },
  {
   "cell_type": "markdown",
   "id": "40382cae-3528-4cde-8b67-71c2312017fc",
   "metadata": {
    "id": "40382cae-3528-4cde-8b67-71c2312017fc"
   },
   "source": [
    "In this lesson, we will cover the following concepts with the help of examples:\n",
    "- Introduction to Data Wrangling\n",
    "- Data Collection\n",
    "- Data Inspection\n",
    "  * Accessing Rows Using .iloc and .loc\n",
    "  * Checking for Missing Values\n",
    "  * Handling Missing Data\n",
    "- Dealing with Duplicates\n",
    "- Data Cleaning\n",
    "- Data Transformation\n",
    "- Data Binning\n",
    "- Handling Outliers\n",
    "- Pandas Joining Techniques\n",
    "    * Pandas Concatenate\n",
    "    * Pandas Merge Dataframes\n",
    "    * Pandas Join Dataframes\n",
    "- Aggregating Data\n",
    "- Reshaping Data"
   ]
  },
  {
   "cell_type": "markdown",
   "id": "945bea75-2b82-48fd-bce8-d938dac2225f",
   "metadata": {
    "id": "945bea75-2b82-48fd-bce8-d938dac2225f"
   },
   "source": [
    "## __1. Introduction to Data Wrangling__\n",
    "Data wrangling, also known as data munging or data preprocessing, is the process of cleaning, structuring, and transforming raw data into a format suitable for analysis.\n",
    "- It is a crucial step in the data preparation pipeline, aiming to make the data more accessible, understandable, and ready for various analytical tasks.\n",
    "- It involves dealing with missing values, handling outliers, transforming variables, and merging datasets, among other tasks."
   ]
  },
  {
   "cell_type": "markdown",
   "id": "114565c7-e82d-4fd4-8284-f110283e346d",
   "metadata": {
    "id": "114565c7-e82d-4fd4-8284-f110283e346d"
   },
   "source": [
    "![link text](https://labcontent.simplicdn.net/data-content/content-assets/Data_and_AI/ADSP_Images/Lesson_09_Data_Wrangling/Introduction.png)"
   ]
  },
  {
   "cell_type": "markdown",
   "id": "7dbc5dc1-ef65-41f7-825b-2c8f3105d965",
   "metadata": {
    "id": "7dbc5dc1-ef65-41f7-825b-2c8f3105d965"
   },
   "source": [
    "## __2. Data Collection:__\n",
    "\n",
    "Data collection is the process of gathering information from diverse sources to build a comprehensive dataset for analysis.\n",
    "- Sources may include databases, APIs (Application Programming Interfaces), spreadsheets, or external files. Effective data collection ensures the availability of relevant and reliable information."
   ]
  },
  {
   "cell_type": "markdown",
   "id": "5f48feae-dfed-4fd1-bcc7-bac222ce1e65",
   "metadata": {
    "id": "5f48feae-dfed-4fd1-bcc7-bac222ce1e65"
   },
   "source": [
    "### __Loading Data:__\n",
    "Start by loading data into a Pandas DataFrame."
   ]
  },
  {
   "cell_type": "markdown",
   "id": "00c0da67-9f48-46b8-8ce4-3291cdd54eba",
   "metadata": {
    "id": "00c0da67-9f48-46b8-8ce4-3291cdd54eba"
   },
   "source": [
    "![link text](https://labcontent.simplicdn.net/data-content/content-assets/Data_and_AI/ADSP_Images/Lesson_09_Data_Wrangling/Loading.png)"
   ]
  },
  {
   "cell_type": "code",
   "execution_count": 169,
   "id": "c17ac73f-5252-43e5-ba66-21d40e15d075",
   "metadata": {
    "id": "c17ac73f-5252-43e5-ba66-21d40e15d075"
   },
   "outputs": [],
   "source": [
    "import pandas as pd\n",
    "\n",
    "# Load the data\n",
    "df = pd.read_csv('../data/house_prices_1.csv')"
   ]
  },
  {
   "cell_type": "markdown",
   "id": "JnOAcTI4TE_z",
   "metadata": {
    "id": "JnOAcTI4TE_z"
   },
   "source": [
    "## __3. Data Inspection__\n",
    "It involves exploring the dataset to gain insights into its structure and quality.\n",
    "- This step involves using functions like df.head(), df.info(), and df.describe() to gain insights into the dataset's structure, data types, and statistical summaries. Checking for missing values, outliers, and inconsistencies is crucial to identify potential issues that need addressing."
   ]
  },
  {
   "cell_type": "code",
   "execution_count": null,
   "id": "1d5d0f7e-4a54-4534-b2c0-8a36531abda2",
   "metadata": {
    "id": "1d5d0f7e-4a54-4534-b2c0-8a36531abda2"
   },
   "outputs": [],
   "source": [
    "# Inspecting the first few rows of the DataFrame\n",
    "df.head(5)"
   ]
  },
  {
   "cell_type": "code",
   "execution_count": null,
   "id": "8207b483-4c0f-4437-87a6-91a9741f981f",
   "metadata": {
    "id": "8207b483-4c0f-4437-87a6-91a9741f981f"
   },
   "outputs": [],
   "source": [
    "# Displaying the last few rows of the DataFrame\n",
    "df.tail(5)"
   ]
  },
  {
   "cell_type": "code",
   "execution_count": null,
   "id": "a57cd037-0e61-42b2-904c-565c6bcc5a67",
   "metadata": {
    "id": "a57cd037-0e61-42b2-904c-565c6bcc5a67"
   },
   "outputs": [],
   "source": [
    "# Providing information about the DataFrame, including data types and non-null counts\n",
    "print(df.shape)\n",
    "info = df.info()\n"
   ]
  },
  {
   "cell_type": "code",
   "execution_count": null,
   "id": "3f5638be-1b2d-4274-8e3e-1d47dcab130e",
   "metadata": {
    "id": "3f5638be-1b2d-4274-8e3e-1d47dcab130e"
   },
   "outputs": [],
   "source": [
    "# Displaying descriptive statistics of the DataFrame, such as mean, std, min, max, etc.\n",
    "df.describe()"
   ]
  },
  {
   "cell_type": "code",
   "execution_count": null,
   "id": "251f324e-f4b4-4850-a8da-428cfd10a72f",
   "metadata": {
    "id": "251f324e-f4b4-4850-a8da-428cfd10a72f"
   },
   "outputs": [],
   "source": [
    "# Displaying datatypes of the columns\n",
    "df.dtypes"
   ]
  },
  {
   "cell_type": "code",
   "execution_count": null,
   "id": "61beebae",
   "metadata": {},
   "outputs": [],
   "source": [
    "df.columns"
   ]
  },
  {
   "cell_type": "code",
   "execution_count": 119,
   "id": "255bd7dd",
   "metadata": {},
   "outputs": [],
   "source": [
    "import matplotlib.pyplot as plt\n",
    "\n",
    "def inspect_non_categorical_data(df, column):\n",
    "    if not column in df.columns:\n",
    "        print(f\"Column {column} not found in DataFrame\")\n",
    "        return\n",
    "    if df[column].dtype == 'object':\n",
    "        print(f\"Column {column} is a categorical variable\")\n",
    "        return\n",
    "    # Look at value column data statistically\n",
    "    print(\"\\nPrice Statistics:\")\n",
    "    print(f\"Mean value: ${df[column].mean():,.2f}\")\n",
    "    print(f\"Median value: ${df[column].median():,.2f}\")\n",
    "    print(f\"Standard deviation: ${df[column].std():,.2f}\")\n",
    "    print(f\"Minimum value: ${df[column].min():,.2f}\")\n",
    "    print(f\"Maximum value: ${df[column].max():,.2f}\")\n",
    "    print(f\"Number of missing values: {df[column].isnull().sum()}\")\n",
    "    print(f\"Number of zero values: {(df[column] == 0).sum()}\")\n",
    "    print(\"Data distribution:\")\n",
    "    print(df[column].value_counts(bins=5, normalize=True).sort_index())\n",
    "\n",
    "    # Create a figure with subplots for different visualizations\n",
    "    fig, (ax1, ax2) = plt.subplots(1, 2, figsize=(20, 5))\n",
    "    fig.suptitle(f'{column} Distribution')\n",
    "    # Box plot\n",
    "    df.boxplot(column=[column], ax=ax1, vert=False)\n",
    "    ax1.set_ylabel(f'{column}')\n",
    "    ax1.set_title(f'Box Plot of {column}')\n",
    "\n",
    "    # Histogram with KDE\n",
    "    df[column].hist(bins=50, density=True, ax=ax2)\n",
    "    df[column].plot(kind='kde', ax=ax2, color='red')\n",
    "    ax2.set_xlabel(f'{column}')\n",
    "    ax2.set_ylabel('Density')\n",
    "    ax2.set_title(f'Distribution of {column}')\n",
    "    plt.tight_layout()\n",
    "    plt.show()\n",
    "    return"
   ]
  },
  {
   "cell_type": "code",
   "execution_count": null,
   "id": "ee256d3c",
   "metadata": {},
   "outputs": [],
   "source": [
    "# Index(['date', 'price', 'bedrooms', 'bathrooms', 'sqft_living', 'sqft_lot',\n",
    "#       'floors', 'waterfront', 'view', 'condition', 'sqft_above',\n",
    "#       'sqft_basement', 'yr_built', 'yr_renovated', 'street', 'city',\n",
    "#       'statezip', 'country'],\n",
    "for column in ['price', 'sqft_living', 'sqft_lot', 'sqft_above', 'sqft_basement']:\n",
    "    print(f\"Inspecting {column} column:\")\n",
    "    inspect_non_categorical_data(df, column)\n"
   ]
  },
  {
   "cell_type": "code",
   "execution_count": 121,
   "id": "5c3568e4",
   "metadata": {},
   "outputs": [],
   "source": [
    "def inspect_categorical_data(df, column):\n",
    "    if not column in df.columns:\n",
    "        print(f\"Column {column} not found in DataFrame\")\n",
    "        return\n",
    "\n",
    "    print(f\"Inspecting {column} column:\")\n",
    "\n",
    "    # Draw a histogram of the column, annotate the value counts on top of the histogram\n",
    "    counts, bins, _ = plt.hist(df[column], bins=range(0, 10), edgecolor=\"black\", alpha=0.7)\n",
    "\n",
    "    # Annotate each bar with its count\n",
    "    for count, bin_edge in zip(counts, bins[:-1]):  # Exclude last bin edge\n",
    "        plt.text(bin_edge + 0.5, count + 0.5, str(int(count)), ha='center', fontsize=12)\n",
    "    plt.title(f'Histogram of {column}')\n",
    "    plt.show()\n",
    "    return"
   ]
  },
  {
   "cell_type": "code",
   "execution_count": null,
   "id": "d1e99404",
   "metadata": {},
   "outputs": [],
   "source": [
    "# 'bedrooms', 'bathrooms', 'floors', 'waterfront', 'view', 'condition', 'yr_built', 'yr_renovated', 'city', 'statezip', 'country'\n",
    "for column in ['bedrooms', 'bathrooms', 'floors', 'waterfront', 'view', 'condition']:\n",
    "    inspect_categorical_data(df, column)"
   ]
  },
  {
   "cell_type": "markdown",
   "id": "37c38a14",
   "metadata": {},
   "source": [
    "### State and zip code analysis\n",
    "statezip colums is XY-NNNNN. All data is WA data. There are 715 or more zip codes in state of WA. And we have data for 77 zip codes only."
   ]
  },
  {
   "cell_type": "code",
   "execution_count": null,
   "id": "78d23f2f",
   "metadata": {},
   "outputs": [],
   "source": [
    "# Display number of unique values in the city column\n",
    "n_cities = df['city'].nunique()\n",
    "# Display number of unique values in the statezip column\n",
    "n_statezips = df['statezip'].nunique()\n",
    "# Display number of unique values in the country column\n",
    "n_countries = df['country'].nunique()\n",
    "print(f\"Number of unique cities: {n_cities}, statezips: {n_statezips}, countries: {n_countries}\")"
   ]
  },
  {
   "cell_type": "code",
   "execution_count": null,
   "id": "d34aeaf0",
   "metadata": {},
   "outputs": [],
   "source": [
    "df['state'] = df['statezip'].str[:2]\n",
    "df['zip'] = df['statezip'].str[3:].str.strip()\n",
    "print(f\"Number of unique states: {df['state'].nunique()}, zipcodes: {df['zip'].nunique()}\")\n",
    "df.head(2)"
   ]
  },
  {
   "cell_type": "markdown",
   "id": "64bb0950-d529-42bb-9c33-ca7c37162d23",
   "metadata": {
    "id": "64bb0950-d529-42bb-9c33-ca7c37162d23"
   },
   "source": [
    "### __3.1 Accessing Rows Using .iloc and .loc__\n",
    "Inspecting the dataset involves exploring its content.\n",
    "- Using .iloc and .loc allows you to access specific rows based on integer-location or label-based indexing, respectively."
   ]
  },
  {
   "cell_type": "code",
   "execution_count": null,
   "id": "564bb6a1-34c3-4a52-8cc8-a1f108c73923",
   "metadata": {
    "id": "564bb6a1-34c3-4a52-8cc8-a1f108c73923"
   },
   "outputs": [],
   "source": [
    "# Access the first row using iloc\n",
    "result_iloc_0 = df.iloc[0]\n",
    "print(result_iloc_0)"
   ]
  },
  {
   "cell_type": "code",
   "execution_count": null,
   "id": "31f6515e-af08-46c7-ad60-beabf544ba69",
   "metadata": {
    "id": "31f6515e-af08-46c7-ad60-beabf544ba69"
   },
   "outputs": [],
   "source": [
    "# Display the result\n",
    "print(\"Result:\")\n",
    "print(result_iloc_0)\n"
   ]
  },
  {
   "cell_type": "code",
   "execution_count": null,
   "id": "c73aa02d-b59c-4091-8fc4-0bbd918d956e",
   "metadata": {
    "id": "c73aa02d-b59c-4091-8fc4-0bbd918d956e"
   },
   "outputs": [],
   "source": [
    "# Access the eleventh row using iloc\n",
    "result_iloc_10 = df.iloc[10]\n",
    "# Display the result for df.iloc[10]\n",
    "print(\"Result for df.iloc[10]:\")\n",
    "print(result_iloc_10)"
   ]
  },
  {
   "cell_type": "markdown",
   "id": "871a7c95-b6b5-4c77-b1eb-6b666eff4403",
   "metadata": {
    "id": "871a7c95-b6b5-4c77-b1eb-6b666eff4403"
   },
   "source": [
    "### __3.2 Checking for Missing Values__\n",
    "![link text](https://labcontent.simplicdn.net/data-content/content-assets/Data_and_AI/ADSP_Images/Lesson_09_Data_Wrangling/Checking_for_missing_values.png)"
   ]
  },
  {
   "cell_type": "code",
   "execution_count": null,
   "id": "60b83ed8-4871-434d-be6c-bddb84c5d3c5",
   "metadata": {
    "id": "60b83ed8-4871-434d-be6c-bddb84c5d3c5"
   },
   "outputs": [],
   "source": [
    "# Checking for missing values\n",
    "missing_values = df.isnull().sum()\n",
    "print(\"Missing Values per Column:\")\n",
    "print(missing_values)"
   ]
  },
  {
   "cell_type": "code",
   "execution_count": null,
   "id": "10202b40-6d1c-40ac-92b1-654b520ac0f4",
   "metadata": {
    "id": "10202b40-6d1c-40ac-92b1-654b520ac0f4"
   },
   "outputs": [],
   "source": [
    "# Show all lines with null values for price\n",
    "df[df['sqft_lot'].isnull()]"
   ]
  },
  {
   "cell_type": "code",
   "execution_count": null,
   "id": "e44cf9ce-f5d0-4e7b-9e42-aec0d1598c33",
   "metadata": {
    "id": "e44cf9ce-f5d0-4e7b-9e42-aec0d1598c33"
   },
   "outputs": [],
   "source": [
    "# Show all lines with null values\n",
    "df[df['country'].isnull()]"
   ]
  },
  {
   "cell_type": "code",
   "execution_count": null,
   "id": "1fd82970",
   "metadata": {},
   "outputs": [],
   "source": [
    "# Show all lines with null values\n",
    "df[df['price'].isnull()]"
   ]
  },
  {
   "cell_type": "markdown",
   "id": "f1d116c3-c39c-4442-a791-656739b579c0",
   "metadata": {
    "id": "f1d116c3-c39c-4442-a791-656739b579c0"
   },
   "source": [
    "### __3.3 Handling Missing Data__\n",
    "Handling missing data is crucial for maintaining data integrity. Various approaches include imputation (replacing missing values with estimated values), the removal of records with missing values, or using default values when appropriate.\n",
    "![link text](https://labcontent.simplicdn.net/data-content/content-assets/Data_and_AI/ADSP_Images/Lesson_09_Data_Wrangling/Handling_missing_data.png)"
   ]
  },
  {
   "cell_type": "markdown",
   "id": "29eb34c0-ec9d-47c7-a190-b5f1d587a7ea",
   "metadata": {
    "id": "29eb34c0-ec9d-47c7-a190-b5f1d587a7ea"
   },
   "source": [
    "__Let's check the percentage of the rows with missing value__\n",
    "\n",
    "- We are performing this operation to determine whether the NA value rows can be dropped off or not so that we cannot deviate from our desired model"
   ]
  },
  {
   "cell_type": "code",
   "execution_count": null,
   "id": "9c85f4bf-4026-4683-ba2a-c3972d294dfa",
   "metadata": {
    "id": "9c85f4bf-4026-4683-ba2a-c3972d294dfa"
   },
   "outputs": [],
   "source": [
    "percentage_of_missing_values = 100 * df.isnull().sum()/df.shape[0]\n",
    "percentage_of_missing_values"
   ]
  },
  {
   "cell_type": "markdown",
   "id": "34aa9b9a-fbe7-4365-bb2b-9b7ac8ecd19f",
   "metadata": {
    "id": "34aa9b9a-fbe7-4365-bb2b-9b7ac8ecd19f"
   },
   "source": [
    "<br>\n",
    "\n",
    "__First solution: drop lines with missing values__"
   ]
  },
  {
   "cell_type": "code",
   "execution_count": null,
   "id": "21091349-18fa-4d48-bc46-3b60ecf47e1f",
   "metadata": {
    "id": "21091349-18fa-4d48-bc46-3b60ecf47e1f"
   },
   "outputs": [],
   "source": [
    "newdf = df.dropna(axis=0)\n",
    "newdf.isnull().sum()"
   ]
  },
  {
   "cell_type": "code",
   "execution_count": null,
   "id": "d150d861",
   "metadata": {},
   "outputs": [],
   "source": [
    "newdf.shape"
   ]
  },
  {
   "cell_type": "markdown",
   "id": "32560dd2-b5d5-48b1-97df-0e5b3e669aa5",
   "metadata": {
    "id": "32560dd2-b5d5-48b1-97df-0e5b3e669aa5"
   },
   "source": [
    "<br>\n",
    "\n",
    "__Second solution:__\n",
    "- Drop lines where \"price\" has missing values\n",
    "- Replace missing country with \"USA\"\n",
    "- Replace missing \"sqft lot\" with the average sqft_lot"
   ]
  },
  {
   "cell_type": "code",
   "execution_count": null,
   "id": "c967b01e-7170-42e0-813d-fa3b72dfb7dd",
   "metadata": {
    "id": "c967b01e-7170-42e0-813d-fa3b72dfb7dd"
   },
   "outputs": [],
   "source": [
    "newdf = df.copy()\n",
    "newdf.head(3)"
   ]
  },
  {
   "cell_type": "code",
   "execution_count": null,
   "id": "bbf56545-1a1d-4c54-8a00-899309636bcb",
   "metadata": {
    "id": "bbf56545-1a1d-4c54-8a00-899309636bcb"
   },
   "outputs": [],
   "source": [
    "# Drop lines where \"price\" has missing values ONLY, keep missing values for other values\n",
    "newdf.dropna(subset=['price'], axis=0, inplace=True)\n",
    "newdf.shape"
   ]
  },
  {
   "cell_type": "code",
   "execution_count": null,
   "id": "39a8d5fb-0c40-45fa-a6df-89c55986e87d",
   "metadata": {
    "id": "39a8d5fb-0c40-45fa-a6df-89c55986e87d"
   },
   "outputs": [],
   "source": [
    "newdf.isnull().sum()"
   ]
  },
  {
   "cell_type": "code",
   "execution_count": 138,
   "id": "2ed41043-0a34-4131-8107-5f4692c8205e",
   "metadata": {
    "id": "2ed41043-0a34-4131-8107-5f4692c8205e"
   },
   "outputs": [],
   "source": [
    "# Replace missing country with \"USA\"\n",
    "import numpy as np\n",
    "\n",
    "newdf['country'] = newdf['country'].fillna(\"USA\")"
   ]
  },
  {
   "cell_type": "code",
   "execution_count": null,
   "id": "508f2c36-a990-4a9c-9707-45a35f9b1d19",
   "metadata": {
    "id": "508f2c36-a990-4a9c-9707-45a35f9b1d19"
   },
   "outputs": [],
   "source": [
    "newdf.isnull().sum()"
   ]
  },
  {
   "cell_type": "code",
   "execution_count": null,
   "id": "fd43de90-0dad-4223-9564-73ebdc9c4fe1",
   "metadata": {
    "id": "fd43de90-0dad-4223-9564-73ebdc9c4fe1"
   },
   "outputs": [],
   "source": [
    "# Replace missing \"sqft lot\" with the average sqft_lot\n",
    "# First move with\n",
    "avg = newdf['sqft_lot'].mean()\n",
    "avg"
   ]
  },
  {
   "cell_type": "code",
   "execution_count": 141,
   "id": "519e7441-35c2-4674-b214-f53476cc9e9d",
   "metadata": {
    "id": "519e7441-35c2-4674-b214-f53476cc9e9d"
   },
   "outputs": [],
   "source": [
    "# Replace\n",
    "newdf['sqft_lot'] = newdf['sqft_lot'].fillna(avg)"
   ]
  },
  {
   "cell_type": "code",
   "execution_count": null,
   "id": "fb8c8c70-aecd-4b7c-b534-d39a89a84226",
   "metadata": {
    "id": "fb8c8c70-aecd-4b7c-b534-d39a89a84226"
   },
   "outputs": [],
   "source": [
    "newdf.isnull().sum()"
   ]
  },
  {
   "cell_type": "code",
   "execution_count": null,
   "id": "6a800463",
   "metadata": {},
   "outputs": [],
   "source": [
    "newdf.shape"
   ]
  },
  {
   "cell_type": "markdown",
   "id": "74c60ed7-288f-4d18-b50f-d81458a826b4",
   "metadata": {
    "id": "74c60ed7-288f-4d18-b50f-d81458a826b4"
   },
   "source": [
    "<br>\n",
    "\n",
    "__Third solution:__\n",
    "- Replace all numerical missing values with the mean values\n",
    "- Drop all line with missing categorical values"
   ]
  },
  {
   "cell_type": "code",
   "execution_count": null,
   "id": "91490ee7-16c0-4aa6-bfa7-09e102653ccb",
   "metadata": {
    "id": "91490ee7-16c0-4aa6-bfa7-09e102653ccb"
   },
   "outputs": [],
   "source": [
    "# Handling missing numerical values using imputation\n",
    "df_filled = df[df.isna()]\n",
    "df_filled.info()"
   ]
  },
  {
   "cell_type": "code",
   "execution_count": null,
   "id": "e0fdd3e0-d15c-4eda-9ad3-f2065464766c",
   "metadata": {
    "id": "e0fdd3e0-d15c-4eda-9ad3-f2065464766c"
   },
   "outputs": [],
   "source": [
    "df_filled.isnull().sum()"
   ]
  },
  {
   "cell_type": "code",
   "execution_count": null,
   "id": "da8a3048-9697-4adc-b250-00b8985bb1be",
   "metadata": {
    "id": "da8a3048-9697-4adc-b250-00b8985bb1be"
   },
   "outputs": [],
   "source": [
    "# Remove missing categorical values: view\n",
    "view  = df[df['view'].isna()]\n",
    "condition = df[df['condition'].isna()]\n",
    "print(f\"Number of missing values for view: {view.shape[0]}, condition: {condition.shape[0]}\")"
   ]
  },
  {
   "cell_type": "code",
   "execution_count": null,
   "id": "3f44411a-54c5-4e17-b35c-3470153b7719",
   "metadata": {
    "id": "3f44411a-54c5-4e17-b35c-3470153b7719"
   },
   "outputs": [],
   "source": [
    "df_filled.isnull().sum()"
   ]
  },
  {
   "cell_type": "markdown",
   "id": "207d4f88-4ff6-4f86-8037-3e1241168157",
   "metadata": {
    "id": "207d4f88-4ff6-4f86-8037-3e1241168157"
   },
   "source": [
    "## __4. Dealing with Duplicates__\n",
    "\n",
    "Duplicates in a dataset can introduce bias and errors.\n",
    "- Identifying and handling duplicate records is essential for ensuring accurate analysis and reporting.\n",
    "\n",
    "![link text](https://labcontent.simplicdn.net/data-content/content-assets/Data_and_AI/ADSP_Images/Lesson_09_Data_Wrangling/Dealing_with_duplicates.png)"
   ]
  },
  {
   "cell_type": "code",
   "execution_count": null,
   "id": "2af2f81e-a16c-4b5d-bb54-21542617ddc7",
   "metadata": {
    "id": "2af2f81e-a16c-4b5d-bb54-21542617ddc7"
   },
   "outputs": [],
   "source": [
    "# Count duplicates\n",
    "df.duplicated().sum()"
   ]
  },
  {
   "cell_type": "code",
   "execution_count": null,
   "id": "de15dc67-dd38-452a-9d93-9ff9ca9d5e4b",
   "metadata": {
    "id": "de15dc67-dd38-452a-9d93-9ff9ca9d5e4b"
   },
   "outputs": [],
   "source": [
    "# Show duplicates\n",
    "df[df.duplicated(keep=False)]"
   ]
  },
  {
   "cell_type": "code",
   "execution_count": 150,
   "id": "f56205a2-53a6-40ca-9207-c7c453cb8208",
   "metadata": {
    "id": "f56205a2-53a6-40ca-9207-c7c453cb8208"
   },
   "outputs": [],
   "source": [
    "# Removing duplicate records, reindex the dataframe\n",
    "df_no_duplicates = df.copy()\n",
    "df_no_duplicates = df_no_duplicates.drop_duplicates(keep='first', ignore_index=True)"
   ]
  },
  {
   "cell_type": "markdown",
   "id": "5OAAg50aT_2D",
   "metadata": {
    "id": "5OAAg50aT_2D"
   },
   "source": [
    "By default, `drop_duplicates()` retains the first occurrence of a duplicate and removes subsequent ones. This behavior can be changed using the `keep` parameter, if specified otherwise."
   ]
  },
  {
   "cell_type": "code",
   "execution_count": null,
   "id": "2235f65e-cc63-4639-8e50-17ba4b70d11e",
   "metadata": {
    "id": "2235f65e-cc63-4639-8e50-17ba4b70d11e"
   },
   "outputs": [],
   "source": [
    "df_no_duplicates.duplicated().sum()"
   ]
  },
  {
   "cell_type": "markdown",
   "id": "f606a020-a1a9-4ba6-a8bb-46d86bcb384d",
   "metadata": {
    "id": "f606a020-a1a9-4ba6-a8bb-46d86bcb384d"
   },
   "source": [
    "## __5. Data Cleaning__\n",
    "\n",
    "This includes correcting typographical errors, standardizing date formats, and resolving inconsistencies in categorical data labeling.\n",
    "- Standardizing data formats and units ensures consistency and facilitates analysis."
   ]
  },
  {
   "cell_type": "code",
   "execution_count": null,
   "id": "1a1e06d9-42a4-4845-9ba2-2cdb515a303b",
   "metadata": {
    "id": "1a1e06d9-42a4-4845-9ba2-2cdb515a303b"
   },
   "outputs": [],
   "source": [
    "# Cleaning data by standardizing data to datetime format\n",
    "\n",
    "df_no_duplicates['date'] = df_no_duplicates['date'].astype('datetime64[ns]')\n",
    "df_no_duplicates.info()"
   ]
  },
  {
   "cell_type": "code",
   "execution_count": null,
   "id": "6900715b-e65a-4533-b1b6-61ebf7d68780",
   "metadata": {
    "id": "6900715b-e65a-4533-b1b6-61ebf7d68780"
   },
   "outputs": [],
   "source": [
    "# Displaying the DataFrame after cleaning\n",
    "print(\"DataFrame after cleaning data by standardizing formats:\")\n",
    "df_no_duplicates.head()"
   ]
  },
  {
   "cell_type": "markdown",
   "id": "2bee3e01-85d1-49c4-b598-6faa4a0e13ae",
   "metadata": {
    "id": "2bee3e01-85d1-49c4-b598-6faa4a0e13ae"
   },
   "source": [
    "## __6. Data Transformation__\n",
    "\n",
    "Data transformation includes converting data types, creating new features through feature engineering, and normalizing or scaling numeric values as needed."
   ]
  },
  {
   "cell_type": "code",
   "execution_count": null,
   "id": "1f9034ee-a8e8-4bbf-9564-3ebba6ae992f",
   "metadata": {
    "id": "1f9034ee-a8e8-4bbf-9564-3ebba6ae992f"
   },
   "outputs": [],
   "source": [
    "# Creating a new feature (log(\"price\"))\n",
    "# Check if 'price' column exists in the DataFrame\n",
    "import numpy as np\n",
    "if 'price' in df.columns:\n",
    "    # Use the natural logarithm to create a new feature 'Log_Price'\n",
    "    df['Log_Price'] = df['price'].apply(lambda x: 0.0 if x == 0.0 else np.log(x))\n",
    "else:\n",
    "    print(\"The 'price' column does not exist in the DataFrame.\")\n",
    "df.head()"
   ]
  },
  {
   "cell_type": "code",
   "execution_count": null,
   "id": "c4d0be3b-e0b7-406d-ba1e-9e8d33cb228f",
   "metadata": {
    "id": "c4d0be3b-e0b7-406d-ba1e-9e8d33cb228f"
   },
   "outputs": [],
   "source": [
    "# Normalizing numeric values: example for the \"price\" value\n",
    "# Check if 'price' column exists in the DataFrame\n",
    "import numpy as np\n",
    "if 'price' in df.columns:\n",
    "\n",
    "    # Normalize 'price' column and create a new feature 'Normalized_Price'\n",
    "    df['Normalized_Price'] = (df['price'] - df['price'].min()) / (df['price'].max() - df['price'].min())\n",
    "else:\n",
    "    print(\"The 'price' column does not exist in the DataFrame.\")\n",
    "df.head()"
   ]
  },
  {
   "cell_type": "code",
   "execution_count": null,
   "id": "30142f34",
   "metadata": {},
   "outputs": [],
   "source": [
    "# plot a histogram of df['Normalized_Price']\n",
    "import matplotlib.pyplot as plt\n",
    "\n",
    "plt.figure(figsize=(10, 6))\n",
    "plt.hist(df['Normalized_Price'], bins=10, edgecolor='black')\n",
    "plt.title('Distribution of Normalized House Prices')\n",
    "plt.xlabel('Normalized Price')\n",
    "plt.ylabel('Frequency')\n",
    "plt.grid(True, alpha=0.3)\n",
    "plt.show()\n"
   ]
  },
  {
   "cell_type": "code",
   "execution_count": null,
   "id": "8412e95c-387d-495d-a7e2-6dd4be5c9aa2",
   "metadata": {
    "id": "8412e95c-387d-495d-a7e2-6dd4be5c9aa2"
   },
   "outputs": [],
   "source": [
    "# Other alternative: standardizing numeric values: example for the \"price\" value\n",
    "# Check if 'price' column exists in the DataFrame\n",
    "import numpy as np\n",
    "if 'price' in df.columns:\n",
    "\n",
    "    # Normalize 'price' column and create a new feature 'Normalized_Price'\n",
    "    df['Standardized_Price'] = (df['price'] - df['price'].mean()) / df['price'].std()\n",
    "else:\n",
    "    print(\"The 'price' column does not exist in the DataFrame.\")\n",
    "df.head()"
   ]
  },
  {
   "cell_type": "markdown",
   "id": "1ee6cb49-8f47-4f7e-89a7-973ca1e2c940",
   "metadata": {
    "id": "1ee6cb49-8f47-4f7e-89a7-973ca1e2c940"
   },
   "source": [
    "## __7. Data Binning__\n",
    "Data binning, also known as discretization, is a technique in data transformation to convert continuous numerical data into discrete bins or intervals.\n",
    "- This process helps simplify the analysis of trends, handle outliers, and make data more suitable for certain types of analyses or machine learning algorithms.\n",
    "- It involves grouping numeric values into predefined ranges, creating a categorical representation of the data."
   ]
  },
  {
   "cell_type": "code",
   "execution_count": null,
   "id": "70655820-f5ee-406c-9972-c4c689380dd8",
   "metadata": {
    "id": "70655820-f5ee-406c-9972-c4c689380dd8"
   },
   "outputs": [],
   "source": [
    "# Data Binning: Creating bins for the 'price' column\n",
    "# Check if 'price' column exists in the DataFrame\n",
    "if 'price' in df.columns:\n",
    "    # Define bin edges\n",
    "    bin_edges = [0, 100_000, 200_000, 300_000, 400_000, 500_000, np.inf]  # Adjust bin edges as needed\n",
    "\n",
    "    # Define bin labels\n",
    "    bin_labels = ['0-100K', '101-200K', '201-300K', '301-400K', '401-500K', '501K+']\n",
    "\n",
    "    # Create a new categorical column 'Price_Category' based on binning\n",
    "    df['Price_Category'] = pd.cut(df['price'], bins=bin_edges, labels=bin_labels, right=False)\n",
    "\n",
    "    # Displaying the DataFrame with the new 'Price_Category' column\n",
    "    print(\"DataFrame with Price_Category column:\")\n",
    "\n",
    "else:\n",
    "    print(\"The 'price' column does not exist in the DataFrame.\")\n",
    "df.head()"
   ]
  },
  {
   "cell_type": "code",
   "execution_count": null,
   "id": "1b53ef1b-c3af-4415-9320-d92e9ef26423",
   "metadata": {
    "id": "1b53ef1b-c3af-4415-9320-d92e9ef26423"
   },
   "outputs": [],
   "source": [
    "df['Price_Category'].value_counts()"
   ]
  },
  {
   "cell_type": "markdown",
   "id": "c4db68b9-d94c-42f6-b87f-5e7b87b73584",
   "metadata": {
    "id": "c4db68b9-d94c-42f6-b87f-5e7b87b73584"
   },
   "source": [
    "## __8. Handling Outliers__\n",
    "\n",
    "Outliers can significantly impact analysis and modeling. Identifying and addressing outliers is crucial for maintaining the accuracy of results.\n",
    "\n",
    "**Winsorization:** It is the transformation of statistics by limiting extreme values in the statistical data to reduce the effect of possibly spurious outliers."
   ]
  },
  {
   "cell_type": "markdown",
   "id": "b65583e6-1c27-46d3-bfd9-646c3deafeb1",
   "metadata": {
    "id": "b65583e6-1c27-46d3-bfd9-646c3deafeb1"
   },
   "source": [
    "<br>\n",
    "\n",
    "__Clipping__"
   ]
  },
  {
   "cell_type": "code",
   "execution_count": 37,
   "id": "1dbfd791-0921-4d5b-bf0b-5d7a4338e554",
   "metadata": {
    "id": "1dbfd791-0921-4d5b-bf0b-5d7a4338e554"
   },
   "outputs": [
    {
     "data": {
      "text/html": [
       "<div>\n",
       "<style scoped>\n",
       "    .dataframe tbody tr th:only-of-type {\n",
       "        vertical-align: middle;\n",
       "    }\n",
       "\n",
       "    .dataframe tbody tr th {\n",
       "        vertical-align: top;\n",
       "    }\n",
       "\n",
       "    .dataframe thead th {\n",
       "        text-align: right;\n",
       "    }\n",
       "</style>\n",
       "<table border=\"1\" class=\"dataframe\">\n",
       "  <thead>\n",
       "    <tr style=\"text-align: right;\">\n",
       "      <th></th>\n",
       "      <th>date</th>\n",
       "      <th>price</th>\n",
       "      <th>bedrooms</th>\n",
       "      <th>bathrooms</th>\n",
       "      <th>sqft_living</th>\n",
       "      <th>sqft_lot</th>\n",
       "      <th>floors</th>\n",
       "      <th>waterfront</th>\n",
       "      <th>view</th>\n",
       "      <th>condition</th>\n",
       "      <th>sqft_above</th>\n",
       "      <th>sqft_basement</th>\n",
       "      <th>yr_built</th>\n",
       "      <th>yr_renovated</th>\n",
       "      <th>street</th>\n",
       "      <th>city</th>\n",
       "      <th>statezip</th>\n",
       "      <th>country</th>\n",
       "    </tr>\n",
       "  </thead>\n",
       "  <tbody>\n",
       "    <tr>\n",
       "      <th>0</th>\n",
       "      <td>5/2/2014 0:00</td>\n",
       "      <td>313000.0</td>\n",
       "      <td>3</td>\n",
       "      <td>1.50</td>\n",
       "      <td>1340</td>\n",
       "      <td>7912.0</td>\n",
       "      <td>1.5</td>\n",
       "      <td>0</td>\n",
       "      <td>0</td>\n",
       "      <td>3</td>\n",
       "      <td>1340</td>\n",
       "      <td>0</td>\n",
       "      <td>1955</td>\n",
       "      <td>2005</td>\n",
       "      <td>18810 Densmore Ave N</td>\n",
       "      <td>Shoreline</td>\n",
       "      <td>WA 98133</td>\n",
       "      <td>USA</td>\n",
       "    </tr>\n",
       "    <tr>\n",
       "      <th>1</th>\n",
       "      <td>5/2/2014 0:00</td>\n",
       "      <td>2384000.0</td>\n",
       "      <td>5</td>\n",
       "      <td>2.50</td>\n",
       "      <td>3650</td>\n",
       "      <td>9050.0</td>\n",
       "      <td>2.0</td>\n",
       "      <td>0</td>\n",
       "      <td>4</td>\n",
       "      <td>5</td>\n",
       "      <td>3370</td>\n",
       "      <td>280</td>\n",
       "      <td>1921</td>\n",
       "      <td>0</td>\n",
       "      <td>709 W Blaine St</td>\n",
       "      <td>Seattle</td>\n",
       "      <td>WA 98119</td>\n",
       "      <td>USA</td>\n",
       "    </tr>\n",
       "    <tr>\n",
       "      <th>2</th>\n",
       "      <td>5/2/2014 0:00</td>\n",
       "      <td>342000.0</td>\n",
       "      <td>3</td>\n",
       "      <td>2.00</td>\n",
       "      <td>1930</td>\n",
       "      <td>11947.0</td>\n",
       "      <td>1.0</td>\n",
       "      <td>0</td>\n",
       "      <td>0</td>\n",
       "      <td>4</td>\n",
       "      <td>1930</td>\n",
       "      <td>0</td>\n",
       "      <td>1966</td>\n",
       "      <td>0</td>\n",
       "      <td>26206-26214 143rd Ave SE</td>\n",
       "      <td>Kent</td>\n",
       "      <td>WA 98042</td>\n",
       "      <td>USA</td>\n",
       "    </tr>\n",
       "    <tr>\n",
       "      <th>3</th>\n",
       "      <td>5/2/2014 0:00</td>\n",
       "      <td>420000.0</td>\n",
       "      <td>3</td>\n",
       "      <td>2.25</td>\n",
       "      <td>2000</td>\n",
       "      <td>8030.0</td>\n",
       "      <td>1.0</td>\n",
       "      <td>0</td>\n",
       "      <td>0</td>\n",
       "      <td>4</td>\n",
       "      <td>1000</td>\n",
       "      <td>1000</td>\n",
       "      <td>1963</td>\n",
       "      <td>0</td>\n",
       "      <td>857 170th Pl NE</td>\n",
       "      <td>Bellevue</td>\n",
       "      <td>WA 98008</td>\n",
       "      <td>USA</td>\n",
       "    </tr>\n",
       "    <tr>\n",
       "      <th>4</th>\n",
       "      <td>5/2/2014 0:00</td>\n",
       "      <td>550000.0</td>\n",
       "      <td>4</td>\n",
       "      <td>2.50</td>\n",
       "      <td>1940</td>\n",
       "      <td>10500.0</td>\n",
       "      <td>1.0</td>\n",
       "      <td>0</td>\n",
       "      <td>0</td>\n",
       "      <td>4</td>\n",
       "      <td>1140</td>\n",
       "      <td>800</td>\n",
       "      <td>1976</td>\n",
       "      <td>1992</td>\n",
       "      <td>9105 170th Ave NE</td>\n",
       "      <td>Redmond</td>\n",
       "      <td>WA 98052</td>\n",
       "      <td>USA</td>\n",
       "    </tr>\n",
       "  </tbody>\n",
       "</table>\n",
       "</div>"
      ],
      "text/plain": [
       "            date      price  bedrooms  bathrooms  sqft_living  sqft_lot  \\\n",
       "0  5/2/2014 0:00   313000.0         3       1.50         1340    7912.0   \n",
       "1  5/2/2014 0:00  2384000.0         5       2.50         3650    9050.0   \n",
       "2  5/2/2014 0:00   342000.0         3       2.00         1930   11947.0   \n",
       "3  5/2/2014 0:00   420000.0         3       2.25         2000    8030.0   \n",
       "4  5/2/2014 0:00   550000.0         4       2.50         1940   10500.0   \n",
       "\n",
       "   floors  waterfront  view  condition  sqft_above  sqft_basement  yr_built  \\\n",
       "0     1.5           0     0          3        1340              0      1955   \n",
       "1     2.0           0     4          5        3370            280      1921   \n",
       "2     1.0           0     0          4        1930              0      1966   \n",
       "3     1.0           0     0          4        1000           1000      1963   \n",
       "4     1.0           0     0          4        1140            800      1976   \n",
       "\n",
       "   yr_renovated                    street       city  statezip country  \n",
       "0          2005      18810 Densmore Ave N  Shoreline  WA 98133     USA  \n",
       "1             0           709 W Blaine St    Seattle  WA 98119     USA  \n",
       "2             0  26206-26214 143rd Ave SE       Kent  WA 98042     USA  \n",
       "3             0           857 170th Pl NE   Bellevue  WA 98008     USA  \n",
       "4          1992         9105 170th Ave NE    Redmond  WA 98052     USA  "
      ]
     },
     "execution_count": 37,
     "metadata": {},
     "output_type": "execute_result"
    }
   ],
   "source": [
    "import pandas as pd\n",
    "df = pd.read_csv('../data/house_prices_1.csv')\n",
    "df.head()"
   ]
  },
  {
   "cell_type": "code",
   "execution_count": 38,
   "id": "c41a7cae-8caf-494d-a4bb-89f128cb15d1",
   "metadata": {
    "id": "c41a7cae-8caf-494d-a4bb-89f128cb15d1"
   },
   "outputs": [
    {
     "name": "stdout",
     "output_type": "stream",
     "text": [
      "DataFrame with winsorized column:\n"
     ]
    },
    {
     "data": {
      "text/html": [
       "<div>\n",
       "<style scoped>\n",
       "    .dataframe tbody tr th:only-of-type {\n",
       "        vertical-align: middle;\n",
       "    }\n",
       "\n",
       "    .dataframe tbody tr th {\n",
       "        vertical-align: top;\n",
       "    }\n",
       "\n",
       "    .dataframe thead th {\n",
       "        text-align: right;\n",
       "    }\n",
       "</style>\n",
       "<table border=\"1\" class=\"dataframe\">\n",
       "  <thead>\n",
       "    <tr style=\"text-align: right;\">\n",
       "      <th></th>\n",
       "      <th>date</th>\n",
       "      <th>price</th>\n",
       "      <th>bedrooms</th>\n",
       "      <th>bathrooms</th>\n",
       "      <th>sqft_living</th>\n",
       "      <th>sqft_lot</th>\n",
       "      <th>floors</th>\n",
       "      <th>waterfront</th>\n",
       "      <th>view</th>\n",
       "      <th>condition</th>\n",
       "      <th>sqft_above</th>\n",
       "      <th>sqft_basement</th>\n",
       "      <th>yr_built</th>\n",
       "      <th>yr_renovated</th>\n",
       "      <th>street</th>\n",
       "      <th>city</th>\n",
       "      <th>statezip</th>\n",
       "      <th>country</th>\n",
       "      <th>Winsorized_Price</th>\n",
       "    </tr>\n",
       "  </thead>\n",
       "  <tbody>\n",
       "    <tr>\n",
       "      <th>0</th>\n",
       "      <td>5/2/2014 0:00</td>\n",
       "      <td>313000.0</td>\n",
       "      <td>3</td>\n",
       "      <td>1.50</td>\n",
       "      <td>1340</td>\n",
       "      <td>7912.0</td>\n",
       "      <td>1.5</td>\n",
       "      <td>0</td>\n",
       "      <td>0</td>\n",
       "      <td>3</td>\n",
       "      <td>1340</td>\n",
       "      <td>0</td>\n",
       "      <td>1955</td>\n",
       "      <td>2005</td>\n",
       "      <td>18810 Densmore Ave N</td>\n",
       "      <td>Shoreline</td>\n",
       "      <td>WA 98133</td>\n",
       "      <td>USA</td>\n",
       "      <td>313000.0</td>\n",
       "    </tr>\n",
       "    <tr>\n",
       "      <th>1</th>\n",
       "      <td>5/2/2014 0:00</td>\n",
       "      <td>2384000.0</td>\n",
       "      <td>5</td>\n",
       "      <td>2.50</td>\n",
       "      <td>3650</td>\n",
       "      <td>9050.0</td>\n",
       "      <td>2.0</td>\n",
       "      <td>0</td>\n",
       "      <td>4</td>\n",
       "      <td>5</td>\n",
       "      <td>3370</td>\n",
       "      <td>280</td>\n",
       "      <td>1921</td>\n",
       "      <td>0</td>\n",
       "      <td>709 W Blaine St</td>\n",
       "      <td>Seattle</td>\n",
       "      <td>WA 98119</td>\n",
       "      <td>USA</td>\n",
       "      <td>1190000.0</td>\n",
       "    </tr>\n",
       "    <tr>\n",
       "      <th>2</th>\n",
       "      <td>5/2/2014 0:00</td>\n",
       "      <td>342000.0</td>\n",
       "      <td>3</td>\n",
       "      <td>2.00</td>\n",
       "      <td>1930</td>\n",
       "      <td>11947.0</td>\n",
       "      <td>1.0</td>\n",
       "      <td>0</td>\n",
       "      <td>0</td>\n",
       "      <td>4</td>\n",
       "      <td>1930</td>\n",
       "      <td>0</td>\n",
       "      <td>1966</td>\n",
       "      <td>0</td>\n",
       "      <td>26206-26214 143rd Ave SE</td>\n",
       "      <td>Kent</td>\n",
       "      <td>WA 98042</td>\n",
       "      <td>USA</td>\n",
       "      <td>342000.0</td>\n",
       "    </tr>\n",
       "    <tr>\n",
       "      <th>3</th>\n",
       "      <td>5/2/2014 0:00</td>\n",
       "      <td>420000.0</td>\n",
       "      <td>3</td>\n",
       "      <td>2.25</td>\n",
       "      <td>2000</td>\n",
       "      <td>8030.0</td>\n",
       "      <td>1.0</td>\n",
       "      <td>0</td>\n",
       "      <td>0</td>\n",
       "      <td>4</td>\n",
       "      <td>1000</td>\n",
       "      <td>1000</td>\n",
       "      <td>1963</td>\n",
       "      <td>0</td>\n",
       "      <td>857 170th Pl NE</td>\n",
       "      <td>Bellevue</td>\n",
       "      <td>WA 98008</td>\n",
       "      <td>USA</td>\n",
       "      <td>420000.0</td>\n",
       "    </tr>\n",
       "    <tr>\n",
       "      <th>4</th>\n",
       "      <td>5/2/2014 0:00</td>\n",
       "      <td>550000.0</td>\n",
       "      <td>4</td>\n",
       "      <td>2.50</td>\n",
       "      <td>1940</td>\n",
       "      <td>10500.0</td>\n",
       "      <td>1.0</td>\n",
       "      <td>0</td>\n",
       "      <td>0</td>\n",
       "      <td>4</td>\n",
       "      <td>1140</td>\n",
       "      <td>800</td>\n",
       "      <td>1976</td>\n",
       "      <td>1992</td>\n",
       "      <td>9105 170th Ave NE</td>\n",
       "      <td>Redmond</td>\n",
       "      <td>WA 98052</td>\n",
       "      <td>USA</td>\n",
       "      <td>550000.0</td>\n",
       "    </tr>\n",
       "  </tbody>\n",
       "</table>\n",
       "</div>"
      ],
      "text/plain": [
       "            date      price  bedrooms  bathrooms  sqft_living  sqft_lot  \\\n",
       "0  5/2/2014 0:00   313000.0         3       1.50         1340    7912.0   \n",
       "1  5/2/2014 0:00  2384000.0         5       2.50         3650    9050.0   \n",
       "2  5/2/2014 0:00   342000.0         3       2.00         1930   11947.0   \n",
       "3  5/2/2014 0:00   420000.0         3       2.25         2000    8030.0   \n",
       "4  5/2/2014 0:00   550000.0         4       2.50         1940   10500.0   \n",
       "\n",
       "   floors  waterfront  view  condition  sqft_above  sqft_basement  yr_built  \\\n",
       "0     1.5           0     0          3        1340              0      1955   \n",
       "1     2.0           0     4          5        3370            280      1921   \n",
       "2     1.0           0     0          4        1930              0      1966   \n",
       "3     1.0           0     0          4        1000           1000      1963   \n",
       "4     1.0           0     0          4        1140            800      1976   \n",
       "\n",
       "   yr_renovated                    street       city  statezip country  \\\n",
       "0          2005      18810 Densmore Ave N  Shoreline  WA 98133     USA   \n",
       "1             0           709 W Blaine St    Seattle  WA 98119     USA   \n",
       "2             0  26206-26214 143rd Ave SE       Kent  WA 98042     USA   \n",
       "3             0           857 170th Pl NE   Bellevue  WA 98008     USA   \n",
       "4          1992         9105 170th Ave NE    Redmond  WA 98052     USA   \n",
       "\n",
       "   Winsorized_Price  \n",
       "0          313000.0  \n",
       "1         1190000.0  \n",
       "2          342000.0  \n",
       "3          420000.0  \n",
       "4          550000.0  "
      ]
     },
     "execution_count": 38,
     "metadata": {},
     "output_type": "execute_result"
    }
   ],
   "source": [
    "# Handling outliers by winsorizing\n",
    "from scipy.stats.mstats import winsorize\n",
    "\n",
    "# Check if 'price' column exists in the DataFrame\n",
    "if 'price' in df.columns:\n",
    "    # Winsorizing the 'price' column with limits [0.05, 0.05]\n",
    "    # ie: replace values below the 5th percentile with the value of the 5th percentile\n",
    "    # and replace values above the 59th percentile with the value of the 95th percentile\n",
    "\n",
    "    df['Winsorized_Price'] = winsorize(df['price'].copy(), limits=[.05, .05])\n",
    "    # Displaying the DataFrame with the winsorized column\n",
    "    print(\"DataFrame with winsorized column:\")\n",
    "else:\n",
    "    print(\"The 'price' column does not exist in the DataFrame.\")\n",
    "df.head()"
   ]
  },
  {
   "cell_type": "markdown",
   "id": "7557400d-e28c-4c15-8c6b-27d0d1ccc5d8",
   "metadata": {
    "id": "7557400d-e28c-4c15-8c6b-27d0d1ccc5d8"
   },
   "source": [
    "<br>\n",
    "\n",
    "__Remove samples outside the interquartile range__"
   ]
  },
  {
   "cell_type": "code",
   "execution_count": 15,
   "id": "b93df30b-613c-404c-9ff1-33c5311d8e68",
   "metadata": {
    "id": "b93df30b-613c-404c-9ff1-33c5311d8e68"
   },
   "outputs": [
    {
     "data": {
      "image/png": "[encoded data removed]",
      "text/plain": [
       "<Figure size 1200x1000 with 1 Axes>"
      ]
     },
     "metadata": {},
     "output_type": "display_data"
    }
   ],
   "source": [
    "# Box plots\n",
    "import matplotlib.pyplot as plt\n",
    "plt.figure(figsize=(12,10))\n",
    "\n",
    "#sns.boxplot(data=df,x='condition',y='price')\n",
    "df.boxplot(['price'])\n",
    "plt.show()"
   ]
  },
  {
   "cell_type": "code",
   "execution_count": 39,
   "id": "bcab0a97-b272-42d3-b8a5-1108705b6bfa",
   "metadata": {
    "id": "bcab0a97-b272-42d3-b8a5-1108705b6bfa"
   },
   "outputs": [
    {
     "data": {
      "text/plain": [
       "np.float64(nan)"
      ]
     },
     "execution_count": 39,
     "metadata": {},
     "output_type": "execute_result"
    }
   ],
   "source": [
    "import numpy as np\n",
    "# Remark\n",
    "np.percentile(df['price'],5)"
   ]
  },
  {
   "cell_type": "code",
   "execution_count": 40,
   "id": "6ec1ab62-3c5a-4cc4-b42c-22b30bc7c50f",
   "metadata": {
    "id": "6ec1ab62-3c5a-4cc4-b42c-22b30bc7c50f"
   },
   "outputs": [
    {
     "data": {
      "text/plain": [
       "np.float64(1184050.0000000002)"
      ]
     },
     "execution_count": 40,
     "metadata": {},
     "output_type": "execute_result"
    }
   ],
   "source": [
    "np.nanpercentile(df['price'],95)"
   ]
  },
  {
   "cell_type": "code",
   "execution_count": 41,
   "id": "0af922d5-9715-4574-be95-9fb29fec983e",
   "metadata": {
    "id": "0af922d5-9715-4574-be95-9fb29fec983e"
   },
   "outputs": [],
   "source": [
    "#Create function that returnd the lower bound and upper bound of IQR\n",
    "def iqr(col):\n",
    "    Q1= np.nanpercentile(col, 25)\n",
    "    Q3= np.nanpercentile(col, 75)\n",
    "    IQR = Q3- Q1\n",
    "    lower_range = Q1 - 1.5 * IQR\n",
    "    upper_range = Q1 + 1.5 * IQR\n",
    "    return lower_range,upper_range"
   ]
  },
  {
   "cell_type": "code",
   "execution_count": 42,
   "id": "7068496d-e516-42b5-8f29-37a310494929",
   "metadata": {
    "id": "7068496d-e516-42b5-8f29-37a310494929"
   },
   "outputs": [
    {
     "name": "stdout",
     "output_type": "stream",
     "text": [
      "Lower Range: -172293.75006250007\n",
      "Upper Range: 819543.7500125\n"
     ]
    }
   ],
   "source": [
    "lr,ur = iqr(df['price'])\n",
    "print(\"Lower Range:\",lr)\n",
    "print(\"Upper Range:\",ur)"
   ]
  },
  {
   "cell_type": "code",
   "execution_count": 43,
   "id": "cb8773bd-c47f-435c-9f6f-b21467ff7f78",
   "metadata": {
    "id": "cb8773bd-c47f-435c-9f6f-b21467ff7f78"
   },
   "outputs": [
    {
     "ename": "SyntaxError",
     "evalue": "invalid syntax (331341046.py, line 2)",
     "output_type": "error",
     "traceback": [
      "\u001b[0;36m  Cell \u001b[0;32mIn[43], line 2\u001b[0;36m\u001b[0m\n\u001b[0;31m    outliers = # CODE HERE\u001b[0m\n\u001b[0m               ^\u001b[0m\n\u001b[0;31mSyntaxError\u001b[0m\u001b[0;31m:\u001b[0m invalid syntax\n"
     ]
    }
   ],
   "source": [
    "# Find outliers\n",
    "outliers =\n",
    "outliers.shape"
   ]
  },
  {
   "cell_type": "code",
   "execution_count": null,
   "id": "d5ffc596-3ca3-412c-83f2-b152c5be54bc",
   "metadata": {
    "id": "d5ffc596-3ca3-412c-83f2-b152c5be54bc"
   },
   "outputs": [],
   "source": [
    "# Remove outliers\n",
    "newdf = # CODE HERE\n",
    "newdf.shape"
   ]
  },
  {
   "cell_type": "code",
   "execution_count": null,
   "id": "0ea199c4-61ba-4fe9-8828-50eb42541836",
   "metadata": {
    "id": "0ea199c4-61ba-4fe9-8828-50eb42541836"
   },
   "outputs": [],
   "source": [
    "# Box plots\n",
    "newdf.boxplot(['price'])\n",
    "plt.show()"
   ]
  },
  {
   "cell_type": "markdown",
   "id": "8f942dd9-7040-491c-9ce3-70a77119b809",
   "metadata": {
    "id": "8f942dd9-7040-491c-9ce3-70a77119b809"
   },
   "source": [
    "<br>\n",
    "\n",
    "__Remove samples outside a certain number of times the standard deviation__"
   ]
  },
  {
   "cell_type": "code",
   "execution_count": null,
   "id": "09e5d641-170c-4d30-95a1-a2e3c1124d21",
   "metadata": {
    "id": "09e5d641-170c-4d30-95a1-a2e3c1124d21"
   },
   "outputs": [],
   "source": [
    "# Find samples such that the price deviates by more than 5 standard deviations from the mean\n",
    "# CODE HERE"
   ]
  },
  {
   "cell_type": "code",
   "execution_count": null,
   "id": "ab2db7a9-36f9-4bf9-8864-8d5ff455eb6f",
   "metadata": {
    "id": "ab2db7a9-36f9-4bf9-8864-8d5ff455eb6f"
   },
   "outputs": [],
   "source": [
    "# Remove samples such that the price deviates by more than 5 standard deviations from the mean\n",
    "newdf = # CODE HERE\n",
    "newdf.shape"
   ]
  },
  {
   "cell_type": "code",
   "execution_count": null,
   "id": "30dc6d69-daee-44d8-8278-6b19e5c78639",
   "metadata": {
    "id": "30dc6d69-daee-44d8-8278-6b19e5c78639"
   },
   "outputs": [],
   "source": [
    "# Box plots\n",
    "newdf.boxplot(['price'])\n",
    "plt.show()"
   ]
  },
  {
   "cell_type": "code",
   "execution_count": null,
   "id": "eeb7e854-6e3a-49c3-b15c-5db54c4a62f4",
   "metadata": {
    "id": "eeb7e854-6e3a-49c3-b15c-5db54c4a62f4"
   },
   "outputs": [],
   "source": [
    "# Remove samples such that the price deviates by more than 2 standard deviations from the mean\n",
    "newdf = # CODE HERE\n",
    "newdf.shape\n",
    "newdf.boxplot(['price'])\n",
    "plt.show()"
   ]
  },
  {
   "cell_type": "markdown",
   "id": "VRx1EHA3U0dL",
   "metadata": {
    "id": "VRx1EHA3U0dL"
   },
   "source": [
    "## __9. Pandas Joining Techniques__"
   ]
  },
  {
   "cell_type": "markdown",
   "id": "B4D4A_AXU6_C",
   "metadata": {
    "id": "B4D4A_AXU6_C"
   },
   "source": [
    "Pandas provides various joining techniques, such as merging, joining, and concatenating, which allow datasets to be combined using one or more keys. Each method has unique behaviors and applications.\n",
    "\n",
    "\n",
    "- **Concatenate**: It appends DataFrames vertically or horizontally, offering a straightforward way to combine datasets with distinct columns or indices without regard for overlapping keys or index values.\n",
    "\n",
    "- **Merge**: It combines DataFrames by aligning columns with shared keys, allowing for detailed control over overlapping column names and the use of multiple keys.\n",
    "\n",
    "- **Join**: It aligns DataFrames based on their index values, making it ideal for coordinating data with corresponding indices.\n",
    "\n",
    "These techniques are essential for integrating and analyzing different datasets. They enable a thorough understanding and help in making informed decisions in data-driven applications."
   ]
  },
  {
   "cell_type": "markdown",
   "id": "f451b3ac-5ee5-4812-b42a-b8216f86680e",
   "metadata": {
    "id": "f451b3ac-5ee5-4812-b42a-b8216f86680e"
   },
   "source": [
    "### __9.1 Pandas Concatenate__\n",
    "\n",
    "- The __pd.concat()__ method combines DataFrames along rows or columns, preserving indices and columns.\n",
    "- Specify axis=0 to concatenate along rows (vertical concatenation) or axis=1 to concatenate along columns (horizontal concatenation)."
   ]
  },
  {
   "cell_type": "code",
   "execution_count": null,
   "id": "_eTSgUGFVNIz",
   "metadata": {
    "id": "_eTSgUGFVNIz"
   },
   "outputs": [],
   "source": [
    "df1 = pd.DataFrame(\n",
    "   {\n",
    "       \"A\": [\"A0\", \"A1\", \"A2\", \"A3\"],\n",
    "       \"B\": [\"B0\", \"B1\", \"B2\", \"B3\"],\n",
    "       \"C\": [\"C0\", \"C1\", \"C2\", \"C3\"],\n",
    "       \"D\": [\"D0\", \"D1\", \"D2\", \"D3\"],\n",
    "   },\n",
    "   index=[0, 1, 2, 3],\n",
    ")\n",
    "\n",
    "df2 = pd.DataFrame(\n",
    "   {\n",
    "       \"A\": [\"A4\", \"A5\", \"A6\", \"A7\"],\n",
    "       \"B\": [\"B4\", \"B5\", \"B6\", \"B7\"],\n",
    "       \"C\": [\"C4\", \"C5\", \"C6\", \"C7\"],\n",
    "       \"D\": [\"D4\", \"D5\", \"D6\", \"D7\"],\n",
    "   },\n",
    "   index=[4, 5, 6, 7],\n",
    ")\n",
    "\n",
    "df3 = pd.DataFrame(\n",
    "   {\n",
    "       \"A\": [\"A8\", \"A9\", \"A10\", \"A11\"],\n",
    "       \"B\": [\"B8\", \"B9\", \"B10\", \"B11\"],\n",
    "       \"C\": [\"C8\", \"C9\", \"C10\", \"C11\"],\n",
    "       \"D\": [\"D8\", \"D9\", \"D10\", \"D11\"],\n",
    "   },\n",
    "   index=[8, 9, 10, 11],\n",
    ")"
   ]
  },
  {
   "cell_type": "code",
   "execution_count": null,
   "id": "lrDEXKvBVNUU",
   "metadata": {
    "id": "lrDEXKvBVNUU"
   },
   "outputs": [],
   "source": [
    "frames = [df1, df2, df3]\n",
    "Result = pd.concat(frames)\n",
    "print(Result)"
   ]
  },
  {
   "cell_type": "markdown",
   "id": "HhyRin8pVVya",
   "metadata": {
    "id": "HhyRin8pVVya"
   },
   "source": [
    "![link text](https://labcontent.simplicdn.net/data-content/content-assets/Data_and_AI/ADSP_Images/Lesson_09_Data_Wrangling/Concatenate.png)"
   ]
  },
  {
   "cell_type": "markdown",
   "id": "0wlAQhwMVar6",
   "metadata": {
    "id": "0wlAQhwMVar6"
   },
   "source": [
    "Here's another example illustrating concatenation along both the vertical and horizontal axes."
   ]
  },
  {
   "cell_type": "code",
   "execution_count": null,
   "id": "b_Wa5sEqVNW_",
   "metadata": {
    "id": "b_Wa5sEqVNW_"
   },
   "outputs": [],
   "source": [
    "import pandas as pd\n",
    "\n",
    "# Create two sample DataFrames\n",
    "df1 = pd.DataFrame({'A': [1, 2, 3],\n",
    "                    'B': [4, 5, 6]})\n",
    "\n",
    "df2 = pd.DataFrame({'A': [7, 8, 9],\n",
    "                    'B': [10, 11, 12]})\n",
    "\n",
    "# Concatenate along rows (stack vertically)\n",
    "Result_row = pd.concat([df1, df2], axis=0)"
   ]
  },
  {
   "cell_type": "code",
   "execution_count": null,
   "id": "95kfIQc3VNZw",
   "metadata": {
    "id": "95kfIQc3VNZw"
   },
   "outputs": [],
   "source": [
    "# Concatenate along columns (stack horizontally)\n",
    "Result_column = pd.concat([df1, df2], axis=1)\n",
    "\n",
    "print(\"\\nDataframe 1:\")\n",
    "print(df1)\n",
    "print(\"\\nDataframe 2:\")\n",
    "print(df2)\n",
    "\n",
    "print(\"\\nConcatenated along rows:\")\n",
    "print(Result_row)\n",
    "\n",
    "print(\"\\nConcatenated along columns:\")\n",
    "print(Result_column)"
   ]
  },
  {
   "cell_type": "markdown",
   "id": "t-VGX5ieVnvK",
   "metadata": {
    "id": "t-VGX5ieVnvK"
   },
   "source": [
    "### __9.2 Pandas Merge DataFrames__\n",
    "\n",
    "- Utilize the  **pd.merge()** method to merge DataFrames based on specific keys or columns.\n",
    "- Specify the join type in Pandas merge, which controls how rows from two DataFrames are combined.\n",
    "- This ensures data alignment and prevents unintended outcomes.\n",
    "- Choose the appropriate `how` parameter to specify the type of join.\n",
    "- Specify the `on` parameter to indicate the column(s) to merge on.\n",
    "\n",
    "\n",
    "\n",
    "**Types of Pandas Join**\n",
    "\n",
    "There are various join logics available to merge Pandas DataFrames:\n",
    "\n",
    "- Full Outer Join: It merges all rows from both DataFrames, using NaN to fill in missing values when no match is found.\n",
    "\n",
    "- Inner Join: It combines matching rows from DataFrame 1 and DataFrame 2 based on a common key column.\n",
    "\n",
    "- Right Join: It retains all rows from the right DataFrame, merges on common keys, and fills missing values with NaN.\n",
    "\n",
    "- Left Join: It retains all rows from the left DataFrame, merging matching rows from the right and filling unmatched values with NaN.\n",
    "\n",
    "- Cross: It creates the cartesian product of the rows of both frames."
   ]
  },
  {
   "cell_type": "code",
   "execution_count": null,
   "id": "RE33a_66VNc_",
   "metadata": {
    "id": "RE33a_66VNc_"
   },
   "outputs": [],
   "source": [
    "left = pd.DataFrame(\n",
    "   {\n",
    "      \"key1\": [\"K0\", \"K0\", \"K1\", \"K2\"],\n",
    "      \"key2\": [\"K0\", \"K1\", \"K0\", \"K1\"],\n",
    "      \"A\": [\"A0\", \"A1\", \"A2\", \"A3\"],\n",
    "      \"B\": [\"B0\", \"B1\", \"B2\", \"B3\"],\n",
    "   }\n",
    ")\n",
    "right = pd.DataFrame(\n",
    "   {\n",
    "      \"key1\": [\"K0\", \"K1\", \"K1\", \"K2\"],\n",
    "      \"key2\": [\"K0\", \"K0\", \"K0\", \"K0\"],\n",
    "      \"C\": [\"C0\", \"C1\", \"C2\", \"C3\"],\n",
    "      \"D\": [\"D0\", \"D1\", \"D2\", \"D3\"],\n",
    "   }\n",
    ")\n",
    "print(\"\\nDataframe 1:\")\n",
    "print(left)\n",
    "print(\"\\nDataframe 2:\")\n",
    "print(right)"
   ]
  },
  {
   "cell_type": "markdown",
   "id": "IrCdll-3WBoP",
   "metadata": {
    "id": "IrCdll-3WBoP"
   },
   "source": [
    "**Inner Join**"
   ]
  },
  {
   "cell_type": "code",
   "execution_count": null,
   "id": "c8hX2J-QVysg",
   "metadata": {
    "id": "c8hX2J-QVysg"
   },
   "outputs": [],
   "source": [
    "Result = pd.merge(left, right, how=\"inner\", on=[\"key1\", \"key2\"])\n",
    "print(Result)"
   ]
  },
  {
   "cell_type": "markdown",
   "id": "lywUkrmTWEvG",
   "metadata": {
    "id": "lywUkrmTWEvG"
   },
   "source": [
    "The pictorial representation of the above output is as shown below:"
   ]
  },
  {
   "cell_type": "markdown",
   "id": "2fPteNG-WLUo",
   "metadata": {
    "id": "2fPteNG-WLUo"
   },
   "source": [
    "![link text](https://labcontent.simplicdn.net/data-content/content-assets/Data_and_AI/ADSP_Images/Lesson_09_Data_Wrangling/merge_inner.png)"
   ]
  },
  {
   "cell_type": "markdown",
   "id": "EUd7g0uSWT6g",
   "metadata": {
    "id": "EUd7g0uSWT6g"
   },
   "source": [
    "**Right Join**"
   ]
  },
  {
   "cell_type": "code",
   "execution_count": null,
   "id": "GsZoGFsiVyvR",
   "metadata": {
    "id": "GsZoGFsiVyvR"
   },
   "outputs": [],
   "source": [
    "Result = pd.merge(left, right, how=\"right\", on=[\"key1\", \"key2\"])\n",
    "print(Result)"
   ]
  },
  {
   "cell_type": "markdown",
   "id": "3FRb7c0tWW0_",
   "metadata": {
    "id": "3FRb7c0tWW0_"
   },
   "source": [
    "The pictorial representation of the above output is as shown below:"
   ]
  },
  {
   "cell_type": "markdown",
   "id": "gzx2WuihWZK6",
   "metadata": {
    "id": "gzx2WuihWZK6"
   },
   "source": [
    "![link text](https://labcontent.simplicdn.net/data-content/content-assets/Data_and_AI/ADSP_Images/Lesson_09_Data_Wrangling/merge_right.png)"
   ]
  },
  {
   "cell_type": "markdown",
   "id": "hTUPVbvKWf8E",
   "metadata": {
    "id": "hTUPVbvKWf8E"
   },
   "source": [
    "**Left Join**"
   ]
  },
  {
   "cell_type": "code",
   "execution_count": null,
   "id": "kkuko9R1Wgq4",
   "metadata": {
    "id": "kkuko9R1Wgq4"
   },
   "outputs": [],
   "source": [
    "Result = pd.merge(left, right, how=\"left\", on=[\"key1\", \"key2\"])\n",
    "print(Result)"
   ]
  },
  {
   "cell_type": "markdown",
   "id": "aU5g3ycyW1eC",
   "metadata": {
    "id": "aU5g3ycyW1eC"
   },
   "source": [
    "The pictorial representation of the above output is as shown below:"
   ]
  },
  {
   "cell_type": "markdown",
   "id": "qflM3uDXW1-n",
   "metadata": {
    "id": "qflM3uDXW1-n"
   },
   "source": [
    "![link text](https://labcontent.simplicdn.net/data-content/content-assets/Data_and_AI/ADSP_Images/Lesson_09_Data_Wrangling/merge_letf.png)"
   ]
  },
  {
   "cell_type": "markdown",
   "id": "NbJBgQJiW784",
   "metadata": {
    "id": "NbJBgQJiW784"
   },
   "source": [
    "**Cross**"
   ]
  },
  {
   "cell_type": "code",
   "execution_count": null,
   "id": "a27MFT4tW9CI",
   "metadata": {
    "id": "a27MFT4tW9CI"
   },
   "outputs": [],
   "source": [
    "Result = pd.merge(left, right, how=\"cross\")\n",
    "print(Result)"
   ]
  },
  {
   "cell_type": "markdown",
   "id": "5sD1SpdIXBU-",
   "metadata": {
    "id": "5sD1SpdIXBU-"
   },
   "source": [
    "The pictorial representation of the above output is as shown below:"
   ]
  },
  {
   "cell_type": "markdown",
   "id": "zVXeIW1OXD62",
   "metadata": {
    "id": "zVXeIW1OXD62"
   },
   "source": [
    "![link text](https://labcontent.simplicdn.net/data-content/content-assets/Data_and_AI/ADSP_Images/Lesson_09_Data_Wrangling/merge_cross.png)"
   ]
  },
  {
   "cell_type": "markdown",
   "id": "x7K5h8xAXILr",
   "metadata": {
    "id": "x7K5h8xAXILr"
   },
   "source": [
    "**Full Outer Join**"
   ]
  },
  {
   "cell_type": "code",
   "execution_count": null,
   "id": "EGeb_gHZXLnh",
   "metadata": {
    "id": "EGeb_gHZXLnh"
   },
   "outputs": [],
   "source": [
    "Result = pd.merge(left, right, how=\"outer\", on=[\"key1\", \"key2\"])\n",
    "print(Result)"
   ]
  },
  {
   "cell_type": "markdown",
   "id": "KPRGbtttXNOq",
   "metadata": {
    "id": "KPRGbtttXNOq"
   },
   "source": [
    "The pictorial representation of the above output is as shown below:"
   ]
  },
  {
   "cell_type": "markdown",
   "id": "gP97q6YkXQrR",
   "metadata": {
    "id": "gP97q6YkXQrR"
   },
   "source": [
    "![link text](https://labcontent.simplicdn.net/data-content/content-assets/Data_and_AI/ADSP_Images/Lesson_09_Data_Wrangling/outer_merge.png)\n"
   ]
  },
  {
   "cell_type": "markdown",
   "id": "dqp7sckDXnPW",
   "metadata": {
    "id": "dqp7sckDXnPW"
   },
   "source": [
    "### __9.3 Pandas Join DataFrames__\n",
    "\n",
    "- Use the __join()__ method to join DataFrames based on their indices\n",
    "- Specify the `how` parameter to determine the type of join, similar to __pd.merge()__\n",
    "- Use the `on` parameter if joining on specific columns, or simply call __join()__ without parameters to perform a simple index-based join\n",
    "\n",
    "\n"
   ]
  },
  {
   "cell_type": "code",
   "execution_count": null,
   "id": "72nYL938Xp6j",
   "metadata": {
    "id": "72nYL938Xp6j"
   },
   "outputs": [],
   "source": [
    "left = pd.DataFrame(\n",
    "    {\n",
    "        \"A\": [\"A0\", \"A1\", \"A2\", \"A3\"],\n",
    "        \"B\": [\"B0\", \"B1\", \"B2\", \"B3\"],\n",
    "        \"key\": [\"K0\", \"K1\", \"K0\", \"K1\"],\n",
    "    }\n",
    ")\n",
    "right = pd.DataFrame({\"C\": [\"C0\", \"C1\"],\n",
    "                      \"D\": [\"D0\", \"D1\"]},\n",
    "                      index=[\"K0\", \"K1\"])"
   ]
  },
  {
   "cell_type": "code",
   "execution_count": null,
   "id": "h3igD3HJX0BX",
   "metadata": {
    "id": "h3igD3HJX0BX"
   },
   "outputs": [],
   "source": [
    "Result = left.join(right, on=\"key\")\n",
    "print(Result)"
   ]
  },
  {
   "cell_type": "markdown",
   "id": "i9Ny5_J2X6lK",
   "metadata": {
    "id": "i9Ny5_J2X6lK"
   },
   "source": [
    "The pictorial representation of the above output is as shown below:"
   ]
  },
  {
   "cell_type": "markdown",
   "id": "FuauE1uyX626",
   "metadata": {
    "id": "FuauE1uyX626"
   },
   "source": [
    "![link text](https://labcontent.simplicdn.net/data-content/content-assets/Data_and_AI/ADSP_Images/Lesson_09_Data_Wrangling/join.png)"
   ]
  },
  {
   "cell_type": "code",
   "execution_count": null,
   "id": "18885741-5c2a-4992-9ebd-2f24f9f56c4e",
   "metadata": {
    "id": "18885741-5c2a-4992-9ebd-2f24f9f56c4e"
   },
   "outputs": [],
   "source": [
    "import pandas as pd\n",
    "\n",
    "# Assuming you have two DataFrames df1 and df2 with a common column 'common_column'\n",
    "# Adjust column names and DataFrames based on your actual data\n",
    "\n",
    "# DataFrames\n",
    "df1 = pd.DataFrame({'Common_column': [1, 2, 3], 'Data1': ['A', 'B', 'C']})\n",
    "df2 = pd.DataFrame({'Common_column': [2, 3, 4], 'Data2': ['X', 'Y', 'Z']})"
   ]
  },
  {
   "cell_type": "code",
   "execution_count": null,
   "id": "353df556-1afb-4f89-9915-c7a3b26364f7",
   "metadata": {
    "id": "353df556-1afb-4f89-9915-c7a3b26364f7",
    "outputId": "9fe3c740-28e5-44da-a077-297ca36726bd"
   },
   "outputs": [],
   "source": [
    "df1.head()"
   ]
  },
  {
   "cell_type": "code",
   "execution_count": null,
   "id": "fbeb45ef-d8f3-4b4c-bf49-e96c42bf7f60",
   "metadata": {
    "id": "fbeb45ef-d8f3-4b4c-bf49-e96c42bf7f60",
    "outputId": "d663f984-12ad-4aaf-a911-20ea6e9f0897"
   },
   "outputs": [],
   "source": [
    "df2.head()"
   ]
  },
  {
   "cell_type": "code",
   "execution_count": null,
   "id": "06263c3a-7fd0-4914-a04c-7404af41cb1d",
   "metadata": {
    "id": "06263c3a-7fd0-4914-a04c-7404af41cb1d"
   },
   "outputs": [],
   "source": [
    "# Merging DataFrames based on the common column with an inner join\n",
    "merged_df = #CODE HERE"
   ]
  },
  {
   "cell_type": "code",
   "execution_count": null,
   "id": "94215491-bb81-47c5-8f18-d00551c02649",
   "metadata": {
    "id": "94215491-bb81-47c5-8f18-d00551c02649"
   },
   "outputs": [],
   "source": [
    "# Displaying the merged DataFrame\n",
    "print(\"Merged DataFrame:\")\n",
    "merged_df"
   ]
  },
  {
   "cell_type": "markdown",
   "id": "9b3783f5-c4a8-49bb-bafb-cd05c6b300a4",
   "metadata": {
    "id": "9b3783f5-c4a8-49bb-bafb-cd05c6b300a4"
   },
   "source": [
    "## __10. Aggregating Data__\n",
    "\n",
    "Aggregating data involves summarizing or grouping data based on specific criteria. This is useful for creating meaningful insights and reducing data dimensionality.\n",
    "\n",
    "- Common aggregation functions include average(mean), median, minimum(min), maximum(max), sum, standard deviation(std), variance(var), and count."
   ]
  },
  {
   "cell_type": "code",
   "execution_count": null,
   "id": "0e9a7453-04bd-4227-a199-4e5b9159b064",
   "metadata": {
    "id": "0e9a7453-04bd-4227-a199-4e5b9159b064"
   },
   "outputs": [],
   "source": [
    "import pandas as pd\n",
    "\n",
    "# Assuming you have a DataFrame 'df' with a 'Category' column\n",
    "# Adjust column names and DataFrame based on your actual data\n",
    "\n",
    "# DataFrame\n",
    "df = pd.DataFrame({'Category': ['A', 'B', 'A', 'B', 'A'],\n",
    "                   'Value': [10, 15, 20, 25, 30]})"
   ]
  },
  {
   "cell_type": "code",
   "execution_count": null,
   "id": "eecbd8f2-23c0-4537-a31a-baf25c338ecf",
   "metadata": {
    "id": "eecbd8f2-23c0-4537-a31a-baf25c338ecf"
   },
   "outputs": [],
   "source": [
    "df.head()"
   ]
  },
  {
   "cell_type": "code",
   "execution_count": null,
   "id": "c9d95a7b-0b15-4667-9a30-2b79933ef3bb",
   "metadata": {
    "id": "c9d95a7b-0b15-4667-9a30-2b79933ef3bb"
   },
   "outputs": [],
   "source": [
    "df.groupby('Category')"
   ]
  },
  {
   "cell_type": "code",
   "execution_count": null,
   "id": "a96651e1-c81b-48bf-aab4-73270e1df00c",
   "metadata": {
    "id": "a96651e1-c81b-48bf-aab4-73270e1df00c"
   },
   "outputs": [],
   "source": [
    "df.groupby('Category').count()"
   ]
  },
  {
   "cell_type": "code",
   "execution_count": null,
   "id": "ea613acb-02f8-4f9a-86fa-84f63ccc17cf",
   "metadata": {
    "id": "ea613acb-02f8-4f9a-86fa-84f63ccc17cf"
   },
   "outputs": [],
   "source": [
    "df.groupby('Category').mean()"
   ]
  },
  {
   "cell_type": "code",
   "execution_count": null,
   "id": "lcAaRONXYObp",
   "metadata": {
    "id": "lcAaRONXYObp"
   },
   "outputs": [],
   "source": [
    "# Grouping the DataFrame by 'Category' and calculating various aggregations\n",
    "df_aggregated = df.groupby('Category').agg({\n",
    "    'Value': ['mean', 'median', 'min', 'max', 'sum', 'std', 'var', 'count']\n",
    "})\n",
    "\n",
    "# Displaying the aggregated DataFrame\n",
    "print(\"Aggregated DataFrame:\")\n",
    "df_aggregated"
   ]
  },
  {
   "cell_type": "markdown",
   "id": "4440ff9c-f2b4-4b04-a546-d98bd5fb5429",
   "metadata": {
    "id": "4440ff9c-f2b4-4b04-a546-d98bd5fb5429"
   },
   "source": [
    "<br>\n",
    "\n",
    "__Other example__"
   ]
  },
  {
   "cell_type": "code",
   "execution_count": null,
   "id": "6671508c-7e40-446f-bb2a-6586cd9707f4",
   "metadata": {
    "id": "6671508c-7e40-446f-bb2a-6586cd9707f4"
   },
   "outputs": [],
   "source": [
    "newdf.groupby('city').count()"
   ]
  },
  {
   "cell_type": "code",
   "execution_count": null,
   "id": "22a08ba8-915a-4f44-b09a-d08579bfafc5",
   "metadata": {
    "id": "22a08ba8-915a-4f44-b09a-d08579bfafc5"
   },
   "outputs": [],
   "source": [
    "newdf.groupby('city').count()['price'].head(7)"
   ]
  },
  {
   "cell_type": "code",
   "execution_count": null,
   "id": "a43bb65d-f103-4e84-ac3a-c747ccd97ffa",
   "metadata": {
    "id": "a43bb65d-f103-4e84-ac3a-c747ccd97ffa"
   },
   "outputs": [],
   "source": [
    "# Remark: you can use whichever column\n",
    "newdf.groupby('city').count()['date'].head(7)"
   ]
  },
  {
   "cell_type": "code",
   "execution_count": null,
   "id": "71fc7bea-f559-4d54-95ac-1888953afe36",
   "metadata": {
    "id": "71fc7bea-f559-4d54-95ac-1888953afe36"
   },
   "outputs": [],
   "source": [
    "# ALternatively\n",
    "newdf[['price','city']].groupby('city').count().head(7)"
   ]
  },
  {
   "cell_type": "code",
   "execution_count": null,
   "id": "ee2dc7a8-9556-47a7-9dcf-06bb83afd1e1",
   "metadata": {
    "id": "ee2dc7a8-9556-47a7-9dcf-06bb83afd1e1"
   },
   "outputs": [],
   "source": [
    "citycount=newdf[['price','city']].groupby('city').count()\n",
    "citycount.index"
   ]
  },
  {
   "cell_type": "code",
   "execution_count": null,
   "id": "65487c9b-ab86-4eaf-b145-6f7b249ed1fe",
   "metadata": {
    "id": "65487c9b-ab86-4eaf-b145-6f7b249ed1fe"
   },
   "outputs": [],
   "source": [
    "city_avg_price = newdf[['price','city']].groupby('city').mean()\n",
    "city_avg_price.head(7)"
   ]
  },
  {
   "cell_type": "markdown",
   "id": "e5e5c8ef-8c0d-48d4-b0f1-8432cc2e9f97",
   "metadata": {
    "id": "e5e5c8ef-8c0d-48d4-b0f1-8432cc2e9f97"
   },
   "source": [
    "__Count how many houses there are for each \"condition\" in each \"city\"__"
   ]
  },
  {
   "cell_type": "code",
   "execution_count": null,
   "id": "718a7d04-ad41-4032-943d-b60bdd16b692",
   "metadata": {
    "id": "718a7d04-ad41-4032-943d-b60bdd16b692"
   },
   "outputs": [],
   "source": [
    "# condition and city are 2 categorical variables\n",
    "newdf[[\"condition\",\"city\"]].head(10)"
   ]
  },
  {
   "cell_type": "code",
   "execution_count": null,
   "id": "a264b129-1757-435b-8854-2bc37622638c",
   "metadata": {
    "id": "a264b129-1757-435b-8854-2bc37622638c"
   },
   "outputs": [],
   "source": [
    "my_crosstab=pd.crosstab(index=newdf[\"city\"],columns=newdf[\"condition\"])\n",
    "my_crosstab.head(10)"
   ]
  },
  {
   "cell_type": "code",
   "execution_count": null,
   "id": "52d8fd23-e8ba-4b68-9ca4-17feffb7cb72",
   "metadata": {
    "id": "52d8fd23-e8ba-4b68-9ca4-17feffb7cb72"
   },
   "outputs": [],
   "source": [
    "my_crosstab.plot(kind='bar',figsize=(10,6),stacked=True,colormap='Paired')"
   ]
  },
  {
   "cell_type": "markdown",
   "id": "e0ebf25b-787f-4abf-8b7b-e0df0be651ae",
   "metadata": {
    "id": "e0ebf25b-787f-4abf-8b7b-e0df0be651ae"
   },
   "source": [
    "## __11. Reshaping Data__\n",
    "\n",
    "Reshaping data includes pivoting, melting, or stacking data to achieve a structure suitable for specific analyses or visualizations.\n",
    "\n",
    "![link text](https://labcontent.simplicdn.net/data-content/content-assets/Data_and_AI/ADSP_Images/Lesson_09_Data_Wrangling/Reshaping_data.png)"
   ]
  },
  {
   "cell_type": "code",
   "execution_count": null,
   "id": "41c28961-e709-467d-9230-9122d6d36fa8",
   "metadata": {
    "id": "41c28961-e709-467d-9230-9122d6d36fa8"
   },
   "outputs": [],
   "source": [
    "import pandas as pd\n",
    "\n",
    "# Assuming you have a DataFrame 'df' with 'Date', 'Category', and 'Value' columns\n",
    "# Adjust column names and DataFrame based on your actual data\n",
    "\n",
    "# DataFrame\n",
    "df = pd.DataFrame({'Date': ['2022-01-01', '2022-01-01', '2022-01-02', '2022-01-02'],\n",
    "                   'Category': ['A', 'B', 'A', 'B'],\n",
    "                   'Value': [10, 15, 20, 25]})\n",
    "df"
   ]
  },
  {
   "cell_type": "code",
   "execution_count": null,
   "id": "f69c0692-32b5-43c9-b76a-6bf6f08a6965",
   "metadata": {
    "id": "f69c0692-32b5-43c9-b76a-6bf6f08a6965"
   },
   "outputs": [],
   "source": [
    "# Pivoting data for better analysis\n",
    "df_pivoted = df.pivot_table(index='Date', columns='Category', values='Value', aggfunc='mean')"
   ]
  },
  {
   "cell_type": "code",
   "execution_count": null,
   "id": "ebb5e203-3865-4aef-899a-4d4850f90a84",
   "metadata": {
    "id": "ebb5e203-3865-4aef-899a-4d4850f90a84"
   },
   "outputs": [],
   "source": [
    "df_pivoted"
   ]
  },
  {
   "cell_type": "markdown",
   "id": "e0accdd9-b87f-4686-8cc8-3aac4936da82",
   "metadata": {
    "id": "e0accdd9-b87f-4686-8cc8-3aac4936da82"
   },
   "source": [
    "## __12. Dropping, adding and renaming columns__"
   ]
  },
  {
   "cell_type": "code",
   "execution_count": null,
   "id": "d443214b-c487-4354-bee9-aa19e40d7098",
   "metadata": {
    "id": "d443214b-c487-4354-bee9-aa19e40d7098"
   },
   "outputs": [],
   "source": [
    "newdf=newdf.copy()\n",
    "newdf.head()"
   ]
  },
  {
   "cell_type": "code",
   "execution_count": null,
   "id": "17c1dce6-a811-443c-babd-7a9878dded94",
   "metadata": {
    "id": "17c1dce6-a811-443c-babd-7a9878dded94"
   },
   "outputs": [],
   "source": [
    "# Drop column \"country\"\n",
    "# CODE HERE\n",
    "newdf.head()"
   ]
  },
  {
   "cell_type": "code",
   "execution_count": null,
   "id": "7a55428f-1e11-4e66-ac1a-85792e994db3",
   "metadata": {
    "id": "7a55428f-1e11-4e66-ac1a-85792e994db3"
   },
   "outputs": [],
   "source": [
    "# Replace the name \"price\" with the name \"House_price\"\n",
    "# CODE HERE\n",
    "newdf.head()"
   ]
  },
  {
   "cell_type": "code",
   "execution_count": null,
   "id": "1db33a18-f917-488b-bdcc-72491a3c3903",
   "metadata": {
    "id": "1db33a18-f917-488b-bdcc-72491a3c3903"
   },
   "outputs": [],
   "source": [
    "# Replace the name \"yr_built\" with the name \"Year\" and \"statezip\" with \"zip\"\n",
    "# CODE HERE\n",
    "newdf.head()"
   ]
  },
  {
   "cell_type": "markdown",
   "id": "c8267d0e-9f4d-4616-83a5-7944877caea7",
   "metadata": {
    "id": "c8267d0e-9f4d-4616-83a5-7944877caea7"
   },
   "source": [
    "# __Assisted Practice__"
   ]
  },
  {
   "cell_type": "markdown",
   "id": "1a949a7b-888c-4ce4-ba1b-c1c7fa798a55",
   "metadata": {
    "id": "1a949a7b-888c-4ce4-ba1b-c1c7fa798a55"
   },
   "source": [
    "## __Problem Statement:__\n",
    "\n",
    "The complexity of the housing market can be overwhelming. For a data scientist at a real estate company, the responsibility lies in analyzing housing data to uncover insights into house prices. The goal is to comprehend the elements influencing house prices and the impact of various house features on their price. This understanding aids the company in navigating the housing market more effectively and making well-informed decisions when purchasing and selling houses."
   ]
  },
  {
   "cell_type": "markdown",
   "id": "58b44961-3afc-4323-9eef-7e0ac04c1eba",
   "metadata": {
    "id": "58b44961-3afc-4323-9eef-7e0ac04c1eba"
   },
   "source": [
    "## __Steps to Perform:__\n",
    "\n",
    "- Understand the structure of the dataset, the types of variables, and any obvious issues in the data\n",
    "- Check for duplicate entries in the dataset and decide how to handle them\n",
    "- Identify and handle missing values. Decide whether to fill them in or drop them based on the context\n",
    "- Apply necessary transformations to the variables. This could include scaling numerical variables or encoding categorical variables\n",
    "- For continuous variables, consider creating bins to turn them into categorical variables. For example, you can bin the __YearBuilt__ feature into decades\n",
    "- Identify outliers in the dataset and decide on a strategy to handle them. You can use a box plot to visualize outliers in features like __LotArea__ or __SalePrice__"
   ]
  }
 ],
 "metadata": {
  "colab": {
   "provenance": []
  },
  "kernelspec": {
   "display_name": ".venv",
   "language": "python",
   "name": "python3"
  },
  "language_info": {
   "codemirror_mode": {
    "name": "ipython",
    "version": 3
   },
   "file_extension": ".py",
   "mimetype": "text/x-python",
   "name": "python",
   "nbconvert_exporter": "python",
   "pygments_lexer": "ipython3",
   "version": "3.13.2"
  }
 },
 "nbformat": 4,
 "nbformat_minor": 5
}
