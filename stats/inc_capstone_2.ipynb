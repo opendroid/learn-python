{
 "cells": [
  {
   "cell_type": "markdown",
   "id": "857a2729-09e9-42bf-9de7-0d3012e753dc",
   "metadata": {},
   "source": [
    "# __INCREMENTAL CAPSTONE__\n",
    "<br>\n",
    "<br>  "
   ]
  },
  {
   "cell_type": "markdown",
   "id": "b964dc31-dd2d-414d-95d9-f65b3e366202",
   "metadata": {},
   "source": [
    "## __WEEK 1__"
   ]
  },
  {
   "cell_type": "markdown",
   "id": "5dc0f97b-eb61-4f0f-88f9-0cfb517e44cf",
   "metadata": {},
   "source": [
    "__Task: Import and export data, clean data.__"
   ]
  },
  {
   "cell_type": "markdown",
   "id": "dfe076bc-1b95-49ac-81c2-65c0669098d7",
   "metadata": {},
   "source": [
    "1. Import relevant python libraries necessary for Python programming and Numpy for doing Numerical operations.\n",
    "2. Import the CSV file – NSMES1988.csv into a dataframe.\n",
    "3. Inspect the data and report the details from physical inspection – rows, columns, data types etc.\n",
    "4. Find out if the data is clean or if the data has missing values.\n",
    "5. Comment on the data types, their values and their range, specifically on age and income columns.\n",
    "6. Export the data to JSON as NSMES1988.json format file and view and enter your comments.\n",
    "7. Perform memory information on the data and recommend what non-default data types you would recommend to optimize memory settings for the dataframe.\n",
    "8. What changes you would recommend on the dataframe before attempting a detailed data analysis.\n",
    "9. Export the data frame as a new CSV file NSMES1988new.csv and store it in the local space for possible use in other assignments.\n",
    "10. Write a short report on the visual observations of the data."
   ]
  },
  {
   "cell_type": "markdown",
   "id": "16cb1faa-879f-4e33-92cf-afcf9ee5db0d",
   "metadata": {},
   "source": [
    "__1. Import relevant python libraries necessary for Python programming and Numpy for doing Numerical operations.__"
   ]
  },
  {
   "cell_type": "code",
   "execution_count": 3,
   "id": "522bdf98-d276-4284-b84f-0868cd2013a9",
   "metadata": {},
   "outputs": [],
   "source": [
    "import numpy as np\n",
    "import pandas as pd"
   ]
  },
  {
   "cell_type": "markdown",
   "id": "bb555f06-e838-4734-9e53-4a89c39bae58",
   "metadata": {},
   "source": [
    "<br>\n",
    "\n",
    "__2. Import the CSV file – NSMES1988.csv into a dataframe.__"
   ]
  },
  {
   "cell_type": "code",
   "execution_count": 4,
   "id": "107abc54-40aa-428d-bd1b-6ee7548b2393",
   "metadata": {},
   "outputs": [],
   "source": [
    "df = pd.read_csv('../data/NSMES1988.csv')"
   ]
  },
  {
   "cell_type": "markdown",
   "id": "8575119e-d81b-48e1-a58e-d984b89e6587",
   "metadata": {},
   "source": [
    "<br>\n",
    "\n",
    "__3. Inspect the data and report the details from physical inspection – rows, columns, data types etc.__"
   ]
  },
  {
   "cell_type": "code",
   "execution_count": null,
   "id": "45b1fde5-e1c7-4a14-a54d-94a90b6840d1",
   "metadata": {},
   "outputs": [],
   "source": [
    "df.head()"
   ]
  },
  {
   "cell_type": "code",
   "execution_count": null,
   "id": "2b90a9ba-14b0-4992-834d-6166a3d714d0",
   "metadata": {},
   "outputs": [],
   "source": [
    "df.tail()"
   ]
  },
  {
   "cell_type": "code",
   "execution_count": null,
   "id": "92a5cff7-f587-4cf4-b538-d5290e58a8ea",
   "metadata": {},
   "outputs": [],
   "source": [
    "df.shape"
   ]
  },
  {
   "cell_type": "code",
   "execution_count": null,
   "id": "6a07b569-f04d-41e8-911b-de49c423652e",
   "metadata": {},
   "outputs": [],
   "source": [
    "df.info()"
   ]
  },
  {
   "cell_type": "code",
   "execution_count": null,
   "id": "a958daa1-2715-44dd-a80c-fb4647b9bf34",
   "metadata": {},
   "outputs": [],
   "source": [
    "df.describe()"
   ]
  },
  {
   "cell_type": "code",
   "execution_count": null,
   "id": "a1422950-c768-40e7-abbc-5388a0e919af",
   "metadata": {},
   "outputs": [],
   "source": [
    "df.dtypes"
   ]
  },
  {
   "cell_type": "markdown",
   "id": "50785ac8-b0d8-4412-87cc-768f5d87ab67",
   "metadata": {},
   "source": [
    "## Drop column \"Unnamed: 0\""
   ]
  },
  {
   "cell_type": "code",
   "execution_count": null,
   "id": "1d130a60-cb2c-4423-ade2-e9b7555a6a2e",
   "metadata": {},
   "outputs": [],
   "source": [
    "df.head()"
   ]
  },
  {
   "cell_type": "code",
   "execution_count": 14,
   "id": "e6575076-0961-477f-b061-493f448a75c2",
   "metadata": {},
   "outputs": [],
   "source": [
    "df.drop(columns=[\"Unnamed: 0\"],inplace=True)\n",
    "# Or, alternatively, reassign: df = df.drop(columns=\"Unnamed: 0\")"
   ]
  },
  {
   "cell_type": "code",
   "execution_count": null,
   "id": "ec1d09e1-1c3f-4d3f-88f1-1361d7795c1a",
   "metadata": {},
   "outputs": [],
   "source": [
    "df.head()"
   ]
  },
  {
   "cell_type": "markdown",
   "id": "88a5bc89-1b6f-400d-a354-6692dd60b0e1",
   "metadata": {},
   "source": [
    "<br>\n",
    "\n",
    "__4. Find out if the data is clean or if the data has missing values.__"
   ]
  },
  {
   "cell_type": "code",
   "execution_count": null,
   "id": "606382c6-7b9a-493d-88db-58a6733b823d",
   "metadata": {},
   "outputs": [],
   "source": [
    "# Obtain the number of missing values for each column\n",
    "df.isnull().sum()"
   ]
  },
  {
   "cell_type": "code",
   "execution_count": null,
   "id": "95ef6f82-904e-441f-8f7a-c7c55f588724",
   "metadata": {},
   "outputs": [],
   "source": [
    "# Equivalently, (axis=0 is the default)\n",
    "# axis=0 means that we sum over the rows, for each columns\n",
    "# It means that we sum all the values for each column\n",
    "df.isnull().sum(axis=0)"
   ]
  },
  {
   "cell_type": "code",
   "execution_count": null,
   "id": "490774ce-111a-4bee-be30-bc0157f9cdd8",
   "metadata": {},
   "outputs": [],
   "source": [
    "# Equivalently,\n",
    "df.isna().sum()"
   ]
  },
  {
   "cell_type": "code",
   "execution_count": null,
   "id": "49dc0e48-3533-41ef-9592-e3c696fce223",
   "metadata": {},
   "outputs": [],
   "source": [
    "# Remark\n",
    "null_values_series = df.isna().sum()\n",
    "null_values_series"
   ]
  },
  {
   "cell_type": "code",
   "execution_count": null,
   "id": "de8b9ea1-df9f-466e-8a9c-99f176f46178",
   "metadata": {},
   "outputs": [],
   "source": [
    "type(null_values_series)"
   ]
  },
  {
   "cell_type": "markdown",
   "id": "46fe8123-a77f-407e-a437-e31e81b24fe2",
   "metadata": {},
   "source": [
    "__Conclusion: there is no missing value.__"
   ]
  },
  {
   "cell_type": "code",
   "execution_count": null,
   "id": "9c448cfd-fc59-4a29-bddb-47b510989a75",
   "metadata": {},
   "outputs": [],
   "source": [
    "# Remark: notna is the contrary of isna\n",
    "df.notna()"
   ]
  },
  {
   "cell_type": "code",
   "execution_count": null,
   "id": "b1e58dc1-9d8e-44b0-b367-11832fd78d8f",
   "metadata": {},
   "outputs": [],
   "source": [
    "df.notna().sum()"
   ]
  },
  {
   "cell_type": "markdown",
   "id": "7b659c26-4f4b-47ba-a890-07ada6af03b5",
   "metadata": {},
   "source": [
    "<br>\n",
    "\n",
    "__5. Comment on the data types, their values and their range, specifically on age and income columns__"
   ]
  },
  {
   "cell_type": "code",
   "execution_count": null,
   "id": "e479747a-a95d-4455-8e1b-e4792e6b24f9",
   "metadata": {},
   "outputs": [],
   "source": [
    "df[['age','income']].dtypes"
   ]
  },
  {
   "cell_type": "markdown",
   "id": "d779f15d-04d0-42b9-bbd8-1f55c582795a",
   "metadata": {},
   "source": [
    "__Remark: the types of the age and income are ok.__"
   ]
  },
  {
   "cell_type": "code",
   "execution_count": null,
   "id": "b9ff008f-5ec0-45ba-9d33-d07f95b1449b",
   "metadata": {},
   "outputs": [],
   "source": [
    "df.head(2)"
   ]
  },
  {
   "cell_type": "code",
   "execution_count": null,
   "id": "f4f291bc-2402-494b-8ac3-7c86827c6d09",
   "metadata": {},
   "outputs": [],
   "source": [
    "print(df['age'].min(),df['age'].max())"
   ]
  },
  {
   "cell_type": "code",
   "execution_count": null,
   "id": "99a6b61d-de8e-4ab2-8848-8a4a82f4cfa9",
   "metadata": {},
   "outputs": [],
   "source": [
    "print(df['income'].min(),df['income'].max())"
   ]
  },
  {
   "cell_type": "code",
   "execution_count": null,
   "id": "4315b7af-2f0e-424c-aba9-75f0eb14a185",
   "metadata": {},
   "outputs": [],
   "source": [
    "df[['age','income']].describe()"
   ]
  },
  {
   "cell_type": "markdown",
   "id": "de9c03ad-91d6-41c2-b31e-3c7f4794aa94",
   "metadata": {},
   "source": [
    "<br>\n",
    "\n",
    "__6. Export the data to JSON as NSMES1988.json format file and view and enter your comments.__"
   ]
  },
  {
   "cell_type": "code",
   "execution_count": 32,
   "id": "169d1567-d657-41ea-ae0b-98d84157445d",
   "metadata": {},
   "outputs": [],
   "source": [
    "df.to_json('NSMES1988.json')"
   ]
  },
  {
   "cell_type": "markdown",
   "id": "36019a1d-498a-41f0-9e2b-ec5c93850bd5",
   "metadata": {},
   "source": [
    "<br>\n",
    "\n",
    "__7. Perform memory information on the data and recommend what non-default data types you would recommend to optimize memory settings for the dataframe.__"
   ]
  },
  {
   "cell_type": "code",
   "execution_count": null,
   "id": "c4c2c780-686f-4cc4-9a71-03260f1ec1e9",
   "metadata": {},
   "outputs": [],
   "source": [
    "df.info()"
   ]
  },
  {
   "cell_type": "code",
   "execution_count": null,
   "id": "f9344b16-75a4-4f5a-9a6f-08cb2595b14e",
   "metadata": {},
   "outputs": [],
   "source": [
    "# More accurate memory estimate\n",
    "df.info(memory_usage='deep')"
   ]
  },
  {
   "cell_type": "markdown",
   "id": "3ce2e502-3dee-40c7-a0b5-e0f6c5cc8eee",
   "metadata": {},
   "source": [
    "<br>\n",
    "\n",
    "__8. What changes you would recommend on the dataframe before attempting a detailed data analysis.__"
   ]
  },
  {
   "cell_type": "code",
   "execution_count": null,
   "id": "aea4954c-de28-4a3d-8c7b-e945b22b857d",
   "metadata": {},
   "outputs": [],
   "source": [
    "# Let's analyze the integers; create a dataframe that contains only the integer features\n",
    "df2 = df[['visits','nvisits','ovisits','novisits','emergency','hospital','chronic','school']]\n",
    "df2.head()"
   ]
  },
  {
   "cell_type": "code",
   "execution_count": null,
   "id": "99fc919e-83a3-40ed-8b1e-268358d7b5e2",
   "metadata": {},
   "outputs": [],
   "source": [
    "df2.info()"
   ]
  },
  {
   "cell_type": "code",
   "execution_count": null,
   "id": "5f32254e-3d1a-476f-851b-4ea3d0d20ab7",
   "metadata": {},
   "outputs": [],
   "source": [
    "df2.max()"
   ]
  },
  {
   "cell_type": "code",
   "execution_count": null,
   "id": "0caf17e3-62bf-46fc-81ef-8350e0a3c69c",
   "metadata": {},
   "outputs": [],
   "source": [
    "df2 = df2.astype('int16')\n",
    "df2.info()"
   ]
  },
  {
   "cell_type": "code",
   "execution_count": null,
   "id": "5f4bbeeb-0891-4fb2-8471-28fd53854c7c",
   "metadata": {},
   "outputs": [],
   "source": [
    "df2.max()"
   ]
  },
  {
   "cell_type": "markdown",
   "id": "d3db9821-ac8a-4f83-9efe-1571f0f6fdc0",
   "metadata": {},
   "source": [
    "__The maximum values for the integers has not changed. We did not lose any information when converting from 64 bits to 16 bits.__ "
   ]
  },
  {
   "cell_type": "code",
   "execution_count": null,
   "id": "5d04433e-00c0-4b26-9a42-da4004686f77",
   "metadata": {},
   "outputs": [],
   "source": [
    "# Let's analyze some \"float\" features\n",
    "df3 = df[['age','income']]\n",
    "df3.head()"
   ]
  },
  {
   "cell_type": "code",
   "execution_count": null,
   "id": "11ed0606-65c4-4941-8da3-c0d0287c4b66",
   "metadata": {},
   "outputs": [],
   "source": [
    "df3.info(memory_usage='deep')"
   ]
  },
  {
   "cell_type": "code",
   "execution_count": null,
   "id": "6003aeb4-776b-4fd3-b6b7-6942860aaa08",
   "metadata": {},
   "outputs": [],
   "source": [
    "df3.astype('float32').head()"
   ]
  },
  {
   "cell_type": "code",
   "execution_count": null,
   "id": "9ace75fd-48f3-4c5d-b1ad-f4188f139c3e",
   "metadata": {},
   "outputs": [],
   "source": [
    "df3.astype('float32').info()"
   ]
  },
  {
   "cell_type": "markdown",
   "id": "e79ac025-1ea7-4590-a6d8-669503a580fe",
   "metadata": {},
   "source": [
    "__The values for the floats have not changed when converting from 64 bits to 32 bits. We did not lose any information when converting from 64 bits to 16 bits.__ "
   ]
  },
  {
   "cell_type": "markdown",
   "id": "8dd28af1-03f8-4ec2-ab7c-2773841c329c",
   "metadata": {},
   "source": [
    "## Conclusion:\n",
    "## To save memory, we recommend changing all the int64 to int16 and change from float64 to float32 for age and income.\n",
    "<br>\n"
   ]
  },
  {
   "cell_type": "markdown",
   "id": "90f5554d-f3f5-4fe2-bf53-f27150915765",
   "metadata": {},
   "source": [
    "<br>\n",
    "\n",
    "__9. Export the data frame as a new CSV file NSMES1988new.csv and store it in the local space for possible use in other assignments.__"
   ]
  },
  {
   "cell_type": "code",
   "execution_count": 62,
   "id": "50a9141b-9309-4277-b038-4f15393bfee0",
   "metadata": {},
   "outputs": [],
   "source": [
    "df.to_csv('NSMES1988new.csv',index=False)"
   ]
  },
  {
   "cell_type": "code",
   "execution_count": null,
   "id": "5de404a9-0293-4943-b015-032f08116468",
   "metadata": {},
   "outputs": [],
   "source": [
    "df1= pd.read_csv('NSMES1988new.csv')\n",
    "df1.head()"
   ]
  },
  {
   "cell_type": "markdown",
   "id": "73e14e9c-ffbe-432c-be4f-2fb56cd49b6e",
   "metadata": {},
   "source": [
    "<br>\n",
    "\n",
    "__10. Write a short report on the visual observations of the data.__"
   ]
  },
  {
   "cell_type": "markdown",
   "id": "371fca90-890e-46be-aef4-712df1bf3e06",
   "metadata": {},
   "source": [
    "In this exercise, we did a top-level data analysis, after reading the provided CSV file. After the inspection of the data, we understood that there are many int64 columns that could have been int8, as the range demands that. Similarly, two float columns, which could have been just float16.\n",
    "We also had a deep look at two columns age and income and analysed.\n",
    "Also, we exported the CSV to JSON format and wrote it locally as a JSON file, and visually analysed it."
   ]
  },
  {
   "cell_type": "markdown",
   "id": "4d675361-26d5-48b4-a895-48bf612ea33d",
   "metadata": {},
   "source": [
    "<br>\n",
    "\n",
    "## __WEEK 2__"
   ]
  },
  {
   "cell_type": "markdown",
   "id": "612c5242-73d2-40db-9405-fbefbe2ec55d",
   "metadata": {},
   "source": [
    "__Task: Perform linear algebraic operations.__"
   ]
  },
  {
   "cell_type": "markdown",
   "id": "d305e74f-5193-49cd-9a01-57d96a16737f",
   "metadata": {},
   "source": [
    " \n",
    "1. Import relevant python libraries.\n",
    "2. Import the CSV file – NSMES1988new.csv into a dataframe, and enforce the dtypes recommended in step 9 of Week 1.\n",
    "3. Perform memory analysis of the new dataframe and compare it with the memory of the dataframe in the previous week and mark your comments.\n",
    "4. Perform the following operations on age and income columns. Multiply Age by 10 and income by 10000. \n",
    "5. Perform basic statistical analysis on the new dataframe and generate a brief report on the outcome. Save the dataframe as NSMES1988updated.csv file in the local space for possible future use.\n",
    "6. Invoke describe command on the dataframe and compare that with the basic statistics analysis done in the previous step, and report.\n",
    "7. Indicate which of the columns are not eligible for statistical analysis and indicate possible datatype changes, and report. \n",
    "8. Make changes to the recommended in the previous step, export it as a new .csv file for possible future use (Optional).\n",
    "9. Prepare a brief report and enter it in the mark-up cells of JupyterLab Notebook."
   ]
  },
  {
   "cell_type": "markdown",
   "id": "a4df9ba8-87b0-41a0-9932-31dcca9910a8",
   "metadata": {},
   "source": [
    "<br>\n",
    "\n",
    "__1. Import relevant python libraries.__"
   ]
  },
  {
   "cell_type": "code",
   "execution_count": 38,
   "id": "85e50e49-148c-42be-a162-4aa517919dc9",
   "metadata": {},
   "outputs": [],
   "source": [
    "import numpy as np\n",
    "import pandas as pd"
   ]
  },
  {
   "cell_type": "markdown",
   "id": "a3f6f55a-2d8f-4550-8650-32b2340ba11b",
   "metadata": {},
   "source": [
    "<br>\n",
    "\n",
    "__2. Import the CSV file – NSMES1988new.csv into a dataframe, and enforce the dtypes recommended in step 9 of Week 1.__"
   ]
  },
  {
   "cell_type": "code",
   "execution_count": 39,
   "id": "6f4e98af-dd03-46ea-a6cf-54edf772ae38",
   "metadata": {},
   "outputs": [],
   "source": [
    "df = pd.read_csv('../data/NSMES1988.csv')"
   ]
  },
  {
   "cell_type": "code",
   "execution_count": null,
   "id": "50ac23fb-9c41-4862-ae4d-47e70621601e",
   "metadata": {},
   "outputs": [],
   "source": [
    "df.info(memory_usage='deep')"
   ]
  },
  {
   "cell_type": "code",
   "execution_count": 41,
   "id": "85ca6d39-521c-4ba1-b132-781a65591e48",
   "metadata": {},
   "outputs": [],
   "source": [
    "df_save=df"
   ]
  },
  {
   "cell_type": "code",
   "execution_count": null,
   "id": "7ba7056d-a55a-41c2-8baf-1b6e2c42380c",
   "metadata": {},
   "outputs": [],
   "source": [
    "df = df.select_dtypes(include=['float64', 'int64'])\n",
    "float_columns = df.select_dtypes(include=['float64']).columns\n",
    "int_columns = df.select_dtypes(include=['int64']).columns\n",
    "df[int_columns] = df[int_columns].astype('int16')\n",
    "df[float_columns] = df[float_columns].astype('float32')\n",
    "df.info(memory_usage='deep')"
   ]
  },
  {
   "cell_type": "markdown",
   "id": "cee7da3e-cbfa-47b2-86dc-f2f077797686",
   "metadata": {},
   "source": [
    "<br>\n",
    "\n",
    "__3. Perform memory analysis of the new dataframe and compare it with the memory of the dataframe in the previous week and mark your comments.__"
   ]
  },
  {
   "cell_type": "code",
   "execution_count": null,
   "id": "106b8135-085e-41bb-8c5b-e81cbbabf4dc",
   "metadata": {},
   "outputs": [],
   "source": [
    "df.info(memory_usage='deep')"
   ]
  },
  {
   "cell_type": "markdown",
   "id": "833ec0cb-1ee2-4d8c-a058-ea9e861a3c56",
   "metadata": {},
   "source": [
    "<br>\n",
    "\n",
    "__4. Perform the following operations on age and income columns. Multiply Age by 10 and income by 10000.__"
   ]
  },
  {
   "cell_type": "code",
   "execution_count": null,
   "id": "5d1d8645-ff3e-467d-b698-bc091349126b",
   "metadata": {},
   "outputs": [],
   "source": [
    "df[\"age\"] = df[\"age\"] * 10\n",
    "df[\"income\"] = df[\"income\"] * 10_000\n",
    "df.head()"
   ]
  },
  {
   "cell_type": "markdown",
   "id": "9aaed2a4-c006-4abd-85eb-4a976d6ccacc",
   "metadata": {},
   "source": [
    "<br>\n",
    "\n",
    "__5. Perform basic statistical analysis on the new dataframe and generate a brief report on the outcome. Save the dataframe as NSMES1988updated.csv file in the local space for possible future use.__"
   ]
  },
  {
   "cell_type": "code",
   "execution_count": null,
   "id": "24c11c3f-9005-475a-9dcc-f37e51c29bcf",
   "metadata": {},
   "outputs": [],
   "source": [
    "df.describe()"
   ]
  },
  {
   "cell_type": "code",
   "execution_count": null,
   "id": "bc0c5027-0b86-44f1-b8d0-a21f9e411dfa",
   "metadata": {},
   "outputs": [],
   "source": [
    "df.max()"
   ]
  },
  {
   "cell_type": "code",
   "execution_count": 47,
   "id": "6ac1be34-21e1-4296-b7c9-ce298dbd664b",
   "metadata": {},
   "outputs": [],
   "source": [
    "df.to_csv('../data/NSMES1988_2.csv', index=False)"
   ]
  },
  {
   "cell_type": "code",
   "execution_count": null,
   "id": "2677ad4b-ea70-47b8-b923-ee027c1d765d",
   "metadata": {},
   "outputs": [],
   "source": [
    "test_df = pd.read_csv('../data/NSMES1988_2.csv')\n",
    "test_df.head()"
   ]
  },
  {
   "cell_type": "code",
   "execution_count": null,
   "id": "55e5235d-a87d-44c8-8656-28f9cfc2cc6d",
   "metadata": {},
   "outputs": [],
   "source": [
    "test_df.describe()"
   ]
  },
  {
   "cell_type": "code",
   "execution_count": null,
   "id": "517eb473-9be3-4824-8cd7-1fb68bd04257",
   "metadata": {},
   "outputs": [],
   "source": []
  },
  {
   "cell_type": "code",
   "execution_count": null,
   "id": "8c47ef10-3c5d-4214-94b7-fb1eeb8cbe1e",
   "metadata": {},
   "outputs": [],
   "source": []
  },
  {
   "cell_type": "code",
   "execution_count": null,
   "id": "d56fd958-65d4-42a5-9bfc-debaf40e19bd",
   "metadata": {},
   "outputs": [],
   "source": [
    "df1= pd.read_csv('NSMES1988new2.csv')\n",
    "df1.head()"
   ]
  },
  {
   "cell_type": "markdown",
   "id": "2f48bd9c-7ec0-4c90-9fac-1737a5520a03",
   "metadata": {},
   "source": [
    "<br>\n",
    "\n",
    "__6. Invoke describe command on the dataframe and compare that with the basic statistics analysis done in the previous step, and report.__"
   ]
  },
  {
   "cell_type": "code",
   "execution_count": null,
   "id": "bc6a323a-ebc9-4495-958e-957f2827b4ba",
   "metadata": {},
   "outputs": [],
   "source": [
    "df.describe()"
   ]
  },
  {
   "cell_type": "code",
   "execution_count": null,
   "id": "1ee4579e-1534-447e-aa5a-3f0fffd95b81",
   "metadata": {},
   "outputs": [],
   "source": []
  },
  {
   "cell_type": "markdown",
   "id": "8e25d120-9a6b-4960-9798-fbf494ca328f",
   "metadata": {},
   "source": [
    "<br>\n",
    "\n",
    "__7. Indicate which of the columns are not eligible for statistical analysis and indicate possible datatype changes, and report.__"
   ]
  },
  {
   "cell_type": "markdown",
   "id": "98fc4536-f8ce-4fd7-b729-3e55ac8f9156",
   "metadata": {},
   "source": [
    "Unnamed: 0: removed it during week 1\n",
    "Convert int32 => int16 and float64 to float32"
   ]
  },
  {
   "cell_type": "markdown",
   "id": "33859894-e3a9-43b9-99a3-4845678dcd45",
   "metadata": {},
   "source": [
    "<br>\n",
    "\n",
    "__8. Make changes to the recommended in the previous step, export it as a new .csv file for possible future use (Optional).__"
   ]
  },
  {
   "cell_type": "code",
   "execution_count": null,
   "id": "2fb19768-3ec2-4678-95a5-3fa69735b4dc",
   "metadata": {},
   "outputs": [],
   "source": []
  },
  {
   "cell_type": "markdown",
   "id": "53b3fa9b-5146-4694-a1c6-c01f2b257037",
   "metadata": {},
   "source": [
    "<br>\n",
    "\n",
    "__9. Prepare a brief report and enter it in the mark-up cells of JupyterLab Notebook.__"
   ]
  },
  {
   "cell_type": "markdown",
   "id": "2af290e7-d49a-4729-a5f1-1d45fc048eb4",
   "metadata": {},
   "source": [
    "From the above analysis, we have been able to determine the following. There are totally 20 columns and 40406 rows of data. Of the 20 columns, we need to ignore column named 'Unnamed: 0', as it just represents row numbers. As a part of the given task, we did the memory optimization of the dataset, and could see substantial optimization can be done, provided we could fix the dtypes, based on the range.\n",
    "Further, we did two math operations, one on column called age, and the other one on the column called income. We multiplied age by 10 and income by 10,000, as the given dataset, previously had that factor included.\n",
    "Next, we performed basic statistics operation on the relevant numerical columns and obtained the basic statistics, and compared them with the values obtained from describe() function. We then saved the new dataframe with updated values for next set of tasks.\n"
   ]
  },
  {
   "cell_type": "code",
   "execution_count": null,
   "id": "09827690-f809-4faa-8fe8-9913230bf8dd",
   "metadata": {},
   "outputs": [],
   "source": []
  }
 ],
 "metadata": {
  "kernelspec": {
   "display_name": ".venv",
   "language": "python",
   "name": "python3"
  },
  "language_info": {
   "codemirror_mode": {
    "name": "ipython",
    "version": 3
   },
   "file_extension": ".py",
   "mimetype": "text/x-python",
   "name": "python",
   "nbconvert_exporter": "python",
   "pygments_lexer": "ipython3",
   "version": "3.13.2"
  }
 },
 "nbformat": 4,
 "nbformat_minor": 5
}
