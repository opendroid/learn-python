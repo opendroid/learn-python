{
 "cells": [
  {
   "cell_type": "markdown",
   "id": "857a2729-09e9-42bf-9de7-0d3012e753dc",
   "metadata": {},
   "source": [
    "# __INCREMENTAL CAPSTONE__\n",
    "<br>\n",
    "<br>  "
   ]
  },
  {
   "cell_type": "markdown",
   "id": "b964dc31-dd2d-414d-95d9-f65b3e366202",
   "metadata": {},
   "source": [
    "## __WEEK 3 - Part A__"
   ]
  },
  {
   "cell_type": "markdown",
   "id": "5dc0f97b-eb61-4f0f-88f9-0cfb517e44cf",
   "metadata": {},
   "source": [
    "__Task: Working with Pandas.__"
   ]
  },
  {
   "cell_type": "markdown",
   "id": "dfe076bc-1b95-49ac-81c2-65c0669098d7",
   "metadata": {},
   "source": [
    "1. Import relevant python libraries necessary for Python and Pandas analysis. \n",
    "2. Import the CSV file NSMES1988new3.csv file and create a new dataframe for working with Pandas.\n",
    "3. Identify different types of data and report it.\n",
    "4. Identify Categorical types in the data.\n",
    "5. Perform a detailed Data pivoting on the dataframe and report it. Include the following categorical data in your analysis: Region and Health.\n",
    "6. Prepare a detailed report on your analysis observations"
   ]
  },
  {
   "cell_type": "markdown",
   "id": "16cb1faa-879f-4e33-92cf-afcf9ee5db0d",
   "metadata": {},
   "source": [
    "__1. Import relevant python libraries necessary for Python and Pandas analysis.__"
   ]
  },
  {
   "cell_type": "code",
   "execution_count": 1,
   "id": "522bdf98-d276-4284-b84f-0868cd2013a9",
   "metadata": {},
   "outputs": [],
   "source": [
    "import pandas as pd\n",
    "import numpy as np"
   ]
  },
  {
   "cell_type": "markdown",
   "id": "bb555f06-e838-4734-9e53-4a89c39bae58",
   "metadata": {},
   "source": [
    "<br>\n",
    "\n",
    "__2. Import the CSV file NSMES1988new2.csv file and create a new dataframe for working with Pandas.__"
   ]
  },
  {
   "cell_type": "code",
   "execution_count": 2,
   "id": "107abc54-40aa-428d-bd1b-6ee7548b2393",
   "metadata": {},
   "outputs": [
    {
     "data": {
      "text/html": [
       "<div>\n",
       "<style scoped>\n",
       "    .dataframe tbody tr th:only-of-type {\n",
       "        vertical-align: middle;\n",
       "    }\n",
       "\n",
       "    .dataframe tbody tr th {\n",
       "        vertical-align: top;\n",
       "    }\n",
       "\n",
       "    .dataframe thead th {\n",
       "        text-align: right;\n",
       "    }\n",
       "</style>\n",
       "<table border=\"1\" class=\"dataframe\">\n",
       "  <thead>\n",
       "    <tr style=\"text-align: right;\">\n",
       "      <th></th>\n",
       "      <th>Unnamed: 0</th>\n",
       "      <th>visits</th>\n",
       "      <th>nvisits</th>\n",
       "      <th>ovisits</th>\n",
       "      <th>novisits</th>\n",
       "      <th>emergency</th>\n",
       "      <th>hospital</th>\n",
       "      <th>health</th>\n",
       "      <th>chronic</th>\n",
       "      <th>adl</th>\n",
       "      <th>region</th>\n",
       "      <th>age</th>\n",
       "      <th>gender</th>\n",
       "      <th>married</th>\n",
       "      <th>school</th>\n",
       "      <th>income</th>\n",
       "      <th>employed</th>\n",
       "      <th>insurance</th>\n",
       "      <th>medicaid</th>\n",
       "    </tr>\n",
       "  </thead>\n",
       "  <tbody>\n",
       "    <tr>\n",
       "      <th>0</th>\n",
       "      <td>1</td>\n",
       "      <td>5</td>\n",
       "      <td>0</td>\n",
       "      <td>0</td>\n",
       "      <td>0</td>\n",
       "      <td>0</td>\n",
       "      <td>1</td>\n",
       "      <td>average</td>\n",
       "      <td>2</td>\n",
       "      <td>normal</td>\n",
       "      <td>other</td>\n",
       "      <td>6.9</td>\n",
       "      <td>male</td>\n",
       "      <td>yes</td>\n",
       "      <td>6</td>\n",
       "      <td>2.8810</td>\n",
       "      <td>yes</td>\n",
       "      <td>yes</td>\n",
       "      <td>no</td>\n",
       "    </tr>\n",
       "    <tr>\n",
       "      <th>1</th>\n",
       "      <td>2</td>\n",
       "      <td>1</td>\n",
       "      <td>0</td>\n",
       "      <td>2</td>\n",
       "      <td>0</td>\n",
       "      <td>2</td>\n",
       "      <td>0</td>\n",
       "      <td>average</td>\n",
       "      <td>2</td>\n",
       "      <td>normal</td>\n",
       "      <td>other</td>\n",
       "      <td>7.4</td>\n",
       "      <td>female</td>\n",
       "      <td>yes</td>\n",
       "      <td>10</td>\n",
       "      <td>2.7478</td>\n",
       "      <td>no</td>\n",
       "      <td>yes</td>\n",
       "      <td>no</td>\n",
       "    </tr>\n",
       "    <tr>\n",
       "      <th>2</th>\n",
       "      <td>3</td>\n",
       "      <td>13</td>\n",
       "      <td>0</td>\n",
       "      <td>0</td>\n",
       "      <td>0</td>\n",
       "      <td>3</td>\n",
       "      <td>3</td>\n",
       "      <td>poor</td>\n",
       "      <td>4</td>\n",
       "      <td>limited</td>\n",
       "      <td>other</td>\n",
       "      <td>6.6</td>\n",
       "      <td>female</td>\n",
       "      <td>no</td>\n",
       "      <td>10</td>\n",
       "      <td>0.6532</td>\n",
       "      <td>no</td>\n",
       "      <td>no</td>\n",
       "      <td>yes</td>\n",
       "    </tr>\n",
       "    <tr>\n",
       "      <th>3</th>\n",
       "      <td>4</td>\n",
       "      <td>16</td>\n",
       "      <td>0</td>\n",
       "      <td>5</td>\n",
       "      <td>0</td>\n",
       "      <td>1</td>\n",
       "      <td>1</td>\n",
       "      <td>poor</td>\n",
       "      <td>2</td>\n",
       "      <td>limited</td>\n",
       "      <td>other</td>\n",
       "      <td>7.6</td>\n",
       "      <td>male</td>\n",
       "      <td>yes</td>\n",
       "      <td>3</td>\n",
       "      <td>0.6588</td>\n",
       "      <td>no</td>\n",
       "      <td>yes</td>\n",
       "      <td>no</td>\n",
       "    </tr>\n",
       "    <tr>\n",
       "      <th>4</th>\n",
       "      <td>5</td>\n",
       "      <td>3</td>\n",
       "      <td>0</td>\n",
       "      <td>0</td>\n",
       "      <td>0</td>\n",
       "      <td>0</td>\n",
       "      <td>0</td>\n",
       "      <td>average</td>\n",
       "      <td>2</td>\n",
       "      <td>limited</td>\n",
       "      <td>other</td>\n",
       "      <td>7.9</td>\n",
       "      <td>female</td>\n",
       "      <td>yes</td>\n",
       "      <td>6</td>\n",
       "      <td>0.6588</td>\n",
       "      <td>no</td>\n",
       "      <td>yes</td>\n",
       "      <td>no</td>\n",
       "    </tr>\n",
       "  </tbody>\n",
       "</table>\n",
       "</div>"
      ],
      "text/plain": [
       "   Unnamed: 0  visits  nvisits  ovisits  novisits  emergency  hospital  \\\n",
       "0           1       5        0        0         0          0         1   \n",
       "1           2       1        0        2         0          2         0   \n",
       "2           3      13        0        0         0          3         3   \n",
       "3           4      16        0        5         0          1         1   \n",
       "4           5       3        0        0         0          0         0   \n",
       "\n",
       "    health  chronic      adl region  age  gender married  school  income  \\\n",
       "0  average        2   normal  other  6.9    male     yes       6  2.8810   \n",
       "1  average        2   normal  other  7.4  female     yes      10  2.7478   \n",
       "2     poor        4  limited  other  6.6  female      no      10  0.6532   \n",
       "3     poor        2  limited  other  7.6    male     yes       3  0.6588   \n",
       "4  average        2  limited  other  7.9  female     yes       6  0.6588   \n",
       "\n",
       "  employed insurance medicaid  \n",
       "0      yes       yes       no  \n",
       "1       no       yes       no  \n",
       "2       no        no      yes  \n",
       "3       no       yes       no  \n",
       "4       no       yes       no  "
      ]
     },
     "execution_count": 2,
     "metadata": {},
     "output_type": "execute_result"
    }
   ],
   "source": [
    "df = pd.read_csv(\"../data/NSMES1988.csv\")\n",
    "df.head()"
   ]
  },
  {
   "cell_type": "markdown",
   "id": "8575119e-d81b-48e1-a58e-d984b89e6587",
   "metadata": {},
   "source": [
    "<br>\n",
    "\n",
    "__3. Identify different types of data and report it.__"
   ]
  },
  {
   "cell_type": "code",
   "execution_count": 3,
   "id": "45b1fde5-e1c7-4a14-a54d-94a90b6840d1",
   "metadata": {},
   "outputs": [
    {
     "data": {
      "text/html": [
       "<div>\n",
       "<style scoped>\n",
       "    .dataframe tbody tr th:only-of-type {\n",
       "        vertical-align: middle;\n",
       "    }\n",
       "\n",
       "    .dataframe tbody tr th {\n",
       "        vertical-align: top;\n",
       "    }\n",
       "\n",
       "    .dataframe thead th {\n",
       "        text-align: right;\n",
       "    }\n",
       "</style>\n",
       "<table border=\"1\" class=\"dataframe\">\n",
       "  <thead>\n",
       "    <tr style=\"text-align: right;\">\n",
       "      <th></th>\n",
       "      <th>Unnamed: 0</th>\n",
       "      <th>visits</th>\n",
       "      <th>nvisits</th>\n",
       "      <th>ovisits</th>\n",
       "      <th>novisits</th>\n",
       "      <th>emergency</th>\n",
       "      <th>hospital</th>\n",
       "      <th>health</th>\n",
       "      <th>chronic</th>\n",
       "      <th>adl</th>\n",
       "      <th>region</th>\n",
       "      <th>age</th>\n",
       "      <th>gender</th>\n",
       "      <th>married</th>\n",
       "      <th>school</th>\n",
       "      <th>income</th>\n",
       "      <th>employed</th>\n",
       "      <th>insurance</th>\n",
       "      <th>medicaid</th>\n",
       "    </tr>\n",
       "  </thead>\n",
       "  <tbody>\n",
       "    <tr>\n",
       "      <th>0</th>\n",
       "      <td>1</td>\n",
       "      <td>5</td>\n",
       "      <td>0</td>\n",
       "      <td>0</td>\n",
       "      <td>0</td>\n",
       "      <td>0</td>\n",
       "      <td>1</td>\n",
       "      <td>average</td>\n",
       "      <td>2</td>\n",
       "      <td>normal</td>\n",
       "      <td>other</td>\n",
       "      <td>6.9</td>\n",
       "      <td>male</td>\n",
       "      <td>yes</td>\n",
       "      <td>6</td>\n",
       "      <td>2.8810</td>\n",
       "      <td>yes</td>\n",
       "      <td>yes</td>\n",
       "      <td>no</td>\n",
       "    </tr>\n",
       "    <tr>\n",
       "      <th>1</th>\n",
       "      <td>2</td>\n",
       "      <td>1</td>\n",
       "      <td>0</td>\n",
       "      <td>2</td>\n",
       "      <td>0</td>\n",
       "      <td>2</td>\n",
       "      <td>0</td>\n",
       "      <td>average</td>\n",
       "      <td>2</td>\n",
       "      <td>normal</td>\n",
       "      <td>other</td>\n",
       "      <td>7.4</td>\n",
       "      <td>female</td>\n",
       "      <td>yes</td>\n",
       "      <td>10</td>\n",
       "      <td>2.7478</td>\n",
       "      <td>no</td>\n",
       "      <td>yes</td>\n",
       "      <td>no</td>\n",
       "    </tr>\n",
       "    <tr>\n",
       "      <th>2</th>\n",
       "      <td>3</td>\n",
       "      <td>13</td>\n",
       "      <td>0</td>\n",
       "      <td>0</td>\n",
       "      <td>0</td>\n",
       "      <td>3</td>\n",
       "      <td>3</td>\n",
       "      <td>poor</td>\n",
       "      <td>4</td>\n",
       "      <td>limited</td>\n",
       "      <td>other</td>\n",
       "      <td>6.6</td>\n",
       "      <td>female</td>\n",
       "      <td>no</td>\n",
       "      <td>10</td>\n",
       "      <td>0.6532</td>\n",
       "      <td>no</td>\n",
       "      <td>no</td>\n",
       "      <td>yes</td>\n",
       "    </tr>\n",
       "    <tr>\n",
       "      <th>3</th>\n",
       "      <td>4</td>\n",
       "      <td>16</td>\n",
       "      <td>0</td>\n",
       "      <td>5</td>\n",
       "      <td>0</td>\n",
       "      <td>1</td>\n",
       "      <td>1</td>\n",
       "      <td>poor</td>\n",
       "      <td>2</td>\n",
       "      <td>limited</td>\n",
       "      <td>other</td>\n",
       "      <td>7.6</td>\n",
       "      <td>male</td>\n",
       "      <td>yes</td>\n",
       "      <td>3</td>\n",
       "      <td>0.6588</td>\n",
       "      <td>no</td>\n",
       "      <td>yes</td>\n",
       "      <td>no</td>\n",
       "    </tr>\n",
       "    <tr>\n",
       "      <th>4</th>\n",
       "      <td>5</td>\n",
       "      <td>3</td>\n",
       "      <td>0</td>\n",
       "      <td>0</td>\n",
       "      <td>0</td>\n",
       "      <td>0</td>\n",
       "      <td>0</td>\n",
       "      <td>average</td>\n",
       "      <td>2</td>\n",
       "      <td>limited</td>\n",
       "      <td>other</td>\n",
       "      <td>7.9</td>\n",
       "      <td>female</td>\n",
       "      <td>yes</td>\n",
       "      <td>6</td>\n",
       "      <td>0.6588</td>\n",
       "      <td>no</td>\n",
       "      <td>yes</td>\n",
       "      <td>no</td>\n",
       "    </tr>\n",
       "    <tr>\n",
       "      <th>5</th>\n",
       "      <td>6</td>\n",
       "      <td>17</td>\n",
       "      <td>0</td>\n",
       "      <td>0</td>\n",
       "      <td>0</td>\n",
       "      <td>0</td>\n",
       "      <td>0</td>\n",
       "      <td>poor</td>\n",
       "      <td>5</td>\n",
       "      <td>limited</td>\n",
       "      <td>other</td>\n",
       "      <td>6.6</td>\n",
       "      <td>female</td>\n",
       "      <td>no</td>\n",
       "      <td>7</td>\n",
       "      <td>0.3301</td>\n",
       "      <td>no</td>\n",
       "      <td>no</td>\n",
       "      <td>yes</td>\n",
       "    </tr>\n",
       "    <tr>\n",
       "      <th>6</th>\n",
       "      <td>7</td>\n",
       "      <td>9</td>\n",
       "      <td>0</td>\n",
       "      <td>0</td>\n",
       "      <td>0</td>\n",
       "      <td>0</td>\n",
       "      <td>0</td>\n",
       "      <td>average</td>\n",
       "      <td>0</td>\n",
       "      <td>normal</td>\n",
       "      <td>midwest</td>\n",
       "      <td>7.5</td>\n",
       "      <td>female</td>\n",
       "      <td>no</td>\n",
       "      <td>8</td>\n",
       "      <td>0.8280</td>\n",
       "      <td>no</td>\n",
       "      <td>yes</td>\n",
       "      <td>no</td>\n",
       "    </tr>\n",
       "    <tr>\n",
       "      <th>7</th>\n",
       "      <td>8</td>\n",
       "      <td>3</td>\n",
       "      <td>0</td>\n",
       "      <td>0</td>\n",
       "      <td>0</td>\n",
       "      <td>0</td>\n",
       "      <td>0</td>\n",
       "      <td>average</td>\n",
       "      <td>0</td>\n",
       "      <td>normal</td>\n",
       "      <td>midwest</td>\n",
       "      <td>8.7</td>\n",
       "      <td>female</td>\n",
       "      <td>no</td>\n",
       "      <td>8</td>\n",
       "      <td>3.0456</td>\n",
       "      <td>no</td>\n",
       "      <td>yes</td>\n",
       "      <td>no</td>\n",
       "    </tr>\n",
       "    <tr>\n",
       "      <th>8</th>\n",
       "      <td>9</td>\n",
       "      <td>1</td>\n",
       "      <td>0</td>\n",
       "      <td>0</td>\n",
       "      <td>0</td>\n",
       "      <td>0</td>\n",
       "      <td>0</td>\n",
       "      <td>average</td>\n",
       "      <td>0</td>\n",
       "      <td>normal</td>\n",
       "      <td>midwest</td>\n",
       "      <td>7.3</td>\n",
       "      <td>female</td>\n",
       "      <td>no</td>\n",
       "      <td>8</td>\n",
       "      <td>3.0456</td>\n",
       "      <td>no</td>\n",
       "      <td>yes</td>\n",
       "      <td>no</td>\n",
       "    </tr>\n",
       "    <tr>\n",
       "      <th>9</th>\n",
       "      <td>10</td>\n",
       "      <td>0</td>\n",
       "      <td>0</td>\n",
       "      <td>0</td>\n",
       "      <td>0</td>\n",
       "      <td>0</td>\n",
       "      <td>0</td>\n",
       "      <td>average</td>\n",
       "      <td>0</td>\n",
       "      <td>normal</td>\n",
       "      <td>midwest</td>\n",
       "      <td>7.8</td>\n",
       "      <td>female</td>\n",
       "      <td>no</td>\n",
       "      <td>8</td>\n",
       "      <td>3.0456</td>\n",
       "      <td>no</td>\n",
       "      <td>yes</td>\n",
       "      <td>no</td>\n",
       "    </tr>\n",
       "  </tbody>\n",
       "</table>\n",
       "</div>"
      ],
      "text/plain": [
       "   Unnamed: 0  visits  nvisits  ovisits  novisits  emergency  hospital  \\\n",
       "0           1       5        0        0         0          0         1   \n",
       "1           2       1        0        2         0          2         0   \n",
       "2           3      13        0        0         0          3         3   \n",
       "3           4      16        0        5         0          1         1   \n",
       "4           5       3        0        0         0          0         0   \n",
       "5           6      17        0        0         0          0         0   \n",
       "6           7       9        0        0         0          0         0   \n",
       "7           8       3        0        0         0          0         0   \n",
       "8           9       1        0        0         0          0         0   \n",
       "9          10       0        0        0         0          0         0   \n",
       "\n",
       "    health  chronic      adl   region  age  gender married  school  income  \\\n",
       "0  average        2   normal    other  6.9    male     yes       6  2.8810   \n",
       "1  average        2   normal    other  7.4  female     yes      10  2.7478   \n",
       "2     poor        4  limited    other  6.6  female      no      10  0.6532   \n",
       "3     poor        2  limited    other  7.6    male     yes       3  0.6588   \n",
       "4  average        2  limited    other  7.9  female     yes       6  0.6588   \n",
       "5     poor        5  limited    other  6.6  female      no       7  0.3301   \n",
       "6  average        0   normal  midwest  7.5  female      no       8  0.8280   \n",
       "7  average        0   normal  midwest  8.7  female      no       8  3.0456   \n",
       "8  average        0   normal  midwest  7.3  female      no       8  3.0456   \n",
       "9  average        0   normal  midwest  7.8  female      no       8  3.0456   \n",
       "\n",
       "  employed insurance medicaid  \n",
       "0      yes       yes       no  \n",
       "1       no       yes       no  \n",
       "2       no        no      yes  \n",
       "3       no       yes       no  \n",
       "4       no       yes       no  \n",
       "5       no        no      yes  \n",
       "6       no       yes       no  \n",
       "7       no       yes       no  \n",
       "8       no       yes       no  \n",
       "9       no       yes       no  "
      ]
     },
     "execution_count": 3,
     "metadata": {},
     "output_type": "execute_result"
    }
   ],
   "source": [
    "df.head(10)"
   ]
  },
  {
   "cell_type": "markdown",
   "id": "0a38c063-275e-45de-99cd-1b1756da40ea",
   "metadata": {},
   "source": [
    "As you can see from the above listing, age and income has been updated and the data is more-or-less ready for further analysis. You can check this with the following functions:"
   ]
  },
  {
   "cell_type": "code",
   "execution_count": 4,
   "id": "92a5cff7-f587-4cf4-b538-d5290e58a8ea",
   "metadata": {},
   "outputs": [
    {
     "data": {
      "text/html": [
       "<div>\n",
       "<style scoped>\n",
       "    .dataframe tbody tr th:only-of-type {\n",
       "        vertical-align: middle;\n",
       "    }\n",
       "\n",
       "    .dataframe tbody tr th {\n",
       "        vertical-align: top;\n",
       "    }\n",
       "\n",
       "    .dataframe thead th {\n",
       "        text-align: right;\n",
       "    }\n",
       "</style>\n",
       "<table border=\"1\" class=\"dataframe\">\n",
       "  <thead>\n",
       "    <tr style=\"text-align: right;\">\n",
       "      <th></th>\n",
       "      <th>Unnamed: 0</th>\n",
       "      <th>visits</th>\n",
       "      <th>nvisits</th>\n",
       "      <th>ovisits</th>\n",
       "      <th>novisits</th>\n",
       "      <th>emergency</th>\n",
       "      <th>hospital</th>\n",
       "      <th>chronic</th>\n",
       "      <th>age</th>\n",
       "      <th>school</th>\n",
       "      <th>income</th>\n",
       "    </tr>\n",
       "  </thead>\n",
       "  <tbody>\n",
       "    <tr>\n",
       "      <th>count</th>\n",
       "      <td>4406.000000</td>\n",
       "      <td>4406.000000</td>\n",
       "      <td>4406.000000</td>\n",
       "      <td>4406.000000</td>\n",
       "      <td>4406.000000</td>\n",
       "      <td>4406.000000</td>\n",
       "      <td>4406.000000</td>\n",
       "      <td>4406.000000</td>\n",
       "      <td>4406.000000</td>\n",
       "      <td>4406.000000</td>\n",
       "      <td>4406.000000</td>\n",
       "    </tr>\n",
       "    <tr>\n",
       "      <th>mean</th>\n",
       "      <td>2203.500000</td>\n",
       "      <td>5.774399</td>\n",
       "      <td>1.618021</td>\n",
       "      <td>0.750794</td>\n",
       "      <td>0.536087</td>\n",
       "      <td>0.263504</td>\n",
       "      <td>0.295960</td>\n",
       "      <td>1.541988</td>\n",
       "      <td>7.402406</td>\n",
       "      <td>10.290286</td>\n",
       "      <td>2.527132</td>\n",
       "    </tr>\n",
       "    <tr>\n",
       "      <th>std</th>\n",
       "      <td>1272.046972</td>\n",
       "      <td>6.759225</td>\n",
       "      <td>5.317056</td>\n",
       "      <td>3.652759</td>\n",
       "      <td>3.879506</td>\n",
       "      <td>0.703659</td>\n",
       "      <td>0.746398</td>\n",
       "      <td>1.349632</td>\n",
       "      <td>0.633405</td>\n",
       "      <td>3.738736</td>\n",
       "      <td>2.924648</td>\n",
       "    </tr>\n",
       "    <tr>\n",
       "      <th>min</th>\n",
       "      <td>1.000000</td>\n",
       "      <td>0.000000</td>\n",
       "      <td>0.000000</td>\n",
       "      <td>0.000000</td>\n",
       "      <td>0.000000</td>\n",
       "      <td>0.000000</td>\n",
       "      <td>0.000000</td>\n",
       "      <td>0.000000</td>\n",
       "      <td>6.600000</td>\n",
       "      <td>0.000000</td>\n",
       "      <td>-1.012500</td>\n",
       "    </tr>\n",
       "    <tr>\n",
       "      <th>25%</th>\n",
       "      <td>1102.250000</td>\n",
       "      <td>1.000000</td>\n",
       "      <td>0.000000</td>\n",
       "      <td>0.000000</td>\n",
       "      <td>0.000000</td>\n",
       "      <td>0.000000</td>\n",
       "      <td>0.000000</td>\n",
       "      <td>1.000000</td>\n",
       "      <td>6.900000</td>\n",
       "      <td>8.000000</td>\n",
       "      <td>0.912150</td>\n",
       "    </tr>\n",
       "    <tr>\n",
       "      <th>50%</th>\n",
       "      <td>2203.500000</td>\n",
       "      <td>4.000000</td>\n",
       "      <td>0.000000</td>\n",
       "      <td>0.000000</td>\n",
       "      <td>0.000000</td>\n",
       "      <td>0.000000</td>\n",
       "      <td>0.000000</td>\n",
       "      <td>1.000000</td>\n",
       "      <td>7.300000</td>\n",
       "      <td>11.000000</td>\n",
       "      <td>1.698150</td>\n",
       "    </tr>\n",
       "    <tr>\n",
       "      <th>75%</th>\n",
       "      <td>3304.750000</td>\n",
       "      <td>8.000000</td>\n",
       "      <td>1.000000</td>\n",
       "      <td>0.000000</td>\n",
       "      <td>0.000000</td>\n",
       "      <td>0.000000</td>\n",
       "      <td>0.000000</td>\n",
       "      <td>2.000000</td>\n",
       "      <td>7.800000</td>\n",
       "      <td>12.000000</td>\n",
       "      <td>3.172850</td>\n",
       "    </tr>\n",
       "    <tr>\n",
       "      <th>max</th>\n",
       "      <td>4406.000000</td>\n",
       "      <td>89.000000</td>\n",
       "      <td>104.000000</td>\n",
       "      <td>141.000000</td>\n",
       "      <td>155.000000</td>\n",
       "      <td>12.000000</td>\n",
       "      <td>8.000000</td>\n",
       "      <td>8.000000</td>\n",
       "      <td>10.900000</td>\n",
       "      <td>18.000000</td>\n",
       "      <td>54.835100</td>\n",
       "    </tr>\n",
       "  </tbody>\n",
       "</table>\n",
       "</div>"
      ],
      "text/plain": [
       "        Unnamed: 0       visits      nvisits      ovisits     novisits  \\\n",
       "count  4406.000000  4406.000000  4406.000000  4406.000000  4406.000000   \n",
       "mean   2203.500000     5.774399     1.618021     0.750794     0.536087   \n",
       "std    1272.046972     6.759225     5.317056     3.652759     3.879506   \n",
       "min       1.000000     0.000000     0.000000     0.000000     0.000000   \n",
       "25%    1102.250000     1.000000     0.000000     0.000000     0.000000   \n",
       "50%    2203.500000     4.000000     0.000000     0.000000     0.000000   \n",
       "75%    3304.750000     8.000000     1.000000     0.000000     0.000000   \n",
       "max    4406.000000    89.000000   104.000000   141.000000   155.000000   \n",
       "\n",
       "         emergency     hospital      chronic          age       school  \\\n",
       "count  4406.000000  4406.000000  4406.000000  4406.000000  4406.000000   \n",
       "mean      0.263504     0.295960     1.541988     7.402406    10.290286   \n",
       "std       0.703659     0.746398     1.349632     0.633405     3.738736   \n",
       "min       0.000000     0.000000     0.000000     6.600000     0.000000   \n",
       "25%       0.000000     0.000000     1.000000     6.900000     8.000000   \n",
       "50%       0.000000     0.000000     1.000000     7.300000    11.000000   \n",
       "75%       0.000000     0.000000     2.000000     7.800000    12.000000   \n",
       "max      12.000000     8.000000     8.000000    10.900000    18.000000   \n",
       "\n",
       "            income  \n",
       "count  4406.000000  \n",
       "mean      2.527132  \n",
       "std       2.924648  \n",
       "min      -1.012500  \n",
       "25%       0.912150  \n",
       "50%       1.698150  \n",
       "75%       3.172850  \n",
       "max      54.835100  "
      ]
     },
     "execution_count": 4,
     "metadata": {},
     "output_type": "execute_result"
    }
   ],
   "source": [
    "df.describe()"
   ]
  },
  {
   "cell_type": "code",
   "execution_count": 5,
   "id": "7d59433b-81e5-4122-8252-ec66e8a31e68",
   "metadata": {},
   "outputs": [
    {
     "data": {
      "text/plain": [
       "age       6.6000\n",
       "income   -1.0125\n",
       "dtype: float64"
      ]
     },
     "execution_count": 5,
     "metadata": {},
     "output_type": "execute_result"
    }
   ],
   "source": [
    "# Print min and max of age and income\n",
    "df[['age','income']].min()"
   ]
  },
  {
   "cell_type": "code",
   "execution_count": 6,
   "id": "5b37965d-3554-4597-aa7c-8d4cffa4ef29",
   "metadata": {},
   "outputs": [
    {
     "data": {
      "text/plain": [
       "age       10.9000\n",
       "income    54.8351\n",
       "dtype: float64"
      ]
     },
     "execution_count": 6,
     "metadata": {},
     "output_type": "execute_result"
    }
   ],
   "source": [
    "# Print min and max of age and income\n",
    "df[['age','income']].max()"
   ]
  },
  {
   "cell_type": "code",
   "execution_count": 7,
   "id": "a958daa1-2715-44dd-a80c-fb4647b9bf34",
   "metadata": {},
   "outputs": [],
   "source": [
    "# Drop samples for which income <=0\n",
    "df = df[df['income']>0]"
   ]
  },
  {
   "cell_type": "code",
   "execution_count": 8,
   "id": "1e7d9184-0ae6-4225-9b8a-4c36c18abc9e",
   "metadata": {},
   "outputs": [
    {
     "data": {
      "text/plain": [
       "np.float64(0.0014)"
      ]
     },
     "execution_count": 8,
     "metadata": {},
     "output_type": "execute_result"
    }
   ],
   "source": [
    "# Print min of income\n",
    "df['income'].min()"
   ]
  },
  {
   "cell_type": "markdown",
   "id": "4236e27d-1bc2-420b-8df2-77348b88e939",
   "metadata": {},
   "source": [
    "Analysis:\n",
    "Now, let's focus on the visits part. There are 3 columns of importance - visits, nvisits, ovisits and novisits.\n",
    "- visits: This corresponds to Number of physician office visits.\n",
    "- nvisits: This corresponds to Number of non-physician office visits. \n",
    "- ovisits: This corresponds to Number of physician hospital outpatient visits.\n",
    "- novisits: This corresponds to Number of non-physician hospital outpatient visits.\n",
    "- emergency: This corresponds to Number of Emergency room visits by physicians (although not stated). This is inferred, as there is no role for non-physician visits hospital or out-patient, during an emergency. This is crucual for Data Scientist.\n",
    "- hospital: This corresponds to Number days of hospital stays. \n",
    "- chronic: This corresponds to Number of chronic conditions. If you can query the chronic data, the number ranges from (0, 8) which indicate just a number. From the given data, it can only be inferred that 8 is the most chronic, while 0 is the least chronic. Chrono means time. It could be number of weeks, days, or years. Most usually, the term chronic is applied to years, and let's us assume that."
   ]
  },
  {
   "cell_type": "markdown",
   "id": "88a5bc89-1b6f-400d-a354-6692dd60b0e1",
   "metadata": {},
   "source": [
    "<br>\n",
    "\n",
    "__4. Identify Categorical types in the data.__"
   ]
  },
  {
   "cell_type": "code",
   "execution_count": 9,
   "id": "3f64a668-20f0-407e-896c-989a9bf9da17",
   "metadata": {},
   "outputs": [
    {
     "data": {
      "text/html": [
       "<div>\n",
       "<style scoped>\n",
       "    .dataframe tbody tr th:only-of-type {\n",
       "        vertical-align: middle;\n",
       "    }\n",
       "\n",
       "    .dataframe tbody tr th {\n",
       "        vertical-align: top;\n",
       "    }\n",
       "\n",
       "    .dataframe thead th {\n",
       "        text-align: right;\n",
       "    }\n",
       "</style>\n",
       "<table border=\"1\" class=\"dataframe\">\n",
       "  <thead>\n",
       "    <tr style=\"text-align: right;\">\n",
       "      <th></th>\n",
       "      <th>Unnamed: 0</th>\n",
       "      <th>visits</th>\n",
       "      <th>nvisits</th>\n",
       "      <th>ovisits</th>\n",
       "      <th>novisits</th>\n",
       "      <th>emergency</th>\n",
       "      <th>hospital</th>\n",
       "      <th>health</th>\n",
       "      <th>chronic</th>\n",
       "      <th>adl</th>\n",
       "      <th>region</th>\n",
       "      <th>age</th>\n",
       "      <th>gender</th>\n",
       "      <th>married</th>\n",
       "      <th>school</th>\n",
       "      <th>income</th>\n",
       "      <th>employed</th>\n",
       "      <th>insurance</th>\n",
       "      <th>medicaid</th>\n",
       "    </tr>\n",
       "  </thead>\n",
       "  <tbody>\n",
       "    <tr>\n",
       "      <th>0</th>\n",
       "      <td>1</td>\n",
       "      <td>5</td>\n",
       "      <td>0</td>\n",
       "      <td>0</td>\n",
       "      <td>0</td>\n",
       "      <td>0</td>\n",
       "      <td>1</td>\n",
       "      <td>average</td>\n",
       "      <td>2</td>\n",
       "      <td>normal</td>\n",
       "      <td>other</td>\n",
       "      <td>6.9</td>\n",
       "      <td>male</td>\n",
       "      <td>yes</td>\n",
       "      <td>6</td>\n",
       "      <td>2.8810</td>\n",
       "      <td>yes</td>\n",
       "      <td>yes</td>\n",
       "      <td>no</td>\n",
       "    </tr>\n",
       "    <tr>\n",
       "      <th>1</th>\n",
       "      <td>2</td>\n",
       "      <td>1</td>\n",
       "      <td>0</td>\n",
       "      <td>2</td>\n",
       "      <td>0</td>\n",
       "      <td>2</td>\n",
       "      <td>0</td>\n",
       "      <td>average</td>\n",
       "      <td>2</td>\n",
       "      <td>normal</td>\n",
       "      <td>other</td>\n",
       "      <td>7.4</td>\n",
       "      <td>female</td>\n",
       "      <td>yes</td>\n",
       "      <td>10</td>\n",
       "      <td>2.7478</td>\n",
       "      <td>no</td>\n",
       "      <td>yes</td>\n",
       "      <td>no</td>\n",
       "    </tr>\n",
       "  </tbody>\n",
       "</table>\n",
       "</div>"
      ],
      "text/plain": [
       "   Unnamed: 0  visits  nvisits  ovisits  novisits  emergency  hospital  \\\n",
       "0           1       5        0        0         0          0         1   \n",
       "1           2       1        0        2         0          2         0   \n",
       "\n",
       "    health  chronic     adl region  age  gender married  school  income  \\\n",
       "0  average        2  normal  other  6.9    male     yes       6  2.8810   \n",
       "1  average        2  normal  other  7.4  female     yes      10  2.7478   \n",
       "\n",
       "  employed insurance medicaid  \n",
       "0      yes       yes       no  \n",
       "1       no       yes       no  "
      ]
     },
     "execution_count": 9,
     "metadata": {},
     "output_type": "execute_result"
    }
   ],
   "source": [
    "df.head(2)"
   ]
  },
  {
   "cell_type": "markdown",
   "id": "ae95182b-49b6-47b5-846f-46c89ba4e8a7",
   "metadata": {},
   "source": [
    "The following are the categorical data:\n",
    "- health\n",
    "- adl\n",
    "- region\n",
    "- afam\n",
    "- gender\n",
    "- married\n",
    "- employed\n",
    "- insurance\n",
    "- medicaid\n",
    "\n",
    "Of the above, the last three, could have been boolean data. As you can see from the data, the values for these three columns are yes or no. Since nothing has been said about it, we are not going to make any changes to the existing dataframe."
   ]
  },
  {
   "cell_type": "markdown",
   "id": "7b659c26-4f4b-47ba-a890-07ada6af03b5",
   "metadata": {},
   "source": [
    "<br>\n",
    "\n",
    "__5. Perform a detailed Data pivoting on the dataframe and report it. Include the following categorical data in your analysis: Region and Health.__"
   ]
  },
  {
   "cell_type": "markdown",
   "id": "b798b343-63f7-4c41-904e-d1aa51073f96",
   "metadata": {},
   "source": [
    "Region\n",
    "\n",
    "In this step, we will analyse the data, based on the region-wise data, as obtained by the data piviting method, as shown above.\n",
    "\n",
    "From the above pivot table, many things can be inferred. Average age is uniformly spread across all the four regions. Hospital visit in the west is more than the other regions, and so is the income. The other region presents a higher chronic condition.\n"
   ]
  },
  {
   "cell_type": "code",
   "execution_count": null,
   "id": "99a6b61d-de8e-4ab2-8848-8a4a82f4cfa9",
   "metadata": {},
   "outputs": [],
   "source": [
    "# Pivot on region\n",
    "pivot_region = df.pivot_table(df,index='region',aggfunc='mean')\n",
    "pivot_region"
   ]
  },
  {
   "cell_type": "code",
   "execution_count": null,
   "id": "699dcb16-6a7c-42a4-ba25-ee9880a6f9c4",
   "metadata": {},
   "outputs": [],
   "source": [
    "# Equivalently, we can obtain the same result using groupby\n",
    "df.groupby('region').mean()"
   ]
  },
  {
   "cell_type": "markdown",
   "id": "75d89d8b-3e99-4e96-998c-76360108a3ad",
   "metadata": {},
   "source": [
    "Health\n",
    "\n",
    "In this section, we will perform the analysis by pivoting on the health categorical data.\n",
    "From the above pivot table, many things can be inferred. For example, chronic conditions are highest among the poor health. Likewise, the emergency visits are least among the excellent health. Similarly, the average income is also the highest among the excellent health.\n"
   ]
  },
  {
   "cell_type": "code",
   "execution_count": null,
   "id": "386754a0-d398-4b59-b7c9-024d7bc990cb",
   "metadata": {},
   "outputs": [],
   "source": [
    "# Pivot on health\n",
    "# Pivot on region\n",
    "pivot_region = df.pivot_table(df,index='health',aggfunc='mean')\n",
    "pivot_region"
   ]
  },
  {
   "cell_type": "markdown",
   "id": "90f5554d-f3f5-4fe2-bf53-f27150915765",
   "metadata": {},
   "source": [
    "<br>\n",
    "\n",
    "__6. Prepare a detailed report on your analysis observations.__"
   ]
  },
  {
   "cell_type": "markdown",
   "id": "7b84e903-f11b-43c0-bc92-84158d65d25a",
   "metadata": {},
   "source": [
    "This week, many aspects of data analysis were covered, particularly pandas. The activities included data reading and cleansing, specific analysis on age and income were carried out and some special points were noted, particularly on the income part.\n",
    "\n",
    "Further, pivoting was done on two categorical data - region and health. Many interesting observations were done and noted, based on the analysis\n"
   ]
  },
  {
   "cell_type": "markdown",
   "id": "4d675361-26d5-48b4-a895-48bf612ea33d",
   "metadata": {},
   "source": [
    "<br>\n",
    "\n",
    "## __WEEK 3 - Part B__"
   ]
  },
  {
   "cell_type": "markdown",
   "id": "612c5242-73d2-40db-9405-fbefbe2ec55d",
   "metadata": {},
   "source": [
    "__Task: Analyse and Cleanse data.__"
   ]
  },
  {
   "cell_type": "markdown",
   "id": "d305e74f-5193-49cd-9a01-57d96a16737f",
   "metadata": {},
   "source": [
    " \n",
    "1. Import relevant python libraries.\n",
    "2. Import the CSV file NSMES1988new3.csv file and create a new dataframe for working with Pandas.\n",
    "3. Perform analysis based on the following criteria<br>\n",
    "3.1 Different types of visits<br>\n",
    "3.2 Gender<br>\n",
    "3.3 Marital Status<br>\n",
    "3.4 School<br>\n",
    "3.5 Income<br>\n",
    "3.6 Employment Status<br>\n",
    "3.7 Insurance<br>\n",
    "3.8 Medical Aid<br>\n",
    "\n",
    "4. Correlate between the following:<br>\n",
    "4.1 Age and Gender<br>\n",
    "4.2 Health and Gender<br>\n",
    "4.3 Income and Gender<br>\n",
    "4.4 Afam and Income<br>\n",
    "4.5 Region and Income<br>\n",
    "4.6 Age and Income<br>\n",
    "\n",
    "5.Report your findings.\n"
   ]
  },
  {
   "cell_type": "markdown",
   "id": "a4df9ba8-87b0-41a0-9932-31dcca9910a8",
   "metadata": {},
   "source": [
    "<br>\n",
    "\n",
    "__1. Import relevant python libraries.__"
   ]
  },
  {
   "cell_type": "code",
   "execution_count": 22,
   "id": "85e50e49-148c-42be-a162-4aa517919dc9",
   "metadata": {},
   "outputs": [],
   "source": [
    "import numpy as np\n",
    "import pandas as pd"
   ]
  },
  {
   "cell_type": "markdown",
   "id": "a3f6f55a-2d8f-4550-8650-32b2340ba11b",
   "metadata": {},
   "source": [
    "<br>\n",
    "\n",
    "__2. Import the CSV file – NSMES1988new.csv into a dataframe, and enforce the dtypes recommended in step 9 of Week 1.__"
   ]
  },
  {
   "cell_type": "code",
   "execution_count": null,
   "id": "6f4e98af-dd03-46ea-a6cf-54edf772ae38",
   "metadata": {},
   "outputs": [],
   "source": [
    "df = pd.read_csv('NSMES1988new3.csv')\n",
    "df.head()"
   ]
  },
  {
   "cell_type": "markdown",
   "id": "cee7da3e-cbfa-47b2-86dc-f2f077797686",
   "metadata": {},
   "source": [
    "<br>\n",
    "\n",
    "__3. Perform analysis based on the following criteria__<br>\n",
    "\n",
    "__3.1 Different types of visits<br>\n",
    "3.2 Gender<br>\n",
    "3.3 Marital Status<br>\n",
    "3.4 School<br>\n",
    "3.5 Income<br>\n",
    "3.6 Employment Status<br>\n",
    "3.7 Insurance<br>\n",
    "3.8 Medical Aid<br>__"
   ]
  },
  {
   "cell_type": "markdown",
   "id": "b7851cd6-de7d-4e1e-b14f-673009cfd4ac",
   "metadata": {},
   "source": [
    "__3.1 Different types of visits<br>__"
   ]
  },
  {
   "cell_type": "markdown",
   "id": "f12f2683-f74f-4c18-a883-48f404e8a231",
   "metadata": {},
   "source": [
    "There are 7 different kind of visits that can be observed from the data. They are as follows:<br>\n",
    "visits<br>\n",
    "nvisits<br>\n",
    "ovisits<br>\n",
    "novisits<br>\n",
    "emergency, and<br>\n",
    "hospital<br>\n",
    "Let's carve out a sub-dataframe of different types of visits, and analyse:\n"
   ]
  },
  {
   "cell_type": "code",
   "execution_count": 24,
   "id": "cef9fd2a-324f-48ad-b119-ed1a0ea5219b",
   "metadata": {},
   "outputs": [],
   "source": [
    "visits = ['visits','nvisits','ovisits','novisits','emergency','hospital']"
   ]
  },
  {
   "cell_type": "code",
   "execution_count": null,
   "id": "4b48f524-d197-44a8-8ba2-c5e3aca1dd12",
   "metadata": {},
   "outputs": [],
   "source": [
    "df_visits = df[visits]\n",
    "df_visits.head()"
   ]
  },
  {
   "cell_type": "code",
   "execution_count": null,
   "id": "8ccd0ab1-59a3-4c2c-9401-306a5f2454ed",
   "metadata": {},
   "outputs": [],
   "source": [
    "df_visits.describe()"
   ]
  },
  {
   "cell_type": "markdown",
   "id": "2cdf5d15-f9b6-420f-a091-d1c315745aba",
   "metadata": {},
   "source": [
    "From the above description, a number of observations can be made. For example, novisits has been the highest, and hospitalization visits has been the lowest, as indicated by the max count (BTW, count, min and max are essentially integers, but pandas converts them into float for computation purposes). If you consider the mean value, the visits has the highest value (5.77) while emergency as the lowest (0.263504)."
   ]
  },
  {
   "cell_type": "markdown",
   "id": "2831e746-f3eb-4458-a8f9-cd15575c1ffe",
   "metadata": {},
   "source": [
    "3.2 Gender<br>"
   ]
  },
  {
   "cell_type": "code",
   "execution_count": null,
   "id": "3707a7bf-0b19-4129-85df-11a47249c1b6",
   "metadata": {},
   "outputs": [],
   "source": [
    "# Count values for gender\n",
    "df['gender'].value_counts()"
   ]
  },
  {
   "cell_type": "code",
   "execution_count": null,
   "id": "41572a18-fcdc-4c5a-8b77-3a68533c6723",
   "metadata": {},
   "outputs": [],
   "source": [
    "# Remark\n",
    "df['gender'].unique()"
   ]
  },
  {
   "cell_type": "markdown",
   "id": "6ced5703-e8eb-44e8-bee2-20cb3f570494",
   "metadata": {},
   "source": [
    "3.3 Marital Status<br>"
   ]
  },
  {
   "cell_type": "code",
   "execution_count": null,
   "id": "b320af0a-a344-478e-a438-3450bb4e16ba",
   "metadata": {},
   "outputs": [],
   "source": [
    "# Count values for marital status\n",
    "df['married'].value_counts()"
   ]
  },
  {
   "cell_type": "markdown",
   "id": "daec6032-b1b4-4095-95cd-58a6eae04815",
   "metadata": {},
   "source": [
    "3.4 School<br>"
   ]
  },
  {
   "cell_type": "code",
   "execution_count": null,
   "id": "a1483849-2b6f-459e-8f5a-3d1f5035bfa6",
   "metadata": {},
   "outputs": [],
   "source": [
    "df['school'].value_counts()"
   ]
  },
  {
   "cell_type": "markdown",
   "id": "da511680-22f9-4f27-bf86-f7b374aa5223",
   "metadata": {},
   "source": [
    "3.5 Income<br>"
   ]
  },
  {
   "cell_type": "code",
   "execution_count": null,
   "id": "f51f000f-5a65-4e98-9afb-3ec9bcd2cbaa",
   "metadata": {},
   "outputs": [],
   "source": [
    "# Describe income\n",
    "df['income'].describe()"
   ]
  },
  {
   "cell_type": "markdown",
   "id": "80382e69-48f2-4473-9bef-66c4674e6378",
   "metadata": {},
   "source": [
    "3.6 Employment Status<br>"
   ]
  },
  {
   "cell_type": "code",
   "execution_count": null,
   "id": "3050ba9a-7d05-4cd1-97f9-f0d41c5fafe7",
   "metadata": {},
   "outputs": [],
   "source": [
    "# Count values for employed\n",
    "df['employed'].value_counts()"
   ]
  },
  {
   "cell_type": "markdown",
   "id": "efb4a15a-3082-4132-8ffb-332f2ab98f12",
   "metadata": {},
   "source": [
    "3.7 Insurance<br>"
   ]
  },
  {
   "cell_type": "code",
   "execution_count": null,
   "id": "4b5923bc-e5e2-4b08-ad66-2bcd95a4944f",
   "metadata": {},
   "outputs": [],
   "source": [
    "# Count values for insurance\n",
    "df['insurance'].value_counts()"
   ]
  },
  {
   "cell_type": "markdown",
   "id": "2efe6628-88a4-4449-bec6-a808f367a3c8",
   "metadata": {},
   "source": [
    "3.8 Medical Aid<br>"
   ]
  },
  {
   "cell_type": "code",
   "execution_count": null,
   "id": "26d085bf-7108-4ae9-8bee-8091d5ef0e12",
   "metadata": {},
   "outputs": [],
   "source": [
    "# Count values for medicaid\n",
    "df['medicaid'].value_counts()"
   ]
  },
  {
   "cell_type": "markdown",
   "id": "833ec0cb-1ee2-4d8c-a058-ea9e861a3c56",
   "metadata": {},
   "source": [
    "<br>\n",
    "\n",
    "__4. \"Correlate\" between the following:<br>__\n",
    "\n",
    "__4.1 Age and Gender<br>\n",
    "4.2 Health and Gender<br>\n",
    "4.3 Income and Gender<br>\n",
    "4.4 Afam and Income<br>\n",
    "4.5 Region and Income<br>\n",
    "4.6 Age and Income<br>.__"
   ]
  },
  {
   "cell_type": "markdown",
   "id": "43f60e2b-689c-497d-927d-a184b4db20a7",
   "metadata": {},
   "source": [
    "4.1 Age and Gender<br>"
   ]
  },
  {
   "cell_type": "code",
   "execution_count": 36,
   "id": "2f7cd078-e252-42ed-9843-43a6de55f236",
   "metadata": {},
   "outputs": [],
   "source": [
    "df_age = df.groupby(['age'])"
   ]
  },
  {
   "cell_type": "code",
   "execution_count": null,
   "id": "25e92ec0-01eb-4d1e-bd2f-ebeb64bfb48b",
   "metadata": {},
   "outputs": [],
   "source": [
    "df_age.head(2)"
   ]
  },
  {
   "cell_type": "code",
   "execution_count": null,
   "id": "f010ca69-c1a0-48ff-8c24-44f1a34a530b",
   "metadata": {},
   "outputs": [],
   "source": [
    "df_age.count().head(5)"
   ]
  },
  {
   "cell_type": "code",
   "execution_count": null,
   "id": "18fedbe5-96ed-4c46-a171-fc70fb7d3a8b",
   "metadata": {},
   "outputs": [],
   "source": [
    "df_age.count()['visits']"
   ]
  },
  {
   "cell_type": "code",
   "execution_count": null,
   "id": "7c2f377e-194f-4d6f-807f-684f7c456b32",
   "metadata": {},
   "outputs": [],
   "source": [
    "df_age.size()"
   ]
  },
  {
   "cell_type": "code",
   "execution_count": null,
   "id": "d9e64112-0297-4b7e-af46-2239dd1010f5",
   "metadata": {},
   "outputs": [],
   "source": [
    "df_age['income'].mean()"
   ]
  },
  {
   "cell_type": "code",
   "execution_count": null,
   "id": "a924c2b3-d5d9-4040-8db0-afd9abf536b5",
   "metadata": {},
   "outputs": [],
   "source": [
    "df_age['income'].max()"
   ]
  },
  {
   "cell_type": "code",
   "execution_count": null,
   "id": "791ba187-0408-467f-bd3d-43f5ebb10001",
   "metadata": {},
   "outputs": [],
   "source": [
    "df.groupby(['age','gender']).size()"
   ]
  },
  {
   "cell_type": "code",
   "execution_count": null,
   "id": "c12a8425-c286-4861-ad76-3c2cdf47bf72",
   "metadata": {},
   "outputs": [],
   "source": [
    "df.groupby(['age','gender']).size().unstack()"
   ]
  },
  {
   "cell_type": "markdown",
   "id": "5b360169-a6b8-4de0-96e0-6f3b1a66b8db",
   "metadata": {},
   "source": [
    "4.2 Health and Gender<br>"
   ]
  },
  {
   "cell_type": "code",
   "execution_count": null,
   "id": "65ca9c8e-eed2-48f5-a79c-74acbd337e21",
   "metadata": {},
   "outputs": [],
   "source": [
    "df.groupby(['health','gender']).size().unstack()"
   ]
  },
  {
   "cell_type": "code",
   "execution_count": null,
   "id": "ba839d78-5ab4-4dca-961d-9d0d7a3fd73f",
   "metadata": {},
   "outputs": [],
   "source": [
    "# Remark: mean income for each gender and each health category\n",
    "df.groupby(['health','gender'])['income'].mean().unstack()"
   ]
  },
  {
   "cell_type": "markdown",
   "id": "daa246ce-8536-44d0-892c-91419d8da986",
   "metadata": {},
   "source": [
    "4.3 Income and Gender<br>"
   ]
  },
  {
   "cell_type": "code",
   "execution_count": null,
   "id": "990fe11f-1900-4cde-97c6-613bf004a451",
   "metadata": {},
   "outputs": [],
   "source": [
    "df.groupby('gender')['income'].mean()"
   ]
  },
  {
   "cell_type": "markdown",
   "id": "590f9015-49ae-4423-8e77-486e2eba659d",
   "metadata": {},
   "source": [
    "4.5 Region and Income<br>"
   ]
  },
  {
   "cell_type": "code",
   "execution_count": null,
   "id": "c5ef48db-59f0-4168-8904-6ac8173f6e2b",
   "metadata": {},
   "outputs": [],
   "source": [
    "df.groupby('region')['income'].mean()"
   ]
  },
  {
   "cell_type": "markdown",
   "id": "f2a1a614-b403-42da-9ec1-bdb058e7a58e",
   "metadata": {},
   "source": [
    "4.6 Age and Income<br>"
   ]
  },
  {
   "cell_type": "code",
   "execution_count": null,
   "id": "08584c2f-0368-440c-bffa-502a424d5482",
   "metadata": {},
   "outputs": [],
   "source": [
    "df.groupby('age')['income'].mean()"
   ]
  },
  {
   "cell_type": "markdown",
   "id": "53b3fa9b-5146-4694-a1c6-c01f2b257037",
   "metadata": {},
   "source": [
    "<br>\n",
    "\n",
    "__5. Report your findings.__"
   ]
  },
  {
   "cell_type": "markdown",
   "id": "2af290e7-d49a-4729-a5f1-1d45fc048eb4",
   "metadata": {},
   "source": [
    "Focus was particularly on individual aspects of the dataset. Also, analysis was carried out on comparison of disparate sets of data, such as age & income, health & gender, income and gender etc.\n",
    "\n",
    "Please note that the word correlation is used as comparison, rather than that of the statistical term correlation. This is due to the fact that correlation can be done only on numerical columns, and there are other catagorical columns were used.\n",
    "\n",
    "For correlating the categorical data, groupby() function was used, and size() function was used on top of this.\n",
    "\n",
    "Interesting facts were revealed in this assignment. For example, when we invoked groupby() function on health and gender, we could observe that females were almost double that of the male on the average health front, while they were almost equal on the excellent health front."
   ]
  },
  {
   "cell_type": "markdown",
   "id": "be5ad954-d6b8-4ad1-a220-14fee983dc2d",
   "metadata": {},
   "source": [
    "<br>\n",
    "\n",
    "## __WEEK 4__"
   ]
  },
  {
   "cell_type": "markdown",
   "id": "21c2386d-2c5d-46f8-ad2b-8cdb6fc1a0fb",
   "metadata": {},
   "source": [
    "__Task: Visualize data.__"
   ]
  },
  {
   "cell_type": "markdown",
   "id": "d7b5aa67-3eca-4ecd-9a2f-4d720aff782f",
   "metadata": {},
   "source": [
    "1. Import relevant python libraries necessary for Python and Pandas analysis, as well as visualization\n",
    "2. Import the CSV file NSMES1988updated.csv file and create a new dataframe for working with Pandas\n",
    "3. Indicate the plotting library choice and reasons for the choice\n",
    "4. Plot the analysis done in Week 3 for the categorical data -Health and Region\n",
    "5. Plot the analyses done in Week 4 (analysis and correlation)\n",
    "6. Prepare a detailed report and record your observations."
   ]
  },
  {
   "cell_type": "markdown",
   "id": "3dd077bd-a426-49aa-9df5-d15981d396f9",
   "metadata": {},
   "source": [
    "__1. Import relevant python libraries necessary for Python and Pandas analysis, as well as visualization__"
   ]
  },
  {
   "cell_type": "code",
   "execution_count": 3,
   "id": "49a91cdf-a22e-440e-b696-27527124c0f9",
   "metadata": {},
   "outputs": [],
   "source": [
    "import matplotlib.pyplot as plt\n",
    "import seaborn as sns\n",
    "import numpy as np\n",
    "import pandas as pd"
   ]
  },
  {
   "cell_type": "markdown",
   "id": "d394ec65-2116-44cb-a009-52ebb8fd48f6",
   "metadata": {},
   "source": [
    "__2. Import the CSV file NSMES1988updated.csv file and create a new dataframe for working with Pandas__"
   ]
  },
  {
   "cell_type": "code",
   "execution_count": 8,
   "id": "30f564c0-775c-4131-9742-cb9955bd2d56",
   "metadata": {},
   "outputs": [
    {
     "data": {
      "text/html": [
       "<div>\n",
       "<style scoped>\n",
       "    .dataframe tbody tr th:only-of-type {\n",
       "        vertical-align: middle;\n",
       "    }\n",
       "\n",
       "    .dataframe tbody tr th {\n",
       "        vertical-align: top;\n",
       "    }\n",
       "\n",
       "    .dataframe thead th {\n",
       "        text-align: right;\n",
       "    }\n",
       "</style>\n",
       "<table border=\"1\" class=\"dataframe\">\n",
       "  <thead>\n",
       "    <tr style=\"text-align: right;\">\n",
       "      <th></th>\n",
       "      <th>Unnamed: 0</th>\n",
       "      <th>visits</th>\n",
       "      <th>nvisits</th>\n",
       "      <th>ovisits</th>\n",
       "      <th>novisits</th>\n",
       "      <th>emergency</th>\n",
       "      <th>hospital</th>\n",
       "      <th>health</th>\n",
       "      <th>chronic</th>\n",
       "      <th>adl</th>\n",
       "      <th>region</th>\n",
       "      <th>age</th>\n",
       "      <th>gender</th>\n",
       "      <th>married</th>\n",
       "      <th>school</th>\n",
       "      <th>income</th>\n",
       "      <th>employed</th>\n",
       "      <th>insurance</th>\n",
       "      <th>medicaid</th>\n",
       "    </tr>\n",
       "  </thead>\n",
       "  <tbody>\n",
       "    <tr>\n",
       "      <th>0</th>\n",
       "      <td>1</td>\n",
       "      <td>5</td>\n",
       "      <td>0</td>\n",
       "      <td>0</td>\n",
       "      <td>0</td>\n",
       "      <td>0</td>\n",
       "      <td>1</td>\n",
       "      <td>average</td>\n",
       "      <td>2</td>\n",
       "      <td>normal</td>\n",
       "      <td>other</td>\n",
       "      <td>6.9</td>\n",
       "      <td>male</td>\n",
       "      <td>yes</td>\n",
       "      <td>6</td>\n",
       "      <td>2.8810</td>\n",
       "      <td>yes</td>\n",
       "      <td>yes</td>\n",
       "      <td>no</td>\n",
       "    </tr>\n",
       "    <tr>\n",
       "      <th>1</th>\n",
       "      <td>2</td>\n",
       "      <td>1</td>\n",
       "      <td>0</td>\n",
       "      <td>2</td>\n",
       "      <td>0</td>\n",
       "      <td>2</td>\n",
       "      <td>0</td>\n",
       "      <td>average</td>\n",
       "      <td>2</td>\n",
       "      <td>normal</td>\n",
       "      <td>other</td>\n",
       "      <td>7.4</td>\n",
       "      <td>female</td>\n",
       "      <td>yes</td>\n",
       "      <td>10</td>\n",
       "      <td>2.7478</td>\n",
       "      <td>no</td>\n",
       "      <td>yes</td>\n",
       "      <td>no</td>\n",
       "    </tr>\n",
       "    <tr>\n",
       "      <th>2</th>\n",
       "      <td>3</td>\n",
       "      <td>13</td>\n",
       "      <td>0</td>\n",
       "      <td>0</td>\n",
       "      <td>0</td>\n",
       "      <td>3</td>\n",
       "      <td>3</td>\n",
       "      <td>poor</td>\n",
       "      <td>4</td>\n",
       "      <td>limited</td>\n",
       "      <td>other</td>\n",
       "      <td>6.6</td>\n",
       "      <td>female</td>\n",
       "      <td>no</td>\n",
       "      <td>10</td>\n",
       "      <td>0.6532</td>\n",
       "      <td>no</td>\n",
       "      <td>no</td>\n",
       "      <td>yes</td>\n",
       "    </tr>\n",
       "    <tr>\n",
       "      <th>3</th>\n",
       "      <td>4</td>\n",
       "      <td>16</td>\n",
       "      <td>0</td>\n",
       "      <td>5</td>\n",
       "      <td>0</td>\n",
       "      <td>1</td>\n",
       "      <td>1</td>\n",
       "      <td>poor</td>\n",
       "      <td>2</td>\n",
       "      <td>limited</td>\n",
       "      <td>other</td>\n",
       "      <td>7.6</td>\n",
       "      <td>male</td>\n",
       "      <td>yes</td>\n",
       "      <td>3</td>\n",
       "      <td>0.6588</td>\n",
       "      <td>no</td>\n",
       "      <td>yes</td>\n",
       "      <td>no</td>\n",
       "    </tr>\n",
       "    <tr>\n",
       "      <th>4</th>\n",
       "      <td>5</td>\n",
       "      <td>3</td>\n",
       "      <td>0</td>\n",
       "      <td>0</td>\n",
       "      <td>0</td>\n",
       "      <td>0</td>\n",
       "      <td>0</td>\n",
       "      <td>average</td>\n",
       "      <td>2</td>\n",
       "      <td>limited</td>\n",
       "      <td>other</td>\n",
       "      <td>7.9</td>\n",
       "      <td>female</td>\n",
       "      <td>yes</td>\n",
       "      <td>6</td>\n",
       "      <td>0.6588</td>\n",
       "      <td>no</td>\n",
       "      <td>yes</td>\n",
       "      <td>no</td>\n",
       "    </tr>\n",
       "  </tbody>\n",
       "</table>\n",
       "</div>"
      ],
      "text/plain": [
       "   Unnamed: 0  visits  nvisits  ovisits  novisits  emergency  hospital  \\\n",
       "0           1       5        0        0         0          0         1   \n",
       "1           2       1        0        2         0          2         0   \n",
       "2           3      13        0        0         0          3         3   \n",
       "3           4      16        0        5         0          1         1   \n",
       "4           5       3        0        0         0          0         0   \n",
       "\n",
       "    health  chronic      adl region  age  gender married  school  income  \\\n",
       "0  average        2   normal  other  6.9    male     yes       6  2.8810   \n",
       "1  average        2   normal  other  7.4  female     yes      10  2.7478   \n",
       "2     poor        4  limited  other  6.6  female      no      10  0.6532   \n",
       "3     poor        2  limited  other  7.6    male     yes       3  0.6588   \n",
       "4  average        2  limited  other  7.9  female     yes       6  0.6588   \n",
       "\n",
       "  employed insurance medicaid  \n",
       "0      yes       yes       no  \n",
       "1       no       yes       no  \n",
       "2       no        no      yes  \n",
       "3       no       yes       no  \n",
       "4       no       yes       no  "
      ]
     },
     "execution_count": 8,
     "metadata": {},
     "output_type": "execute_result"
    }
   ],
   "source": [
    "df = pd.read_csv('../data/NSMES1988.csv')\n",
    "df.head()"
   ]
  },
  {
   "cell_type": "markdown",
   "id": "0e7c0ee9-3bc1-4a15-8814-ccf28466b0c8",
   "metadata": {},
   "source": [
    "__3. Indicate the plotting library choice and reasons for the choice__"
   ]
  },
  {
   "cell_type": "markdown",
   "id": "7fb4649b-e8d8-4a36-8950-fe0ef75da2dd",
   "metadata": {},
   "source": [
    "For 2D plot: matplotlib.pyplot and seaborn"
   ]
  },
  {
   "cell_type": "code",
   "execution_count": 21,
   "id": "a13326a3",
   "metadata": {},
   "outputs": [
    {
     "data": {
      "text/html": [
       "<div>\n",
       "<style scoped>\n",
       "    .dataframe tbody tr th:only-of-type {\n",
       "        vertical-align: middle;\n",
       "    }\n",
       "\n",
       "    .dataframe tbody tr th {\n",
       "        vertical-align: top;\n",
       "    }\n",
       "\n",
       "    .dataframe thead th {\n",
       "        text-align: right;\n",
       "    }\n",
       "</style>\n",
       "<table border=\"1\" class=\"dataframe\">\n",
       "  <thead>\n",
       "    <tr style=\"text-align: right;\">\n",
       "      <th></th>\n",
       "      <th>Unnamed: 0</th>\n",
       "      <th>visits</th>\n",
       "      <th>nvisits</th>\n",
       "      <th>ovisits</th>\n",
       "      <th>novisits</th>\n",
       "      <th>emergency</th>\n",
       "      <th>hospital</th>\n",
       "      <th>chronic</th>\n",
       "      <th>region</th>\n",
       "      <th>age</th>\n",
       "      <th>school</th>\n",
       "      <th>income</th>\n",
       "    </tr>\n",
       "  </thead>\n",
       "  <tbody>\n",
       "    <tr>\n",
       "      <th>0</th>\n",
       "      <td>1</td>\n",
       "      <td>5</td>\n",
       "      <td>0</td>\n",
       "      <td>0</td>\n",
       "      <td>0</td>\n",
       "      <td>0</td>\n",
       "      <td>1</td>\n",
       "      <td>2</td>\n",
       "      <td>other</td>\n",
       "      <td>6.9</td>\n",
       "      <td>6</td>\n",
       "      <td>2.8810</td>\n",
       "    </tr>\n",
       "    <tr>\n",
       "      <th>1</th>\n",
       "      <td>2</td>\n",
       "      <td>1</td>\n",
       "      <td>0</td>\n",
       "      <td>2</td>\n",
       "      <td>0</td>\n",
       "      <td>2</td>\n",
       "      <td>0</td>\n",
       "      <td>2</td>\n",
       "      <td>other</td>\n",
       "      <td>7.4</td>\n",
       "      <td>10</td>\n",
       "      <td>2.7478</td>\n",
       "    </tr>\n",
       "    <tr>\n",
       "      <th>2</th>\n",
       "      <td>3</td>\n",
       "      <td>13</td>\n",
       "      <td>0</td>\n",
       "      <td>0</td>\n",
       "      <td>0</td>\n",
       "      <td>3</td>\n",
       "      <td>3</td>\n",
       "      <td>4</td>\n",
       "      <td>other</td>\n",
       "      <td>6.6</td>\n",
       "      <td>10</td>\n",
       "      <td>0.6532</td>\n",
       "    </tr>\n",
       "    <tr>\n",
       "      <th>3</th>\n",
       "      <td>4</td>\n",
       "      <td>16</td>\n",
       "      <td>0</td>\n",
       "      <td>5</td>\n",
       "      <td>0</td>\n",
       "      <td>1</td>\n",
       "      <td>1</td>\n",
       "      <td>2</td>\n",
       "      <td>other</td>\n",
       "      <td>7.6</td>\n",
       "      <td>3</td>\n",
       "      <td>0.6588</td>\n",
       "    </tr>\n",
       "    <tr>\n",
       "      <th>4</th>\n",
       "      <td>5</td>\n",
       "      <td>3</td>\n",
       "      <td>0</td>\n",
       "      <td>0</td>\n",
       "      <td>0</td>\n",
       "      <td>0</td>\n",
       "      <td>0</td>\n",
       "      <td>2</td>\n",
       "      <td>other</td>\n",
       "      <td>7.9</td>\n",
       "      <td>6</td>\n",
       "      <td>0.6588</td>\n",
       "    </tr>\n",
       "  </tbody>\n",
       "</table>\n",
       "</div>"
      ],
      "text/plain": [
       "   Unnamed: 0  visits  nvisits  ovisits  novisits  emergency  hospital  \\\n",
       "0           1       5        0        0         0          0         1   \n",
       "1           2       1        0        2         0          2         0   \n",
       "2           3      13        0        0         0          3         3   \n",
       "3           4      16        0        5         0          1         1   \n",
       "4           5       3        0        0         0          0         0   \n",
       "\n",
       "   chronic region  age  school  income  \n",
       "0        2  other  6.9       6  2.8810  \n",
       "1        2  other  7.4      10  2.7478  \n",
       "2        4  other  6.6      10  0.6532  \n",
       "3        2  other  7.6       3  0.6588  \n",
       "4        2  other  7.9       6  0.6588  "
      ]
     },
     "execution_count": 21,
     "metadata": {},
     "output_type": "execute_result"
    }
   ],
   "source": [
    "df_num = df.drop(columns=['health','adl','gender','married','employed','insurance','medicaid'])\n",
    "df_num.head()"
   ]
  },
  {
   "cell_type": "markdown",
   "id": "410ef513-4e85-444f-91d3-a76cee1fafe4",
   "metadata": {},
   "source": [
    "__4. Plot the analysis done in Week 3-A for the categorical data -Health and Region__"
   ]
  },
  {
   "cell_type": "code",
   "execution_count": 25,
   "id": "78da2608-7d4d-4f80-975c-486c82d15520",
   "metadata": {},
   "outputs": [
    {
     "data": {
      "text/html": [
       "<div>\n",
       "<style scoped>\n",
       "    .dataframe tbody tr th:only-of-type {\n",
       "        vertical-align: middle;\n",
       "    }\n",
       "\n",
       "    .dataframe tbody tr th {\n",
       "        vertical-align: top;\n",
       "    }\n",
       "\n",
       "    .dataframe thead th {\n",
       "        text-align: right;\n",
       "    }\n",
       "</style>\n",
       "<table border=\"1\" class=\"dataframe\">\n",
       "  <thead>\n",
       "    <tr style=\"text-align: right;\">\n",
       "      <th></th>\n",
       "      <th>Unnamed: 0</th>\n",
       "      <th>age</th>\n",
       "      <th>chronic</th>\n",
       "      <th>emergency</th>\n",
       "      <th>hospital</th>\n",
       "      <th>income</th>\n",
       "      <th>novisits</th>\n",
       "      <th>nvisits</th>\n",
       "      <th>ovisits</th>\n",
       "      <th>school</th>\n",
       "      <th>visits</th>\n",
       "    </tr>\n",
       "    <tr>\n",
       "      <th>region</th>\n",
       "      <th></th>\n",
       "      <th></th>\n",
       "      <th></th>\n",
       "      <th></th>\n",
       "      <th></th>\n",
       "      <th></th>\n",
       "      <th></th>\n",
       "      <th></th>\n",
       "      <th></th>\n",
       "      <th></th>\n",
       "      <th></th>\n",
       "    </tr>\n",
       "  </thead>\n",
       "  <tbody>\n",
       "    <tr>\n",
       "      <th>midwest</th>\n",
       "      <td>2374.631806</td>\n",
       "      <td>7.407692</td>\n",
       "      <td>1.460674</td>\n",
       "      <td>0.235091</td>\n",
       "      <td>0.299049</td>\n",
       "      <td>2.513634</td>\n",
       "      <td>0.640449</td>\n",
       "      <td>1.954192</td>\n",
       "      <td>0.714780</td>\n",
       "      <td>10.412273</td>\n",
       "      <td>5.408816</td>\n",
       "    </tr>\n",
       "    <tr>\n",
       "      <th>northeast</th>\n",
       "      <td>2082.678614</td>\n",
       "      <td>7.393429</td>\n",
       "      <td>1.488650</td>\n",
       "      <td>0.249701</td>\n",
       "      <td>0.268817</td>\n",
       "      <td>2.679709</td>\n",
       "      <td>0.495818</td>\n",
       "      <td>1.657109</td>\n",
       "      <td>0.796894</td>\n",
       "      <td>10.335723</td>\n",
       "      <td>6.091995</td>\n",
       "    </tr>\n",
       "    <tr>\n",
       "      <th>other</th>\n",
       "      <td>2160.654275</td>\n",
       "      <td>7.398699</td>\n",
       "      <td>1.640644</td>\n",
       "      <td>0.283147</td>\n",
       "      <td>0.303594</td>\n",
       "      <td>2.166284</td>\n",
       "      <td>0.579926</td>\n",
       "      <td>1.000000</td>\n",
       "      <td>0.757125</td>\n",
       "      <td>9.590458</td>\n",
       "      <td>5.578067</td>\n",
       "    </tr>\n",
       "    <tr>\n",
       "      <th>west</th>\n",
       "      <td>2168.764411</td>\n",
       "      <td>7.411654</td>\n",
       "      <td>1.516291</td>\n",
       "      <td>0.279449</td>\n",
       "      <td>0.304511</td>\n",
       "      <td>3.116505</td>\n",
       "      <td>0.338346</td>\n",
       "      <td>2.339599</td>\n",
       "      <td>0.741855</td>\n",
       "      <td>11.481203</td>\n",
       "      <td>6.368421</td>\n",
       "    </tr>\n",
       "  </tbody>\n",
       "</table>\n",
       "</div>"
      ],
      "text/plain": [
       "            Unnamed: 0       age   chronic  emergency  hospital    income  \\\n",
       "region                                                                      \n",
       "midwest    2374.631806  7.407692  1.460674   0.235091  0.299049  2.513634   \n",
       "northeast  2082.678614  7.393429  1.488650   0.249701  0.268817  2.679709   \n",
       "other      2160.654275  7.398699  1.640644   0.283147  0.303594  2.166284   \n",
       "west       2168.764411  7.411654  1.516291   0.279449  0.304511  3.116505   \n",
       "\n",
       "           novisits   nvisits   ovisits     school    visits  \n",
       "region                                                        \n",
       "midwest    0.640449  1.954192  0.714780  10.412273  5.408816  \n",
       "northeast  0.495818  1.657109  0.796894  10.335723  6.091995  \n",
       "other      0.579926  1.000000  0.757125   9.590458  5.578067  \n",
       "west       0.338346  2.339599  0.741855  11.481203  6.368421  "
      ]
     },
     "execution_count": 25,
     "metadata": {},
     "output_type": "execute_result"
    }
   ],
   "source": [
    "pivot_region = df_num.pivot_table(df_num, index='region', aggfunc='mean')\n",
    "pivot_region"
   ]
  },
  {
   "cell_type": "code",
   "execution_count": 43,
   "id": "33b6de01-629b-4476-93d8-1d3a0285d590",
   "metadata": {},
   "outputs": [
    {
     "data": {
      "image/png": "[encoded data removed]",
      "text/plain": [
       "<Figure size 640x480 with 1 Axes>"
      ]
     },
     "metadata": {},
     "output_type": "display_data"
    }
   ],
   "source": [
    "# A good plot to show above data\n",
    "sns.barplot(x='region', y='income', data=df_num)\n",
    "plt.show()\n"
   ]
  },
  {
   "cell_type": "code",
   "execution_count": null,
   "id": "7d3de976-2c89-4557-899c-eea103c3c11e",
   "metadata": {},
   "outputs": [],
   "source": []
  },
  {
   "cell_type": "markdown",
   "id": "af39495d-c2cf-4b51-bc10-3f55f597d0c9",
   "metadata": {},
   "source": [
    "__5. Plot the analyses done in Week 4 (analysis and correlation)__"
   ]
  },
  {
   "cell_type": "code",
   "execution_count": 31,
   "id": "7dbe937f-2340-4fa5-93c8-264f1e8c4cc6",
   "metadata": {},
   "outputs": [
    {
     "data": {
      "image/png": "[encoded data removed]",
      "text/plain": [
       "<Figure size 640x480 with 1 Axes>"
      ]
     },
     "metadata": {},
     "output_type": "display_data"
    }
   ],
   "source": [
    "# Region vs. age\n",
    "sns.boxplot(x='region', y='age', data=df_num)\n",
    "plt.show()"
   ]
  },
  {
   "cell_type": "code",
   "execution_count": 32,
   "id": "4eee16e0-0f9e-4659-8983-1995cb90943e",
   "metadata": {},
   "outputs": [
    {
     "data": {
      "image/png": "[encoded data removed]",
      "text/plain": [
       "<Figure size 640x480 with 1 Axes>"
      ]
     },
     "metadata": {},
     "output_type": "display_data"
    }
   ],
   "source": [
    "# Region vs. income\n",
    "sns.boxplot(x='region', y='income', data=df_num)\n",
    "plt.show()"
   ]
  },
  {
   "cell_type": "code",
   "execution_count": 33,
   "id": "2d4abe33-1282-4992-ac91-e591e0a1e545",
   "metadata": {},
   "outputs": [
    {
     "data": {
      "image/png": "[encoded data removed]",
      "text/plain": [
       "<Figure size 640x480 with 1 Axes>"
      ]
     },
     "metadata": {},
     "output_type": "display_data"
    }
   ],
   "source": [
    "# Region vs. school\n",
    "sns.boxplot(x='region', y='school', data=df_num)\n",
    "plt.show()"
   ]
  },
  {
   "cell_type": "code",
   "execution_count": 35,
   "id": "62a48155-7b28-4793-8cd2-6b47c5f0634f",
   "metadata": {},
   "outputs": [
    {
     "data": {
      "image/png": "[encoded data removed]",
      "text/plain": [
       "<Figure size 640x480 with 1 Axes>"
      ]
     },
     "metadata": {},
     "output_type": "display_data"
    }
   ],
   "source": [
    "# Health vs. age\n",
    "sns.boxplot(x='health', y='age', data=df)\n",
    "plt.show()"
   ]
  },
  {
   "cell_type": "code",
   "execution_count": 37,
   "id": "f3ab5822-feb9-456b-830b-8f08aa15464c",
   "metadata": {},
   "outputs": [
    {
     "data": {
      "image/png": "[encoded data removed]",
      "text/plain": [
       "<Figure size 640x480 with 1 Axes>"
      ]
     },
     "metadata": {},
     "output_type": "display_data"
    }
   ],
   "source": [
    "# Health vs. income\n",
    "sns.boxplot(x='health', y='income', data=df)\n",
    "plt.show()"
   ]
  },
  {
   "cell_type": "code",
   "execution_count": 39,
   "id": "e2733ddf-560e-4766-a791-f732ab05879e",
   "metadata": {},
   "outputs": [
    {
     "data": {
      "image/png": "[encoded data removed]",
      "text/plain": [
       "<Figure size 640x480 with 1 Axes>"
      ]
     },
     "metadata": {},
     "output_type": "display_data"
    }
   ],
   "source": [
    "# Health vs. school\n",
    "sns.boxplot(x='health', y='school', data=df)\n",
    "plt.show()"
   ]
  },
  {
   "cell_type": "code",
   "execution_count": 48,
   "id": "84401463-4f02-4005-b274-0f6c3987029e",
   "metadata": {},
   "outputs": [
    {
     "data": {
      "image/png": "[encoded data removed]",
      "text/plain": [
       "<Figure size 1400x600 with 1 Axes>"
      ]
     },
     "metadata": {},
     "output_type": "display_data"
    }
   ],
   "source": [
    "# Age vs. income\n",
    "fig, ax = plt.subplots(figsize=(14, 6))\n",
    "sns.boxplot(x='age', y='income', data=df, ax=ax)\n",
    "plt.show()\n"
   ]
  },
  {
   "cell_type": "code",
   "execution_count": null,
   "id": "0c31b485",
   "metadata": {},
   "outputs": [
    {
     "data": {
      "image/png": "[encoded data removed]",
      "text/plain": [
       "<Figure size 640x480 with 1 Axes>"
      ]
     },
     "metadata": {},
     "output_type": "display_data"
    }
   ],
   "source": [
    "# Line plot for income and age * 10\n",
    "df['age'] = df['age'] * 10\n",
    "sns.lineplot(x='age', y='income', data=df)\n",
    "plt.show()\n"
   ]
  },
  {
   "cell_type": "code",
   "execution_count": 41,
   "id": "d467488f",
   "metadata": {},
   "outputs": [
    {
     "data": {
      "image/png": "[encoded data removed]",
      "text/plain": [
       "<Figure size 640x480 with 1 Axes>"
      ]
     },
     "metadata": {},
     "output_type": "display_data"
    }
   ],
   "source": [
    "# Age vs. school\n",
    "sns.boxplot(x='age', y='school', data=df)\n",
    "plt.show()"
   ]
  },
  {
   "cell_type": "markdown",
   "id": "9736782a-2410-4342-8bca-641a2802c34c",
   "metadata": {},
   "source": [
    "__6. Prepare a detailed report and record your observations.__"
   ]
  },
  {
   "cell_type": "markdown",
   "id": "a033de33-ccd1-4212-9b4c-f4df21e1d91f",
   "metadata": {},
   "source": [
    "This week, we culminated with the visualization part of the data science. We analysed many things across the given dataset, after cleansing. We chose seaborn as the appropriate plotting library for visualization.\n",
    "\n",
    "Using the data generated from Week 3 and Week 4, graphs were generated. Box plots were primarily used to do statistical inference. We also plotted line plot, but avoided barplot, as the outliers play spoilsport in many cases.\n",
    "\n",
    "Region wise and Health wise graphs were generated and analysed and reported."
   ]
  }
 ],
 "metadata": {
  "kernelspec": {
   "display_name": ".venv",
   "language": "python",
   "name": "python3"
  },
  "language_info": {
   "codemirror_mode": {
    "name": "ipython",
    "version": 3
   },
   "file_extension": ".py",
   "mimetype": "text/x-python",
   "name": "python",
   "nbconvert_exporter": "python",
   "pygments_lexer": "ipython3",
   "version": "3.13.2"
  }
 },
 "nbformat": 4,
 "nbformat_minor": 5
}
