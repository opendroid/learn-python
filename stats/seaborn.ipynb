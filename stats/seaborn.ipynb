{
 "cells": [
  {
   "cell_type": "markdown",
   "metadata": {},
   "source": [
    "# Seaborn \n",
    "A statistical graphics library. See [Introduction](https://seaborn.pydata.org/tutorial/introduction.html)"
   ]
  },
  {
   "cell_type": "code",
   "execution_count": null,
   "metadata": {},
   "outputs": [],
   "source": [
    "import seaborn as sns\n",
    "import matplotlib.pyplot as plt\n",
    "sns.set_theme(context=\"paper\", style=\"darkgrid\")\n",
    "# List all available datasets\n",
    "print(sns.get_dataset_names())"
   ]
  },
  {
   "cell_type": "markdown",
   "metadata": {},
   "source": [
    "# Experimenting with Diamonds dataset\n",
    "\n",
    "Seaborn diamond dataset has approximately 54K data for price and various diamond physical parameters.\n",
    "\n",
    " - carat: Weight of the diamond (0.2 - 5.01).\n",
    " - cut: Quality of the cut (Fair, Good, Very Good, Premium, Ideal).\n",
    " - color: Diamond color, from J (worst) to D (best).\n",
    " - clarity: Measurement of how clear the diamond is (I1 (worst), SI2, SI1, VS2, VS1, VVS2, VVS1, IF (best)).\n",
    " - depth: Total depth percentage (43-79).\n",
    " - table: Width of the top of the diamond relative to the widest point (43-95).\n",
    " - price: Price in US dollars (\\$326 - \\$18,823).\n",
    " - x: Length in mm (0-10.74).\n",
    " - y: Width in mm (0-58.9).\n",
    " - z: Depth in mm (0-31.8).\n",
    "\n",
    " This exercise will use seabron to understand and anlyze the dataset.\n"
   ]
  },
  {
   "cell_type": "code",
   "execution_count": null,
   "metadata": {},
   "outputs": [],
   "source": [
    "# download a dataset\n",
    "data = sns.load_dataset('diamonds')\n",
    "\n",
    "# Calculate diamon volume using two different ways:\n",
    "# v1: (x + y) * depth * x * y / 200\n",
    "# v2: x * y * z\n",
    "data[\"v1\"] = (data[\"x\"] + data[\"y\"]) * data[\"depth\"] * data[\"x\"] * data[\"y\"] / 200.0\n",
    "data[\"v2\"] = data[\"x\"] * data[\"y\"] * data[\"z\"]\n",
    "smaller_diamonds = data[data[\"v1\"] < 1_000]\n",
    "print(data.columns)\n",
    "print(data.head(2))\n",
    "print(data.shape)"
   ]
  },
  {
   "cell_type": "markdown",
   "metadata": {},
   "source": [
    "# Understanding Data\n",
    "## How far off are two volumes\n",
    "The volumes calculates using two methods should be similar"
   ]
  },
  {
   "cell_type": "code",
   "execution_count": null,
   "metadata": {},
   "outputs": [],
   "source": [
    "# Compare the two volume calculations\n",
    "sns.jointplot(data=smaller_diamonds, x=\"v1\", y=\"v2\", kind=\"scatter\",\n",
    "              marginal_kws=dict(bins=100, fill=True))"
   ]
  },
  {
   "cell_type": "code",
   "execution_count": null,
   "metadata": {},
   "outputs": [],
   "source": [
    "data[[\"v1\", \"v2\"]].corr()"
   ]
  },
  {
   "cell_type": "markdown",
   "metadata": {},
   "source": [
    "# Univariate Analysis\n",
    "\n",
    "Looking at vdistibution of various types."
   ]
  },
  {
   "cell_type": "code",
   "execution_count": null,
   "metadata": {},
   "outputs": [],
   "source": [
    "# Cut\n",
    "sns.displot(data=smaller_diamonds, x=\"cut\")"
   ]
  },
  {
   "cell_type": "code",
   "execution_count": null,
   "metadata": {},
   "outputs": [],
   "source": [
    "swarm = sns.swarmplot(data=smaller_diamonds.sample(1_000), x=\"cut\", y=\"price\")"
   ]
  },
  {
   "cell_type": "code",
   "execution_count": null,
   "metadata": {},
   "outputs": [],
   "source": [
    "# Color\n",
    "f, axs = plt.subplots(3, figsize=(12, 6), layout=\"tight\", sharex=True)\n",
    "sd1000 = smaller_diamonds.sample(1_000)\n",
    "sns.pointplot(data=sd1000, x=\"price\",\n",
    "              errorbar=\"pi\", ax=axs[0], capsize=.3)\n",
    "sns.pointplot(data=sd1000, x=\"price\",\n",
    "              errorbar=\"sd\", ax=axs[1], capsize=.3)\n",
    "sns.stripplot(data=sd1000, x=\"price\", jitter=0.3, ax=axs[2])\n",
    "plt.show()"
   ]
  },
  {
   "cell_type": "code",
   "execution_count": null,
   "metadata": {},
   "outputs": [],
   "source": [
    "# Volume\n",
    "sns.histplot(data=smaller_diamonds, x=\"v1\",\n",
    "             bins=[0, 100, 200, 300, 400, 500])"
   ]
  },
  {
   "cell_type": "code",
   "execution_count": null,
   "metadata": {},
   "outputs": [],
   "source": [
    "sns.displot(data=data, x=\"price\", kind=\"kde\")"
   ]
  },
  {
   "cell_type": "code",
   "execution_count": null,
   "metadata": {},
   "outputs": [],
   "source": [
    "sns.displot(data=data, x=\"price\", bins=20, kde=True)"
   ]
  },
  {
   "cell_type": "code",
   "execution_count": null,
   "metadata": {},
   "outputs": [],
   "source": [
    "# Compare cut and price\n",
    "s = sns.displot(data=smaller_diamonds, x=\"cut\", y=\"price\")"
   ]
  },
  {
   "cell_type": "code",
   "execution_count": null,
   "metadata": {},
   "outputs": [],
   "source": [
    "# Compare cut and price\n",
    "sns.displot(data=data, x=\"cut\", y=\"price\")\n",
    "plt.show()"
   ]
  },
  {
   "cell_type": "code",
   "execution_count": null,
   "metadata": {},
   "outputs": [],
   "source": [
    "# Swarm plot - took 68 seconds to run\n",
    "sns.swarmplot(data=smaller_diamonds, x=\"cut\", y=\"price\")"
   ]
  },
  {
   "cell_type": "code",
   "execution_count": null,
   "metadata": {},
   "outputs": [],
   "source": [
    "# Show a cross-tabulation of two categorical variables"
   ]
  },
  {
   "cell_type": "code",
   "execution_count": null,
   "metadata": {},
   "outputs": [],
   "source": [
    "sns.countplot(data=data, x=\"color\", hue=\"cut\")\n",
    "plt.title(\"Count of diamonds by color and cut\")\n",
    "plt.show()"
   ]
  },
  {
   "cell_type": "code",
   "execution_count": null,
   "metadata": {},
   "outputs": [],
   "source": [
    "s = sns.catplot(data=data, x=\"color\", hue=\"cut\", kind=\"count\")\n",
    "plt.title(\"Count of diamonds by color and cut\")\n",
    "plt.show()"
   ]
  },
  {
   "cell_type": "code",
   "execution_count": null,
   "metadata": {},
   "outputs": [],
   "source": [
    "# Compare prices of diamonds with different volume\n",
    "sns.displot(data=smaller_diamonds, x=\"v1\", y=\"price\", kind=\"kde\", rug=True, hue=\"cut\")\n",
    "plt.title(\"Price of diamonds with volume < 1000\")\n",
    "plt.show()"
   ]
  },
  {
   "cell_type": "code",
   "execution_count": null,
   "metadata": {},
   "outputs": [],
   "source": [
    "# Compare prices of diamonds with different color\n",
    "sns.relplot(data=smaller_diamonds, x=\"v1\", y=\"price\",\n",
    "            hue=\"color\",\n",
    "            height=4, aspect=1.5,\n",
    "            kind=\"scatter\")"
   ]
  },
  {
   "cell_type": "code",
   "execution_count": null,
   "metadata": {},
   "outputs": [],
   "source": [
    "# Compare prices of color and sizes\n",
    "sns.relplot(data=smaller_diamonds, x=\"color\", y=\"v1\",\n",
    "            hue=\"cut\",\n",
    "            height=4, aspect=1.5,\n",
    "            kind=\"scatter\")"
   ]
  },
  {
   "cell_type": "code",
   "execution_count": null,
   "metadata": {},
   "outputs": [],
   "source": [
    "# Compare prices of color and price\n",
    "sns.relplot(data=smaller_diamonds, x=\"color\", y=\"price\",\n",
    "            hue=\"color\",\n",
    "            height=4, aspect=1.5,\n",
    "            kind=\"scatter\")"
   ]
  },
  {
   "cell_type": "code",
   "execution_count": null,
   "metadata": {},
   "outputs": [],
   "source": [
    "# Compare prices of color and price\n",
    "sns.pairplot(data=smaller_diamonds[[\"price\", \"v1\", \"cut\", \"color\", \"carat\", \"clarity\"]])"
   ]
  },
  {
   "cell_type": "code",
   "execution_count": null,
   "metadata": {},
   "outputs": [],
   "source": []
  }
 ],
 "metadata": {
  "kernelspec": {
   "display_name": ".venv",
   "language": "python",
   "name": "python3"
  },
  "language_info": {
   "codemirror_mode": {
    "name": "ipython",
    "version": 3
   },
   "file_extension": ".py",
   "mimetype": "text/x-python",
   "name": "python",
   "nbconvert_exporter": "python",
   "pygments_lexer": "ipython3",
   "version": "3.13.2"
  }
 },
 "nbformat": 4,
 "nbformat_minor": 2
}
