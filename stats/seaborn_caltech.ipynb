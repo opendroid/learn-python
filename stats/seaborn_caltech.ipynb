{
 "cells": [
  {
   "cell_type": "markdown",
   "id": "bdb20ef7-ddec-42ef-a631-1031a1d729b0",
   "metadata": {
    "id": "bdb20ef7-ddec-42ef-a631-1031a1d729b0"
   },
   "source": [
    "# __Seaborn Visualization: From Basics to Advanced__"
   ]
  },
  {
   "cell_type": "markdown",
   "id": "9590d6e5-53e0-4ab5-ac63-c13d865c86dc",
   "metadata": {
    "id": "9590d6e5-53e0-4ab5-ac63-c13d865c86dc"
   },
   "source": [
    "## __Agenda__"
   ]
  },
  {
   "cell_type": "markdown",
   "id": "b688b87b-e72d-4647-a5b7-a459ecbe9c67",
   "metadata": {
    "id": "b688b87b-e72d-4647-a5b7-a459ecbe9c67"
   },
   "source": [
    "- Introduction to Seaborn\n",
    "- Plotting Graphs Using Seaborn\n",
    "- Violin Plot\n",
    "- Pair Plot\n",
    "- Heatmap\n",
    "- Joint Plot\n",
    "- Swarm Plot\n",
    "- Plotting 3D Graphs for Multiple Columns Using Seaborn\n",
    "- Introduction to Plotly\n",
    "- Plotting a Graph Using Plotly\n",
    "- Scatter Plot\n",
    "- Box Plot\n",
    "- Scatter Matrix\n",
    "- Heatmap"
   ]
  },
  {
   "cell_type": "markdown",
   "id": "203bde77-271c-4ccd-99fc-5f2aab1da306",
   "metadata": {
    "id": "203bde77-271c-4ccd-99fc-5f2aab1da306"
   },
   "source": [
    "## __1. Introduction to Seaborn__\n",
    "Seaborn is a Python library for statistical data visualization that builds on Matplotlib.\n",
    "\n",
    "![link text](https://labcontent.simplicdn.net/data-content/content-assets/Data_and_AI/ADSP_Images/Lesson_05_Data_Visualization/2_Seaborn_Visualization_Basics_to_Advanced/Seaborn.png)\n",
    "- It provides an interface for creating attractive and informative statistical graphics.\n",
    "- It comes with several built-in themes and color palettes to make creating aesthetically pleasing visualizations easy.\n",
    "- It is particularly well-suited for exploring complex datasets with multiple variables.\n",
    "\n"
   ]
  },
  {
   "cell_type": "markdown",
   "id": "92c69aaa-c2aa-4da9-a734-82cc5ffaf600",
   "metadata": {
    "id": "92c69aaa-c2aa-4da9-a734-82cc5ffaf600"
   },
   "source": [
    "The below code leverages Seaborn's functionality to create a specialized line plot for visualizing fMRI data with distinct regions and events.\n",
    "- Seaborn simplifies the process of creating complex visualizations and provides additional features for customization and exploration of data patterns.\n",
    "\n",
    "\n",
    "\n",
    "\n",
    "\n"
   ]
  },
  {
   "cell_type": "code",
   "execution_count": 5,
   "id": "9a51b239-95e6-4dd7-b76a-559693bee372",
   "metadata": {
    "id": "9a51b239-95e6-4dd7-b76a-559693bee372"
   },
   "outputs": [],
   "source": [
    "# Import\n",
    "import seaborn as sns"
   ]
  },
  {
   "cell_type": "code",
   "execution_count": 6,
   "id": "4cc895e0-8291-47a8-a889-e183cf5b58b0",
   "metadata": {
    "id": "4cc895e0-8291-47a8-a889-e183cf5b58b0"
   },
   "outputs": [],
   "source": [
    "sns.set_theme()\n",
    "fmri = sns.load_dataset(\"fmri\")"
   ]
  },
  {
   "cell_type": "code",
   "execution_count": null,
   "id": "599f0c71-69e5-4265-adf9-f48e91f2e23e",
   "metadata": {
    "id": "599f0c71-69e5-4265-adf9-f48e91f2e23e",
    "outputId": "fc7ea6ad-5e8f-4f84-8e9b-e1bf70eb7c59"
   },
   "outputs": [],
   "source": [
    "fmri.head(10)"
   ]
  },
  {
   "cell_type": "code",
   "execution_count": null,
   "id": "5143091b-008a-47e4-8aa2-2ec6a3320ee9",
   "metadata": {
    "id": "5143091b-008a-47e4-8aa2-2ec6a3320ee9",
    "outputId": "776b2d66-09b3-4f7d-8a34-5830ff0f6118"
   },
   "outputs": [],
   "source": [
    "sns.relplot(\n",
    "    data=fmri, kind=\"line\",\n",
    "    x=\"timepoint\", y=\"signal\", col=\"region\",\n",
    "    hue=\"event\", style=\"event\",\n",
    ")"
   ]
  },
  {
   "cell_type": "markdown",
   "id": "5f507910-9f1c-46cd-9e78-89d06cd4d1f2",
   "metadata": {
    "id": "5f507910-9f1c-46cd-9e78-89d06cd4d1f2"
   },
   "source": [
    "## __2. Plotting Graphs Using Seaborn__\n",
    "\n",
    "__Note:__ We have previously explored these plot types using the Matplotlib library. This example serves to illustrate how to achieve similar visualizations using Seaborn for its enhanced styling and simplicity."
   ]
  },
  {
   "cell_type": "code",
   "execution_count": 9,
   "id": "7fc0f2dd-aea7-4214-a2b7-67ce3d949c4f",
   "metadata": {
    "id": "7fc0f2dd-aea7-4214-a2b7-67ce3d949c4f"
   },
   "outputs": [],
   "source": [
    "import matplotlib.pyplot as plt\n",
    "\n",
    "# Load a sample dataset\n",
    "tips = sns.load_dataset('tips')"
   ]
  },
  {
   "cell_type": "code",
   "execution_count": null,
   "id": "61ce84a2-9a7f-4512-bf7e-31b1d1186252",
   "metadata": {
    "id": "61ce84a2-9a7f-4512-bf7e-31b1d1186252",
    "outputId": "210ace5c-10e4-425d-92a6-eea72cc38eab"
   },
   "outputs": [],
   "source": [
    "tips.head()"
   ]
  },
  {
   "cell_type": "code",
   "execution_count": null,
   "id": "9d659cc8-253b-447c-a1c7-1b059edb9f07",
   "metadata": {
    "id": "9d659cc8-253b-447c-a1c7-1b059edb9f07",
    "outputId": "25cfa92e-326d-4a66-87df-a317c638dcc7"
   },
   "outputs": [],
   "source": [
    "# Scatter Plot: tip vs. total bill\n",
    "# A scatter used to analyze TWO numerical features simultaneously\n",
    "sns.scatterplot(data=tips,x='total_bill',y='tip')\n",
    "plt.title('Scatter plot: Total bill vs tip')\n",
    "plt.show()"
   ]
  },
  {
   "cell_type": "markdown",
   "id": "b--3WGByJEIZ",
   "metadata": {
    "id": "b--3WGByJEIZ"
   },
   "source": [
    "- Based on the scatter plot, you can infer a positive relationship between the total bill and tip amount, indicating that customers tend to tip more when they spend more on their meals.\n",
    "- There is still variability in tip amounts for a given total bill, suggesting that factors other than the bill amount may also influence the tips customers leave."
   ]
  },
  {
   "cell_type": "code",
   "execution_count": null,
   "id": "dfc64b42-db3f-4b25-9f94-07d90e91fe49",
   "metadata": {
    "id": "dfc64b42-db3f-4b25-9f94-07d90e91fe49",
    "outputId": "7d390c12-7652-4e99-c849-1e7b059d5211"
   },
   "outputs": [],
   "source": [
    "tips.describe()"
   ]
  },
  {
   "cell_type": "code",
   "execution_count": null,
   "id": "14e69b0b-4859-4b74-ac8c-a0435849e12a",
   "metadata": {
    "id": "14e69b0b-4859-4b74-ac8c-a0435849e12a",
    "outputId": "a8c0ce2e-ac78-47a5-c49b-f8b744d9c3c5"
   },
   "outputs": [],
   "source": [
    "tips.head()"
   ]
  },
  {
   "cell_type": "code",
   "execution_count": null,
   "id": "659e3468-101a-485c-a3cc-ce50da3c118f",
   "metadata": {
    "id": "659e3468-101a-485c-a3cc-ce50da3c118f",
    "outputId": "96d1dca5-2293-4b49-8650-81d6994b9e4b"
   },
   "outputs": [],
   "source": [
    "tips.shape"
   ]
  },
  {
   "cell_type": "code",
   "execution_count": null,
   "id": "060721f3-971b-43fb-9174-28598823dfb6",
   "metadata": {},
   "outputs": [],
   "source": [
    "sns.scatterplot(data=tips,x='day',y='total_bill')"
   ]
  },
  {
   "cell_type": "code",
   "execution_count": null,
   "id": "9d897771-26f9-4799-a3b7-175e0b48ec94",
   "metadata": {
    "id": "9d897771-26f9-4799-a3b7-175e0b48ec94",
    "outputId": "d0dd45e8-66a5-4446-f24c-1bf300b177a5"
   },
   "outputs": [],
   "source": [
    "# Line Plot: total bill vs. day\n",
    "# aggregate over repeated values (each day) to show the mean and 95% confidence interval\n",
    "sns.lineplot(data=tips,x='day',y='total_bill')\n",
    "plt.title('Line plot: Total bill by day')\n",
    "plt.show()"
   ]
  },
  {
   "cell_type": "code",
   "execution_count": null,
   "id": "2f085a26-cbf0-4186-bf71-b2ce640f8d36",
   "metadata": {
    "id": "2f085a26-cbf0-4186-bf71-b2ce640f8d36",
    "outputId": "234c0a00-48d0-448c-892b-92101e359180"
   },
   "outputs": [],
   "source": [
    "# Line Plot: total bill vs. day, group by gender\n",
    "sns.lineplot(data=tips,x='day',y='total_bill',hue='sex')\n",
    "plt.title('Line plot: Total bill by day (Differentiated by gender)')\n",
    "plt.show()"
   ]
  },
  {
   "cell_type": "markdown",
   "id": "RWWi9sCOJHxl",
   "metadata": {
    "id": "RWWi9sCOJHxl"
   },
   "source": [
    "- The lines on the plot represent the trend of total bill amounts across different days of the week, segmented by gender (male and female).\n",
    "- Based on the line plot, you can infer that the total bill paid by males is considerably higher than that paid by females."
   ]
  },
  {
   "cell_type": "code",
   "execution_count": null,
   "id": "49751833-96fc-4a25-9e33-77207af0d1e1",
   "metadata": {
    "id": "49751833-96fc-4a25-9e33-77207af0d1e1",
    "outputId": "02bf0c1f-2e11-4569-b5b4-2def44260370"
   },
   "outputs": [],
   "source": [
    "tips.head()"
   ]
  },
  {
   "cell_type": "code",
   "execution_count": null,
   "id": "7558ff86-39af-4259-86b0-5c572e2add01",
   "metadata": {
    "id": "7558ff86-39af-4259-86b0-5c572e2add01",
    "outputId": "47b859fb-5bdf-4b5e-b230-b3fb1ebc0e9f"
   },
   "outputs": [],
   "source": [
    "# Histogram: used to analyze ONE numerical feature at a time\n",
    "sns.histplot(tips['total_bill'])\n",
    "plt.title('Histogram: Distribution of total bill')\n",
    "plt.show()"
   ]
  },
  {
   "cell_type": "markdown",
   "id": "rloYDwjJJN8O",
   "metadata": {
    "id": "rloYDwjJJN8O"
   },
   "source": [
    "- The histogram displays the distribution of total bill amounts across the dataset.\n",
    "- Each bar on the plot represents a range or bin of total bill amounts, and the height of the bar corresponds to the frequency of occurrences within that range.\n",
    "- The data is right-skewed, which means the mode, median, and mean are arranged, respectively.\n",
    "- Based on the chart, you can infer that most of the total bills lie in the 10 to 20 range."
   ]
  },
  {
   "cell_type": "code",
   "execution_count": null,
   "id": "6eb6753f-3308-4a39-824e-61236e129528",
   "metadata": {
    "id": "6eb6753f-3308-4a39-824e-61236e129528",
    "outputId": "8a07bc93-d2f7-4463-bb8b-9c4399d1d69c"
   },
   "outputs": [],
   "source": [
    "# Histogram: used to analyze ONE numerical feature at a time\n",
    "# Use 10 bins\n",
    "sns.histplot(tips['total_bill'],bins=10)\n",
    "plt.title('Histogram: Distribution of total bill')\n",
    "plt.show()"
   ]
  },
  {
   "cell_type": "code",
   "execution_count": null,
   "id": "8a8ddd5c-f935-4273-8612-fe63ac6f5a20",
   "metadata": {
    "id": "8a8ddd5c-f935-4273-8612-fe63ac6f5a20",
    "outputId": "9cf8269d-0fa6-42c4-f9b0-0781f0b3f2cf"
   },
   "outputs": [],
   "source": [
    "# Histogram with kernel density estimation (kde)\n",
    "sns.histplot(tips['total_bill'],bins=10,kde=True)\n",
    "plt.title('Histogram: Distribution of total bill')\n",
    "plt.show()"
   ]
  },
  {
   "cell_type": "code",
   "execution_count": null,
   "id": "d44a668d-10c6-4642-9674-b64859870a7c",
   "metadata": {
    "id": "d44a668d-10c6-4642-9674-b64859870a7c",
    "outputId": "943c394b-0186-4244-df3a-177068ae8a4a"
   },
   "outputs": [],
   "source": [
    "# Box Plot: Total bill: used to analyze ONE numerical feature at a time\n",
    "sns.boxplot(data=tips,y='total_bill')\n",
    "plt.title('Box plot: Total bill by day')\n",
    "plt.show()"
   ]
  },
  {
   "cell_type": "code",
   "execution_count": null,
   "id": "4cd777ed-10dc-4e72-b5f0-0c24a4aa19be",
   "metadata": {
    "id": "4cd777ed-10dc-4e72-b5f0-0c24a4aa19be",
    "outputId": "015581b3-723e-47ed-970d-0df9d8b2cc2d"
   },
   "outputs": [],
   "source": [
    "# Box Plot: Total bill: used to analyze ONE numerical feature at a time\n",
    "sns.boxplot(data=tips,x='total_bill')\n",
    "plt.title('Box plot: Total bill by day')\n",
    "plt.show()"
   ]
  },
  {
   "cell_type": "code",
   "execution_count": null,
   "id": "d8fcc57c-d7e5-4e64-a9cf-9463c512418a",
   "metadata": {
    "id": "d8fcc57c-d7e5-4e64-a9cf-9463c512418a",
    "outputId": "41df417c-d8a1-403e-af44-e27c6af3b1af"
   },
   "outputs": [],
   "source": [
    "# Box Plot: Total bill vs. day: used to compare ONE numerical feature (total bill) and ONE categorical feature (day)\n",
    "sns.boxplot(data=tips,x='day',y='total_bill')\n",
    "plt.title('Box plot: Total bill by day')\n",
    "plt.show()"
   ]
  },
  {
   "cell_type": "markdown",
   "id": "VxQFEvQbJUV4",
   "metadata": {
    "id": "VxQFEvQbJUV4"
   },
   "source": [
    "- By examining the box plot, you can identify the central tendency and spread of total bill amounts for each day of the week.\n",
    "- The length of the box provides insights into the variability of total bill amounts, with longer boxes indicating greater variability.\n",
    "- The position of the median line within each box helps you compare the typical bill amounts across different days.\n",
    "- You can see that the median on Saturday and Sunday is significantly higher than on Thursday and Friday.\n",
    "- The appearance of data points beyond the whiskers indicates the presence of outliers within the dataset."
   ]
  },
  {
   "cell_type": "code",
   "execution_count": null,
   "id": "f0a14a6f-e921-4a35-b4d6-eb96edff8f01",
   "metadata": {
    "id": "f0a14a6f-e921-4a35-b4d6-eb96edff8f01",
    "outputId": "fac92356-48ed-4e07-a27f-e977ec494813"
   },
   "outputs": [],
   "source": [
    "# Bar Plot: Average total_bill for each day\n",
    "sns.barplot(data=tips,x='day',y='total_bill')\n",
    "plt.title('Bar plot: Average Total bill by day')\n",
    "plt.show()"
   ]
  },
  {
   "cell_type": "code",
   "execution_count": null,
   "id": "31d6a6cf-9f65-435e-8bfc-07bff39fd754",
   "metadata": {
    "id": "31d6a6cf-9f65-435e-8bfc-07bff39fd754",
    "outputId": "6f2cf132-6ca1-4c1a-b0f4-a79ebb8ff824"
   },
   "outputs": [],
   "source": [
    "# Bar Plot: Total bill vs. day, differentiated by gender\n",
    "sns.barplot(data=tips,x='day',y='total_bill',hue='sex')\n",
    "plt.title('Bar plot: Average total bill by day (Differentiated by gender)')\n",
    "plt.show()"
   ]
  },
  {
   "cell_type": "code",
   "execution_count": null,
   "id": "7120efee-29c3-42c2-95ca-fc099eb59129",
   "metadata": {},
   "outputs": [],
   "source": [
    "# Other example\n",
    "# Bar Plot: Total bill vs. day, differentiated by gender\n",
    "sns.barplot(data=tips,x='sex',y='total_bill',hue='day')\n",
    "plt.title('Bar plot: Average total bill by day (Differentiated by gender)')\n",
    "plt.show()"
   ]
  },
  {
   "cell_type": "markdown",
   "id": "xhSmlbz2HCJn",
   "metadata": {
    "id": "xhSmlbz2HCJn"
   },
   "source": [
    "- The bar plot facilitates a comparison of average total bill amounts across different days of the week while also considering the gender factor.\n",
    "- Based on the chart, you can see that there is a disparity in spending patterns between males and females.\n",
    "- This disparity is even more pronounced on Thursday and Friday as compared to Saturday and Sunday.\n",
    "- Error bars provide a visual indication of the spread of data points around the mean value for each category in the plot."
   ]
  },
  {
   "cell_type": "markdown",
   "id": "d64a137b-5006-40c0-b9b3-bd52f9e46f2b",
   "metadata": {
    "id": "d64a137b-5006-40c0-b9b3-bd52f9e46f2b"
   },
   "source": [
    "## __3. Violin Plot__\n",
    "A violin plot merges the features of kernel density plots and box plots to show a numerical variable's distribution across categories."
   ]
  },
  {
   "cell_type": "markdown",
   "id": "zj9u4JFZG-Zn",
   "metadata": {
    "id": "zj9u4JFZG-Zn"
   },
   "source": [
    "![link text](https://labcontent.simplicdn.net/data-content/content-assets/Data_and_AI/ML/Lesson04_Regression/violin_plot.png)"
   ]
  },
  {
   "cell_type": "code",
   "execution_count": null,
   "id": "7d0054bf-66a2-44fb-9132-d902dde85724",
   "metadata": {
    "id": "7d0054bf-66a2-44fb-9132-d902dde85724",
    "outputId": "59b3fef6-cae4-495d-ecbb-04b89d703e9d"
   },
   "outputs": [],
   "source": [
    "import seaborn as sns\n",
    "import matplotlib.pyplot as plt\n",
    "\n",
    "# Load a sample dataset\n",
    "tips = sns.load_dataset('tips')\n",
    "\n",
    "plt.figure(figsize=(10,5))\n",
    "\n",
    "# Violin Plot: Total bill vs. day: used to compare ONE numerical feature (total bill) and ONE categorical feature (day)\n",
    "sns.violinplot(data=tips,x='day',y='total_bill')\n",
    "plt.title('Violin plot: Total bill by day')\n",
    "plt.show()"
   ]
  },
  {
   "cell_type": "markdown",
   "id": "PQzfkD7yHDlP",
   "metadata": {
    "id": "PQzfkD7yHDlP"
   },
   "source": [
    "In a violin plot:\n",
    "\n",
    "- The thick black line in the center represents the median.\n",
    "- The white dot inside the violin represents the mean.\n",
    "- The width of the violin at any given point represents the density of the data at that value. Wider sections indicate a higher density of data points.\n",
    "- The lines extending from the violin, known as whiskers, represent the rest of the distribution outside the interquartile range.\n",
    "- Any points beyond the whiskers are considered outliers and are plotted individually."
   ]
  },
  {
   "cell_type": "markdown",
   "id": "gZM4XK82HGjR",
   "metadata": {
    "id": "gZM4XK82HGjR"
   },
   "source": [
    "This plot helps you visualize the distribution of total bills for each day, highlighting data point densities and key statistical measures such as the median and interquartile range."
   ]
  },
  {
   "cell_type": "markdown",
   "id": "9d52cd9b-e9e2-4fb9-bf44-c8cacd1553bc",
   "metadata": {
    "id": "9d52cd9b-e9e2-4fb9-bf44-c8cacd1553bc"
   },
   "source": [
    "## __4. Pair Plot:__\n",
    "\n",
    "A pair plot displays the pairwise relationships between numerical variables in a dataset through scatter plots and distributions, differentiating categories using colors.\n",
    "- It is useful for understanding how different numerical variables relate to each other and how these relationships vary based on gender ('sex' variable in this case)."
   ]
  },
  {
   "cell_type": "code",
   "execution_count": null,
   "id": "9d7d767c-14db-4eb6-8f87-21f54af8c13c",
   "metadata": {},
   "outputs": [],
   "source": [
    "tips.head()"
   ]
  },
  {
   "cell_type": "code",
   "execution_count": null,
   "id": "43d080e3-0847-4a3f-81f8-d3aa23de5a98",
   "metadata": {
    "id": "43d080e3-0847-4a3f-81f8-d3aa23de5a98",
    "outputId": "1d6b45bf-47cf-484a-a012-bd69a1b1a456"
   },
   "outputs": [],
   "source": [
    "# Pair Plot: ONLY PLOT NUMERICAL VARIABLES\n",
    "sns.pairplot(tips)\n",
    "plt.title('Pair Plot: Relationships across variables')\n",
    "plt.show()"
   ]
  },
  {
   "cell_type": "code",
   "execution_count": null,
   "id": "6e316122-270e-4e6f-a916-e945c4e196f5",
   "metadata": {
    "id": "6e316122-270e-4e6f-a916-e945c4e196f5",
    "outputId": "881fc7b4-4bcc-43bf-d56c-781245c38159"
   },
   "outputs": [],
   "source": [
    "# Pair Plot, differentiated by gender\n",
    "sns.pairplot(tips,hue='sex')\n",
    "plt.show()"
   ]
  },
  {
   "cell_type": "markdown",
   "id": "F_VXpspBHXmD",
   "metadata": {
    "id": "F_VXpspBHXmD"
   },
   "source": [
    "- The above plot shows spending behavior by gender.\n",
    "- The total bill for males is higher than for females.\n",
    "- Males have paid more tips than females."
   ]
  },
  {
   "cell_type": "code",
   "execution_count": null,
   "id": "8f906b0d-e41c-44e6-aaf0-81f4ebd6759b",
   "metadata": {
    "id": "8f906b0d-e41c-44e6-aaf0-81f4ebd6759b",
    "outputId": "752786c9-4327-4ff4-f3fc-445d79612020"
   },
   "outputs": [],
   "source": [
    "# Pair Plot, differentiated by day\n",
    "sns.pairplot(tips,hue='day')\n",
    "plt.title('Pair Plot: Relationships across variables (Differentiated by day)')\n",
    "plt.show()"
   ]
  },
  {
   "cell_type": "markdown",
   "id": "32316607-9458-4d29-9f52-bf0d639b544b",
   "metadata": {
    "id": "32316607-9458-4d29-9f52-bf0d639b544b"
   },
   "source": [
    "## __5. Heatmap:__\n",
    "\n",
    "A heatmap visualizes the correlation matrix of numerical variables in a dataset, using color gradations to represent the strength and direction of correlations.\n",
    "\n",
    "- It allows for the quick identification of relationships between variables, with warmer colors indicating stronger correlations and cooler colors indicating weaker or negative correlations."
   ]
  },
  {
   "cell_type": "code",
   "execution_count": null,
   "id": "8a7a0ef2",
   "metadata": {},
   "outputs": [],
   "source": [
    "tips.info()"
   ]
  },
  {
   "cell_type": "code",
   "execution_count": null,
   "id": "47003cc8-38d0-4a2b-a6e9-c9d8becf4829",
   "metadata": {
    "id": "47003cc8-38d0-4a2b-a6e9-c9d8becf4829",
    "outputId": "f134eda3-ebf9-423f-cedd-404285d4092f"
   },
   "outputs": [],
   "source": [
    "# Heatmap\n",
    "correlation_matrix = tips[[\"total_bill\", \"tip\", \"size\"]].corr()\n",
    "correlation_matrix"
   ]
  },
  {
   "cell_type": "code",
   "execution_count": null,
   "id": "283ac3ef-65af-43ac-a94c-86bafc7d1d64",
   "metadata": {
    "id": "283ac3ef-65af-43ac-a94c-86bafc7d1d64",
    "outputId": "d6d1e64b-0b74-4b02-c3cf-540318a82992"
   },
   "outputs": [],
   "source": [
    "# Heatmap\n",
    "sns.heatmap(correlation_matrix)\n",
    "plt.title('Heatmap: Correlation matrix')\n",
    "plt.show()"
   ]
  },
  {
   "cell_type": "markdown",
   "id": "5EE0QdA2Hb6U",
   "metadata": {
    "id": "5EE0QdA2Hb6U"
   },
   "source": [
    "- The pairs with high correlation values are shown in warmer colors.\n",
    "- The pairs with low correlation values are shown in cooler colors."
   ]
  },
  {
   "cell_type": "code",
   "execution_count": null,
   "id": "fe8d9cb8-0f18-4a0f-bf8d-f37c1e73e534",
   "metadata": {
    "id": "fe8d9cb8-0f18-4a0f-bf8d-f37c1e73e534",
    "outputId": "ce42b7a9-22ec-43c8-a1ab-a0231d1fac48"
   },
   "outputs": [],
   "source": [
    "# Scatterplot\n",
    "sns.scatterplot(data=tips,x='total_bill',y='tip')\n",
    "plt.title('Scatterploy: Total bill vs tip')\n",
    "plt.show()"
   ]
  },
  {
   "cell_type": "code",
   "execution_count": null,
   "id": "61d00520",
   "metadata": {},
   "outputs": [],
   "source": [
    "joint = sns.jointplot(data=tips, x='total_bill', y='tip', kind='hex', gridsize=20)"
   ]
  },
  {
   "cell_type": "markdown",
   "id": "a4a9e5c0-c9e8-4b05-9c07-1d32f9b89f3a",
   "metadata": {
    "id": "a4a9e5c0-c9e8-4b05-9c07-1d32f9b89f3a"
   },
   "source": [
    "## __6. Joint Plot__\n",
    "\n",
    "A joint plot reveals the bivariate distribution of two numerical variables using hexagonal bins to represent point density.\n",
    "- It is a type of plot in data visualization that combines multiple plots to show the relationship between two variables in a dataset.\n",
    "- It typically includes a scatterplot to visualize the individual data points and additional information such as histograms, kernel density estimates, or regression lines to provide more context about the distribution.\n"
   ]
  },
  {
   "cell_type": "code",
   "execution_count": null,
   "id": "IuJsIa7XHp1e",
   "metadata": {
    "id": "IuJsIa7XHp1e"
   },
   "outputs": [],
   "source": [
    "\n",
    "import seaborn as sns\n",
    "import matplotlib.pyplot as plt\n",
    "\n",
    "# Load the diamonds dataset\n",
    "diamonds = sns.load_dataset('diamonds')\n",
    "\n",
    "# Create a Joint Plot\n",
    "joint = sns.jointplot(data=diamonds, x='carat', y='price', kind='hex')\n",
    "\n",
    "# Adjust the title position\n",
    "plt.subplots_adjust(top=0.9)\n",
    "\n",
    "# Set the title for the figure\n",
    "joint.figure.suptitle('Joint Plot: Hexbin Scatter Plot')\n",
    "\n",
    "plt.show()"
   ]
  },
  {
   "cell_type": "code",
   "execution_count": null,
   "id": "a6fa0321-56e5-4b0c-9830-e82c67445e87",
   "metadata": {
    "id": "a6fa0321-56e5-4b0c-9830-e82c67445e87",
    "outputId": "fa2b32b2-5384-4d70-a70f-af44a0a78533"
   },
   "outputs": [],
   "source": [
    "# Create a Joint Plot: tip vs. total bill: plot TWO numerical variables; it is an extension of a scatterplot\n",
    "joint = sns.jointplot(data=tips, x='total_bill',y='tip',kind='hex')\n",
    "# Adjust the title position\n",
    "plt.subplots_adjust(top=0.9)  # Adjust the top space to make room for the title\n",
    "# Set the title for the figure\n",
    "joint.figure.suptitle('Joint Plot: Hexbin Scatter Plot')\n",
    "plt.show()"
   ]
  },
  {
   "cell_type": "markdown",
   "id": "ODkIb-wMHzZ4",
   "metadata": {
    "id": "ODkIb-wMHzZ4"
   },
   "source": [
    "- The joint plot shows the relationship between __total_bill__ and __tip__ using hexagonal bins to represent the data density.\n",
    "- Based on the plot, you can infer that for the total bill, the density of the data is high in the 10 to 20 range.\n",
    "- You can also infer that for the tips, the density of the data is high in the 1 to 3 range."
   ]
  },
  {
   "cell_type": "markdown",
   "id": "6d7dc6df-f79e-493b-b8aa-1ea7e05d23d7",
   "metadata": {
    "id": "6d7dc6df-f79e-493b-b8aa-1ea7e05d23d7"
   },
   "source": [
    "## __7. Swarm Plot__\n",
    "\n",
    "A swarm plot is a categorical scatter plot that arranges individual data points without overlapping.\n",
    "- It is useful for visualizing the distribution of total_bill across different days. Each point represents an individual entry.\n",
    "- It helps identify patterns and concentrations without losing granularity due to point overlap."
   ]
  },
  {
   "cell_type": "code",
   "execution_count": null,
   "id": "faf0cbac-65cd-47d7-879f-d41f9d690a44",
   "metadata": {
    "id": "faf0cbac-65cd-47d7-879f-d41f9d690a44",
    "outputId": "200003a3-e0dc-47e8-a0c0-2d75955183f4"
   },
   "outputs": [],
   "source": [
    "# Swarm Plot: scatter plot for each day: used to compare ONE numerical feature (total bill) and ONE categorical feature (day)\n",
    "sns.swarmplot(data=tips, x='day', y='total_bill', hue='total_bill')\n",
    "plt.title('Swarm plot: Total bill by day')\n",
    "plt.show()"
   ]
  },
  {
   "cell_type": "markdown",
   "id": "DU-imwP8H38Y",
   "metadata": {
    "id": "DU-imwP8H38Y"
   },
   "source": [
    "- The swarm plot allows you to visually compare the distribution of petal lengths across different species of iris flowers: Setosa, Versicolor, and Virginica.\n",
    "- You can observe the range of petal lengths within each species category by examining the spread of points along the y-axis.\n",
    "- The spread of petal lengths for Setosa falls within the range of 1 to 2. For Versicolor, it falls within the range of 3 to 5. For Virginica, it ranges from 4.5 to 7."
   ]
  },
  {
   "cell_type": "code",
   "execution_count": null,
   "id": "148fb779",
   "metadata": {},
   "outputs": [],
   "source": [
    "#\n",
    "import seaborn as sns\n",
    "import matplotlib.pyplot as plt\n",
    "# Load the iris dataset\n",
    "iris = sns.load_dataset('iris')\n",
    "iris.head()"
   ]
  },
  {
   "cell_type": "code",
   "execution_count": null,
   "id": "14177fec",
   "metadata": {},
   "outputs": [],
   "source": [
    "sns.swarmplot(data=iris, x='species', y='petal_length', size=4)\n",
    "plt.title('Swarm Plot: Petal Length by Species')\n",
    "plt.xlabel('Species')\n",
    "plt.ylabel('Petal Length')\n",
    "plt.show()"
   ]
  },
  {
   "cell_type": "code",
   "execution_count": null,
   "id": "ac74ed1a",
   "metadata": {},
   "outputs": [],
   "source": [
    "import matplotlib.pyplot as plt\n",
    "from mpl_toolkits.mplot3d import Axes3D\n",
    "import seaborn as sns\n",
    "# Load an example dataset\n",
    "iris = sns.load_dataset('iris')\n",
    "# Create a 3D scatter plot\n",
    "fig = plt.figure(figsize=(16,8))\n",
    "ax = fig.add_subplot(111, projection='3d')\n",
    "ax.scatter(iris['sepal_length'], iris['sepal_width'], iris['petal_length'])\n",
    "# Set labels\n",
    "ax.set_xlabel('Sepal Length')\n",
    "ax.set_ylabel('Sepal Width')\n",
    "ax.set_zlabel('Petal Length')\n",
    "# Show the plot\n",
    "plt.show()"
   ]
  },
  {
   "cell_type": "markdown",
   "id": "6e4c2b3f-d58a-4f85-8367-d415f9b8114f",
   "metadata": {
    "id": "6e4c2b3f-d58a-4f85-8367-d415f9b8114f"
   },
   "source": [
    "## __8. Plotting 3D Graphs for Multiple Columns Using Seaborn__"
   ]
  },
  {
   "cell_type": "code",
   "execution_count": null,
   "id": "65139fcb-d544-4d63-83c8-9952cbf7931e",
   "metadata": {
    "id": "65139fcb-d544-4d63-83c8-9952cbf7931e",
    "outputId": "b6f5be0c-97ba-4add-cd7b-96e642b90092"
   },
   "outputs": [],
   "source": [
    "# Import necessary libraries\n",
    "import pandas as pd\n",
    "import seaborn as sns\n",
    "import matplotlib.pyplot as plt\n",
    "\n",
    "# Read CSV file into DataFrame, parsing dates\n",
    "df = pd.read_csv('../data/ADANIPORTS.csv', parse_dates=True)\n",
    "\n",
    "# Calculate 'High-Low' and '100-Day Moving Average'\n",
    "df['H-L'] = df.High - df.Low\n",
    "df['100MA'] = df['Close'].rolling(100).mean()\n",
    "\n",
    "# Set Seaborn style to 'darkgrid'\n",
    "sns.set_style('darkgrid')\n",
    "\n",
    "# Plotting a 3D Graph: 100MA vs. H-L vs. index of the df\n",
    "ax = plt.axes(projection='3d')\n",
    "ax.scatter(df.index,df['H-L'],df['100MA'])\n",
    "\n",
    "# Set labels for each axis\n",
    "ax.set_xlabel('Index')\n",
    "ax.set_ylabel('High-Low')\n",
    "ax.set_zlabel('100-Day Moving Average')\n",
    "\n",
    "# Display the 3D scatter plot\n",
    "plt.show()"
   ]
  },
  {
   "cell_type": "markdown",
   "id": "--Y11c86H7RM",
   "metadata": {
    "id": "--Y11c86H7RM"
   },
   "source": [
    "- 3D graphs provide additional depth perception, which may aid in understanding complex relationships in three-dimensional space.\n",
    "- 3D plots can visualize relationships between three variables simultaneously, which might be challenging to represent accurately in a 2D plot.\n",
    "- Based on this plot, you can see the distribution of data based on sepal length, sepal width, and petal length."
   ]
  },
  {
   "cell_type": "markdown",
   "id": "fb2fe60d-313d-4875-8618-eed4a567c523",
   "metadata": {
    "id": "fb2fe60d-313d-4875-8618-eed4a567c523"
   },
   "source": [
    "### __Plot a 3D Spiral Graph__"
   ]
  },
  {
   "cell_type": "code",
   "execution_count": null,
   "id": "277d38f0-d5d1-43ac-97aa-377eaf3d5b37",
   "metadata": {
    "id": "277d38f0-d5d1-43ac-97aa-377eaf3d5b37",
    "outputId": "30b63863-236e-4ee1-b1e7-6737bd4358c1"
   },
   "outputs": [],
   "source": [
    "# Import necessary libraries\n",
    "import numpy as np\n",
    "import seaborn as sns\n",
    "import matplotlib.pyplot as plt\n",
    "\n",
    "# Generate 3D data\n",
    "z1 = np.linspace(0, 10, 100)\n",
    "x1 = np.cos(4 * z1)\n",
    "y1 = np.sin(4 * z1)\n",
    "\n",
    "# Set Seaborn style to whitegrid\n",
    "sns.set_style('whitegrid')\n",
    "\n",
    "# Create a 3D axes\n",
    "ax = plt.axes(projection='3d')\n",
    "\n",
    "# Plot the 3D curve: z1 vs. y1 vs. x1\n",
    "ax.plot(x1,y1,z1)\n",
    "\n",
    "# Display the 3D plot\n",
    "plt.show()"
   ]
  },
  {
   "cell_type": "markdown",
   "id": "YxEz0bNfH_oq",
   "metadata": {
    "id": "YxEz0bNfH_oq"
   },
   "source": [
    "- The resulting chart is a 3D plot of a helix that looks like a spring.\n",
    "- The x and y coordinates trace a circular path in the x-y plane, while the z coordinate increases linearly."
   ]
  },
  {
   "cell_type": "code",
   "execution_count": null,
   "id": "8a392de0-35cf-4598-85e1-18f9b890f052",
   "metadata": {
    "id": "8a392de0-35cf-4598-85e1-18f9b890f052",
    "outputId": "f6609e68-27cf-45e0-966a-89f0f90ceaf3"
   },
   "outputs": [],
   "source": [
    "# Define a function to compute z values based on x and y\n",
    "def return_z(x, y):\n",
    "    return 50 - (x**2 + y**2)\n",
    "\n",
    "# Set Seaborn style to whitegrid\n",
    "sns.set_style('whitegrid')\n",
    "\n",
    "# Generate 2D grid of x and y values\n",
    "x1, y1 = np.linspace(-5, 5, 50), np.linspace(-5, 5, 50)\n",
    "\n",
    "# Compute z values using the defined function\n",
    "z1 = return_z(x1, y1)\n",
    "\n",
    "# Create a 3D axes\n",
    "ax = plt.axes(projection='3d')\n",
    "\n",
    "# Plot the 3D surface: z1 vs. y1 vs. x1\n",
    "ax.plot(x1,y1,z1)\n",
    "\n",
    "# Display the 3D plot\n",
    "plt.show()"
   ]
  },
  {
   "cell_type": "markdown",
   "id": "1b2ea2d2-d1a9-4722-ba0e-aaaa5703f2d9",
   "metadata": {
    "id": "1b2ea2d2-d1a9-4722-ba0e-aaaa5703f2d9"
   },
   "source": [
    "### __Create 3D Surface Using Seaborn__\n"
   ]
  },
  {
   "cell_type": "code",
   "execution_count": null,
   "id": "449c0027-b859-4a7c-9c9c-10c08bb9ed19",
   "metadata": {
    "id": "449c0027-b859-4a7c-9c9c-10c08bb9ed19",
    "outputId": "80a89ba4-8c81-4b57-95fe-50da683dcb92"
   },
   "outputs": [],
   "source": [
    "# Define a function to compute z values based on x and y\n",
    "def return_z(x, y):\n",
    "    return 50 - (x**2 + y**2)\n",
    "\n",
    "# Set Seaborn style to whitegrid\n",
    "sns.set_style('whitegrid')\n",
    "\n",
    "# Generate 2D grid of x and y values\n",
    "x1, y1 = np.linspace(-5, 5, 50), np.linspace(-5, 5, 50)\n",
    "x1, y1 = np.meshgrid(x1, y1)\n",
    "\n",
    "# Compute z values using the defined function\n",
    "z1 = return_z(x1, y1)\n",
    "\n",
    "# Create a 3D axes\n",
    "ax = plt.axes(projection='3d')\n",
    "\n",
    "# Plot the 3D surface: z1 vs. y1 vs. x1\n",
    "ax.plot_surface(x1,y1,z1)\n",
    "\n",
    "# Display the 3D plot\n",
    "plt.show()"
   ]
  },
  {
   "cell_type": "markdown",
   "id": "vueT9ge2IG-N",
   "metadata": {
    "id": "vueT9ge2IG-N"
   },
   "source": [
    "- The resulting chart is a 3D surface plot of a paraboloid shape.\n",
    "- The surface is curved upwards, with the highest point at the center (x=0, y=0) and the height (z value) decreasing as the distance from the center increases."
   ]
  },
  {
   "cell_type": "markdown",
   "id": "d35f2d86-1521-4801-b1fd-127ea1cbff0b",
   "metadata": {
    "id": "d35f2d86-1521-4801-b1fd-127ea1cbff0b"
   },
   "source": [
    "## __Introduction to Plotly__\n",
    "Plotly is a versatile and interactive data visualization library in Python that enables the creation of interactive and web-based visualizations.\n",
    "- It allows users to create a wide range of charts, graphs, and dashboards for exploratory data analysis and presentation purposes.\n",
    "- It supports both static and dynamic visualizations and is particularly well-suited for creating interactive plots that can be embedded in web applications and notebooks."
   ]
  },
  {
   "cell_type": "code",
   "execution_count": null,
   "id": "3fbffe5b-789f-4f6f-8a2a-04e392d6ff99",
   "metadata": {
    "id": "3fbffe5b-789f-4f6f-8a2a-04e392d6ff99",
    "outputId": "001c05d6-0672-4dc6-c289-8e32a6699511"
   },
   "outputs": [],
   "source": [
    "import plotly.express as px\n",
    "\n",
    "# Create a sample DataFrame\n",
    "df = px.data.iris()\n",
    "df.head()"
   ]
  },
  {
   "cell_type": "code",
   "execution_count": null,
   "id": "ce96a6b5-5031-403a-9c8f-8c6f1a3aa6bc",
   "metadata": {
    "id": "ce96a6b5-5031-403a-9c8f-8c6f1a3aa6bc",
    "outputId": "2b5ed2f2-508e-4ea8-a208-12609cf5d877"
   },
   "outputs": [],
   "source": [
    "df['species'].unique()"
   ]
  },
  {
   "cell_type": "code",
   "execution_count": null,
   "id": "f1576f14-6906-48bf-97cd-8f3efe9f213a",
   "metadata": {
    "id": "f1576f14-6906-48bf-97cd-8f3efe9f213a",
    "outputId": "d8c47b0c-36d7-41e1-954c-c90066bcd68d"
   },
   "outputs": [],
   "source": [
    "# Create a scatter plot: sepal_length vs. sepal_width; color=species, size of dots=petal_length\n",
    "fig = px.scatter(df,x=\"sepal_width\",y=\"sepal_length\",color=\"species\",size=\"petal_length\")\n",
    "\n",
    "# Show the interactive plot\n",
    "fig.show()"
   ]
  },
  {
   "cell_type": "markdown",
   "id": "_dDgRph7INyB",
   "metadata": {
    "id": "_dDgRph7INyB"
   },
   "source": [
    "In this scatterplot made using Plotly, you can hover over individual data points to see their values, zoom in and out, and pan across the plot."
   ]
  },
  {
   "cell_type": "markdown",
   "id": "elZjWK_1IURB",
   "metadata": {
    "id": "elZjWK_1IURB"
   },
   "source": [
    "### __Create Box Plot of Petal Length by Species__"
   ]
  },
  {
   "cell_type": "code",
   "execution_count": null,
   "id": "_61xaJBlIYaZ",
   "metadata": {
    "id": "_61xaJBlIYaZ"
   },
   "outputs": [],
   "source": [
    "# Create a box plot\n",
    "fig = px.box(df, x=\"species\", y=\"petal_length\", title=\"Petal Length by Species\",\n",
    "             labels={'species': 'Species', 'petal_length': 'Petal Length'})\n",
    "\n",
    "# Show the plot\n",
    "fig.show()\n"
   ]
  },
  {
   "cell_type": "markdown",
   "id": "x-lOkCRiIiYL",
   "metadata": {
    "id": "x-lOkCRiIiYL"
   },
   "source": [
    "### __Create Scatter Matrix of All Features Colored by Species__"
   ]
  },
  {
   "cell_type": "markdown",
   "id": "fKzRPO66IfB-",
   "metadata": {
    "id": "fKzRPO66IfB-"
   },
   "source": [
    "In this boxplot made using Plotly, you can hover over each boxplot, and the given information will be displayed.\n",
    "\n",
    "- maximum value\n",
    "- minimum value\n",
    "- first quartile (q1)\n",
    "- third quartile (q3)\n",
    "\n",
    "You can also zoom in to view individual plots."
   ]
  },
  {
   "cell_type": "markdown",
   "id": "vy7cRZZzIjeb",
   "metadata": {
    "id": "vy7cRZZzIjeb"
   },
   "source": [
    "- In Plotly, a scatter matrix (also known as a pair plot or a scatterplot matrix) is a plot that allows you to visualize the pairwise relationships between multiple variables in a dataset.\n",
    "- It is used to quickly identify correlations, patterns, and trends among different variables.\n",
    "- Each cell in the scatter matrix shows a scatter plot of two variables, with one variable represented on the x-axis and the other on the y-axis.\n",
    "- The diagonal cells often display histograms or density plots of the individual variables."
   ]
  },
  {
   "cell_type": "code",
   "execution_count": null,
   "id": "YUN6-uKyIYdh",
   "metadata": {
    "id": "YUN6-uKyIYdh"
   },
   "outputs": [],
   "source": [
    "# Create a scatter matrix\n",
    "fig = px.scatter_matrix(df, dimensions=[\"sepal_length\", \"sepal_width\", \"petal_length\", \"petal_width\"],\n",
    "                        color=\"species\", title=\"Scatter Matrix of Iris Features Colored by Species\")\n",
    "\n",
    "# Show the plot\n",
    "fig.show()"
   ]
  },
  {
   "cell_type": "markdown",
   "id": "QJICamREIsZe",
   "metadata": {
    "id": "QJICamREIsZe"
   },
   "source": [
    "- The scatter matrix visualizes the relationships between the sepal length, sepal width, petal length, and petal width of iris flowers, with different species colored differently.\n",
    "- This allows for a quick visual assessment of how these variables correlate with each other and how they are distributed across different species."
   ]
  },
  {
   "cell_type": "markdown",
   "id": "iJb6ZXVBItQ5",
   "metadata": {
    "id": "iJb6ZXVBItQ5"
   },
   "source": [
    "### __Create a Heatmap to Show Correlation of Features__"
   ]
  },
  {
   "cell_type": "markdown",
   "id": "AnMe-i3cI1Do",
   "metadata": {
    "id": "AnMe-i3cI1Do"
   },
   "source": [
    "- Heatmaps in Plotly are used for visualizing and analyzing data across two dimensions.\n",
    "- They represent data using a grid of colored squares, where each square corresponds to a specific data point or cell in a dataset.\n",
    "- The color of each square indicates the value of the data point, allowing for quick and intuitive interpretation of patterns, trends, and variations in the data."
   ]
  },
  {
   "cell_type": "code",
   "execution_count": null,
   "id": "AEqeRcA7IYiu",
   "metadata": {
    "id": "AEqeRcA7IYiu"
   },
   "outputs": [],
   "source": [
    "import plotly.graph_objects as go\n",
    "import seaborn as sns\n",
    "iris = sns.load_dataset('iris')\n",
    "# Calculate the correlation matrix\n",
    "correlation_matrix = iris.select_dtypes(include='number').corr()\n",
    "\n",
    "# Create the heatmap using Plotly\n",
    "fig = go.Figure(data=go.Heatmap(\n",
    "                   z=correlation_matrix.values,\n",
    "                   x=correlation_matrix.columns,\n",
    "                   y=correlation_matrix.index,\n",
    "                   colorscale='Blues'))\n",
    "\n",
    "fig.update_layout(title='Correlation Heatmap of Iris Dataset Features',\n",
    "                  xaxis_title='Features',\n",
    "                  yaxis_title='Features')\n",
    "\n",
    "# Show the plot\n",
    "fig.show()"
   ]
  },
  {
   "cell_type": "markdown",
   "id": "PQ98ORyTI4R8",
   "metadata": {
    "id": "PQ98ORyTI4R8"
   },
   "source": [
    "- The heatmap provides a visual representation of the correlation strength between different features (sepal length, sepal width, petal length, and petal width) of the iris dataset.\n",
    "- There appears to be a negative correlation between sepal width and petal length, as indicated by the lighter shade of the corresponding heatmap cell.\n",
    "- You can observe a strong positive correlation between petal length and petal width, as indicated by the darker shade of the corresponding heatmap cell."
   ]
  },
  {
   "cell_type": "markdown",
   "id": "uMAhjcFvI6wj",
   "metadata": {
    "id": "uMAhjcFvI6wj"
   },
   "source": [
    "## __Problem Statement:__\n",
    "Analyze the housing dataset using various types of plots from the Seaborn and Plotly libraries to gain insights into the data."
   ]
  },
  {
   "cell_type": "markdown",
   "id": "89c196eb-108d-4fb9-8d21-2ef9d284e43e",
   "metadata": {
    "id": "89c196eb-108d-4fb9-8d21-2ef9d284e43e"
   },
   "source": [
    "# __Assisted Practice__"
   ]
  },
  {
   "cell_type": "markdown",
   "id": "0b2c4b52-cedb-4917-9e45-a1ddb30f5968",
   "metadata": {
    "id": "0b2c4b52-cedb-4917-9e45-a1ddb30f5968"
   },
   "source": [
    "## __Problem Statement:__\n",
    "Analyze the housing dataset using various types of plots from the Seaborn library to gain insights into the data."
   ]
  },
  {
   "cell_type": "markdown",
   "id": "3bffbdfe-db41-4934-9099-9d601434c985",
   "metadata": {
    "id": "3bffbdfe-db41-4934-9099-9d601434c985"
   },
   "source": [
    "## __Steps to Perform:__\n",
    "- Create a violin plot for a feature like price, or price vs. condition to visualize its distribution and understand its characteristics.\n",
    "- Use a box plot to visualize the distribution of price for each condition\n",
    "- Use a pair plot to visualize the relationships between different numerical variables like sqft_lot, yr_built, and price.\n",
    "- Create a heatmap of the correlation matrix to understand the relationships between different numerical features.\n",
    "- Use a joint plot to visualize the relationship between two numerical variables and their individual distributions, for example, sqft_lot and price.\n",
    "- Create a swarm plot for a categorical variable like city against price to understand the distribution of prices for each condition."
   ]
  },
  {
   "cell_type": "code",
   "execution_count": null,
   "id": "f3fa48ff-89d4-4b7b-bffe-ffa8704b0c38",
   "metadata": {
    "id": "f3fa48ff-89d4-4b7b-bffe-ffa8704b0c38"
   },
   "outputs": [],
   "source": [
    "import pandas as pd\n",
    "import numpy as np\n",
    "import matplotlib.pyplot as plt\n",
    "df = pd.read_csv('../data/HousePrices.csv',parse_dates=True)\n",
    "df.head()"
   ]
  },
  {
   "cell_type": "markdown",
   "id": "9e5b3fc3-37c6-4419-9160-0cccea600f19",
   "metadata": {
    "id": "9e5b3fc3-37c6-4419-9160-0cccea600f19"
   },
   "source": [
    "__Violin plot__"
   ]
  },
  {
   "cell_type": "code",
   "execution_count": null,
   "id": "969062da-e07a-4f7f-b3e7-c87c54d59713",
   "metadata": {
    "id": "969062da-e07a-4f7f-b3e7-c87c54d59713"
   },
   "outputs": [],
   "source": [
    "# Violin Plot: price\n",
    "sns.violinplot(data=df,y='price')\n",
    "plt.ylim(-300_000,3_000_000)\n",
    "plt.title('Violin plot: Price')\n",
    "plt.show()"
   ]
  },
  {
   "cell_type": "code",
   "execution_count": null,
   "id": "b8a3bfff-3c75-49ba-8284-d066a8956257",
   "metadata": {
    "id": "b8a3bfff-3c75-49ba-8284-d066a8956257"
   },
   "outputs": [],
   "source": [
    "# Violin Plot: price by condition\n",
    "sns.violinplot(data=df,x='condition',y='price')\n",
    "plt.ylim(-300_000,2_000_000)\n",
    "plt.title('Violin plot: Price by condition')\n",
    "plt.show()\n"
   ]
  },
  {
   "cell_type": "code",
   "execution_count": null,
   "id": "22607a2e-578c-416d-8bb0-7d4535f01bc2",
   "metadata": {
    "id": "22607a2e-578c-416d-8bb0-7d4535f01bc2"
   },
   "outputs": [],
   "source": [
    "# Violin Plot\n"
   ]
  },
  {
   "cell_type": "markdown",
   "id": "3d6d90a8-9979-42a7-b88d-10acc7646f95",
   "metadata": {
    "id": "3d6d90a8-9979-42a7-b88d-10acc7646f95"
   },
   "source": [
    "__Box plot__"
   ]
  },
  {
   "cell_type": "code",
   "execution_count": null,
   "id": "9a2ca576-41e2-4563-8bca-9d61f80f1d5d",
   "metadata": {
    "id": "9a2ca576-41e2-4563-8bca-9d61f80f1d5d"
   },
   "outputs": [],
   "source": [
    "# Box Plot\n",
    "# Violin Plot: price by condition\n",
    "sns.boxplot(data=df, x='condition', y='price')\n",
    "plt.ylim(-300_000, 2_000_000)\n",
    "plt.title('Violin plot: Price by condition')\n",
    "plt.show()"
   ]
  },
  {
   "cell_type": "markdown",
   "id": "4e22d943-c8cd-4768-a80a-73755becd00b",
   "metadata": {
    "id": "4e22d943-c8cd-4768-a80a-73755becd00b"
   },
   "source": [
    "__Pair plot__"
   ]
  },
  {
   "cell_type": "code",
   "execution_count": null,
   "id": "0b3b96c2-53c2-4921-b28e-3898de9a9bf0",
   "metadata": {
    "id": "0b3b96c2-53c2-4921-b28e-3898de9a9bf0"
   },
   "outputs": [],
   "source": [
    "# Pair Plot\n",
    "sns.pairplot(df)\n",
    "plt.title('Pair Plot: Relationships across variables')\n",
    "plt.show()"
   ]
  },
  {
   "cell_type": "code",
   "execution_count": null,
   "id": "9ffbd518-f02a-472a-b9d6-d37e59fb6915",
   "metadata": {
    "id": "9ffbd518-f02a-472a-b9d6-d37e59fb6915"
   },
   "outputs": [],
   "source": [
    "# Pair Plot\n",
    "sns.pairplot(df[['price','bedrooms','bathrooms','sqft_living', 'condition']])\n",
    "plt.title('Pair Plot: Relationships across variables')\n",
    "plt.show()"
   ]
  },
  {
   "cell_type": "code",
   "execution_count": null,
   "id": "a1289314-b6fb-47b6-bd74-655c092778a1",
   "metadata": {
    "id": "a1289314-b6fb-47b6-bd74-655c092778a1"
   },
   "outputs": [],
   "source": [
    "# Pair Plot\n",
    "sns.pairplot(df[['sqft_lot', 'sqft_basement', 'condition']], hue='condition', palette='viridis')\n",
    "plt.show()"
   ]
  },
  {
   "cell_type": "code",
   "execution_count": null,
   "id": "c113dee6-f6be-4c33-b0c6-6a4ea3b07393",
   "metadata": {
    "id": "c113dee6-f6be-4c33-b0c6-6a4ea3b07393"
   },
   "outputs": [],
   "source": [
    "df.info()"
   ]
  },
  {
   "cell_type": "markdown",
   "id": "5b61e0e6-dcb0-4a62-b41c-190567bb31a7",
   "metadata": {
    "id": "5b61e0e6-dcb0-4a62-b41c-190567bb31a7"
   },
   "source": [
    "__Heat map__"
   ]
  },
  {
   "cell_type": "code",
   "execution_count": 20,
   "id": "5c343651-9b49-41c8-9b96-49a37668480b",
   "metadata": {
    "id": "5c343651-9b49-41c8-9b96-49a37668480b"
   },
   "outputs": [],
   "source": [
    "correlation_matrix = df.select_dtypes(include=['float64', 'int64']).corr()"
   ]
  },
  {
   "cell_type": "code",
   "execution_count": null,
   "id": "bd1d015c-cb81-4b0c-a64e-37091e610f57",
   "metadata": {
    "id": "bd1d015c-cb81-4b0c-a64e-37091e610f57"
   },
   "outputs": [],
   "source": [
    "# Heatmap\n",
    "plt.figure(figsize=(10,6))\n",
    "sns.heatmap(correlation_matrix,  annot=True, fmt='.2f', linewidths=2)\n",
    "plt.title('Heatmap: Correlation matrix')\n",
    "plt.show()"
   ]
  },
  {
   "cell_type": "markdown",
   "id": "2a3fbf17-1230-47d8-aca0-07298c0b76a1",
   "metadata": {
    "id": "2a3fbf17-1230-47d8-aca0-07298c0b76a1"
   },
   "source": [
    "__Joint plot__"
   ]
  },
  {
   "cell_type": "code",
   "execution_count": null,
   "id": "43d185eb-3bbb-44f3-8809-71812011fbbc",
   "metadata": {
    "id": "43d185eb-3bbb-44f3-8809-71812011fbbc"
   },
   "outputs": [],
   "source": [
    "# Create a Joint Plot\n",
    "sns.jointplot(data=df, x='sqft_lot', y='price', kind='hex', gridsize=20)\n",
    "plt.show()"
   ]
  },
  {
   "cell_type": "code",
   "execution_count": null,
   "id": "16d084c8-4bba-4456-8538-05e823cffc0a",
   "metadata": {
    "id": "16d084c8-4bba-4456-8538-05e823cffc0a"
   },
   "outputs": [],
   "source": [
    "# Create a Joint Plot\n",
    "plt.figure(figsize=(6, 10))\n",
    "price_sqft = df[(df['sqft_lot']<30000) & (df['price']<2000000)]\n",
    "sns.jointplot(data=price_sqft, x='sqft_lot', y='price', kind='hex', gridsize=30)\n",
    "plt.xlim(0, 30000)\n",
    "plt.ylim(0, 2000000)\n",
    "plt.show()"
   ]
  },
  {
   "cell_type": "code",
   "execution_count": null,
   "id": "b532019e-66aa-41a7-9de6-c363c5c9b87d",
   "metadata": {
    "id": "b532019e-66aa-41a7-9de6-c363c5c9b87d"
   },
   "outputs": [],
   "source": [
    "# Create a Joint Plot\n"
   ]
  },
  {
   "cell_type": "markdown",
   "id": "65234b3e-3d9a-40ef-857d-b1cfa3803515",
   "metadata": {
    "id": "65234b3e-3d9a-40ef-857d-b1cfa3803515"
   },
   "source": [
    "__Swarm plot__"
   ]
  },
  {
   "cell_type": "code",
   "execution_count": null,
   "id": "53a7c191-edab-4bf1-b049-8b65eb365630",
   "metadata": {
    "id": "53a7c191-edab-4bf1-b049-8b65eb365630"
   },
   "outputs": [],
   "source": [
    "# Swarm Plot: scatter plot for each category\n",
    "price_sqft = df[(df['sqft_lot'] < 30_000) & (df['price'] < 2_000_000)]\n",
    "sns.scatterplot(data=df, x='sqft_lot', y='price')\n",
    "plt.xlim(0, 30000)\n",
    "plt.ylim(0, 2000000)\n",
    "plt.show()"
   ]
  },
  {
   "cell_type": "code",
   "execution_count": null,
   "id": "294146f8-c0e1-47d6-898c-11909abb95d5",
   "metadata": {
    "id": "294146f8-c0e1-47d6-898c-11909abb95d5"
   },
   "outputs": [],
   "source": [
    "plt.figure(figsize=(15, 8))\n",
    "sns.swarmplot(data=price_sqft, x='condition', y='price', size=2)\n",
    "plt.show()"
   ]
  },
  {
   "cell_type": "code",
   "execution_count": null,
   "id": "541522ae",
   "metadata": {},
   "outputs": [],
   "source": []
  }
 ],
 "metadata": {
  "colab": {
   "provenance": []
  },
  "kernelspec": {
   "display_name": ".venv",
   "language": "python",
   "name": "python3"
  },
  "language_info": {
   "codemirror_mode": {
    "name": "ipython",
    "version": 3
   },
   "file_extension": ".py",
   "mimetype": "text/x-python",
   "name": "python",
   "nbconvert_exporter": "python",
   "pygments_lexer": "ipython3",
   "version": "3.13.2"
  }
 },
 "nbformat": 4,
 "nbformat_minor": 5
}
