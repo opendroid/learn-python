{
 "cells": [
  {
   "cell_type": "markdown",
   "metadata": {},
   "source": [
    "# Z-test problems\n",
    "\n",
    "Source [The Z-test](https://courses.washington.edu/psy315/tutorials/z_test_tutorial.pdf)\n",
    "\n",
    "Functions used are:\n",
    "\n",
    "1. Getting p or area under the curve for a given z_value using scipy.stats.norm.cdf (z_value) (Cumulative Distribution Function)\n",
    "2. Given p get the z-value, useful for critical z-value at a given alpga\n",
    "\n",
    "Note that if we are give samples we can use scipy.stats.zscore to calculate the z_score."
   ]
  },
  {
   "cell_type": "code",
   "execution_count": null,
   "metadata": {},
   "outputs": [],
   "source": [
    "# Imports\n",
    "from statsmodels.stats.weightstats import ztest\n",
    "from scipy.stats import norm\n",
    "import numpy as np"
   ]
  },
  {
   "cell_type": "markdown",
   "metadata": {},
   "source": [
    "# Problem 1\n",
    "Suppose the arousal of hot cats has a population that is normally distributed with a\n",
    "standard deviation of 6. Tomorrow you sample 49 hot cats from this population and obtain\n",
    "a mean arousal of 46.44 and a standard deviation of 5.6968.\n",
    "Using an alpha value of α = 0.01, is this observed mean significantly less than an expected\n",
    "arousal of 47?"
   ]
  },
  {
   "cell_type": "code",
   "execution_count": 129,
   "metadata": {},
   "outputs": [],
   "source": [
    "# Given\n",
    "n = 49.0\n",
    "alpha = 0.01\n",
    "z_critical_01 = norm.ppf(alpha)\n",
    "population_std_dev = 6.0\n",
    "population_mean = 47.00\n",
    "sample_mean = 46.44\n",
    "sample_std_dev = 5.6968\n",
    "\n",
    "# H_0 = arousal_mean == 47.00\n",
    "# H_a = aroudal_mean < 47 (one sided)\n",
    "# Left tail"
   ]
  },
  {
   "cell_type": "code",
   "execution_count": 89,
   "metadata": {},
   "outputs": [
    {
     "name": "stdout",
     "output_type": "stream",
     "text": [
      "z_sample: -0.653333333333336, p=0.2567707037112666, evaluated z= -0.653333333333336\n",
      "critical z = -2.3263478740408408 for alpha=0.01\n"
     ]
    }
   ],
   "source": [
    "from numpy import sqrt\n",
    "# Manual calculations\n",
    "z_sample = (sample_mean - population_mean) / (population_std_dev / sqrt(n))\n",
    "p_value = norm.cdf(z_sample)\n",
    "\n",
    "# Given a p-value find the z_score, reverse calculation\n",
    "z_score_evaluated = norm.ppf(p_value)\n",
    "print(f\"z_sample: {z_sample}, p={p_value}, evaluated z= {z_score_evaluated}\")\n",
    "print(f\"critical z = {z_critical_01} for alpha={alpha}\")"
   ]
  },
  {
   "cell_type": "code",
   "execution_count": 90,
   "metadata": {},
   "outputs": [
    {
     "name": "stdout",
     "output_type": "stream",
     "text": [
      "Null Hypothesis accepted. z: -0.6533 > -2.3263\n",
      "arousal_mean is NOT significant that population_mean\n"
     ]
    }
   ],
   "source": [
    "# Test Hypothesis, method 1, critical z-score\n",
    "if z_sample > z_critical_01:\n",
    "    print(f\"Null Hypothesis accepted. z: {z_sample:0.4f} > {z_critical_01:0.4f}\")\n",
    "    print(\"arousal_mean is NOT significant that population_mean\")\n",
    "else:\n",
    "    print(\n",
    "        f\"Alternate hypothesis accepted: z: {z_sample:0.4f} < {z_critical_01:0.4f}\")\n",
    "    print(\"arousal_mean IS significantly LESS than population_mean\")"
   ]
  },
  {
   "cell_type": "code",
   "execution_count": 91,
   "metadata": {},
   "outputs": [
    {
     "name": "stdout",
     "output_type": "stream",
     "text": [
      "Null Hypothesis accepted. 0.2568 > 0.0100\n",
      "arousal_mean is NOT significant that population_mean\n"
     ]
    }
   ],
   "source": [
    "# Test hypothesis, method two alpha\n",
    "if p_value > alpha:\n",
    "    print(f\"Null Hypothesis accepted. {p_value:0.4f} > {alpha:0.4f}\")\n",
    "    print(\"arousal_mean is NOT significant that population_mean\")\n",
    "else:\n",
    "    print(f\"Alternate hypothesis accepted: {p_value:0.4f} < {alpha:0.4f}\")\n",
    "    print(\"arousal_mean IS significantly LESS than population_mean\")"
   ]
  },
  {
   "cell_type": "markdown",
   "metadata": {},
   "source": [
    "# Problem 2\n",
    "Suppose the jewelry of exams has a population that is normally distributed with\n",
    "a standard deviation of 5. You are walking down the street and sample 9 exams from this\n",
    "population and obtain a mean jewelry of 28.95 and a standard deviation of 6.3802.\n",
    "Using an alpha value of α = 0.01, is this observed mean significantly different than an\n",
    "expected jewelry of 27?"
   ]
  },
  {
   "cell_type": "code",
   "execution_count": null,
   "metadata": {},
   "outputs": [],
   "source": [
    "# Given\n",
    "population_mean = 27.0\n",
    "population_std_dev = 5.0\n",
    "n = 9.0\n",
    "sample_mean = 28.95\n",
    "sample_std_dev = 6.3802\n",
    "alpha = 0.01 / 2 # Two tailed test\n",
    "\n",
    "# H_0 = observed_mean ==  population_mean\n",
    "# H_a = observed_mean ==/== population_mean\n",
    "# Two tailed test"
   ]
  },
  {
   "cell_type": "code",
   "execution_count": 93,
   "metadata": {},
   "outputs": [],
   "source": [
    "# Calculations\n",
    "z_score = (sample_mean - population_mean) / (population_std_dev / sqrt(n))\n",
    "z_critical_01 = norm.ppf(1 - alpha)\n",
    "p_value = norm.cdf(z_score) # Left of the curve\n",
    "# Adjust to two tail\n",
    "p_adjusted = (1-p_value) * 2"
   ]
  },
  {
   "cell_type": "code",
   "execution_count": 94,
   "metadata": {},
   "outputs": [
    {
     "name": "stdout",
     "output_type": "stream",
     "text": [
      "Null accepted, p: 0.2420 > 0.0050\n"
     ]
    }
   ],
   "source": [
    "# Result, alpha\n",
    "if p_adjusted > alpha:\n",
    "    print(f\"Null accepted, p: {p_adjusted:0.4f} > {alpha:0.4f}\")\n",
    "else:\n",
    "    print(f\"Alternate accepted, p: {p_adjusted:0.4f} < {alpha:0.4f}\")"
   ]
  },
  {
   "cell_type": "code",
   "execution_count": 95,
   "metadata": {},
   "outputs": [
    {
     "name": "stdout",
     "output_type": "stream",
     "text": [
      "Null accepted, p: 1.1700 > 2.5758\n"
     ]
    }
   ],
   "source": [
    "# Result, z_score\n",
    "if abs(z_score) < z_critical_01:\n",
    "    print(f\"Null accepted, p: {z_score:0.4f} > {z_critical_01:0.4f}\")\n",
    "else:\n",
    "    print(f\"Alternate accepted, p: {z_score:0.4f} < {z_critical_01:0.4f}\")"
   ]
  },
  {
   "cell_type": "markdown",
   "metadata": {},
   "source": [
    "# Problem 3\n",
    "\n",
    "Suppose the courage of psychologists has a population that is normally distributed with\n",
    "a standard deviation of 10. You decide to sample 57 psychologists from this population\n",
    "and obtain a mean courage of 34.81 and a standard deviation of 9.0579.\n",
    "Using an alpha value of α = 0.05, is this observed mean significantly greater than an\n",
    "expected courage of 34?"
   ]
  },
  {
   "cell_type": "code",
   "execution_count": 130,
   "metadata": {},
   "outputs": [],
   "source": [
    "# Given\n",
    "population_std_dev = 10.0\n",
    "population_mean = 34.0\n",
    "n = 57.0\n",
    "sample_mean = 34.81\n",
    "sample_std_dev = 34.81\n",
    "alpha = 0.05\n",
    "\n",
    "# H_0: psy_mean == population_std_dev\n",
    "# H_1: psy_mean > population_std_dev\n",
    "\n",
    "# Right tail test"
   ]
  },
  {
   "cell_type": "code",
   "execution_count": null,
   "metadata": {},
   "outputs": [],
   "source": [
    "# Calculations\n",
    "z_sample = (sample_mean - population_mean) / (population_std_dev / sqrt(n))\n",
    "z_critical_05 = -norm.ppf(alpha) # Upper side\n",
    "\n",
    "# z_sample is > 0\n",
    "p_value = norm.cdf(z_sample)\n",
    "p_value_right_tail = 1 - p_value"
   ]
  },
  {
   "cell_type": "code",
   "execution_count": 132,
   "metadata": {},
   "outputs": [
    {
     "name": "stdout",
     "output_type": "stream",
     "text": [
      "Accept H_0: z sample: 0.6115 critica: 1.6449\n"
     ]
    }
   ],
   "source": [
    "# Analysis, z_crtical\n",
    "if z_sample < z_critical_05:\n",
    "    print(f\"Accept H_0: z sample: {z_sample:0.4f} critica: {z_critical_05:0.4f}\")\n",
    "else:\n",
    "    print(\n",
    "        f\"Accept H_a: z sample: {z_sample:0.4f} critica: {z_critical_05:0.4f}\")"
   ]
  },
  {
   "cell_type": "code",
   "execution_count": 133,
   "metadata": {},
   "outputs": [
    {
     "name": "stdout",
     "output_type": "stream",
     "text": [
      "Accept H_0: p: 0.2704 critica: 0.0500\n"
     ]
    }
   ],
   "source": [
    "# Analysis\n",
    "if p_value_right_tail > alpha:\n",
    "    print(\n",
    "        f\"Accept H_0: p: {p_value_right_tail:0.4f} critica: {alpha:0.4f}\")\n",
    "else:\n",
    "    print(\n",
    "        f\"Accept H_a: p sample: {p_value_right_tail:0.4f} critica: {alpha:0.4f}\")"
   ]
  },
  {
   "cell_type": "markdown",
   "metadata": {},
   "source": [
    "# Problem 4\n",
    "\n",
    "Variation of problem 3\n",
    "\n",
    "Suppose the courage of psychologists has a population that is normally distributed with\n",
    "a standard deviation of 10. You decide to sample 57 psychologists (use np random to create samples)\n",
    "Using an alpha value of α = 0.05, is this observed mean significantly greater than an\n",
    "expected courage of 34?"
   ]
  },
  {
   "cell_type": "code",
   "execution_count": 139,
   "metadata": {},
   "outputs": [
    {
     "name": "stdout",
     "output_type": "stream",
     "text": [
      "Samples mean = 35.6246, std dev: 16.5317\n"
     ]
    }
   ],
   "source": [
    "# Input\n",
    "alpha = 0.05\n",
    "population_mean = 34.0\n",
    "population_std_dev = 10.0\n",
    "n = 57\n",
    "# Generate n samples\n",
    "np.random.seed(n)\n",
    "samples = np.random.normal(34.0, 15.0, n)\n",
    "sample_mean = samples.mean()\n",
    "sample_std_dev = samples.std()\n",
    "print(f\"Samples mean = {sample_mean:0.4f}, std dev: {sample_std_dev:0.4f}\")"
   ]
  },
  {
   "cell_type": "code",
   "execution_count": 143,
   "metadata": {},
   "outputs": [
    {
     "name": "stdout",
     "output_type": "stream",
     "text": [
      "sample: 1.2265, critical = 1.6449\n",
      "pvalue = 0.1100\n"
     ]
    }
   ],
   "source": [
    "# Calculations, note z_sample is positive\n",
    "z_sample = (sample_mean - population_mean) / (population_std_dev / sqrt(n))\n",
    "z_critical_05 = -norm.ppf(alpha) # Upper side\n",
    "print(f\"sample: {z_sample:0.4f}, critical = {z_critical_05:0.4f}\")\n",
    "\n",
    "p_value = 1 - norm.cdf(z_sample) # Right side\n",
    "print(f\"pvalue = {p_value:0.4f}\")"
   ]
  },
  {
   "cell_type": "code",
   "execution_count": 144,
   "metadata": {},
   "outputs": [
    {
     "name": "stdout",
     "output_type": "stream",
     "text": [
      "Accept H_0: z sample: 1.2265 critica: 1.6449\n"
     ]
    }
   ],
   "source": [
    "# Analysis, z_crtical\n",
    "if z_sample < z_critical_05:\n",
    "    print(\n",
    "        f\"Accept H_0: z sample: {z_sample:0.4f} critica: {z_critical_05:0.4f}\")\n",
    "else:\n",
    "    print(\n",
    "        f\"Accept H_a: z sample: {z_sample:0.4f} critica: {z_critical_05:0.4f}\")"
   ]
  },
  {
   "cell_type": "markdown",
   "metadata": {},
   "source": [
    "## Solution 2\n",
    "Use ztest from statsmodel library."
   ]
  },
  {
   "cell_type": "code",
   "execution_count": 145,
   "metadata": {},
   "outputs": [
    {
     "name": "stdout",
     "output_type": "stream",
     "text": [
      "z = 0.7354, p = 0.2310\n"
     ]
    }
   ],
   "source": [
    "# Use zscore\n",
    "z_sample_ztest, p_value_ztest = ztest(\n",
    "    x1=samples, value=population_mean, alternative=\"larger\", ddof=1.0)\n",
    "print(f\"z = {z_sample_ztest:0.4f}, p = {p_value_ztest:0.4f}\")"
   ]
  },
  {
   "cell_type": "code",
   "execution_count": 148,
   "metadata": {},
   "outputs": [
    {
     "name": "stdout",
     "output_type": "stream",
     "text": [
      "Accept H_0: z sample: 0.2310 > 0.0500\n"
     ]
    }
   ],
   "source": [
    "if p_value_ztest > alpha:\n",
    "    print(\n",
    "        f\"Accept H_0: z sample: {p_value_ztest:0.4f} > {alpha:0.4f}\")\n",
    "else:\n",
    "    print(\n",
    "        f\"Accept H_a: z sample: {p_value_ztest:0.4f} < {alpha:0.4f}\")"
   ]
  },
  {
   "cell_type": "code",
   "execution_count": 146,
   "metadata": {},
   "outputs": [
    {
     "name": "stdout",
     "output_type": "stream",
     "text": [
      "Samples mean = 35.6246, std dev: 16.5317\n",
      "z_sample_reconciled: 0.7354\n",
      "p_value_reconciled: 0.231\n"
     ]
    }
   ],
   "source": [
    "# Reconcile with manual calculations\n",
    "sample_mean_reconciled = samples.mean()\n",
    "sample_std_dev_reconciled = samples.std(ddof=1.0)\n",
    "z_sample_reconciled = (sample_mean_reconciled - population_mean) / \\\n",
    "    (sample_std_dev_reconciled / sqrt(n))\n",
    "p_value_reconciled = 1 - norm.cdf(z_sample_reconciled) # Larger tail\n",
    "print(f\"Samples mean = {sample_mean:0.4f}, std dev: {sample_std_dev:0.4f}\")\n",
    "print(f\"z_sample_reconciled: {z_sample_reconciled:0.4f}\")\n",
    "print(f\"p_value_reconciled: {p_value_reconciled:0.4}\")"
   ]
  },
  {
   "cell_type": "code",
   "execution_count": 161,
   "metadata": {},
   "outputs": [
    {
     "name": "stdout",
     "output_type": "stream",
     "text": [
      "Sample data:  [153263.46 128611.16 38183.99 99664.65 124853.44 71196.58 110620.46\n",
      " 104341.94 100171.66 93015.99]\n",
      "Sample mean: 102392.33, std: 30079.02\n",
      "Normalized data:  [1.69 0.87 -2.13 -0.09 0.75 -1.04 0.27 0.06 -0.07 -0.31]\n",
      "Regenrated data:  [153263.46 128611.16 38183.99 99664.65 124853.44 71196.58 110620.46\n",
      " 104341.94 100171.66 93015.99]\n"
     ]
    }
   ],
   "source": [
    "# Testing zscore in scipy\n",
    "from scipy.stats import zscore\n",
    "import numpy as np\n",
    "\n",
    "# Create a test stats normal distribution\n",
    "data_mean, data_std_dev = 100_000.0, 40_000.0\n",
    "np.set_printoptions(formatter={'float_kind': lambda x: \"%.2f\" % x})\n",
    "np.random.seed(10)\n",
    "data = np.random.normal(data_mean, data_std_dev, size=10)\n",
    "sample_mean, sample_std_dev = data.mean(), data.std()\n",
    "print(\"Sample data: \", data)\n",
    "print(f\"Sample mean: {sample_mean:0.2f}, std: {sample_std_dev:0.2f}\")\n",
    "data_zscores = zscore(data)\n",
    "print(\"Normalized data: \", data_zscores)\n",
    "data_inverse = np.array(\n",
    "    [z * sample_std_dev + sample_mean for z in data_zscores])\n",
    "print(\"Regenrated data: \", data_inverse)"
   ]
  },
  {
   "cell_type": "code",
   "execution_count": null,
   "metadata": {},
   "outputs": [],
   "source": []
  }
 ],
 "metadata": {
  "kernelspec": {
   "display_name": ".venv",
   "language": "python",
   "name": "python3"
  },
  "language_info": {
   "codemirror_mode": {
    "name": "ipython",
    "version": 3
   },
   "file_extension": ".py",
   "mimetype": "text/x-python",
   "name": "python",
   "nbconvert_exporter": "python",
   "pygments_lexer": "ipython3",
   "version": "3.13.2"
  }
 },
 "nbformat": 4,
 "nbformat_minor": 2
}
